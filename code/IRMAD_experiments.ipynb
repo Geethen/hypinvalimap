{
 "cells": [
  {
   "cell_type": "code",
   "execution_count": 31,
   "metadata": {
    "cellUniqueIdByVincent": "de187"
   },
   "outputs": [
    {
     "data": {
      "text/html": [
       "\n",
       "            <style>\n",
       "                .geemap-dark {\n",
       "                    --jp-widgets-color: white;\n",
       "                    --jp-widgets-label-color: white;\n",
       "                    --jp-ui-font-color1: white;\n",
       "                    --jp-layout-color2: #454545;\n",
       "                    background-color: #383838;\n",
       "                }\n",
       "\n",
       "                .geemap-dark .jupyter-button {\n",
       "                    --jp-layout-color3: #383838;\n",
       "                }\n",
       "\n",
       "                .geemap-colab {\n",
       "                    background-color: var(--colab-primary-surface-color, white);\n",
       "                }\n",
       "\n",
       "                .geemap-colab .jupyter-button {\n",
       "                    --jp-layout-color3: var(--colab-primary-surface-color, white);\n",
       "                }\n",
       "            </style>\n",
       "            "
      ],
      "text/plain": [
       "<IPython.core.display.HTML object>"
      ]
     },
     "metadata": {},
     "output_type": "display_data"
    }
   ],
   "source": [
    "import ee\n",
    "\n",
    "ee.Authenticate(auth_mode='notebook')\n",
    "ee.Initialize(project = 'ee-gsingh')\n",
    "\n",
    "from geeml.utils import eeprint"
   ]
  },
  {
   "cell_type": "code",
   "execution_count": 32,
   "metadata": {
    "cellUniqueIdByVincent": "c76c0"
   },
   "outputs": [
    {
     "data": {
      "text/html": [
       "\n",
       "            <style>\n",
       "                .geemap-dark {\n",
       "                    --jp-widgets-color: white;\n",
       "                    --jp-widgets-label-color: white;\n",
       "                    --jp-ui-font-color1: white;\n",
       "                    --jp-layout-color2: #454545;\n",
       "                    background-color: #383838;\n",
       "                }\n",
       "\n",
       "                .geemap-dark .jupyter-button {\n",
       "                    --jp-layout-color3: #383838;\n",
       "                }\n",
       "\n",
       "                .geemap-colab {\n",
       "                    background-color: var(--colab-primary-surface-color, white);\n",
       "                }\n",
       "\n",
       "                .geemap-colab .jupyter-button {\n",
       "                    --jp-layout-color3: var(--colab-primary-surface-color, white);\n",
       "                }\n",
       "            </style>\n",
       "            "
      ],
      "text/plain": [
       "<IPython.core.display.HTML object>"
      ]
     },
     "metadata": {},
     "output_type": "display_data"
    }
   ],
   "source": [
    "# Enter your own export to assets path name here -----------\n",
    "EXPORT_PATH = 'projects/ee-gsingh/assets/postdoc/'\n",
    "# ------------------------------------------------"
   ]
  },
  {
   "cell_type": "code",
   "execution_count": 33,
   "metadata": {
    "cellUniqueIdByVincent": "aa289"
   },
   "outputs": [
    {
     "data": {
      "text/html": [
       "\n",
       "            <style>\n",
       "                .geemap-dark {\n",
       "                    --jp-widgets-color: white;\n",
       "                    --jp-widgets-label-color: white;\n",
       "                    --jp-ui-font-color1: white;\n",
       "                    --jp-layout-color2: #454545;\n",
       "                    background-color: #383838;\n",
       "                }\n",
       "\n",
       "                .geemap-dark .jupyter-button {\n",
       "                    --jp-layout-color3: #383838;\n",
       "                }\n",
       "\n",
       "                .geemap-colab {\n",
       "                    background-color: var(--colab-primary-surface-color, white);\n",
       "                }\n",
       "\n",
       "                .geemap-colab .jupyter-button {\n",
       "                    --jp-layout-color3: var(--colab-primary-surface-color, white);\n",
       "                }\n",
       "            </style>\n",
       "            "
      ],
      "text/plain": [
       "<IPython.core.display.HTML object>"
      ]
     },
     "metadata": {},
     "output_type": "display_data"
    }
   ],
   "source": [
    "# Import other packages used in the tutorial\n",
    "%matplotlib inline\n",
    "import geemap\n",
    "import numpy as np\n",
    "import random, time\n",
    "import matplotlib.pyplot as plt\n",
    "from scipy.stats import norm, chi2\n",
    "\n",
    "from pprint import pprint "
   ]
  },
  {
   "cell_type": "code",
   "execution_count": 34,
   "metadata": {
    "cellUniqueIdByVincent": "ddef5"
   },
   "outputs": [
    {
     "data": {
      "text/html": [
       "\n",
       "            <style>\n",
       "                .geemap-dark {\n",
       "                    --jp-widgets-color: white;\n",
       "                    --jp-widgets-label-color: white;\n",
       "                    --jp-ui-font-color1: white;\n",
       "                    --jp-layout-color2: #454545;\n",
       "                    background-color: #383838;\n",
       "                }\n",
       "\n",
       "                .geemap-dark .jupyter-button {\n",
       "                    --jp-layout-color3: #383838;\n",
       "                }\n",
       "\n",
       "                .geemap-colab {\n",
       "                    background-color: var(--colab-primary-surface-color, white);\n",
       "                }\n",
       "\n",
       "                .geemap-colab .jupyter-button {\n",
       "                    --jp-layout-color3: var(--colab-primary-surface-color, white);\n",
       "                }\n",
       "            </style>\n",
       "            "
      ],
      "text/plain": [
       "<IPython.core.display.HTML object>"
      ]
     },
     "metadata": {},
     "output_type": "display_data"
    }
   ],
   "source": [
    "#@title Routines from Part 1\n",
    "\n",
    "def trunc(values, dec = 3):\n",
    "    '''Truncate a 1-D array to dec decimal places.'''\n",
    "    return np.trunc(values*10**dec)/(10**dec)\n",
    "\n",
    "# Display an image in a one percent linear stretch.\n",
    "def display_ls(image, map, name, centered = False):\n",
    "    bns = image.bandNames().length().getInfo()\n",
    "    if bns == 3:\n",
    "        image = image.rename('B1', 'B2', 'B3')\n",
    "        pb_99 = ['B1_p99', 'B2_p99', 'B3_p99']\n",
    "        pb_1 = ['B1_p1', 'B2_p1', 'B3_p1']\n",
    "        img = ee.Image.rgb(image.select('B1'), image.select('B2'), image.select('B3'))\n",
    "    else:\n",
    "        image = image.rename('B1')\n",
    "        pb_99 = ['B1_p99']\n",
    "        pb_1 = ['B1_p1']\n",
    "        img = image.select('B1')\n",
    "    percentiles = image.reduceRegion(ee.Reducer.percentile([1, 99]), maxPixels=1e11)\n",
    "    mx = percentiles.values(pb_99)\n",
    "    if centered:\n",
    "        mn = ee.Array(mx).multiply(-1).toList()\n",
    "    else:\n",
    "        mn = percentiles.values(pb_1)\n",
    "    map.addLayer(img, {'min': mn, 'max': mx}, name)\n",
    "\n",
    "def collect(aoi, t1a ,t1b, t2a, t2b):\n",
    "    try:\n",
    "        im1 = ee.Image( ee.ImageCollection(\"COPERNICUS/S2_HARMONIZED\")\n",
    "                               .filterBounds(aoi)\n",
    "                               .filterDate(ee.Date(t1a), ee.Date(t1b))\n",
    "                               .filter(ee.Filter.contains(rightValue=aoi,leftField='.geo'))\n",
    "                               .sort('CLOUDY_PIXEL_PERCENTAGE')\n",
    "                               .first()\n",
    "                               .clip(aoi) )\n",
    "        im2 = ee.Image( ee.ImageCollection(\"COPERNICUS/S2_HARMONIZED\")\n",
    "                               .filterBounds(aoi)\n",
    "                               .filterDate(ee.Date(t2a), ee.Date(t2b))\n",
    "                               .filter(ee.Filter.contains(rightValue=aoi,leftField='.geo'))\n",
    "                               .sort('CLOUDY_PIXEL_PERCENTAGE')\n",
    "                               .first()\n",
    "                               .clip(aoi) )\n",
    "        timestamp = im1.date().format('E MMM dd HH:mm:ss YYYY')\n",
    "        print(timestamp.getInfo())\n",
    "        timestamp = im2.date().format('E MMM dd HH:mm:ss YYYY')\n",
    "        print(timestamp.getInfo())\n",
    "        return (im1, im2)\n",
    "    except Exception as e:\n",
    "        print('Error: %s'%e)\n",
    "\n",
    "def covarw(image, weights=None, scale=20, maxPixels=1e10):\n",
    "    '''Return the centered image and its weighted covariance matrix.'''\n",
    "    try:\n",
    "        geometry = image.geometry()\n",
    "        bandNames = image.bandNames()\n",
    "        N = bandNames.length()\n",
    "        if weights is None:\n",
    "            weights = image.constant(1)\n",
    "        weightsImage = image.multiply(ee.Image.constant(0)).add(weights)\n",
    "        means = image.addBands(weightsImage) \\\n",
    "                    .reduceRegion(ee.Reducer.mean().repeat(N).splitWeights(),\n",
    "                                scale = scale,\n",
    "                                maxPixels = maxPixels) \\\n",
    "                    .toArray() \\\n",
    "                    .project([1])\n",
    "        centered = image.toArray().subtract(means)\n",
    "        B1 = centered.bandNames().get(0)\n",
    "        b1 = weights.bandNames().get(0)\n",
    "        nPixels = ee.Number(centered.reduceRegion(ee.Reducer.count(),\n",
    "                                                scale=scale,\n",
    "                                                maxPixels=maxPixels).get(B1))\n",
    "        sumWeights = ee.Number(weights.reduceRegion(ee.Reducer.sum(),\n",
    "                                                    geometry=geometry,\n",
    "                                                    scale=scale,\n",
    "                                                    maxPixels=maxPixels).get(b1))\n",
    "        covw = centered.multiply(weights.sqrt()) \\\n",
    "                    .toArray() \\\n",
    "                    .reduceRegion(ee.Reducer.centeredCovariance(),\n",
    "                                    geometry=geometry,\n",
    "                                    scale=scale,\n",
    "                                    maxPixels=maxPixels) \\\n",
    "                    .get('array')\n",
    "        covw = ee.Array(covw).multiply(nPixels).divide(sumWeights)\n",
    "        return (centered.arrayFlatten([bandNames]), covw)\n",
    "    except Exception as e:\n",
    "        print('Error: %s'%e)\n",
    "\n",
    "def corr(cov):\n",
    "    '''Transfrom covariance matrix to correlation matrix.'''\n",
    "    # Diagonal matrix of inverse sigmas.\n",
    "    sInv = cov.matrixDiagonal().sqrt().matrixToDiag().matrixInverse()\n",
    "    # Transform.\n",
    "    corr = sInv.matrixMultiply(cov).matrixMultiply(sInv).getInfo()\n",
    "    # Truncate.\n",
    "    return [list(map(trunc, corr[i])) for i in range(len(corr))]\n",
    "\n",
    "def geneiv(C,B):\n",
    "    '''Return the eignvalues and eigenvectors of the generalized eigenproblem\n",
    "       C*X = lambda*B*X'''\n",
    "    try:\n",
    "        C = ee.Array(C)\n",
    "        B = ee.Array(B)\n",
    "        #  Li = choldc(B)^-1\n",
    "        Li = ee.Array(B.matrixCholeskyDecomposition().get('L')).matrixInverse()\n",
    "        # Solve symmetric, ordinary eigenproblem Li*C*Li^T*x = lambda*x\n",
    "        Xa = Li.matrixMultiply(C) \\\n",
    "            .matrixMultiply(Li.matrixTranspose()) \\\n",
    "            .eigen()\n",
    "        # Eigenvalues as a row vector.\n",
    "        lambdas = Xa.slice(1, 0, 1).matrixTranspose()\n",
    "        # Eigenvectors as columns.\n",
    "        X = Xa.slice(1, 1).matrixTranspose()\n",
    "        # Generalized eigenvectors as columns, Li^T*X\n",
    "        eigenvecs = Li.matrixTranspose().matrixMultiply(X)\n",
    "        return (lambdas, eigenvecs)\n",
    "    except Exception as e:\n",
    "        print('Error: %s'%e)\n",
    "\n",
    "def mad_run(image1, image2, scale=20):\n",
    "    '''The MAD transformation of two multiband images.'''\n",
    "    try:\n",
    "        image = image1.addBands(image2)\n",
    "        nBands = image.bandNames().length().divide(2)\n",
    "        centeredImage,covarArray = covarw(image,scale=scale)\n",
    "        bNames = centeredImage.bandNames()\n",
    "        bNames1 = bNames.slice(0,nBands)\n",
    "        bNames2 = bNames.slice(nBands)\n",
    "        centeredImage1 = centeredImage.select(bNames1)\n",
    "        centeredImage2 = centeredImage.select(bNames2)\n",
    "        s11 = covarArray.slice(0, 0, nBands).slice(1, 0, nBands)\n",
    "        s22 = covarArray.slice(0, nBands).slice(1, nBands)\n",
    "        s12 = covarArray.slice(0, 0, nBands).slice(1, nBands)\n",
    "        s21 = covarArray.slice(0, nBands).slice(1, 0, nBands)\n",
    "        c1 = s12.matrixMultiply(s22.matrixInverse()).matrixMultiply(s21)\n",
    "        b1 = s11\n",
    "        c2 = s21.matrixMultiply(s11.matrixInverse()).matrixMultiply(s12)\n",
    "        b2 = s22\n",
    "        # Solution of generalized eigenproblems.\n",
    "        lambdas, A = geneiv(c1, b1)\n",
    "        _,       B = geneiv(c2, b2)\n",
    "        rhos = lambdas.sqrt().project(ee.List([1]))\n",
    "        # MAD variances.\n",
    "        sigma2s = rhos.subtract(1).multiply(-2).toList()\n",
    "        sigma2s = ee.Image.constant(sigma2s)\n",
    "        # Ensure sum of positive correlations between X and U is positive.\n",
    "        tmp = s11.matrixDiagonal().sqrt()\n",
    "        ones = tmp.multiply(0).add(1)\n",
    "        tmp = ones.divide(tmp).matrixToDiag()\n",
    "        s = tmp.matrixMultiply(s11).matrixMultiply(A).reduce(ee.Reducer.sum(),[0]).transpose()\n",
    "        A = A.matrixMultiply(s.divide(s.abs()).matrixToDiag())\n",
    "        # Ensure positive correlation.\n",
    "        tmp = A.transpose().matrixMultiply(s12).matrixMultiply(B).matrixDiagonal()\n",
    "        tmp = tmp.divide(tmp.abs()).matrixToDiag()\n",
    "        B = B.matrixMultiply(tmp)\n",
    "        # Canonical and MAD variates as images.\n",
    "        centeredImage1Array = centeredImage1.toArray().toArray(1)\n",
    "        centeredImage2Array = centeredImage2.toArray().toArray(1)\n",
    "        U = ee.Image(A.transpose()).matrixMultiply(centeredImage1Array) \\\n",
    "                    .arrayProject([0]) \\\n",
    "                    .arrayFlatten([bNames2])\n",
    "        V = ee.Image(B.transpose()).matrixMultiply(centeredImage2Array) \\\n",
    "                    .arrayProject([0]) \\\n",
    "                    .arrayFlatten([bNames2])\n",
    "        MAD = U.subtract(V)\n",
    "        # Chi-square image.\n",
    "        Z = MAD.pow(2) \\\n",
    "               .divide(sigma2s) \\\n",
    "               .reduce(ee.Reducer.sum())\n",
    "        return (U, V, MAD, Z)\n",
    "    except Exception as e:\n",
    "        print('Error: %s'%e)"
   ]
  },
  {
   "cell_type": "code",
   "execution_count": 35,
   "metadata": {
    "cellUniqueIdByVincent": "4e8fb"
   },
   "outputs": [
    {
     "data": {
      "text/html": [
       "\n",
       "            <style>\n",
       "                .geemap-dark {\n",
       "                    --jp-widgets-color: white;\n",
       "                    --jp-widgets-label-color: white;\n",
       "                    --jp-ui-font-color1: white;\n",
       "                    --jp-layout-color2: #454545;\n",
       "                    background-color: #383838;\n",
       "                }\n",
       "\n",
       "                .geemap-dark .jupyter-button {\n",
       "                    --jp-layout-color3: #383838;\n",
       "                }\n",
       "\n",
       "                .geemap-colab {\n",
       "                    background-color: var(--colab-primary-surface-color, white);\n",
       "                }\n",
       "\n",
       "                .geemap-colab .jupyter-button {\n",
       "                    --jp-layout-color3: var(--colab-primary-surface-color, white);\n",
       "                }\n",
       "            </style>\n",
       "            "
      ],
      "text/plain": [
       "<IPython.core.display.HTML object>"
      ]
     },
     "metadata": {},
     "output_type": "display_data"
    }
   ],
   "source": [
    "#@title The iMAD code\n",
    "def chi2cdf(Z,df):\n",
    "    '''Chi-square cumulative distribution function with df degrees of freedom.'''\n",
    "    return ee.Image(Z.divide(2)).gammainc(ee.Number(df).divide(2))\n",
    "\n",
    "def imad(current,prev):\n",
    "    '''Iterator function for iMAD.'''\n",
    "    done =  ee.Number(ee.Dictionary(prev).get('done'))\n",
    "    return ee.Algorithms.If(done, prev, imad1(current, prev))\n",
    "\n",
    "def imad1(current,prev):\n",
    "    '''Iteratively re-weighted MAD.'''\n",
    "    image = ee.Image(ee.Dictionary(prev).get('image'))\n",
    "    Z = ee.Image(ee.Dictionary(prev).get('Z'))\n",
    "    allrhos = ee.List(ee.Dictionary(prev).get('allrhos'))\n",
    "    nBands = image.bandNames().length().divide(2)\n",
    "    weights = chi2cdf(Z,nBands).subtract(1).multiply(-1)\n",
    "    scale = ee.Dictionary(prev).getNumber('scale')\n",
    "    niter = ee.Dictionary(prev).getNumber('niter')\n",
    "    # Weighted stacked image and weighted covariance matrix.\n",
    "    centeredImage, covarArray = covarw(image, weights, scale)\n",
    "    bNames = centeredImage.bandNames()\n",
    "    bNames1 = bNames.slice(0, nBands)\n",
    "    bNames2 = bNames.slice(nBands)\n",
    "    centeredImage1 = centeredImage.select(bNames1)\n",
    "    centeredImage2 = centeredImage.select(bNames2)\n",
    "    s11 = covarArray.slice(0, 0, nBands).slice(1, 0, nBands)\n",
    "    s22 = covarArray.slice(0, nBands).slice(1, nBands)\n",
    "    s12 = covarArray.slice(0, 0, nBands).slice(1, nBands)\n",
    "    s21 = covarArray.slice(0, nBands).slice(1, 0, nBands)\n",
    "    c1 = s12.matrixMultiply(s22.matrixInverse()).matrixMultiply(s21)\n",
    "    b1 = s11\n",
    "    c2 = s21.matrixMultiply(s11.matrixInverse()).matrixMultiply(s12)\n",
    "    b2 = s22\n",
    "    # Solution of generalized eigenproblems.\n",
    "    lambdas, A = geneiv(c1, b1)\n",
    "    _, B       = geneiv(c2, b2)\n",
    "    rhos = lambdas.sqrt().project(ee.List([1]))\n",
    "    # Test for convergence.\n",
    "    lastrhos = ee.Array(allrhos.get(-1))\n",
    "    done = rhos.subtract(lastrhos) \\\n",
    "               .abs() \\\n",
    "               .reduce(ee.Reducer.max(), ee.List([0])) \\\n",
    "               .lt(ee.Number(0.0001)) \\\n",
    "               .toList() \\\n",
    "               .get(0)\n",
    "    allrhos = allrhos.cat([rhos.toList()])\n",
    "    # MAD variances.\n",
    "    sigma2s = rhos.subtract(1).multiply(-2).toList()\n",
    "    sigma2s = ee.Image.constant(sigma2s)\n",
    "    # Ensure sum of positive correlations between X and U is positive.\n",
    "    tmp = s11.matrixDiagonal().sqrt()\n",
    "    ones = tmp.multiply(0).add(1)\n",
    "    tmp = ones.divide(tmp).matrixToDiag()\n",
    "    s = tmp.matrixMultiply(s11).matrixMultiply(A).reduce(ee.Reducer.sum(), [0]).transpose()\n",
    "    A = A.matrixMultiply(s.divide(s.abs()).matrixToDiag())\n",
    "    # Ensure positive correlation.\n",
    "    tmp = A.transpose().matrixMultiply(s12).matrixMultiply(B).matrixDiagonal()\n",
    "    tmp = tmp.divide(tmp.abs()).matrixToDiag()\n",
    "    B = B.matrixMultiply(tmp)\n",
    "    # Canonical and MAD variates.\n",
    "    centeredImage1Array = centeredImage1.toArray().toArray(1)\n",
    "    centeredImage2Array = centeredImage2.toArray().toArray(1)\n",
    "    U = ee.Image(A.transpose()).matrixMultiply(centeredImage1Array) \\\n",
    "                   .arrayProject([0]) \\\n",
    "                   .arrayFlatten([bNames1])\n",
    "    V = ee.Image(B.transpose()).matrixMultiply(centeredImage2Array) \\\n",
    "                   .arrayProject([0]) \\\n",
    "                   .arrayFlatten([bNames2])\n",
    "    iMAD = U.subtract(V)\n",
    "    # Chi-square image.\n",
    "    Z = iMAD.pow(2) \\\n",
    "              .divide(sigma2s) \\\n",
    "              .reduce(ee.Reducer.sum())\n",
    "    return ee.Dictionary({'done': done, 'scale': scale, 'niter': niter.add(1),\n",
    "                          'image': image, 'allrhos': allrhos, 'Z': Z, 'iMAD': iMAD})"
   ]
  },
  {
   "cell_type": "code",
   "execution_count": 36,
   "metadata": {
    "cellUniqueIdByVincent": "ff1ec"
   },
   "outputs": [
    {
     "data": {
      "text/html": [
       "\n",
       "            <style>\n",
       "                .geemap-dark {\n",
       "                    --jp-widgets-color: white;\n",
       "                    --jp-widgets-label-color: white;\n",
       "                    --jp-ui-font-color1: white;\n",
       "                    --jp-layout-color2: #454545;\n",
       "                    background-color: #383838;\n",
       "                }\n",
       "\n",
       "                .geemap-dark .jupyter-button {\n",
       "                    --jp-layout-color3: #383838;\n",
       "                }\n",
       "\n",
       "                .geemap-colab {\n",
       "                    background-color: var(--colab-primary-surface-color, white);\n",
       "                }\n",
       "\n",
       "                .geemap-colab .jupyter-button {\n",
       "                    --jp-layout-color3: var(--colab-primary-surface-color, white);\n",
       "                }\n",
       "            </style>\n",
       "            "
      ],
      "text/plain": [
       "<IPython.core.display.HTML object>"
      ]
     },
     "metadata": {},
     "output_type": "display_data"
    }
   ],
   "source": [
    "#@title Run iMAD algorithm as export task\n",
    "def run_imad(aoi, image1, image2, assetId, scale=20, maxiter=100):\n",
    "    try:\n",
    "        N = image1.bandNames().length().getInfo()\n",
    "        imadnames = ['iMAD'+str(i+1) for i in range(N)]\n",
    "        imadnames.append('Z')\n",
    "        # Maximum iterations.\n",
    "        inputlist = ee.List.sequence(1, maxiter)\n",
    "        first = ee.Dictionary({'done':0,\n",
    "                            'scale': scale,\n",
    "                            'niter': ee.Number(0),\n",
    "                            'image': image1.addBands(image2),\n",
    "                            'allrhos': [ee.List.sequence(1, N)],\n",
    "                            'Z': ee.Image.constant(0),\n",
    "                            'iMAD': ee.Image.constant(0)})\n",
    "        # Iteration.\n",
    "        result = ee.Dictionary(inputlist.iterate(imad, first))\n",
    "        # Retrieve results.\n",
    "        iMAD = ee.Image(result.get('iMAD')).clip(aoi)\n",
    "        rhos = ee.String.encodeJSON(ee.List(result.get('allrhos')).get(-1))\n",
    "        Z = ee.Image(result.get('Z'))\n",
    "        niter = result.getNumber('niter')\n",
    "        # Export iMAD and Z as a single image, including rhos and number of iterations in properties.\n",
    "        iMAD_export = ee.Image.cat(iMAD, Z).rename(imadnames).set('rhos', rhos, 'niter', niter)\n",
    "        assexport = ee.batch.Export.image.toAsset(iMAD_export,\n",
    "                        description='assetExportTask',\n",
    "                        assetId=assetId, scale=scale, maxPixels=1e10)\n",
    "        assexport.start()\n",
    "        print('Exporting iMAD to %s\\n task id: %s'%(assetId, str(assexport.id)))\n",
    "    except Exception as e:\n",
    "        print('Error: %s'%e)"
   ]
  },
  {
   "cell_type": "code",
   "execution_count": 37,
   "metadata": {
    "cellUniqueIdByVincent": "65d19"
   },
   "outputs": [
    {
     "data": {
      "text/html": [
       "\n",
       "            <style>\n",
       "                .geemap-dark {\n",
       "                    --jp-widgets-color: white;\n",
       "                    --jp-widgets-label-color: white;\n",
       "                    --jp-ui-font-color1: white;\n",
       "                    --jp-layout-color2: #454545;\n",
       "                    background-color: #383838;\n",
       "                }\n",
       "\n",
       "                .geemap-dark .jupyter-button {\n",
       "                    --jp-layout-color3: #383838;\n",
       "                }\n",
       "\n",
       "                .geemap-colab {\n",
       "                    background-color: var(--colab-primary-surface-color, white);\n",
       "                }\n",
       "\n",
       "                .geemap-colab .jupyter-button {\n",
       "                    --jp-layout-color3: var(--colab-primary-surface-color, white);\n",
       "                }\n",
       "            </style>\n",
       "            "
      ],
      "text/plain": [
       "<IPython.core.display.HTML object>"
      ]
     },
     "metadata": {},
     "output_type": "display_data"
    }
   ],
   "source": [
    "def createComposite(imageCollection: str, points: ee.Geometry, year: int, period:str):\n",
    "    \"\"\"Creates a composite image of a point over a given year (uses 1 month period for 2018 and 2 months for 2023).\n",
    "    \n",
    "    Args:\n",
    "        imageCollection (str): The collection to use for the composite.\n",
    "        point (ee.Geometry): The point to create the composite for.\n",
    "        year (int): The year to create the composite for.\n",
    "        period (str): Either values of first (Sept-09), second(oct-Nov) or both. \n",
    "    \n",
    "    Returns:\n",
    "        ee.Image: The composite image.\n",
    "    \"\"\"\n",
    "\n",
    "    # Get the image collection\n",
    "    ic = ee.ImageCollection(imageCollection)\n",
    "\n",
    "    if period == 'first':\n",
    "        startDate = f'{year}-09-01'\n",
    "        endDate = f'{year}-10-01'\n",
    "    elif period == 'second':\n",
    "        startDate = f'{year}-10-22'\n",
    "        endDate = f'{year}-11-27'\n",
    "        # startDate = f'{year}-10-01'\n",
    "        # endDate = f'{year}-12-01'\n",
    "        \n",
    "\n",
    "    # Mask clouds using cloud score+\n",
    "    csPlus = ee.ImageCollection('GOOGLE/CLOUD_SCORE_PLUS/V1/S2_HARMONIZED')\n",
    "\n",
    "    QA_BAND = 'cs_cdf'\n",
    "    CLEAR_THRESHOLD = 0.65\n",
    "    \n",
    "    # Filter the collection to the start and end dates, and point\n",
    "    medianImage = ic.filterDate(startDate, endDate).filterBounds(points).linkCollection(csPlus, [QA_BAND])\\\n",
    "    .map(lambda img: img.updateMask(img.select(QA_BAND).gte(CLEAR_THRESHOLD)))\\\n",
    "    .median()\n",
    "    \n",
    "    return medianImage.divide(10000).select([\"B2\",\"B3\",\"B4\",\"B5\",\"B6\",\"B7\",\"B8\",\"B11\",\"B12\"])"
   ]
  },
  {
   "cell_type": "code",
   "execution_count": 38,
   "id": "34a4199a",
   "metadata": {
    "cellUniqueIdByVincent": "3badb"
   },
   "outputs": [
    {
     "data": {
      "text/html": [
       "\n",
       "            <style>\n",
       "                .geemap-dark {\n",
       "                    --jp-widgets-color: white;\n",
       "                    --jp-widgets-label-color: white;\n",
       "                    --jp-ui-font-color1: white;\n",
       "                    --jp-layout-color2: #454545;\n",
       "                    background-color: #383838;\n",
       "                }\n",
       "\n",
       "                .geemap-dark .jupyter-button {\n",
       "                    --jp-layout-color3: #383838;\n",
       "                }\n",
       "\n",
       "                .geemap-colab {\n",
       "                    background-color: var(--colab-primary-surface-color, white);\n",
       "                }\n",
       "\n",
       "                .geemap-colab .jupyter-button {\n",
       "                    --jp-layout-color3: var(--colab-primary-surface-color, white);\n",
       "                }\n",
       "            </style>\n",
       "            "
      ],
      "text/plain": [
       "<IPython.core.display.HTML object>"
      ]
     },
     "metadata": {},
     "output_type": "display_data"
    },
    {
     "data": {
      "text/html": [
       "<div id=\"0897e12e-d5c9-4038-a8c6-ebbe59a40967\" style=\"height: auto; width:100%;\"></div>"
      ],
      "text/plain": [
       "<IPython.core.display.HTML object>"
      ]
     },
     "metadata": {},
     "output_type": "display_data"
    },
    {
     "data": {
      "text/html": [
       "\n",
       "        <script src=\"/static/components/requirejs/require.js\"></script> <!-- Needed in Colab -->\n",
       "        <script>\n",
       "            require([\"https://rawgit.com/caldwell/renderjson/master/renderjson.js\"], function() {\n",
       "              renderjson.set_show_to_level(1)\n",
       "              document.getElementById('0897e12e-d5c9-4038-a8c6-ebbe59a40967').appendChild(renderjson({\"type\": \"FeatureCollection\", \"columns\": {\"2018_2023\": \"Float\", \"2023_class\": \"Long\", \"change\": \"Long\", \"class\": \"Long\", \"fid\": \"Long\", \"group\": \"Long\", \"layer\": \"String\", \"notes\": \"String\", \"path\": \"String\", \"system:index\": \"String\"}, \"version\": 1750928796749160.0, \"id\": \"projects/ee-geethensingh/assets/postdoc/aliens_sep2018_bioscape2023\", \"properties\": {\"system:asset_size\": 84232}, \"features\": [{\"type\": \"Feature\", \"geometry\": {\"type\": \"Point\", \"coordinates\": [19.07260971703242, -33.805537565931296]}, \"id\": \"000000000000000003fb\", \"properties\": {\"2018_2023\": 0.006702983744329, \"2023_class\": \"None\", \"change\": 0, \"class\": 0, \"fid\": 1028, \"group\": 0, \"layer\": \"valid\", \"notes\": \"\", \"path\": \"/Users/glennmoncrieff/Documents/qgis/valid.gpkg|layername=valid\"}}, {\"type\": \"Feature\", \"geometry\": {\"type\": \"Point\", \"coordinates\": [19.077947260993394, -33.80792318499489]}, \"id\": \"000000000000000003fc\", \"properties\": {\"2018_2023\": 0.012547892265916, \"2023_class\": \"None\", \"change\": 0, \"class\": 0, \"fid\": 1029, \"group\": 0, \"layer\": \"valid\", \"notes\": \"chngg rb\", \"path\": \"/Users/glennmoncrieff/Documents/qgis/valid.gpkg|layername=valid\"}}, {\"type\": \"Feature\", \"geometry\": {\"type\": \"Point\", \"coordinates\": [19.078205888854495, -33.80820856746231]}, \"id\": \"000000000000000003fd\", \"properties\": {\"2018_2023\": 0.021821219977462, \"2023_class\": \"None\", \"change\": 0, \"class\": 0, \"fid\": 1030, \"group\": 0, \"layer\": \"valid\", \"notes\": \"chngg rb\", \"path\": \"/Users/glennmoncrieff/Documents/qgis/valid.gpkg|layername=valid\"}}, {\"type\": \"Feature\", \"geometry\": {\"type\": \"Point\", \"coordinates\": [19.14952475110331, -33.73579722545541]}, \"id\": \"0000000000000000045a\", \"properties\": {\"2018_2023\": 0.021899021606995, \"2023_class\": \"None\", \"change\": 0, \"class\": 0, \"fid\": 1125, \"group\": 0, \"layer\": \"valid\", \"notes\": \"\", \"path\": \"/Users/glennmoncrieff/Documents/qgis/valid.gpkg|layername=valid\"}}, {\"type\": \"Feature\", \"geometry\": {\"type\": \"Point\", \"coordinates\": [19.266571694655205, -33.752777482266936]}, \"id\": \"00000000000000000468\", \"properties\": {\"2018_2023\": 0.003017588595706, \"2023_class\": \"None\", \"change\": 0, \"class\": 0, \"fid\": 1139, \"group\": 0, \"layer\": \"valid\", \"notes\": \"\", \"path\": \"/Users/glennmoncrieff/Documents/qgis/valid.gpkg|layername=valid\"}}]}))\n",
       "            });\n",
       "        </script>\n",
       "    "
      ],
      "text/plain": [
       "<IPython.core.display.HTML object>"
      ]
     },
     "metadata": {},
     "output_type": "display_data"
    },
    {
     "data": {
      "text/html": [
       "<div id=\"a9b201ca-7583-4559-ac62-8016881cbfc6\" style=\"height: auto; width:100%;\"></div>"
      ],
      "text/plain": [
       "<IPython.core.display.HTML object>"
      ]
     },
     "metadata": {},
     "output_type": "display_data"
    },
    {
     "data": {
      "text/html": [
       "\n",
       "        <script src=\"/static/components/requirejs/require.js\"></script> <!-- Needed in Colab -->\n",
       "        <script>\n",
       "            require([\"https://rawgit.com/caldwell/renderjson/master/renderjson.js\"], function() {\n",
       "              renderjson.set_show_to_level(1)\n",
       "              document.getElementById('a9b201ca-7583-4559-ac62-8016881cbfc6').appendChild(renderjson(['B2', 'B3', 'B4', 'B5', 'B6', 'B7', 'B8', 'B11', 'B12']))\n",
       "            });\n",
       "        </script>\n",
       "    "
      ],
      "text/plain": [
       "<IPython.core.display.HTML object>"
      ]
     },
     "metadata": {},
     "output_type": "display_data"
    }
   ],
   "source": [
    "pts = ee.FeatureCollection('projects/ee-geethensingh/assets/postdoc/aliens_sep2018_bioscape2023')\n",
    "eeprint(pts.limit(5))\n",
    "\n",
    "aoi = pts.geometry().bounds()\n",
    "\n",
    "composite2018 = createComposite(imageCollection= ee.ImageCollection(\"COPERNICUS/S2_HARMONIZED\"),\n",
    "                points=pts.geometry(),\n",
    "                year=2018,\n",
    "                period='first').select('B.*')\n",
    "\n",
    "# Create a composite for 2023\n",
    "composite2023 = createComposite(imageCollection= ee.ImageCollection(\"COPERNICUS/S2_HARMONIZED\"),\n",
    "                points=pts.geometry(),\n",
    "                year=2023,\n",
    "                period='second').select('B.*')\n",
    "\n",
    "eeprint(composite2018.bandNames())\n"
   ]
  },
  {
   "cell_type": "code",
   "execution_count": 9,
   "metadata": {
    "cellUniqueIdByVincent": "5569d"
   },
   "outputs": [
    {
     "data": {
      "text/html": [
       "\n",
       "            <style>\n",
       "                .geemap-dark {\n",
       "                    --jp-widgets-color: white;\n",
       "                    --jp-widgets-label-color: white;\n",
       "                    --jp-ui-font-color1: white;\n",
       "                    --jp-layout-color2: #454545;\n",
       "                    background-color: #383838;\n",
       "                }\n",
       "\n",
       "                .geemap-dark .jupyter-button {\n",
       "                    --jp-layout-color3: #383838;\n",
       "                }\n",
       "\n",
       "                .geemap-colab {\n",
       "                    background-color: var(--colab-primary-surface-color, white);\n",
       "                }\n",
       "\n",
       "                .geemap-colab .jupyter-button {\n",
       "                    --jp-layout-color3: var(--colab-primary-surface-color, white);\n",
       "                }\n",
       "            </style>\n",
       "            "
      ],
      "text/plain": [
       "<IPython.core.display.HTML object>"
      ]
     },
     "metadata": {},
     "output_type": "display_data"
    },
    {
     "data": {
      "application/vnd.jupyter.widget-view+json": {
       "model_id": "75092ba18440444e83dc79bb91868509",
       "version_major": 2,
       "version_minor": 0
      },
      "text/plain": [
       "Map(center=[-33.8645494304087, 19.250142136824007], controls=(WidgetControl(options=['position', 'transparent_…"
      ]
     },
     "execution_count": 9,
     "metadata": {},
     "output_type": "execute_result"
    }
   ],
   "source": [
    "Map = geemap.Map()\n",
    "Map.addLayer(aoi, {}, 'Area of Interest')\n",
    "Map.addLayer(composite2018, {'bands':['B4', 'B3', 'B2'],'min': 0, 'max': 0.3}, 'Composite 2018')\n",
    "Map.addLayer(composite2023, {'bands':['B4', 'B3', 'B2'],'min': 0, 'max': 0.3}, 'Composite 2023')\n",
    "Map.centerObject(aoi, 10)\n",
    "Map"
   ]
  },
  {
   "cell_type": "code",
   "execution_count": 23,
   "metadata": {
    "cellUniqueIdByVincent": "8802f"
   },
   "outputs": [
    {
     "data": {
      "text/html": [
       "\n",
       "            <style>\n",
       "                .geemap-dark {\n",
       "                    --jp-widgets-color: white;\n",
       "                    --jp-widgets-label-color: white;\n",
       "                    --jp-ui-font-color1: white;\n",
       "                    --jp-layout-color2: #454545;\n",
       "                    background-color: #383838;\n",
       "                }\n",
       "\n",
       "                .geemap-dark .jupyter-button {\n",
       "                    --jp-layout-color3: #383838;\n",
       "                }\n",
       "\n",
       "                .geemap-colab {\n",
       "                    background-color: var(--colab-primary-surface-color, white);\n",
       "                }\n",
       "\n",
       "                .geemap-colab .jupyter-button {\n",
       "                    --jp-layout-color3: var(--colab-primary-surface-color, white);\n",
       "                }\n",
       "            </style>\n",
       "            "
      ],
      "text/plain": [
       "<IPython.core.display.HTML object>"
      ]
     },
     "metadata": {},
     "output_type": "display_data"
    },
    {
     "name": "stdout",
     "output_type": "stream",
     "text": [
      "Exporting iMAD to projects/ee-gsingh/assets/postdoc/WC_2018_2023_imad\n",
      " task id: SPO4KKFAWSRYRO7XUP4WIUGI\n"
     ]
    }
   ],
   "source": [
    "asset_path = f'{EXPORT_PATH}WC_2018_2023_imad'\n",
    "bands = [\"B2\",\"B3\",\"B4\",\"B5\",\"B6\",\"B7\",\"B8\",\"B11\",\"B12\"]\n",
    "run_imad(aoi, composite2018.select(bands).clip(aoi), composite2023.select(bands).clip(aoi), asset_path)"
   ]
  },
  {
   "cell_type": "code",
   "execution_count": 10,
   "metadata": {
    "cellUniqueIdByVincent": "8c427"
   },
   "outputs": [
    {
     "data": {
      "text/html": [
       "\n",
       "            <style>\n",
       "                .geemap-dark {\n",
       "                    --jp-widgets-color: white;\n",
       "                    --jp-widgets-label-color: white;\n",
       "                    --jp-ui-font-color1: white;\n",
       "                    --jp-layout-color2: #454545;\n",
       "                    background-color: #383838;\n",
       "                }\n",
       "\n",
       "                .geemap-dark .jupyter-button {\n",
       "                    --jp-layout-color3: #383838;\n",
       "                }\n",
       "\n",
       "                .geemap-colab {\n",
       "                    background-color: var(--colab-primary-surface-color, white);\n",
       "                }\n",
       "\n",
       "                .geemap-colab .jupyter-button {\n",
       "                    --jp-layout-color3: var(--colab-primary-surface-color, white);\n",
       "                }\n",
       "            </style>\n",
       "            "
      ],
      "text/plain": [
       "<IPython.core.display.HTML object>"
      ]
     },
     "metadata": {},
     "output_type": "display_data"
    },
    {
     "ename": "NameError",
     "evalue": "name 'im1' is not defined",
     "output_type": "error",
     "traceback": [
      "\u001b[31m---------------------------------------------------------------------------\u001b[39m",
      "\u001b[31mNameError\u001b[39m                                 Traceback (most recent call last)",
      "\u001b[36mCell\u001b[39m\u001b[36m \u001b[39m\u001b[32mIn[10]\u001b[39m\u001b[32m, line 3\u001b[39m\n\u001b[32m      1\u001b[39m M1 = geemap.Map()\n\u001b[32m      2\u001b[39m M1.centerObject(aoi, \u001b[32m11\u001b[39m)\n\u001b[32m----> \u001b[39m\u001b[32m3\u001b[39m display_ls(\u001b[43mim1\u001b[49m.select(visbands), M1, \u001b[33m'\u001b[39m\u001b[33mim1\u001b[39m\u001b[33m'\u001b[39m)\n\u001b[32m      4\u001b[39m display_ls(im2.select(visbands), M1, \u001b[33m'\u001b[39m\u001b[33mim2\u001b[39m\u001b[33m'\u001b[39m)\n\u001b[32m      5\u001b[39m display_ls(im_imad.select(\u001b[33m'\u001b[39m\u001b[33miMAD1\u001b[39m\u001b[33m'\u001b[39m, \u001b[33m'\u001b[39m\u001b[33miMAD2\u001b[39m\u001b[33m'\u001b[39m, \u001b[33m'\u001b[39m\u001b[33miMAD3\u001b[39m\u001b[33m'\u001b[39m), M1, \u001b[33m'\u001b[39m\u001b[33miMAD123\u001b[39m\u001b[33m'\u001b[39m, \u001b[38;5;28;01mTrue\u001b[39;00m)\n",
      "\u001b[31mNameError\u001b[39m: name 'im1' is not defined"
     ]
    }
   ],
   "source": [
    "M1 = geemap.Map()\n",
    "M1.centerObject(aoi, 11)\n",
    "display_ls(im1.select(visbands), M1, 'im1')\n",
    "display_ls(im2.select(visbands), M1, 'im2')\n",
    "display_ls(im_imad.select('iMAD1', 'iMAD2', 'iMAD3'), M1, 'iMAD123', True)\n",
    "\n",
    "M1"
   ]
  },
  {
   "cell_type": "code",
   "execution_count": 10,
   "metadata": {
    "cellUniqueIdByVincent": "4e437"
   },
   "outputs": [
    {
     "data": {
      "text/html": [
       "\n",
       "            <style>\n",
       "                .geemap-dark {\n",
       "                    --jp-widgets-color: white;\n",
       "                    --jp-widgets-label-color: white;\n",
       "                    --jp-ui-font-color1: white;\n",
       "                    --jp-layout-color2: #454545;\n",
       "                    background-color: #383838;\n",
       "                }\n",
       "\n",
       "                .geemap-dark .jupyter-button {\n",
       "                    --jp-layout-color3: #383838;\n",
       "                }\n",
       "\n",
       "                .geemap-colab {\n",
       "                    background-color: var(--colab-primary-surface-color, white);\n",
       "                }\n",
       "\n",
       "                .geemap-colab .jupyter-button {\n",
       "                    --jp-layout-color3: var(--colab-primary-surface-color, white);\n",
       "                }\n",
       "            </style>\n",
       "            "
      ],
      "text/plain": [
       "<IPython.core.display.HTML object>"
      ]
     },
     "metadata": {},
     "output_type": "display_data"
    },
    {
     "data": {
      "text/html": [
       "<div id=\"27a231d5-5bd7-4f92-bdb2-d7a2e888bc82\" style=\"height: auto; width:100%;\"></div>"
      ],
      "text/plain": [
       "<IPython.core.display.HTML object>"
      ]
     },
     "metadata": {},
     "output_type": "display_data"
    },
    {
     "data": {
      "text/html": [
       "\n",
       "        <script src=\"/static/components/requirejs/require.js\"></script> <!-- Needed in Colab -->\n",
       "        <script>\n",
       "            require([\"https://rawgit.com/caldwell/renderjson/master/renderjson.js\"], function() {\n",
       "              renderjson.set_show_to_level(1)\n",
       "              document.getElementById('27a231d5-5bd7-4f92-bdb2-d7a2e888bc82').appendChild(renderjson(['iMAD1', 'iMAD2', 'iMAD3', 'iMAD4', 'iMAD5', 'iMAD6', 'iMAD7', 'iMAD8', 'iMAD9', 'Z']))\n",
       "            });\n",
       "        </script>\n",
       "    "
      ],
      "text/plain": [
       "<IPython.core.display.HTML object>"
      ]
     },
     "metadata": {},
     "output_type": "display_data"
    }
   ],
   "source": [
    "image = ee.Image(\"projects/ee-gsingh/assets/postdoc/WC_2018_2023_imad\")\n",
    "eeprint(image.bandNames())"
   ]
  },
  {
   "cell_type": "code",
   "execution_count": 11,
   "metadata": {
    "cellUniqueIdByVincent": "75b8e"
   },
   "outputs": [
    {
     "data": {
      "text/html": [
       "\n",
       "            <style>\n",
       "                .geemap-dark {\n",
       "                    --jp-widgets-color: white;\n",
       "                    --jp-widgets-label-color: white;\n",
       "                    --jp-ui-font-color1: white;\n",
       "                    --jp-layout-color2: #454545;\n",
       "                    background-color: #383838;\n",
       "                }\n",
       "\n",
       "                .geemap-dark .jupyter-button {\n",
       "                    --jp-layout-color3: #383838;\n",
       "                }\n",
       "\n",
       "                .geemap-colab {\n",
       "                    background-color: var(--colab-primary-surface-color, white);\n",
       "                }\n",
       "\n",
       "                .geemap-colab .jupyter-button {\n",
       "                    --jp-layout-color3: var(--colab-primary-surface-color, white);\n",
       "                }\n",
       "            </style>\n",
       "            "
      ],
      "text/plain": [
       "<IPython.core.display.HTML object>"
      ]
     },
     "metadata": {},
     "output_type": "display_data"
    },
    {
     "ename": "NameError",
     "evalue": "name 'chi2cdf' is not defined",
     "output_type": "error",
     "traceback": [
      "\u001b[31m---------------------------------------------------------------------------\u001b[39m",
      "\u001b[31mNameError\u001b[39m                                 Traceback (most recent call last)",
      "\u001b[36mCell\u001b[39m\u001b[36m \u001b[39m\u001b[32mIn[11]\u001b[39m\u001b[32m, line 4\u001b[39m\n\u001b[32m      2\u001b[39m im_z = image.select(\u001b[33m'\u001b[39m\u001b[33mZ\u001b[39m\u001b[33m'\u001b[39m)\n\u001b[32m      3\u001b[39m \u001b[38;5;66;03m# p-values image.\u001b[39;00m\n\u001b[32m----> \u001b[39m\u001b[32m4\u001b[39m pval = \u001b[43mchi2cdf\u001b[49m(image.select(\u001b[33m'\u001b[39m\u001b[33mZ\u001b[39m\u001b[33m'\u001b[39m), \u001b[32m9\u001b[39m).subtract(\u001b[32m1\u001b[39m).multiply(-\u001b[32m1\u001b[39m).rename(\u001b[33m'\u001b[39m\u001b[33mpval\u001b[39m\u001b[33m'\u001b[39m)\n\u001b[32m      5\u001b[39m \u001b[38;5;66;03m# No-change mask (use p-values greater than 0.1).\u001b[39;00m\n\u001b[32m      6\u001b[39m noChangeMask = pval.gt(\u001b[32m0.1\u001b[39m)\n",
      "\u001b[31mNameError\u001b[39m: name 'chi2cdf' is not defined"
     ]
    }
   ],
   "source": [
    "# Select chi square statistic band\n",
    "im_z = image.select('Z')\n",
    "# p-values image.\n",
    "pval = chi2cdf(image.select('Z'), 9).subtract(1).multiply(-1).rename('pval')\n",
    "# No-change mask (use p-values greater than 0.1).\n",
    "noChangeMask = pval.gt(0.1)"
   ]
  },
  {
   "cell_type": "code",
   "execution_count": 15,
   "metadata": {
    "cellUniqueIdByVincent": "5ce54"
   },
   "outputs": [
    {
     "data": {
      "text/html": [
       "\n",
       "            <style>\n",
       "                .geemap-dark {\n",
       "                    --jp-widgets-color: white;\n",
       "                    --jp-widgets-label-color: white;\n",
       "                    --jp-ui-font-color1: white;\n",
       "                    --jp-layout-color2: #454545;\n",
       "                    background-color: #383838;\n",
       "                }\n",
       "\n",
       "                .geemap-dark .jupyter-button {\n",
       "                    --jp-layout-color3: #383838;\n",
       "                }\n",
       "\n",
       "                .geemap-colab {\n",
       "                    background-color: var(--colab-primary-surface-color, white);\n",
       "                }\n",
       "\n",
       "                .geemap-colab .jupyter-button {\n",
       "                    --jp-layout-color3: var(--colab-primary-surface-color, white);\n",
       "                }\n",
       "            </style>\n",
       "            "
      ],
      "text/plain": [
       "<IPython.core.display.HTML object>"
      ]
     },
     "metadata": {},
     "output_type": "display_data"
    },
    {
     "data": {
      "text/html": [
       "<div id=\"a026fdea-c6a3-4c08-91db-817c4b6e77df\" style=\"height: auto; width:100%;\"></div>"
      ],
      "text/plain": [
       "<IPython.core.display.HTML object>"
      ]
     },
     "metadata": {},
     "output_type": "display_data"
    },
    {
     "data": {
      "text/html": [
       "\n",
       "        <script src=\"/static/components/requirejs/require.js\"></script> <!-- Needed in Colab -->\n",
       "        <script>\n",
       "            require([\"https://rawgit.com/caldwell/renderjson/master/renderjson.js\"], function() {\n",
       "              renderjson.set_show_to_level(1)\n",
       "              document.getElementById('a026fdea-c6a3-4c08-91db-817c4b6e77df').appendChild(renderjson({\"Z\": 2476.5671966344653}))\n",
       "            });\n",
       "        </script>\n",
       "    "
      ],
      "text/plain": [
       "<IPython.core.display.HTML object>"
      ]
     },
     "metadata": {},
     "output_type": "display_data"
    }
   ],
   "source": [
    "eeprint(im_z.reduceRegion(reducer=ee.Reducer.percentile([99]), geometry=aoi, scale=10, maxPixels=1e10))"
   ]
  },
  {
   "cell_type": "code",
   "execution_count": 17,
   "metadata": {
    "cellUniqueIdByVincent": "3285c"
   },
   "outputs": [
    {
     "data": {
      "text/html": [
       "\n",
       "            <style>\n",
       "                .geemap-dark {\n",
       "                    --jp-widgets-color: white;\n",
       "                    --jp-widgets-label-color: white;\n",
       "                    --jp-ui-font-color1: white;\n",
       "                    --jp-layout-color2: #454545;\n",
       "                    background-color: #383838;\n",
       "                }\n",
       "\n",
       "                .geemap-dark .jupyter-button {\n",
       "                    --jp-layout-color3: #383838;\n",
       "                }\n",
       "\n",
       "                .geemap-colab {\n",
       "                    background-color: var(--colab-primary-surface-color, white);\n",
       "                }\n",
       "\n",
       "                .geemap-colab .jupyter-button {\n",
       "                    --jp-layout-color3: var(--colab-primary-surface-color, white);\n",
       "                }\n",
       "            </style>\n",
       "            "
      ],
      "text/plain": [
       "<IPython.core.display.HTML object>"
      ]
     },
     "metadata": {},
     "output_type": "display_data"
    },
    {
     "data": {
      "application/vnd.jupyter.widget-view+json": {
       "model_id": "52dc122bfd46400e99a9e568d28b4e6a",
       "version_major": 2,
       "version_minor": 0
      },
      "text/plain": [
       "Map(center=[-33.8645494304087, 19.250142136824007], controls=(WidgetControl(options=['position', 'transparent_…"
      ]
     },
     "execution_count": 17,
     "metadata": {},
     "output_type": "execute_result"
    }
   ],
   "source": [
    "M1 = geemap.Map()\n",
    "M1.centerObject(aoi, 11)\n",
    "display_ls(pval, M1, 'im1')\n",
    "display_ls(noChangeMask, M1, 'im2')\n",
    "display_ls(image.select('iMAD1', 'iMAD2', 'iMAD3'), M1, 'iMAD123', True)\n",
    "M1.addLayer(composite2018, {'bands':['B4', 'B3', 'B2'],'min': 0, 'max': 0.3}, 'Composite 2018')\n",
    "M1.addLayer(composite2023, {'bands':['B4', 'B3', 'B2'],'min': 0, 'max': 0.3}, 'Composite 2023')\n",
    "M1.addLayer(im_z.lt(95.811), {}, 'chsq thresholded')\n",
    "M1.addLayer(im_z.lt(2476.56719663), {}, 'chsq thresholded(canty)')\n",
    "# Style by 'change' attribute: 0 → blue, 1 → red\n",
    "styled_fc = pts.map(lambda f: f.set('style', {\n",
    "    'color': ee.Algorithms.If(f.get('change'), 'red', 'blue'),\n",
    "    'pointSize': 3,\n",
    "    'pointShape': 'circle'\n",
    "}))\n",
    "M1.addLayer(styled_fc.style(**{'styleProperty': 'style'}), {}, 'Change Points')\n",
    "M1"
   ]
  },
  {
   "cell_type": "code",
   "execution_count": 53,
   "metadata": {
    "cellUniqueIdByVincent": "10a8b"
   },
   "outputs": [
    {
     "data": {
      "text/html": [
       "\n",
       "            <style>\n",
       "                .geemap-dark {\n",
       "                    --jp-widgets-color: white;\n",
       "                    --jp-widgets-label-color: white;\n",
       "                    --jp-ui-font-color1: white;\n",
       "                    --jp-layout-color2: #454545;\n",
       "                    background-color: #383838;\n",
       "                }\n",
       "\n",
       "                .geemap-dark .jupyter-button {\n",
       "                    --jp-layout-color3: #383838;\n",
       "                }\n",
       "\n",
       "                .geemap-colab {\n",
       "                    background-color: var(--colab-primary-surface-color, white);\n",
       "                }\n",
       "\n",
       "                .geemap-colab .jupyter-button {\n",
       "                    --jp-layout-color3: var(--colab-primary-surface-color, white);\n",
       "                }\n",
       "            </style>\n",
       "            "
      ],
      "text/plain": [
       "<IPython.core.display.HTML object>"
      ]
     },
     "metadata": {},
     "output_type": "display_data"
    },
    {
     "data": {
      "application/vnd.jupyter.widget-view+json": {
       "model_id": "5a5016b9bbe243169180f6500a1747e6",
       "version_major": 2,
       "version_minor": 0
      },
      "text/plain": [
       "VBox(children=(Figure(axes=[Axis(orientation='vertical', scale=LinearScale()), Axis(scale=LinearScale())], fig…"
      ]
     },
     "metadata": {},
     "output_type": "display_data"
    }
   ],
   "source": [
    "import geemap.chart as chart\n",
    "\n",
    "my_sample = image.select('Z').sample(aoi, 1000)\n",
    "property = \"Z\"\n",
    "options = {\n",
    "    \"title\": \"Dstribution of Z scores\",\n",
    "    \"xlabel\": \"X2 statistic\",\n",
    "    \"ylabel\": \"Pixel count\",\n",
    "    \"colors\": [\"#4b1d99\"],\n",
    "}\n",
    "# Generate histogram with default number of bins:\n",
    "\n",
    "chart.feature_histogram(my_sample, property, minBucketWidth=500, **options)"
   ]
  },
  {
   "cell_type": "code",
   "execution_count": null,
   "metadata": {
    "cellUniqueIdByVincent": "ea99f"
   },
   "outputs": [
    {
     "data": {
      "text/html": [
       "\n",
       "            <style>\n",
       "                .geemap-dark {\n",
       "                    --jp-widgets-color: white;\n",
       "                    --jp-widgets-label-color: white;\n",
       "                    --jp-ui-font-color1: white;\n",
       "                    --jp-layout-color2: #454545;\n",
       "                    background-color: #383838;\n",
       "                }\n",
       "\n",
       "                .geemap-dark .jupyter-button {\n",
       "                    --jp-layout-color3: #383838;\n",
       "                }\n",
       "\n",
       "                .geemap-colab {\n",
       "                    background-color: var(--colab-primary-surface-color, white);\n",
       "                }\n",
       "\n",
       "                .geemap-colab .jupyter-button {\n",
       "                    --jp-layout-color3: var(--colab-primary-surface-color, white);\n",
       "                }\n",
       "            </style>\n",
       "            "
      ],
      "text/plain": [
       "<IPython.core.display.HTML object>"
      ]
     },
     "metadata": {},
     "output_type": "display_data"
    },
    {
     "data": {
      "image/png": "[encoded data removed]",
      "text/plain": [
       "<Figure size 640x480 with 1 Axes>"
      ]
     },
     "metadata": {},
     "output_type": "display_data"
    }
   ],
   "source": [
    "scale = 10\n",
    "# p-values image.\n",
    "pval = chi2cdf(im_z, 9).subtract(1).multiply(-1).rename('pval')\n",
    "# No-change mask (use p-values greater than 0.1).\n",
    "noChangeMask = pval.gt(0.1)\n",
    "hist = im_z.updateMask(noChangeMask).reduceRegion(ee.Reducer \\\n",
    "           .fixedHistogram(0, 50, 500), aoi, scale=scale, maxPixels=1e11) \\\n",
    "           .get('Z').getInfo()\n",
    "a = np.array(hist)\n",
    "x = a[:, 0]                 # array of bucket edge positions\n",
    "y = a[:, 1]/np.sum(a[:, 1]) # normalized array of bucket contents\n",
    "plt.plot(x, y, '.', label = 'data')\n",
    "plt.plot(x, chi2.pdf(x, 9)/10, '-r', label='chi2(9)')\n",
    "plt.legend()\n",
    "plt.show()"
   ]
  },
  {
   "cell_type": "code",
   "execution_count": 20,
   "metadata": {
    "cellUniqueIdByVincent": "efefd"
   },
   "outputs": [
    {
     "data": {
      "text/html": [
       "\n",
       "            <style>\n",
       "                .geemap-dark {\n",
       "                    --jp-widgets-color: white;\n",
       "                    --jp-widgets-label-color: white;\n",
       "                    --jp-ui-font-color1: white;\n",
       "                    --jp-layout-color2: #454545;\n",
       "                    background-color: #383838;\n",
       "                }\n",
       "\n",
       "                .geemap-dark .jupyter-button {\n",
       "                    --jp-layout-color3: #383838;\n",
       "                }\n",
       "\n",
       "                .geemap-colab {\n",
       "                    background-color: var(--colab-primary-surface-color, white);\n",
       "                }\n",
       "\n",
       "                .geemap-colab .jupyter-button {\n",
       "                    --jp-layout-color3: var(--colab-primary-surface-color, white);\n",
       "                }\n",
       "            </style>\n",
       "            "
      ],
      "text/plain": [
       "<IPython.core.display.HTML object>"
      ]
     },
     "metadata": {},
     "output_type": "display_data"
    }
   ],
   "source": [
    "zScores = im_z.reduceRegions(\n",
    "    collection=pts.select(['change']),\n",
    "    reducer=ee.Reducer.mean(),\n",
    "    scale=10\n",
    ")\n",
    "\n",
    "Zdf = ee.data.computeFeatures({\n",
    "    'expression': zScores,\n",
    "    'fileFormat': 'PANDAS_DATAFRAME'\n",
    "})\n",
    "\n",
    "result = Zdf[['change', 'mean']].dropna(axis=0, how='any')"
   ]
  },
  {
   "cell_type": "code",
   "execution_count": 21,
   "metadata": {
    "cellUniqueIdByVincent": "37b93"
   },
   "outputs": [
    {
     "data": {
      "text/html": [
       "\n",
       "            <style>\n",
       "                .geemap-dark {\n",
       "                    --jp-widgets-color: white;\n",
       "                    --jp-widgets-label-color: white;\n",
       "                    --jp-ui-font-color1: white;\n",
       "                    --jp-layout-color2: #454545;\n",
       "                    background-color: #383838;\n",
       "                }\n",
       "\n",
       "                .geemap-dark .jupyter-button {\n",
       "                    --jp-layout-color3: #383838;\n",
       "                }\n",
       "\n",
       "                .geemap-colab {\n",
       "                    background-color: var(--colab-primary-surface-color, white);\n",
       "                }\n",
       "\n",
       "                .geemap-colab .jupyter-button {\n",
       "                    --jp-layout-color3: var(--colab-primary-surface-color, white);\n",
       "                }\n",
       "            </style>\n",
       "            "
      ],
      "text/plain": [
       "<IPython.core.display.HTML object>"
      ]
     },
     "metadata": {},
     "output_type": "display_data"
    },
    {
     "data": {
      "application/vnd.microsoft.datawrangler.viewer.v0+json": {
       "columns": [
        {
         "name": "index",
         "rawType": "int64",
         "type": "integer"
        },
        {
         "name": "change",
         "rawType": "int64",
         "type": "integer"
        },
        {
         "name": "mean",
         "rawType": "float64",
         "type": "float"
        }
       ],
       "ref": "75984cc2-4a04-4522-9537-db38e1906dbe",
       "rows": [
        [
         "0",
         "0",
         "225.5223883034305"
        ],
        [
         "1",
         "0",
         "839.411226227086"
        ],
        [
         "2",
         "0",
         "550.9287058580044"
        ],
        [
         "3",
         "0",
         "246.96369770826345"
        ],
        [
         "4",
         "0",
         "45.54672170038239"
        ],
        [
         "5",
         "0",
         "292.8529260470683"
        ],
        [
         "6",
         "0",
         "393.1863728757117"
        ],
        [
         "7",
         "0",
         "776.1838083910388"
        ],
        [
         "8",
         "0",
         "6907.542534915623"
        ],
        [
         "9",
         "0",
         "2385.1822558958042"
        ],
        [
         "10",
         "0",
         "601.0806984815089"
        ],
        [
         "11",
         "0",
         "1372.9909052813414"
        ],
        [
         "12",
         "0",
         "2783.4516089240947"
        ],
        [
         "13",
         "1",
         "1993.0465442786817"
        ],
        [
         "14",
         "1",
         "1099.239045042959"
        ],
        [
         "15",
         "1",
         "1458.8896768229067"
        ],
        [
         "16",
         "0",
         "733.0823429631455"
        ],
        [
         "17",
         "0",
         "128.63809115399883"
        ],
        [
         "18",
         "0",
         "515.3850144278906"
        ],
        [
         "19",
         "0",
         "403.33604770504405"
        ],
        [
         "20",
         "0",
         "286.0984030283066"
        ],
        [
         "21",
         "0",
         "255.82723728376536"
        ],
        [
         "22",
         "0",
         "1044.5674139116516"
        ],
        [
         "23",
         "0",
         "377.7633680532534"
        ],
        [
         "24",
         "0",
         "165.82757172857018"
        ],
        [
         "25",
         "0",
         "277.2780082481107"
        ],
        [
         "26",
         "0",
         "591.178422700015"
        ],
        [
         "27",
         "0",
         "203.51973753470833"
        ],
        [
         "28",
         "0",
         "393.6590324418244"
        ],
        [
         "29",
         "0",
         "900.7700531344493"
        ],
        [
         "30",
         "0",
         "318.36120187447005"
        ],
        [
         "31",
         "1",
         "182.65022217917348"
        ],
        [
         "32",
         "1",
         "270.5165558315949"
        ],
        [
         "33",
         "0",
         "60.111338440645"
        ],
        [
         "34",
         "0",
         "85.09138494743283"
        ],
        [
         "35",
         "0",
         "107.82962894069128"
        ],
        [
         "36",
         "0",
         "130.7759153006818"
        ],
        [
         "37",
         "0",
         "70.71624433986686"
        ],
        [
         "38",
         "0",
         "40.23368267165617"
        ],
        [
         "39",
         "0",
         "34.68062181247543"
        ],
        [
         "40",
         "0",
         "35.02494976034495"
        ],
        [
         "41",
         "0",
         "16.869203567580183"
        ],
        [
         "42",
         "0",
         "21.142326601010748"
        ],
        [
         "43",
         "0",
         "37.749458385100546"
        ],
        [
         "44",
         "0",
         "659.6999441236604"
        ],
        [
         "45",
         "0",
         "570.4999565109874"
        ],
        [
         "46",
         "0",
         "26.51825127518681"
        ],
        [
         "47",
         "0",
         "106.08622459711879"
        ],
        [
         "48",
         "0",
         "110.27029941517368"
        ],
        [
         "49",
         "0",
         "244.82563886737418"
        ]
       ],
       "shape": {
        "columns": 2,
        "rows": 1688
       }
      },
      "text/html": [
       "<div>\n",
       "<style scoped>\n",
       "    .dataframe tbody tr th:only-of-type {\n",
       "        vertical-align: middle;\n",
       "    }\n",
       "\n",
       "    .dataframe tbody tr th {\n",
       "        vertical-align: top;\n",
       "    }\n",
       "\n",
       "    .dataframe thead th {\n",
       "        text-align: right;\n",
       "    }\n",
       "</style>\n",
       "<table border=\"1\" class=\"dataframe\">\n",
       "  <thead>\n",
       "    <tr style=\"text-align: right;\">\n",
       "      <th></th>\n",
       "      <th>change</th>\n",
       "      <th>mean</th>\n",
       "    </tr>\n",
       "  </thead>\n",
       "  <tbody>\n",
       "    <tr>\n",
       "      <th>0</th>\n",
       "      <td>0</td>\n",
       "      <td>225.522388</td>\n",
       "    </tr>\n",
       "    <tr>\n",
       "      <th>1</th>\n",
       "      <td>0</td>\n",
       "      <td>839.411226</td>\n",
       "    </tr>\n",
       "    <tr>\n",
       "      <th>2</th>\n",
       "      <td>0</td>\n",
       "      <td>550.928706</td>\n",
       "    </tr>\n",
       "    <tr>\n",
       "      <th>3</th>\n",
       "      <td>0</td>\n",
       "      <td>246.963698</td>\n",
       "    </tr>\n",
       "    <tr>\n",
       "      <th>4</th>\n",
       "      <td>0</td>\n",
       "      <td>45.546722</td>\n",
       "    </tr>\n",
       "    <tr>\n",
       "      <th>...</th>\n",
       "      <td>...</td>\n",
       "      <td>...</td>\n",
       "    </tr>\n",
       "    <tr>\n",
       "      <th>1683</th>\n",
       "      <td>0</td>\n",
       "      <td>13.532661</td>\n",
       "    </tr>\n",
       "    <tr>\n",
       "      <th>1684</th>\n",
       "      <td>0</td>\n",
       "      <td>3.827668</td>\n",
       "    </tr>\n",
       "    <tr>\n",
       "      <th>1685</th>\n",
       "      <td>0</td>\n",
       "      <td>156.091464</td>\n",
       "    </tr>\n",
       "    <tr>\n",
       "      <th>1686</th>\n",
       "      <td>0</td>\n",
       "      <td>27.728519</td>\n",
       "    </tr>\n",
       "    <tr>\n",
       "      <th>1687</th>\n",
       "      <td>1</td>\n",
       "      <td>95.811777</td>\n",
       "    </tr>\n",
       "  </tbody>\n",
       "</table>\n",
       "<p>1688 rows × 2 columns</p>\n",
       "</div>"
      ],
      "text/plain": [
       "      change        mean\n",
       "0          0  225.522388\n",
       "1          0  839.411226\n",
       "2          0  550.928706\n",
       "3          0  246.963698\n",
       "4          0   45.546722\n",
       "...      ...         ...\n",
       "1683       0   13.532661\n",
       "1684       0    3.827668\n",
       "1685       0  156.091464\n",
       "1686       0   27.728519\n",
       "1687       1   95.811777\n",
       "\n",
       "[1688 rows x 2 columns]"
      ]
     },
     "execution_count": 21,
     "metadata": {},
     "output_type": "execute_result"
    }
   ],
   "source": [
    "result"
   ]
  },
  {
   "cell_type": "code",
   "execution_count": 22,
   "metadata": {
    "cellUniqueIdByVincent": "62ee0"
   },
   "outputs": [
    {
     "data": {
      "text/html": [
       "\n",
       "            <style>\n",
       "                .geemap-dark {\n",
       "                    --jp-widgets-color: white;\n",
       "                    --jp-widgets-label-color: white;\n",
       "                    --jp-ui-font-color1: white;\n",
       "                    --jp-layout-color2: #454545;\n",
       "                    background-color: #383838;\n",
       "                }\n",
       "\n",
       "                .geemap-dark .jupyter-button {\n",
       "                    --jp-layout-color3: #383838;\n",
       "                }\n",
       "\n",
       "                .geemap-colab {\n",
       "                    background-color: var(--colab-primary-surface-color, white);\n",
       "                }\n",
       "\n",
       "                .geemap-colab .jupyter-button {\n",
       "                    --jp-layout-color3: var(--colab-primary-surface-color, white);\n",
       "                }\n",
       "            </style>\n",
       "            "
      ],
      "text/plain": [
       "<IPython.core.display.HTML object>"
      ]
     },
     "metadata": {},
     "output_type": "display_data"
    },
    {
     "data": {
      "image/png": "[encoded data removed]",
      "text/plain": [
       "<Figure size 640x480 with 1 Axes>"
      ]
     },
     "metadata": {},
     "output_type": "display_data"
    },
    {
     "name": "stdout",
     "output_type": "stream",
     "text": [
      "Optimal threshold (F1-maximizing): 95.8118\n",
      "Threshold percentile: 45.26%\n"
     ]
    }
   ],
   "source": [
    "from sklearn.metrics import precision_recall_curve, f1_score\n",
    "import numpy as np\n",
    "import matplotlib.pyplot as plt\n",
    "\n",
    "# Inputs: result['mean'] = test statistic (e.g., chi2); result['change'] = 0/1 labels\n",
    "y_true = result['change'].to_numpy()\n",
    "chi2_vals = result['mean'].to_numpy()\n",
    "\n",
    "# 1. Precision-recall curve\n",
    "prec, rec, thresholds = precision_recall_curve(y_true, chi2_vals)\n",
    "\n",
    "# 2. Compute F1 scores\n",
    "f1_scores = 2 * (prec * rec) / (prec + rec + 1e-6)\n",
    "best_idx = f1_scores.argmax()\n",
    "optimal_threshold = thresholds[best_idx]\n",
    "\n",
    "# 3. Compute percentile of threshold in chi2_vals\n",
    "percentile = np.sum(chi2_vals < optimal_threshold) / len(chi2_vals) * 100\n",
    "\n",
    "# 4. Optional: Plot histogram\n",
    "plt.hist(chi2_vals[y_true == 0], bins=100, alpha=0.5, label='No Change')\n",
    "plt.hist(chi2_vals[y_true == 1], bins=100, alpha=0.5, label='Change')\n",
    "plt.axvline(optimal_threshold, color='red', linestyle='--',\n",
    "            label=f'Optimal threshold = {optimal_threshold:.2f}\\n({percentile:.1f}th percentile)')\n",
    "plt.xlabel('Chi-squared-like value (mean)')\n",
    "plt.ylabel('Pixel count')\n",
    "plt.legend()\n",
    "plt.title('F1-optimal Threshold for Change Detection')\n",
    "plt.show()\n",
    "\n",
    "# 5. Print result\n",
    "print(f\"Optimal threshold (F1-maximizing): {optimal_threshold:.4f}\")\n",
    "print(f\"Threshold percentile: {percentile:.2f}%\")\n"
   ]
  },
  {
   "cell_type": "code",
   "execution_count": 23,
   "metadata": {
    "cellUniqueIdByVincent": "87851"
   },
   "outputs": [
    {
     "data": {
      "text/html": [
       "\n",
       "            <style>\n",
       "                .geemap-dark {\n",
       "                    --jp-widgets-color: white;\n",
       "                    --jp-widgets-label-color: white;\n",
       "                    --jp-ui-font-color1: white;\n",
       "                    --jp-layout-color2: #454545;\n",
       "                    background-color: #383838;\n",
       "                }\n",
       "\n",
       "                .geemap-dark .jupyter-button {\n",
       "                    --jp-layout-color3: #383838;\n",
       "                }\n",
       "\n",
       "                .geemap-colab {\n",
       "                    background-color: var(--colab-primary-surface-color, white);\n",
       "                }\n",
       "\n",
       "                .geemap-colab .jupyter-button {\n",
       "                    --jp-layout-color3: var(--colab-primary-surface-color, white);\n",
       "                }\n",
       "            </style>\n",
       "            "
      ],
      "text/plain": [
       "<IPython.core.display.HTML object>"
      ]
     },
     "metadata": {},
     "output_type": "display_data"
    },
    {
     "name": "stdout",
     "output_type": "stream",
     "text": [
      "Class priors from data: no-change = 0.826, change = 0.174\n"
     ]
    },
    {
     "data": {
      "image/png": "[encoded data removed]",
      "text/plain": [
       "<Figure size 800x500 with 1 Axes>"
      ]
     },
     "metadata": {},
     "output_type": "display_data"
    },
    {
     "name": "stdout",
     "output_type": "stream",
     "text": [
      "Bayes-optimal threshold: 8267.0282\n",
      "Threshold percentile: 99.88%\n"
     ]
    }
   ],
   "source": [
    "import numpy as np\n",
    "import matplotlib.pyplot as plt\n",
    "from sklearn.metrics import roc_curve\n",
    "\n",
    "# 0. Extract data\n",
    "y_true = result['change'].to_numpy()          # binary: 1 = change, 0 = no-change\n",
    "chi2_vals = result['mean'].to_numpy()         # test statistic (higher = more likely change)\n",
    "\n",
    "# 1. Calculate class proportions (priors)\n",
    "counts = result['change'].value_counts(normalize=True).sort_index()\n",
    "p_nochange = counts.get(0, 0.0)\n",
    "p_change = counts.get(1, 0.0)\n",
    "\n",
    "print(f\"Class priors from data: no-change = {p_nochange:.3f}, change = {p_change:.3f}\")\n",
    "\n",
    "# 2. Compute ROC curve\n",
    "fpr, tpr, thresholds = roc_curve(y_true, chi2_vals)\n",
    "\n",
    "# 3. Compute total expected error at each threshold (Bayes minimum-error rule)\n",
    "total_error = p_nochange * fpr + p_change * (1 - tpr)\n",
    "best_idx = np.argmin(total_error)\n",
    "optimal_threshold = thresholds[best_idx]\n",
    "\n",
    "# 4. Compute percentile of threshold\n",
    "percentile = np.sum(chi2_vals < optimal_threshold) / len(chi2_vals) * 100\n",
    "\n",
    "# 5. Plot histogram and threshold\n",
    "plt.figure(figsize=(8, 5))\n",
    "plt.hist(chi2_vals[y_true == 0], bins=100, alpha=0.5, label='No Change')\n",
    "plt.hist(chi2_vals[y_true == 1], bins=100, alpha=0.5, label='Change')\n",
    "plt.axvline(optimal_threshold, color='red', linestyle='--',\n",
    "            label=f'Threshold = {optimal_threshold:.2f}\\n({percentile:.1f}th percentile)')\n",
    "plt.xlabel('Chi-squared-like value (mean)')\n",
    "plt.ylabel('Pixel count')\n",
    "plt.title('Bayes-optimal Threshold for Change Detection')\n",
    "plt.legend()\n",
    "plt.tight_layout()\n",
    "plt.show()\n",
    "\n",
    "# 6. Print final results\n",
    "print(f\"Bayes-optimal threshold: {optimal_threshold:.4f}\")\n",
    "print(f\"Threshold percentile: {percentile:.2f}%\")\n"
   ]
  },
  {
   "cell_type": "code",
   "execution_count": 24,
   "metadata": {
    "cellUniqueIdByVincent": "493ab"
   },
   "outputs": [
    {
     "data": {
      "text/html": [
       "\n",
       "            <style>\n",
       "                .geemap-dark {\n",
       "                    --jp-widgets-color: white;\n",
       "                    --jp-widgets-label-color: white;\n",
       "                    --jp-ui-font-color1: white;\n",
       "                    --jp-layout-color2: #454545;\n",
       "                    background-color: #383838;\n",
       "                }\n",
       "\n",
       "                .geemap-dark .jupyter-button {\n",
       "                    --jp-layout-color3: #383838;\n",
       "                }\n",
       "\n",
       "                .geemap-colab {\n",
       "                    background-color: var(--colab-primary-surface-color, white);\n",
       "                }\n",
       "\n",
       "                .geemap-colab .jupyter-button {\n",
       "                    --jp-layout-color3: var(--colab-primary-surface-color, white);\n",
       "                }\n",
       "            </style>\n",
       "            "
      ],
      "text/plain": [
       "<IPython.core.display.HTML object>"
      ]
     },
     "metadata": {},
     "output_type": "display_data"
    },
    {
     "data": {
      "text/plain": [
       "np.float64(95.811777130597)"
      ]
     },
     "execution_count": 24,
     "metadata": {},
     "output_type": "execute_result"
    }
   ],
   "source": [
    "from sklearn.metrics import precision_recall_curve, f1_score\n",
    "\n",
    "# chi2_vals: your test statistic (higher = more likely change)\n",
    "# true_labels: 1 for change, 0 for no-change\n",
    "prec, rec, thresholds = precision_recall_curve(result['change'], result['mean'])\n",
    "\n",
    "# Compute F1 scores at each threshold\n",
    "f1_scores = 2 * (prec * rec) / (prec + rec + 1e-6)  # avoid div by 0\n",
    "best_idx = f1_scores.argmax()\n",
    "optimal_threshold = thresholds[best_idx]\n",
    "optimal_threshold\n"
   ]
  },
  {
   "cell_type": "code",
   "execution_count": 50,
   "metadata": {
    "cellUniqueIdByVincent": "993be"
   },
   "outputs": [
    {
     "data": {
      "text/html": [
       "\n",
       "            <style>\n",
       "                .geemap-dark {\n",
       "                    --jp-widgets-color: white;\n",
       "                    --jp-widgets-label-color: white;\n",
       "                    --jp-ui-font-color1: white;\n",
       "                    --jp-layout-color2: #454545;\n",
       "                    background-color: #383838;\n",
       "                }\n",
       "\n",
       "                .geemap-dark .jupyter-button {\n",
       "                    --jp-layout-color3: #383838;\n",
       "                }\n",
       "\n",
       "                .geemap-colab {\n",
       "                    background-color: var(--colab-primary-surface-color, white);\n",
       "                }\n",
       "\n",
       "                .geemap-colab .jupyter-button {\n",
       "                    --jp-layout-color3: var(--colab-primary-surface-color, white);\n",
       "                }\n",
       "            </style>\n",
       "            "
      ],
      "text/plain": [
       "<IPython.core.display.HTML object>"
      ]
     },
     "metadata": {},
     "output_type": "display_data"
    }
   ],
   "source": [
    "rhos = ee.List(image.get('rhos')).getInfo()\n",
    "\n",
    "# Standardize to no change sigmas.\n",
    "sigma2s = ee.Image.constant([2*(1-x) for x in eval(rhos)])\n",
    "im_imadstd = image.select('iMAD.*').divide(sigma2s.sqrt())\n",
    "# Collect training data.\n",
    "training = im_imadstd.sample(region=aoi, scale=10, numPixels=50000)\n",
    "# Train the clusterer.\n",
    "clusterer = ee.Clusterer.wekaKMeans(4).train(training)\n",
    "# Classify the standardized imad image.\n",
    "result = im_imadstd.cluster(clusterer)"
   ]
  },
  {
   "cell_type": "code",
   "execution_count": 51,
   "metadata": {
    "cellUniqueIdByVincent": "5da02"
   },
   "outputs": [
    {
     "data": {
      "text/html": [
       "\n",
       "            <style>\n",
       "                .geemap-dark {\n",
       "                    --jp-widgets-color: white;\n",
       "                    --jp-widgets-label-color: white;\n",
       "                    --jp-ui-font-color1: white;\n",
       "                    --jp-layout-color2: #454545;\n",
       "                    background-color: #383838;\n",
       "                }\n",
       "\n",
       "                .geemap-dark .jupyter-button {\n",
       "                    --jp-layout-color3: #383838;\n",
       "                }\n",
       "\n",
       "                .geemap-colab {\n",
       "                    background-color: var(--colab-primary-surface-color, white);\n",
       "                }\n",
       "\n",
       "                .geemap-colab .jupyter-button {\n",
       "                    --jp-layout-color3: var(--colab-primary-surface-color, white);\n",
       "                }\n",
       "            </style>\n",
       "            "
      ],
      "text/plain": [
       "<IPython.core.display.HTML object>"
      ]
     },
     "metadata": {},
     "output_type": "display_data"
    }
   ],
   "source": [
    "M1.addLayer(result.randomVisualizer(), {}, 'Clustered iMAD')"
   ]
  },
  {
   "cell_type": "code",
   "execution_count": 14,
   "metadata": {
    "cellUniqueIdByVincent": "de868"
   },
   "outputs": [
    {
     "data": {
      "text/html": [
       "\n",
       "            <style>\n",
       "                .geemap-dark {\n",
       "                    --jp-widgets-color: white;\n",
       "                    --jp-widgets-label-color: white;\n",
       "                    --jp-ui-font-color1: white;\n",
       "                    --jp-layout-color2: #454545;\n",
       "                    background-color: #383838;\n",
       "                }\n",
       "\n",
       "                .geemap-dark .jupyter-button {\n",
       "                    --jp-layout-color3: #383838;\n",
       "                }\n",
       "\n",
       "                .geemap-colab {\n",
       "                    background-color: var(--colab-primary-surface-color, white);\n",
       "                }\n",
       "\n",
       "                .geemap-colab .jupyter-button {\n",
       "                    --jp-layout-color3: var(--colab-primary-surface-color, white);\n",
       "                }\n",
       "            </style>\n",
       "            "
      ],
      "text/plain": [
       "<IPython.core.display.HTML object>"
      ]
     },
     "metadata": {},
     "output_type": "display_data"
    },
    {
     "name": "stdout",
     "output_type": "stream",
     "text": [
      "Area of the area of interest in km2: 1495.0742915824985\n",
      "Proportion of KZN area sampled in Wessels: 0.010749185667752443\n",
      "Number of required samples: 160708.31147303732\n",
      "Number of minimum samples per class: 1608\n"
     ]
    }
   ],
   "source": [
    "# Proportion of KZN area samppled in Wessels\n",
    "prop = ((1100000*900)/1000000)/92100\n",
    "area = aoi.area(5).divide(1e6).getInfo()  # Area of aoi in km2\n",
    "print('Area of the area of interest in km2: %s'%area)\n",
    "print('Proportion of KZN area sampled in Wessels: %s'%prop)\n",
    "# number of required samples\n",
    "nSamples = (area*prop)*1000000/100\n",
    "print('Number of required samples: %s'%nSamples)\n",
    "# number of min classes (at least 1% of sample size)\n",
    "print('Number of minimum samples per class: %s'%int(nSamples*0.01+1))\n",
    "# Colditz, R.R., 2015. An evaluation of different training sample allocation schemes for discrete and continuous land cover classification using decision tree-based algorithms. Remote Sensing, 7(8), pp.9655-9681."
   ]
  },
  {
   "cell_type": "markdown",
   "metadata": {
    "cellUniqueIdByVincent": "eb161"
   },
   "source": [
    "### Extracting data to work locally with scikit-learn - reproducing wesssels et al., 2016\n",
    "\n",
    "#### Random forest"
   ]
  },
  {
   "cell_type": "code",
   "execution_count": null,
   "metadata": {
    "cellUniqueIdByVincent": "386fa"
   },
   "outputs": [],
   "source": [
    "# Steps to follow:\n",
    "# create s2 classification based on 2018 reference data and composite imagery\n",
    "    # extract data for 2018 as gpd\n",
    "    # download image for 2018 and 2023\n",
    "    # classify 2018\n",
    "    # upload to gee\n",
    "# Apply change mask\n",
    "# Calculate area proportions for each class\n",
    "# Calculate number of samples per class\n",
    "# perform stratified sample of 2023 composite with 2018 classified image"
   ]
  },
  {
   "cell_type": "code",
   "execution_count": 1,
   "metadata": {
    "cellUniqueIdByVincent": "2a631"
   },
   "outputs": [
    {
     "name": "stderr",
     "output_type": "stream",
     "text": [
      "*** Earth Engine *** Share your feedback by taking our Annual Developer Satisfaction Survey: https://google.qualtrics.com/jfe/form/SV_7TDKVSyKvBdmMqW?ref=4i2o6\n",
      "c:\\ProgramData\\Anaconda3\\envs\\erthy\\Lib\\site-packages\\geemap\\conversion.py:23: UserWarning: pkg_resources is deprecated as an API. See https://setuptools.pypa.io/en/latest/pkg_resources.html. The pkg_resources package is slated for removal as early as 2025-11-30. Refrain from using this package or pin to Setuptools<81.\n",
      "  import pkg_resources\n"
     ]
    }
   ],
   "source": [
    "import ee\n",
    "try:\n",
    "    ee.Authenticate(auth_mode='notebook')\n",
    "    ee.Initialize(project = 'ee-gsingh')\n",
    "except: \n",
    "    ee.Authenticate()\n",
    "    ee.Initialize()\n",
    "\n",
    "import geemap\n",
    "from geeml.utils import eeprint\n",
    "import matplotlib.pyplot as plt\n",
    "import numpy as np\n",
    "import pandas as pd"
   ]
  },
  {
   "cell_type": "markdown",
   "metadata": {
    "cellUniqueIdByVincent": "1c15d"
   },
   "source": [
    "#### Extracting 2018 data from Earth Engine"
   ]
  },
  {
   "cell_type": "code",
   "execution_count": 2,
   "metadata": {
    "cellUniqueIdByVincent": "63ebc"
   },
   "outputs": [
    {
     "data": {
      "text/html": [
       "\n",
       "            <style>\n",
       "                .geemap-dark {\n",
       "                    --jp-widgets-color: white;\n",
       "                    --jp-widgets-label-color: white;\n",
       "                    --jp-ui-font-color1: white;\n",
       "                    --jp-layout-color2: #454545;\n",
       "                    background-color: #383838;\n",
       "                }\n",
       "\n",
       "                .geemap-dark .jupyter-button {\n",
       "                    --jp-layout-color3: #383838;\n",
       "                }\n",
       "\n",
       "                .geemap-colab {\n",
       "                    background-color: var(--colab-primary-surface-color, white);\n",
       "                }\n",
       "\n",
       "                .geemap-colab .jupyter-button {\n",
       "                    --jp-layout-color3: var(--colab-primary-surface-color, white);\n",
       "                }\n",
       "            </style>\n",
       "            "
      ],
      "text/plain": [
       "<IPython.core.display.HTML object>"
      ]
     },
     "metadata": {},
     "output_type": "display_data"
    },
    {
     "data": {
      "text/html": [
       "<div id=\"2c5378a2-d346-4481-85a4-94ede88247af\" style=\"height: auto; width:100%;\"></div>"
      ],
      "text/plain": [
       "<IPython.core.display.HTML object>"
      ]
     },
     "metadata": {},
     "output_type": "display_data"
    },
    {
     "data": {
      "text/html": [
       "\n",
       "        <script src=\"/static/components/requirejs/require.js\"></script> <!-- Needed in Colab -->\n",
       "        <script>\n",
       "            require([\"https://rawgit.com/caldwell/renderjson/master/renderjson.js\"], function() {\n",
       "              renderjson.set_show_to_level(1)\n",
       "              document.getElementById('2c5378a2-d346-4481-85a4-94ede88247af').appendChild(renderjson({\"type\": \"FeatureCollection\", \"columns\": {\"2018_2023\": \"Float\", \"2023_class\": \"Long\", \"change\": \"Long\", \"class\": \"Long\", \"fid\": \"Long\", \"group\": \"Long\", \"layer\": \"String\", \"notes\": \"String\", \"path\": \"String\", \"system:index\": \"String\"}, \"version\": 1750928796749160.0, \"id\": \"projects/ee-geethensingh/assets/postdoc/aliens_sep2018_bioscape2023\", \"properties\": {\"system:asset_size\": 84232}, \"features\": [{\"type\": \"Feature\", \"geometry\": {\"type\": \"Point\", \"coordinates\": [19.07260971703242, -33.805537565931296]}, \"id\": \"000000000000000003fb\", \"properties\": {\"2018_2023\": 0.006702983744329, \"2023_class\": \"None\", \"change\": 0, \"class\": 0, \"fid\": 1028, \"group\": 0, \"layer\": \"valid\", \"notes\": \"\", \"path\": \"/Users/glennmoncrieff/Documents/qgis/valid.gpkg|layername=valid\"}}, {\"type\": \"Feature\", \"geometry\": {\"type\": \"Point\", \"coordinates\": [19.077947260993394, -33.80792318499489]}, \"id\": \"000000000000000003fc\", \"properties\": {\"2018_2023\": 0.012547892265916, \"2023_class\": \"None\", \"change\": 0, \"class\": 0, \"fid\": 1029, \"group\": 0, \"layer\": \"valid\", \"notes\": \"chngg rb\", \"path\": \"/Users/glennmoncrieff/Documents/qgis/valid.gpkg|layername=valid\"}}, {\"type\": \"Feature\", \"geometry\": {\"type\": \"Point\", \"coordinates\": [19.078205888854495, -33.80820856746231]}, \"id\": \"000000000000000003fd\", \"properties\": {\"2018_2023\": 0.021821219977462, \"2023_class\": \"None\", \"change\": 0, \"class\": 0, \"fid\": 1030, \"group\": 0, \"layer\": \"valid\", \"notes\": \"chngg rb\", \"path\": \"/Users/glennmoncrieff/Documents/qgis/valid.gpkg|layername=valid\"}}, {\"type\": \"Feature\", \"geometry\": {\"type\": \"Point\", \"coordinates\": [19.14952475110331, -33.73579722545541]}, \"id\": \"0000000000000000045a\", \"properties\": {\"2018_2023\": 0.021899021606995, \"2023_class\": \"None\", \"change\": 0, \"class\": 0, \"fid\": 1125, \"group\": 0, \"layer\": \"valid\", \"notes\": \"\", \"path\": \"/Users/glennmoncrieff/Documents/qgis/valid.gpkg|layername=valid\"}}, {\"type\": \"Feature\", \"geometry\": {\"type\": \"Point\", \"coordinates\": [19.266571694655205, -33.752777482266936]}, \"id\": \"00000000000000000468\", \"properties\": {\"2018_2023\": 0.003017588595706, \"2023_class\": \"None\", \"change\": 0, \"class\": 0, \"fid\": 1139, \"group\": 0, \"layer\": \"valid\", \"notes\": \"\", \"path\": \"/Users/glennmoncrieff/Documents/qgis/valid.gpkg|layername=valid\"}}]}))\n",
       "            });\n",
       "        </script>\n",
       "    "
      ],
      "text/plain": [
       "<IPython.core.display.HTML object>"
      ]
     },
     "metadata": {},
     "output_type": "display_data"
    }
   ],
   "source": [
    "pts = ee.FeatureCollection('projects/ee-geethensingh/assets/postdoc/aliens_sep2018_bioscape2023')\n",
    "eeprint(pts.limit(5))"
   ]
  },
  {
   "cell_type": "code",
   "execution_count": 3,
   "metadata": {
    "cellUniqueIdByVincent": "687aa"
   },
   "outputs": [
    {
     "data": {
      "text/html": [
       "\n",
       "            <style>\n",
       "                .geemap-dark {\n",
       "                    --jp-widgets-color: white;\n",
       "                    --jp-widgets-label-color: white;\n",
       "                    --jp-ui-font-color1: white;\n",
       "                    --jp-layout-color2: #454545;\n",
       "                    background-color: #383838;\n",
       "                }\n",
       "\n",
       "                .geemap-dark .jupyter-button {\n",
       "                    --jp-layout-color3: #383838;\n",
       "                }\n",
       "\n",
       "                .geemap-colab {\n",
       "                    background-color: var(--colab-primary-surface-color, white);\n",
       "                }\n",
       "\n",
       "                .geemap-colab .jupyter-button {\n",
       "                    --jp-layout-color3: var(--colab-primary-surface-color, white);\n",
       "                }\n",
       "            </style>\n",
       "            "
      ],
      "text/plain": [
       "<IPython.core.display.HTML object>"
      ]
     },
     "metadata": {},
     "output_type": "display_data"
    }
   ],
   "source": [
    "class prepareTrainingData:\n",
    "    \"\"\"This class prepares training data for the earth engine random forest model.\"\"\"\n",
    "    def __init__(self, points: ee.FeatureCollection, targetProperty: str, nFolds: int, proj: str = 'EPSG:4326'):\n",
    "        \"\"\"\n",
    "        Args:\n",
    "            points (ee.FeatureCollection): ee.FeatureCollection\n",
    "            targetProperty (str): name of the property that contains the target variable\n",
    "            nFolds (int): number of folds for cross validation\n",
    "            proj (str): projection of the data\n",
    "        \"\"\"\n",
    "\n",
    "        self.points = points\n",
    "        self.targetProperty = targetProperty\n",
    "        self.nFolds = nFolds\n",
    "        self.proj = proj\n",
    "\n",
    "    def addCoordProperty(self, features: ee.FeatureCollection) -> ee.FeatureCollection:\n",
    "        \"\"\"\n",
    "        This function adds coordinates to the points\n",
    "\n",
    "        Args:\n",
    "            features (ee.FeatureCollection): ee.FeatureCollection\n",
    "\n",
    "        Returns:\n",
    "            ee.FeatureCollection: ee.FeatureCollection\n",
    "        \"\"\"\n",
    "        def coords(feature):\n",
    "            return feature.geometry().transform(proj = self.proj).coordinates()\n",
    "\n",
    "        return features.map(lambda ft: ft.set('x', coords(ft).getNumber(0)).set('y', coords(ft).getNumber(1)))\n",
    "        \n",
    "    def _preparePoints(self):\n",
    "        # add coordinates to points.\n",
    "        points = self.addCoordProperty(self.points)\n",
    "\n",
    "        # cluster points into groups based on coordinates\n",
    "        clusterer = ee.Clusterer.wekaKMeans(self.nFolds).train(features = points,inputProperties = ['x','y'])\n",
    "        points = points.cluster(clusterer)\n",
    "        return points"
   ]
  },
  {
   "cell_type": "code",
   "execution_count": 4,
   "metadata": {
    "cellUniqueIdByVincent": "34ef6"
   },
   "outputs": [
    {
     "data": {
      "text/html": [
       "\n",
       "            <style>\n",
       "                .geemap-dark {\n",
       "                    --jp-widgets-color: white;\n",
       "                    --jp-widgets-label-color: white;\n",
       "                    --jp-ui-font-color1: white;\n",
       "                    --jp-layout-color2: #454545;\n",
       "                    background-color: #383838;\n",
       "                }\n",
       "\n",
       "                .geemap-dark .jupyter-button {\n",
       "                    --jp-layout-color3: #383838;\n",
       "                }\n",
       "\n",
       "                .geemap-colab {\n",
       "                    background-color: var(--colab-primary-surface-color, white);\n",
       "                }\n",
       "\n",
       "                .geemap-colab .jupyter-button {\n",
       "                    --jp-layout-color3: var(--colab-primary-surface-color, white);\n",
       "                }\n",
       "            </style>\n",
       "            "
      ],
      "text/plain": [
       "<IPython.core.display.HTML object>"
      ]
     },
     "metadata": {},
     "output_type": "display_data"
    },
    {
     "data": {
      "text/html": [
       "<div id=\"187f5b0b-f4d6-4180-8c30-0bbce0584f38\" style=\"height: auto; width:100%;\"></div>"
      ],
      "text/plain": [
       "<IPython.core.display.HTML object>"
      ]
     },
     "metadata": {},
     "output_type": "display_data"
    },
    {
     "data": {
      "text/html": [
       "\n",
       "        <script src=\"/static/components/requirejs/require.js\"></script> <!-- Needed in Colab -->\n",
       "        <script>\n",
       "            require([\"https://rawgit.com/caldwell/renderjson/master/renderjson.js\"], function() {\n",
       "              renderjson.set_show_to_level(1)\n",
       "              document.getElementById('187f5b0b-f4d6-4180-8c30-0bbce0584f38').appendChild(renderjson({\"type\": \"FeatureCollection\", \"columns\": {\"2018_2023\": \"Float\", \"2023_class\": \"Long\", \"change\": \"Long\", \"class\": \"Long\", \"cluster\": \"<any>\", \"fid\": \"Long\", \"group\": \"Long\", \"layer\": \"String\", \"notes\": \"String\", \"path\": \"String\", \"system:index\": \"String\", \"x\": \"Number\", \"y\": \"Number\"}, \"features\": [{\"type\": \"Feature\", \"geometry\": {\"type\": \"Point\", \"coordinates\": [19.07260971703242, -33.805537565931296]}, \"id\": \"000000000000000003fb\", \"properties\": {\"2018_2023\": 0.006702983744329, \"change\": 0, \"class\": 0, \"cluster\": 3, \"fid\": 1028, \"group\": 0, \"layer\": \"valid\", \"notes\": \"\", \"path\": \"/Users/glennmoncrieff/Documents/qgis/valid.gpkg|layername=valid\", \"x\": 19.07260971703242, \"y\": -33.805537565931296}}, {\"type\": \"Feature\", \"geometry\": {\"type\": \"Point\", \"coordinates\": [19.077947260993394, -33.80792318499489]}, \"id\": \"000000000000000003fc\", \"properties\": {\"2018_2023\": 0.012547892265916, \"change\": 0, \"class\": 0, \"cluster\": 3, \"fid\": 1029, \"group\": 0, \"layer\": \"valid\", \"notes\": \"chngg rb\", \"path\": \"/Users/glennmoncrieff/Documents/qgis/valid.gpkg|layername=valid\", \"x\": 19.077947260993394, \"y\": -33.80792318499489}}, {\"type\": \"Feature\", \"geometry\": {\"type\": \"Point\", \"coordinates\": [19.078205888854495, -33.80820856746231]}, \"id\": \"000000000000000003fd\", \"properties\": {\"2018_2023\": 0.021821219977462, \"change\": 0, \"class\": 0, \"cluster\": 3, \"fid\": 1030, \"group\": 0, \"layer\": \"valid\", \"notes\": \"chngg rb\", \"path\": \"/Users/glennmoncrieff/Documents/qgis/valid.gpkg|layername=valid\", \"x\": 19.078205888854495, \"y\": -33.80820856746231}}, {\"type\": \"Feature\", \"geometry\": {\"type\": \"Point\", \"coordinates\": [19.14952475110331, -33.73579722545541]}, \"id\": \"0000000000000000045a\", \"properties\": {\"2018_2023\": 0.021899021606995, \"change\": 0, \"class\": 0, \"cluster\": 3, \"fid\": 1125, \"group\": 0, \"layer\": \"valid\", \"notes\": \"\", \"path\": \"/Users/glennmoncrieff/Documents/qgis/valid.gpkg|layername=valid\", \"x\": 19.14952475110331, \"y\": -33.73579722545541}}, {\"type\": \"Feature\", \"geometry\": {\"type\": \"Point\", \"coordinates\": [19.266571694655205, -33.752777482266936]}, \"id\": \"00000000000000000468\", \"properties\": {\"2018_2023\": 0.003017588595706, \"change\": 0, \"class\": 0, \"cluster\": 1, \"fid\": 1139, \"group\": 0, \"layer\": \"valid\", \"notes\": \"\", \"path\": \"/Users/glennmoncrieff/Documents/qgis/valid.gpkg|layername=valid\", \"x\": 19.266571694655205, \"y\": -33.752777482266936}}]}))\n",
       "            });\n",
       "        </script>\n",
       "    "
      ],
      "text/plain": [
       "<IPython.core.display.HTML object>"
      ]
     },
     "metadata": {},
     "output_type": "display_data"
    }
   ],
   "source": [
    "wKfold = prepareTrainingData(points=pts, targetProperty='class', nFolds=5)._preparePoints()\n",
    "eeprint(wKfold.limit(5))"
   ]
  },
  {
   "cell_type": "code",
   "execution_count": 5,
   "metadata": {
    "cellUniqueIdByVincent": "4e410"
   },
   "outputs": [
    {
     "data": {
      "text/html": [
       "\n",
       "            <style>\n",
       "                .geemap-dark {\n",
       "                    --jp-widgets-color: white;\n",
       "                    --jp-widgets-label-color: white;\n",
       "                    --jp-ui-font-color1: white;\n",
       "                    --jp-layout-color2: #454545;\n",
       "                    background-color: #383838;\n",
       "                }\n",
       "\n",
       "                .geemap-dark .jupyter-button {\n",
       "                    --jp-layout-color3: #383838;\n",
       "                }\n",
       "\n",
       "                .geemap-colab {\n",
       "                    background-color: var(--colab-primary-surface-color, white);\n",
       "                }\n",
       "\n",
       "                .geemap-colab .jupyter-button {\n",
       "                    --jp-layout-color3: var(--colab-primary-surface-color, white);\n",
       "                }\n",
       "            </style>\n",
       "            "
      ],
      "text/plain": [
       "<IPython.core.display.HTML object>"
      ]
     },
     "metadata": {},
     "output_type": "display_data"
    }
   ],
   "source": [
    "def createComposite(imageCollection: str, points: ee.Geometry, year: int, period:str):\n",
    "    \"\"\"Creates a composite image of a point over a given year (uses 1 month period for 2018 and 2 months for 2023).\n",
    "    \n",
    "    Args:\n",
    "        imageCollection (str): The collection to use for the composite.\n",
    "        point (ee.Geometry): The point to create the composite for.\n",
    "        year (int): The year to create the composite for.\n",
    "        period (str): Either values of first (Sept-09), second(oct-Nov) or both. \n",
    "    \n",
    "    Returns:\n",
    "        ee.Image: The composite image.\n",
    "    \"\"\"\n",
    "\n",
    "    # Get the image collection\n",
    "    ic = ee.ImageCollection(imageCollection)\n",
    "\n",
    "    if period == 'first':\n",
    "        startDate = f'{year}-09-01'\n",
    "        endDate = f'{year}-10-01'\n",
    "    elif period == 'second':\n",
    "        startDate = f'{year}-10-22'\n",
    "        endDate = f'{year}-11-27'\n",
    "        # startDate = f'{year}-10-01'\n",
    "        # endDate = f'{year}-12-01'\n",
    "        \n",
    "\n",
    "    # Mask clouds using cloud score+\n",
    "    csPlus = ee.ImageCollection('GOOGLE/CLOUD_SCORE_PLUS/V1/S2_HARMONIZED')\n",
    "\n",
    "    QA_BAND = 'cs_cdf'\n",
    "    CLEAR_THRESHOLD = 0.65\n",
    "    \n",
    "    # Filter the collection to the start and end dates, and point\n",
    "    medianImage = ic.filterDate(startDate, endDate).filterBounds(points).linkCollection(csPlus, [QA_BAND])\\\n",
    "    .map(lambda img: img.updateMask(img.select(QA_BAND).gte(CLEAR_THRESHOLD)))\\\n",
    "    .median()\n",
    "    \n",
    "    return medianImage.divide(10000).select([\"B2\",\"B3\",\"B4\",\"B5\",\"B6\",\"B7\",\"B8\",\"B11\",\"B12\"])"
   ]
  },
  {
   "cell_type": "code",
   "execution_count": 6,
   "metadata": {
    "cellUniqueIdByVincent": "157ce"
   },
   "outputs": [
    {
     "data": {
      "text/html": [
       "\n",
       "            <style>\n",
       "                .geemap-dark {\n",
       "                    --jp-widgets-color: white;\n",
       "                    --jp-widgets-label-color: white;\n",
       "                    --jp-ui-font-color1: white;\n",
       "                    --jp-layout-color2: #454545;\n",
       "                    background-color: #383838;\n",
       "                }\n",
       "\n",
       "                .geemap-dark .jupyter-button {\n",
       "                    --jp-layout-color3: #383838;\n",
       "                }\n",
       "\n",
       "                .geemap-colab {\n",
       "                    background-color: var(--colab-primary-surface-color, white);\n",
       "                }\n",
       "\n",
       "                .geemap-colab .jupyter-button {\n",
       "                    --jp-layout-color3: var(--colab-primary-surface-color, white);\n",
       "                }\n",
       "            </style>\n",
       "            "
      ],
      "text/plain": [
       "<IPython.core.display.HTML object>"
      ]
     },
     "metadata": {},
     "output_type": "display_data"
    }
   ],
   "source": [
    "# ee.ImageCollection(\"COPERNICUS/S2_SR_HARMONIZED\")\n",
    "\n",
    "composite2018 = createComposite(imageCollection= ee.ImageCollection(\"COPERNICUS/S2_HARMONIZED\"),\n",
    "                points=pts.geometry(),\n",
    "                year=2018,\n",
    "                period='first')\n",
    "\n",
    "# Create a composite for 2023\n",
    "composite2023 = createComposite(imageCollection= ee.ImageCollection(\"COPERNICUS/S2_HARMONIZED\"),\n",
    "                points=pts.geometry(),\n",
    "                year=2023,\n",
    "                period='second')"
   ]
  },
  {
   "cell_type": "code",
   "execution_count": 12,
   "metadata": {
    "cellUniqueIdByVincent": "7e54e"
   },
   "outputs": [
    {
     "data": {
      "text/html": [
       "\n",
       "            <style>\n",
       "                .geemap-dark {\n",
       "                    --jp-widgets-color: white;\n",
       "                    --jp-widgets-label-color: white;\n",
       "                    --jp-ui-font-color1: white;\n",
       "                    --jp-layout-color2: #454545;\n",
       "                    background-color: #383838;\n",
       "                }\n",
       "\n",
       "                .geemap-dark .jupyter-button {\n",
       "                    --jp-layout-color3: #383838;\n",
       "                }\n",
       "\n",
       "                .geemap-colab {\n",
       "                    background-color: var(--colab-primary-surface-color, white);\n",
       "                }\n",
       "\n",
       "                .geemap-colab .jupyter-button {\n",
       "                    --jp-layout-color3: var(--colab-primary-surface-color, white);\n",
       "                }\n",
       "            </style>\n",
       "            "
      ],
      "text/plain": [
       "<IPython.core.display.HTML object>"
      ]
     },
     "metadata": {},
     "output_type": "display_data"
    },
    {
     "data": {
      "text/html": [
       "<div>\n",
       "<style scoped>\n",
       "    .dataframe tbody tr th:only-of-type {\n",
       "        vertical-align: middle;\n",
       "    }\n",
       "\n",
       "    .dataframe tbody tr th {\n",
       "        vertical-align: top;\n",
       "    }\n",
       "\n",
       "    .dataframe thead th {\n",
       "        text-align: right;\n",
       "    }\n",
       "</style>\n",
       "<table border=\"1\" class=\"dataframe\">\n",
       "  <thead>\n",
       "    <tr style=\"text-align: right;\">\n",
       "      <th></th>\n",
       "      <th>geometry</th>\n",
       "      <th>2018_2023</th>\n",
       "      <th>B11</th>\n",
       "      <th>B12</th>\n",
       "      <th>B2</th>\n",
       "      <th>B3</th>\n",
       "      <th>B4</th>\n",
       "      <th>B5</th>\n",
       "      <th>B6</th>\n",
       "      <th>B7</th>\n",
       "      <th>...</th>\n",
       "      <th>class</th>\n",
       "      <th>cluster</th>\n",
       "      <th>fid</th>\n",
       "      <th>group</th>\n",
       "      <th>layer</th>\n",
       "      <th>notes</th>\n",
       "      <th>path</th>\n",
       "      <th>x</th>\n",
       "      <th>y</th>\n",
       "      <th>2023_class</th>\n",
       "    </tr>\n",
       "  </thead>\n",
       "  <tbody>\n",
       "    <tr>\n",
       "      <th>0</th>\n",
       "      <td>POINT (19.07261 -33.80554)</td>\n",
       "      <td>0.006703</td>\n",
       "      <td>0.27505</td>\n",
       "      <td>0.18230</td>\n",
       "      <td>0.15000</td>\n",
       "      <td>0.14865</td>\n",
       "      <td>0.15835</td>\n",
       "      <td>0.16810</td>\n",
       "      <td>0.20965</td>\n",
       "      <td>0.22755</td>\n",
       "      <td>...</td>\n",
       "      <td>0</td>\n",
       "      <td>3</td>\n",
       "      <td>1028</td>\n",
       "      <td>0</td>\n",
       "      <td>valid</td>\n",
       "      <td></td>\n",
       "      <td>/Users/glennmoncrieff/Documents/qgis/valid.gpk...</td>\n",
       "      <td>19.072610</td>\n",
       "      <td>-33.805538</td>\n",
       "      <td>NaN</td>\n",
       "    </tr>\n",
       "    <tr>\n",
       "      <th>1</th>\n",
       "      <td>POINT (19.07795 -33.80792)</td>\n",
       "      <td>0.012548</td>\n",
       "      <td>0.12760</td>\n",
       "      <td>0.07865</td>\n",
       "      <td>0.12595</td>\n",
       "      <td>0.12255</td>\n",
       "      <td>0.12510</td>\n",
       "      <td>0.11825</td>\n",
       "      <td>0.14300</td>\n",
       "      <td>0.15080</td>\n",
       "      <td>...</td>\n",
       "      <td>0</td>\n",
       "      <td>3</td>\n",
       "      <td>1029</td>\n",
       "      <td>0</td>\n",
       "      <td>valid</td>\n",
       "      <td>chngg rb</td>\n",
       "      <td>/Users/glennmoncrieff/Documents/qgis/valid.gpk...</td>\n",
       "      <td>19.077947</td>\n",
       "      <td>-33.807923</td>\n",
       "      <td>NaN</td>\n",
       "    </tr>\n",
       "    <tr>\n",
       "      <th>2</th>\n",
       "      <td>POINT (19.07821 -33.80821)</td>\n",
       "      <td>0.021821</td>\n",
       "      <td>0.10140</td>\n",
       "      <td>0.06245</td>\n",
       "      <td>0.09610</td>\n",
       "      <td>0.08235</td>\n",
       "      <td>0.07385</td>\n",
       "      <td>0.09030</td>\n",
       "      <td>0.09670</td>\n",
       "      <td>0.10565</td>\n",
       "      <td>...</td>\n",
       "      <td>0</td>\n",
       "      <td>3</td>\n",
       "      <td>1030</td>\n",
       "      <td>0</td>\n",
       "      <td>valid</td>\n",
       "      <td>chngg rb</td>\n",
       "      <td>/Users/glennmoncrieff/Documents/qgis/valid.gpk...</td>\n",
       "      <td>19.078206</td>\n",
       "      <td>-33.808209</td>\n",
       "      <td>NaN</td>\n",
       "    </tr>\n",
       "    <tr>\n",
       "      <th>3</th>\n",
       "      <td>POINT (19.14952 -33.7358)</td>\n",
       "      <td>0.021899</td>\n",
       "      <td>0.19480</td>\n",
       "      <td>0.11190</td>\n",
       "      <td>0.13910</td>\n",
       "      <td>0.13220</td>\n",
       "      <td>0.15010</td>\n",
       "      <td>0.13500</td>\n",
       "      <td>0.18200</td>\n",
       "      <td>0.21320</td>\n",
       "      <td>...</td>\n",
       "      <td>0</td>\n",
       "      <td>3</td>\n",
       "      <td>1125</td>\n",
       "      <td>0</td>\n",
       "      <td>valid</td>\n",
       "      <td></td>\n",
       "      <td>/Users/glennmoncrieff/Documents/qgis/valid.gpk...</td>\n",
       "      <td>19.149525</td>\n",
       "      <td>-33.735797</td>\n",
       "      <td>NaN</td>\n",
       "    </tr>\n",
       "    <tr>\n",
       "      <th>4</th>\n",
       "      <td>POINT (19.26657 -33.75278)</td>\n",
       "      <td>0.003018</td>\n",
       "      <td>0.29175</td>\n",
       "      <td>0.21710</td>\n",
       "      <td>0.14200</td>\n",
       "      <td>0.13540</td>\n",
       "      <td>0.14580</td>\n",
       "      <td>0.16260</td>\n",
       "      <td>0.19265</td>\n",
       "      <td>0.20745</td>\n",
       "      <td>...</td>\n",
       "      <td>0</td>\n",
       "      <td>1</td>\n",
       "      <td>1139</td>\n",
       "      <td>0</td>\n",
       "      <td>valid</td>\n",
       "      <td></td>\n",
       "      <td>/Users/glennmoncrieff/Documents/qgis/valid.gpk...</td>\n",
       "      <td>19.266572</td>\n",
       "      <td>-33.752777</td>\n",
       "      <td>NaN</td>\n",
       "    </tr>\n",
       "  </tbody>\n",
       "</table>\n",
       "<p>5 rows × 22 columns</p>\n",
       "</div>"
      ],
      "text/plain": [
       "                     geometry  2018_2023      B11      B12       B2       B3  \\\n",
       "0  POINT (19.07261 -33.80554)   0.006703  0.27505  0.18230  0.15000  0.14865   \n",
       "1  POINT (19.07795 -33.80792)   0.012548  0.12760  0.07865  0.12595  0.12255   \n",
       "2  POINT (19.07821 -33.80821)   0.021821  0.10140  0.06245  0.09610  0.08235   \n",
       "3   POINT (19.14952 -33.7358)   0.021899  0.19480  0.11190  0.13910  0.13220   \n",
       "4  POINT (19.26657 -33.75278)   0.003018  0.29175  0.21710  0.14200  0.13540   \n",
       "\n",
       "        B4       B5       B6       B7  ...  class  cluster   fid  group  \\\n",
       "0  0.15835  0.16810  0.20965  0.22755  ...      0        3  1028      0   \n",
       "1  0.12510  0.11825  0.14300  0.15080  ...      0        3  1029      0   \n",
       "2  0.07385  0.09030  0.09670  0.10565  ...      0        3  1030      0   \n",
       "3  0.15010  0.13500  0.18200  0.21320  ...      0        3  1125      0   \n",
       "4  0.14580  0.16260  0.19265  0.20745  ...      0        1  1139      0   \n",
       "\n",
       "   layer     notes                                               path  \\\n",
       "0  valid            /Users/glennmoncrieff/Documents/qgis/valid.gpk...   \n",
       "1  valid  chngg rb  /Users/glennmoncrieff/Documents/qgis/valid.gpk...   \n",
       "2  valid  chngg rb  /Users/glennmoncrieff/Documents/qgis/valid.gpk...   \n",
       "3  valid            /Users/glennmoncrieff/Documents/qgis/valid.gpk...   \n",
       "4  valid            /Users/glennmoncrieff/Documents/qgis/valid.gpk...   \n",
       "\n",
       "           x          y  2023_class  \n",
       "0  19.072610 -33.805538         NaN  \n",
       "1  19.077947 -33.807923         NaN  \n",
       "2  19.078206 -33.808209         NaN  \n",
       "3  19.149525 -33.735797         NaN  \n",
       "4  19.266572 -33.752777         NaN  \n",
       "\n",
       "[5 rows x 22 columns]"
      ]
     },
     "execution_count": 12,
     "metadata": {},
     "output_type": "execute_result"
    }
   ],
   "source": [
    "# extract values at points\n",
    "data = composite2018.reduceRegions(collection=wKfold, reducer=ee.Reducer.first(), scale=10)\n",
    "data.limit(5)\n",
    "\n",
    "# convert to geopandas dataframe\n",
    "gdf18 = ee.data.computeFeatures({\n",
    "    'expression': data,\n",
    "    'fileFormat': 'GEOPANDAS_GEODATAFRAME'\n",
    "})\n",
    "\n",
    "# Need to set the CRS.\n",
    "# Make sure it matches the CRS of FeatureCollection geometries.\n",
    "gdf18.crs = 'EPSG:4326'\n",
    "\n",
    "gdf18.head()"
   ]
  },
  {
   "cell_type": "markdown",
   "metadata": {
    "cellUniqueIdByVincent": "bee32"
   },
   "source": [
    "#### Download 2018 and 2023 composite"
   ]
  },
  {
   "cell_type": "code",
   "execution_count": 13,
   "metadata": {
    "cellUniqueIdByVincent": "3d976"
   },
   "outputs": [
    {
     "data": {
      "text/html": [
       "\n",
       "            <style>\n",
       "                .geemap-dark {\n",
       "                    --jp-widgets-color: white;\n",
       "                    --jp-widgets-label-color: white;\n",
       "                    --jp-ui-font-color1: white;\n",
       "                    --jp-layout-color2: #454545;\n",
       "                    background-color: #383838;\n",
       "                }\n",
       "\n",
       "                .geemap-dark .jupyter-button {\n",
       "                    --jp-layout-color3: #383838;\n",
       "                }\n",
       "\n",
       "                .geemap-colab {\n",
       "                    background-color: var(--colab-primary-surface-color, white);\n",
       "                }\n",
       "\n",
       "                .geemap-colab .jupyter-button {\n",
       "                    --jp-layout-color3: var(--colab-primary-surface-color, white);\n",
       "                }\n",
       "            </style>\n",
       "            "
      ],
      "text/plain": [
       "<IPython.core.display.HTML object>"
      ]
     },
     "metadata": {},
     "output_type": "display_data"
    },
    {
     "name": "stderr",
     "output_type": "stream",
     "text": [
      "Consider adjusting `region`, `scale` and/or `dtype` to reduce the composite2018.tif download size (raw: 1.30 GB).\n"
     ]
    },
    {
     "data": {
      "application/vnd.jupyter.widget-view+json": {
       "model_id": "5b8ec4fa74bd48879b93059e0cb443e9",
       "version_major": 2,
       "version_minor": 0
      },
      "text/plain": [
       "composite2018.tif: |          | 0.00/1.30G (raw) [  0.0%] in 00:00 (eta:     ?)"
      ]
     },
     "metadata": {},
     "output_type": "display_data"
    },
    {
     "name": "stderr",
     "output_type": "stream",
     "text": [
      "Consider adjusting `region`, `scale` and/or `dtype` to reduce the composite2023.tif download size (raw: 1.30 GB).\n"
     ]
    },
    {
     "data": {
      "application/vnd.jupyter.widget-view+json": {
       "model_id": "0c9a9e6e07964ce0987b33a5bc8a2f30",
       "version_major": 2,
       "version_minor": 0
      },
      "text/plain": [
       "composite2023.tif: |          | 0.00/1.30G (raw) [  0.0%] in 00:00 (eta:     ?)"
      ]
     },
     "metadata": {},
     "output_type": "display_data"
    }
   ],
   "source": [
    "from geedim.download import BaseImage\n",
    "\n",
    "BaseImage(composite2018).download(\n",
    "    r'C:\\Users\\coach\\myfiles\\postdoc\\Invasives\\data\\Invasie species\\composites\\composite2018.tif',\n",
    "    scale=10, region=pts.geometry().bounds(),\n",
    "    crs ='EPSG:4326')\n",
    "\n",
    "BaseImage(composite2023).download(\n",
    "    r'C:\\Users\\coach\\myfiles\\postdoc\\Invasives\\data\\Invasie species\\composites\\composite2023.tif',\n",
    "    scale=10, region=pts.geometry().bounds(),\n",
    "    crs ='EPSG:4326')"
   ]
  },
  {
   "cell_type": "markdown",
   "metadata": {
    "cellUniqueIdByVincent": "2b3aa"
   },
   "source": [
    "### Train 2018 model"
   ]
  },
  {
   "cell_type": "code",
   "execution_count": 14,
   "metadata": {
    "cellUniqueIdByVincent": "3b454"
   },
   "outputs": [
    {
     "data": {
      "text/html": [
       "\n",
       "            <style>\n",
       "                .geemap-dark {\n",
       "                    --jp-widgets-color: white;\n",
       "                    --jp-widgets-label-color: white;\n",
       "                    --jp-ui-font-color1: white;\n",
       "                    --jp-layout-color2: #454545;\n",
       "                    background-color: #383838;\n",
       "                }\n",
       "\n",
       "                .geemap-dark .jupyter-button {\n",
       "                    --jp-layout-color3: #383838;\n",
       "                }\n",
       "\n",
       "                .geemap-colab {\n",
       "                    background-color: var(--colab-primary-surface-color, white);\n",
       "                }\n",
       "\n",
       "                .geemap-colab .jupyter-button {\n",
       "                    --jp-layout-color3: var(--colab-primary-surface-color, white);\n",
       "                }\n",
       "            </style>\n",
       "            "
      ],
      "text/plain": [
       "<IPython.core.display.HTML object>"
      ]
     },
     "metadata": {},
     "output_type": "display_data"
    },
    {
     "data": {
      "text/html": [
       "<style>#sk-container-id-1 {\n",
       "  /* Definition of color scheme common for light and dark mode */\n",
       "  --sklearn-color-text: black;\n",
       "  --sklearn-color-line: gray;\n",
       "  /* Definition of color scheme for unfitted estimators */\n",
       "  --sklearn-color-unfitted-level-0: #fff5e6;\n",
       "  --sklearn-color-unfitted-level-1: #f6e4d2;\n",
       "  --sklearn-color-unfitted-level-2: #ffe0b3;\n",
       "  --sklearn-color-unfitted-level-3: chocolate;\n",
       "  /* Definition of color scheme for fitted estimators */\n",
       "  --sklearn-color-fitted-level-0: #f0f8ff;\n",
       "  --sklearn-color-fitted-level-1: #d4ebff;\n",
       "  --sklearn-color-fitted-level-2: #b3dbfd;\n",
       "  --sklearn-color-fitted-level-3: cornflowerblue;\n",
       "\n",
       "  /* Specific color for light theme */\n",
       "  --sklearn-color-text-on-default-background: var(--sg-text-color, var(--theme-code-foreground, var(--jp-content-font-color1, black)));\n",
       "  --sklearn-color-background: var(--sg-background-color, var(--theme-background, var(--jp-layout-color0, white)));\n",
       "  --sklearn-color-border-box: var(--sg-text-color, var(--theme-code-foreground, var(--jp-content-font-color1, black)));\n",
       "  --sklearn-color-icon: #696969;\n",
       "\n",
       "  @media (prefers-color-scheme: dark) {\n",
       "    /* Redefinition of color scheme for dark theme */\n",
       "    --sklearn-color-text-on-default-background: var(--sg-text-color, var(--theme-code-foreground, var(--jp-content-font-color1, white)));\n",
       "    --sklearn-color-background: var(--sg-background-color, var(--theme-background, var(--jp-layout-color0, #111)));\n",
       "    --sklearn-color-border-box: var(--sg-text-color, var(--theme-code-foreground, var(--jp-content-font-color1, white)));\n",
       "    --sklearn-color-icon: #878787;\n",
       "  }\n",
       "}\n",
       "\n",
       "#sk-container-id-1 {\n",
       "  color: var(--sklearn-color-text);\n",
       "}\n",
       "\n",
       "#sk-container-id-1 pre {\n",
       "  padding: 0;\n",
       "}\n",
       "\n",
       "#sk-container-id-1 input.sk-hidden--visually {\n",
       "  border: 0;\n",
       "  clip: rect(1px 1px 1px 1px);\n",
       "  clip: rect(1px, 1px, 1px, 1px);\n",
       "  height: 1px;\n",
       "  margin: -1px;\n",
       "  overflow: hidden;\n",
       "  padding: 0;\n",
       "  position: absolute;\n",
       "  width: 1px;\n",
       "}\n",
       "\n",
       "#sk-container-id-1 div.sk-dashed-wrapped {\n",
       "  border: 1px dashed var(--sklearn-color-line);\n",
       "  margin: 0 0.4em 0.5em 0.4em;\n",
       "  box-sizing: border-box;\n",
       "  padding-bottom: 0.4em;\n",
       "  background-color: var(--sklearn-color-background);\n",
       "}\n",
       "\n",
       "#sk-container-id-1 div.sk-container {\n",
       "  /* jupyter's `normalize.less` sets `[hidden] { display: none; }`\n",
       "     but bootstrap.min.css set `[hidden] { display: none !important; }`\n",
       "     so we also need the `!important` here to be able to override the\n",
       "     default hidden behavior on the sphinx rendered scikit-learn.org.\n",
       "     See: https://github.com/scikit-learn/scikit-learn/issues/21755 */\n",
       "  display: inline-block !important;\n",
       "  position: relative;\n",
       "}\n",
       "\n",
       "#sk-container-id-1 div.sk-text-repr-fallback {\n",
       "  display: none;\n",
       "}\n",
       "\n",
       "div.sk-parallel-item,\n",
       "div.sk-serial,\n",
       "div.sk-item {\n",
       "  /* draw centered vertical line to link estimators */\n",
       "  background-image: linear-gradient(var(--sklearn-color-text-on-default-background), var(--sklearn-color-text-on-default-background));\n",
       "  background-size: 2px 100%;\n",
       "  background-repeat: no-repeat;\n",
       "  background-position: center center;\n",
       "}\n",
       "\n",
       "/* Parallel-specific style estimator block */\n",
       "\n",
       "#sk-container-id-1 div.sk-parallel-item::after {\n",
       "  content: \"\";\n",
       "  width: 100%;\n",
       "  border-bottom: 2px solid var(--sklearn-color-text-on-default-background);\n",
       "  flex-grow: 1;\n",
       "}\n",
       "\n",
       "#sk-container-id-1 div.sk-parallel {\n",
       "  display: flex;\n",
       "  align-items: stretch;\n",
       "  justify-content: center;\n",
       "  background-color: var(--sklearn-color-background);\n",
       "  position: relative;\n",
       "}\n",
       "\n",
       "#sk-container-id-1 div.sk-parallel-item {\n",
       "  display: flex;\n",
       "  flex-direction: column;\n",
       "}\n",
       "\n",
       "#sk-container-id-1 div.sk-parallel-item:first-child::after {\n",
       "  align-self: flex-end;\n",
       "  width: 50%;\n",
       "}\n",
       "\n",
       "#sk-container-id-1 div.sk-parallel-item:last-child::after {\n",
       "  align-self: flex-start;\n",
       "  width: 50%;\n",
       "}\n",
       "\n",
       "#sk-container-id-1 div.sk-parallel-item:only-child::after {\n",
       "  width: 0;\n",
       "}\n",
       "\n",
       "/* Serial-specific style estimator block */\n",
       "\n",
       "#sk-container-id-1 div.sk-serial {\n",
       "  display: flex;\n",
       "  flex-direction: column;\n",
       "  align-items: center;\n",
       "  background-color: var(--sklearn-color-background);\n",
       "  padding-right: 1em;\n",
       "  padding-left: 1em;\n",
       "}\n",
       "\n",
       "\n",
       "/* Toggleable style: style used for estimator/Pipeline/ColumnTransformer box that is\n",
       "clickable and can be expanded/collapsed.\n",
       "- Pipeline and ColumnTransformer use this feature and define the default style\n",
       "- Estimators will overwrite some part of the style using the `sk-estimator` class\n",
       "*/\n",
       "\n",
       "/* Pipeline and ColumnTransformer style (default) */\n",
       "\n",
       "#sk-container-id-1 div.sk-toggleable {\n",
       "  /* Default theme specific background. It is overwritten whether we have a\n",
       "  specific estimator or a Pipeline/ColumnTransformer */\n",
       "  background-color: var(--sklearn-color-background);\n",
       "}\n",
       "\n",
       "/* Toggleable label */\n",
       "#sk-container-id-1 label.sk-toggleable__label {\n",
       "  cursor: pointer;\n",
       "  display: block;\n",
       "  width: 100%;\n",
       "  margin-bottom: 0;\n",
       "  padding: 0.5em;\n",
       "  box-sizing: border-box;\n",
       "  text-align: center;\n",
       "}\n",
       "\n",
       "#sk-container-id-1 label.sk-toggleable__label-arrow:before {\n",
       "  /* Arrow on the left of the label */\n",
       "  content: \"▸\";\n",
       "  float: left;\n",
       "  margin-right: 0.25em;\n",
       "  color: var(--sklearn-color-icon);\n",
       "}\n",
       "\n",
       "#sk-container-id-1 label.sk-toggleable__label-arrow:hover:before {\n",
       "  color: var(--sklearn-color-text);\n",
       "}\n",
       "\n",
       "/* Toggleable content - dropdown */\n",
       "\n",
       "#sk-container-id-1 div.sk-toggleable__content {\n",
       "  max-height: 0;\n",
       "  max-width: 0;\n",
       "  overflow: hidden;\n",
       "  text-align: left;\n",
       "  /* unfitted */\n",
       "  background-color: var(--sklearn-color-unfitted-level-0);\n",
       "}\n",
       "\n",
       "#sk-container-id-1 div.sk-toggleable__content.fitted {\n",
       "  /* fitted */\n",
       "  background-color: var(--sklearn-color-fitted-level-0);\n",
       "}\n",
       "\n",
       "#sk-container-id-1 div.sk-toggleable__content pre {\n",
       "  margin: 0.2em;\n",
       "  border-radius: 0.25em;\n",
       "  color: var(--sklearn-color-text);\n",
       "  /* unfitted */\n",
       "  background-color: var(--sklearn-color-unfitted-level-0);\n",
       "}\n",
       "\n",
       "#sk-container-id-1 div.sk-toggleable__content.fitted pre {\n",
       "  /* unfitted */\n",
       "  background-color: var(--sklearn-color-fitted-level-0);\n",
       "}\n",
       "\n",
       "#sk-container-id-1 input.sk-toggleable__control:checked~div.sk-toggleable__content {\n",
       "  /* Expand drop-down */\n",
       "  max-height: 200px;\n",
       "  max-width: 100%;\n",
       "  overflow: auto;\n",
       "}\n",
       "\n",
       "#sk-container-id-1 input.sk-toggleable__control:checked~label.sk-toggleable__label-arrow:before {\n",
       "  content: \"▾\";\n",
       "}\n",
       "\n",
       "/* Pipeline/ColumnTransformer-specific style */\n",
       "\n",
       "#sk-container-id-1 div.sk-label input.sk-toggleable__control:checked~label.sk-toggleable__label {\n",
       "  color: var(--sklearn-color-text);\n",
       "  background-color: var(--sklearn-color-unfitted-level-2);\n",
       "}\n",
       "\n",
       "#sk-container-id-1 div.sk-label.fitted input.sk-toggleable__control:checked~label.sk-toggleable__label {\n",
       "  background-color: var(--sklearn-color-fitted-level-2);\n",
       "}\n",
       "\n",
       "/* Estimator-specific style */\n",
       "\n",
       "/* Colorize estimator box */\n",
       "#sk-container-id-1 div.sk-estimator input.sk-toggleable__control:checked~label.sk-toggleable__label {\n",
       "  /* unfitted */\n",
       "  background-color: var(--sklearn-color-unfitted-level-2);\n",
       "}\n",
       "\n",
       "#sk-container-id-1 div.sk-estimator.fitted input.sk-toggleable__control:checked~label.sk-toggleable__label {\n",
       "  /* fitted */\n",
       "  background-color: var(--sklearn-color-fitted-level-2);\n",
       "}\n",
       "\n",
       "#sk-container-id-1 div.sk-label label.sk-toggleable__label,\n",
       "#sk-container-id-1 div.sk-label label {\n",
       "  /* The background is the default theme color */\n",
       "  color: var(--sklearn-color-text-on-default-background);\n",
       "}\n",
       "\n",
       "/* On hover, darken the color of the background */\n",
       "#sk-container-id-1 div.sk-label:hover label.sk-toggleable__label {\n",
       "  color: var(--sklearn-color-text);\n",
       "  background-color: var(--sklearn-color-unfitted-level-2);\n",
       "}\n",
       "\n",
       "/* Label box, darken color on hover, fitted */\n",
       "#sk-container-id-1 div.sk-label.fitted:hover label.sk-toggleable__label.fitted {\n",
       "  color: var(--sklearn-color-text);\n",
       "  background-color: var(--sklearn-color-fitted-level-2);\n",
       "}\n",
       "\n",
       "/* Estimator label */\n",
       "\n",
       "#sk-container-id-1 div.sk-label label {\n",
       "  font-family: monospace;\n",
       "  font-weight: bold;\n",
       "  display: inline-block;\n",
       "  line-height: 1.2em;\n",
       "}\n",
       "\n",
       "#sk-container-id-1 div.sk-label-container {\n",
       "  text-align: center;\n",
       "}\n",
       "\n",
       "/* Estimator-specific */\n",
       "#sk-container-id-1 div.sk-estimator {\n",
       "  font-family: monospace;\n",
       "  border: 1px dotted var(--sklearn-color-border-box);\n",
       "  border-radius: 0.25em;\n",
       "  box-sizing: border-box;\n",
       "  margin-bottom: 0.5em;\n",
       "  /* unfitted */\n",
       "  background-color: var(--sklearn-color-unfitted-level-0);\n",
       "}\n",
       "\n",
       "#sk-container-id-1 div.sk-estimator.fitted {\n",
       "  /* fitted */\n",
       "  background-color: var(--sklearn-color-fitted-level-0);\n",
       "}\n",
       "\n",
       "/* on hover */\n",
       "#sk-container-id-1 div.sk-estimator:hover {\n",
       "  /* unfitted */\n",
       "  background-color: var(--sklearn-color-unfitted-level-2);\n",
       "}\n",
       "\n",
       "#sk-container-id-1 div.sk-estimator.fitted:hover {\n",
       "  /* fitted */\n",
       "  background-color: var(--sklearn-color-fitted-level-2);\n",
       "}\n",
       "\n",
       "/* Specification for estimator info (e.g. \"i\" and \"?\") */\n",
       "\n",
       "/* Common style for \"i\" and \"?\" */\n",
       "\n",
       ".sk-estimator-doc-link,\n",
       "a:link.sk-estimator-doc-link,\n",
       "a:visited.sk-estimator-doc-link {\n",
       "  float: right;\n",
       "  font-size: smaller;\n",
       "  line-height: 1em;\n",
       "  font-family: monospace;\n",
       "  background-color: var(--sklearn-color-background);\n",
       "  border-radius: 1em;\n",
       "  height: 1em;\n",
       "  width: 1em;\n",
       "  text-decoration: none !important;\n",
       "  margin-left: 1ex;\n",
       "  /* unfitted */\n",
       "  border: var(--sklearn-color-unfitted-level-1) 1pt solid;\n",
       "  color: var(--sklearn-color-unfitted-level-1);\n",
       "}\n",
       "\n",
       ".sk-estimator-doc-link.fitted,\n",
       "a:link.sk-estimator-doc-link.fitted,\n",
       "a:visited.sk-estimator-doc-link.fitted {\n",
       "  /* fitted */\n",
       "  border: var(--sklearn-color-fitted-level-1) 1pt solid;\n",
       "  color: var(--sklearn-color-fitted-level-1);\n",
       "}\n",
       "\n",
       "/* On hover */\n",
       "div.sk-estimator:hover .sk-estimator-doc-link:hover,\n",
       ".sk-estimator-doc-link:hover,\n",
       "div.sk-label-container:hover .sk-estimator-doc-link:hover,\n",
       ".sk-estimator-doc-link:hover {\n",
       "  /* unfitted */\n",
       "  background-color: var(--sklearn-color-unfitted-level-3);\n",
       "  color: var(--sklearn-color-background);\n",
       "  text-decoration: none;\n",
       "}\n",
       "\n",
       "div.sk-estimator.fitted:hover .sk-estimator-doc-link.fitted:hover,\n",
       ".sk-estimator-doc-link.fitted:hover,\n",
       "div.sk-label-container:hover .sk-estimator-doc-link.fitted:hover,\n",
       ".sk-estimator-doc-link.fitted:hover {\n",
       "  /* fitted */\n",
       "  background-color: var(--sklearn-color-fitted-level-3);\n",
       "  color: var(--sklearn-color-background);\n",
       "  text-decoration: none;\n",
       "}\n",
       "\n",
       "/* Span, style for the box shown on hovering the info icon */\n",
       ".sk-estimator-doc-link span {\n",
       "  display: none;\n",
       "  z-index: 9999;\n",
       "  position: relative;\n",
       "  font-weight: normal;\n",
       "  right: .2ex;\n",
       "  padding: .5ex;\n",
       "  margin: .5ex;\n",
       "  width: min-content;\n",
       "  min-width: 20ex;\n",
       "  max-width: 50ex;\n",
       "  color: var(--sklearn-color-text);\n",
       "  box-shadow: 2pt 2pt 4pt #999;\n",
       "  /* unfitted */\n",
       "  background: var(--sklearn-color-unfitted-level-0);\n",
       "  border: .5pt solid var(--sklearn-color-unfitted-level-3);\n",
       "}\n",
       "\n",
       ".sk-estimator-doc-link.fitted span {\n",
       "  /* fitted */\n",
       "  background: var(--sklearn-color-fitted-level-0);\n",
       "  border: var(--sklearn-color-fitted-level-3);\n",
       "}\n",
       "\n",
       ".sk-estimator-doc-link:hover span {\n",
       "  display: block;\n",
       "}\n",
       "\n",
       "/* \"?\"-specific style due to the `<a>` HTML tag */\n",
       "\n",
       "#sk-container-id-1 a.estimator_doc_link {\n",
       "  float: right;\n",
       "  font-size: 1rem;\n",
       "  line-height: 1em;\n",
       "  font-family: monospace;\n",
       "  background-color: var(--sklearn-color-background);\n",
       "  border-radius: 1rem;\n",
       "  height: 1rem;\n",
       "  width: 1rem;\n",
       "  text-decoration: none;\n",
       "  /* unfitted */\n",
       "  color: var(--sklearn-color-unfitted-level-1);\n",
       "  border: var(--sklearn-color-unfitted-level-1) 1pt solid;\n",
       "}\n",
       "\n",
       "#sk-container-id-1 a.estimator_doc_link.fitted {\n",
       "  /* fitted */\n",
       "  border: var(--sklearn-color-fitted-level-1) 1pt solid;\n",
       "  color: var(--sklearn-color-fitted-level-1);\n",
       "}\n",
       "\n",
       "/* On hover */\n",
       "#sk-container-id-1 a.estimator_doc_link:hover {\n",
       "  /* unfitted */\n",
       "  background-color: var(--sklearn-color-unfitted-level-3);\n",
       "  color: var(--sklearn-color-background);\n",
       "  text-decoration: none;\n",
       "}\n",
       "\n",
       "#sk-container-id-1 a.estimator_doc_link.fitted:hover {\n",
       "  /* fitted */\n",
       "  background-color: var(--sklearn-color-fitted-level-3);\n",
       "}\n",
       "</style><div id=\"sk-container-id-1\" class=\"sk-top-container\"><div class=\"sk-text-repr-fallback\"><pre>RandomForestClassifier(n_jobs=-1, random_state=42)</pre><b>In a Jupyter environment, please rerun this cell to show the HTML representation or trust the notebook. <br />On GitHub, the HTML representation is unable to render, please try loading this page with nbviewer.org.</b></div><div class=\"sk-container\" hidden><div class=\"sk-item\"><div class=\"sk-estimator fitted sk-toggleable\"><input class=\"sk-toggleable__control sk-hidden--visually\" id=\"sk-estimator-id-1\" type=\"checkbox\" checked><label for=\"sk-estimator-id-1\" class=\"sk-toggleable__label fitted sk-toggleable__label-arrow fitted\">&nbsp;&nbsp;RandomForestClassifier<a class=\"sk-estimator-doc-link fitted\" rel=\"noreferrer\" target=\"_blank\" href=\"https://scikit-learn.org/1.5/modules/generated/sklearn.ensemble.RandomForestClassifier.html\">?<span>Documentation for RandomForestClassifier</span></a><span class=\"sk-estimator-doc-link fitted\">i<span>Fitted</span></span></label><div class=\"sk-toggleable__content fitted\"><pre>RandomForestClassifier(n_jobs=-1, random_state=42)</pre></div> </div></div></div></div>"
      ],
      "text/plain": [
       "RandomForestClassifier(n_jobs=-1, random_state=42)"
      ]
     },
     "execution_count": 14,
     "metadata": {},
     "output_type": "execute_result"
    }
   ],
   "source": [
    "from sklearn.ensemble import RandomForestClassifier \n",
    "import numpy as np\n",
    "\n",
    "# Features and target\n",
    "wavelength23_cols = ['B2','B3', 'B4', 'B5', 'B6', 'B7', 'B8','B11','B12']\n",
    "X = gdf18[wavelength23_cols]\n",
    "y = gdf18['class'].astype(int)\n",
    "\n",
    "# Classifier\n",
    "clf = RandomForestClassifier(random_state=42, n_jobs=-1)\n",
    "clf.fit(X, y)"
   ]
  },
  {
   "cell_type": "code",
   "execution_count": 32,
   "metadata": {
    "cellUniqueIdByVincent": "0d733"
   },
   "outputs": [
    {
     "data": {
      "text/html": [
       "\n",
       "            <style>\n",
       "                .geemap-dark {\n",
       "                    --jp-widgets-color: white;\n",
       "                    --jp-widgets-label-color: white;\n",
       "                    --jp-ui-font-color1: white;\n",
       "                    --jp-layout-color2: #454545;\n",
       "                    background-color: #383838;\n",
       "                }\n",
       "\n",
       "                .geemap-dark .jupyter-button {\n",
       "                    --jp-layout-color3: #383838;\n",
       "                }\n",
       "\n",
       "                .geemap-colab {\n",
       "                    background-color: var(--colab-primary-surface-color, white);\n",
       "                }\n",
       "\n",
       "                .geemap-colab .jupyter-button {\n",
       "                    --jp-layout-color3: var(--colab-primary-surface-color, white);\n",
       "                }\n",
       "            </style>\n",
       "            "
      ],
      "text/plain": [
       "<IPython.core.display.HTML object>"
      ]
     },
     "metadata": {},
     "output_type": "display_data"
    }
   ],
   "source": [
    "import os\n",
    "import numpy as np\n",
    "import pandas as pd\n",
    "import rasterio\n",
    "from rasterio.plot import reshape_as_image, reshape_as_raster\n",
    "\n",
    "# Parralel processing\n",
    "import concurrent.futures\n",
    "import threading\n",
    "import logging\n",
    "from tqdm.auto import tqdm\n",
    "from pathlib import Path\n",
    "import warnings\n",
    "\n",
    "# Ignore all warnings\n",
    "warnings.filterwarnings(\"ignore\")\n",
    "def inference(infile: str, confModel, outfile : str, patchSize : int, num_workers : int = 4):\n",
    "        \"\"\"\n",
    "        Run inference on infile (Geotiff) using trained model.\n",
    "\n",
    "        Args:\n",
    "            infile (str): A complete path to an image to perform inference on.\n",
    "            confModel (mapie classifier): Calibrated conformal predictor based on the MAPIE package.\n",
    "            outfile (str): File path and file name to save output geoTiff files\n",
    "            patchSize (int): The height and width dimensions of the patch to process\n",
    "            num_workers (int): The number of core to utilise during parralel processing\n",
    "\n",
    "        Returns:\n",
    "            multiband (n_classes +2) geotiff in 'all' mode.\n",
    "            1) A multiband (number of bands equal to the n classes) geotiff ('set'),\n",
    "            2) A single band geotiff for highest probability (argmax) class ('predict'),\n",
    "            3) A single band geotiff for the probability of the argmax class ('predict_proba')\n",
    "\n",
    "        \"\"\"\n",
    "\n",
    "        with rasterio.open(infile) as src:\n",
    "            \n",
    "            logger = logging.getLogger(__name__)\n",
    "            # Create a destination dataset based on source params. The\n",
    "            # destination will be tiled, and the tiles will be processed\n",
    "            # concurrently.\n",
    "            profile = src.profile\n",
    "            profile.update(blockxsize= patchSize, blockysize= patchSize, tiled=True, count =1)\n",
    "\n",
    "            with rasterio.open(Path(outfile), \"w\", **profile) as dst:\n",
    "                windows = [window for ij, window in dst.block_windows()]\n",
    "\n",
    "                # use a lock to protect the DatasetReader/Writer\n",
    "                read_lock = threading.Lock()\n",
    "                write_lock = threading.Lock()\n",
    "\n",
    "                def process(window):\n",
    "                    with read_lock:\n",
    "                        src_array = src.read(window=window)\n",
    "                        i_arr = reshape_as_image(src_array)\n",
    "                        \n",
    "                        #Format input_image for inference\n",
    "                        nPixels = i_arr.shape[0]*i_arr.shape[1]\n",
    "                        nBands = i_arr.shape[-1]\n",
    "                        # Take full image and reshape into long 2d array (nrow * ncol, nband) for classification\n",
    "                        new_arr = i_arr.reshape(nPixels, nBands)#reshape 3d array to 2d array that matches the training data table from earlier\n",
    "                        bandnames = list(src.descriptions)\n",
    "                        data = pd.DataFrame(new_arr, columns = bandnames).fillna(0)\n",
    "                        y_pred = confModel.predict(data)\n",
    "                        \n",
    "                        # Reshape our outputs back into a 2D matrix so we can save it as an image\n",
    "                        result = y_pred.reshape([i_arr.shape[0],i_arr.shape[1]]).astype(np.float64)\n",
    "                        dst.descriptions = tuple(['classification'])\n",
    "                    with write_lock:\n",
    "                    #     for index, filename in enumerate([result], start=1):\n",
    "                    #         dst.write(filename, window= window, indexes=index)\n",
    "                        dst.write(result, window=window, indexes=1)\n",
    "\n",
    "                # We map the process() function over the list of windows.\n",
    "                with tqdm(total=len(windows), desc = os.path.basename(outfile)) as pbar:\n",
    "                    with concurrent.futures.ThreadPoolExecutor(max_workers=num_workers) as executor:\n",
    "                        futures = {executor.submit(process, window): window for window in windows}\n",
    "                        try:\n",
    "                            for future in concurrent.futures.as_completed(futures):\n",
    "                                future.result()\n",
    "                                pbar.update(1)\n",
    "\n",
    "                        except Exception as ex:\n",
    "                            logger.info('Cancelling...')\n",
    "                            executor.shutdown(wait=False, cancel_futures=True)\n",
    "                            raise ex"
   ]
  },
  {
   "cell_type": "code",
   "execution_count": 22,
   "metadata": {
    "cellUniqueIdByVincent": "12f9a"
   },
   "outputs": [
    {
     "data": {
      "text/html": [
       "\n",
       "            <style>\n",
       "                .geemap-dark {\n",
       "                    --jp-widgets-color: white;\n",
       "                    --jp-widgets-label-color: white;\n",
       "                    --jp-ui-font-color1: white;\n",
       "                    --jp-layout-color2: #454545;\n",
       "                    background-color: #383838;\n",
       "                }\n",
       "\n",
       "                .geemap-dark .jupyter-button {\n",
       "                    --jp-layout-color3: #383838;\n",
       "                }\n",
       "\n",
       "                .geemap-colab {\n",
       "                    background-color: var(--colab-primary-surface-color, white);\n",
       "                }\n",
       "\n",
       "                .geemap-colab .jupyter-button {\n",
       "                    --jp-layout-color3: var(--colab-primary-surface-color, white);\n",
       "                }\n",
       "            </style>\n",
       "            "
      ],
      "text/plain": [
       "<IPython.core.display.HTML object>"
      ]
     },
     "metadata": {},
     "output_type": "display_data"
    },
    {
     "data": {
      "application/vnd.jupyter.widget-view+json": {
       "model_id": "ce656cc7dd2b48c98b6b74c20bf50bf0",
       "version_major": 2,
       "version_minor": 0
      },
      "text/plain": [
       "pred_composite2018.tif:   0%|          | 0/17765 [00:00<?, ?it/s]"
      ]
     },
     "metadata": {},
     "output_type": "display_data"
    }
   ],
   "source": [
    "# Sanity check before running all images- Perform inference for a single planet image\n",
    "infile = r\"C:\\Users\\coach\\myfiles\\postdoc\\Invasives\\data\\Invasie species\\composites\\composite2018.tif\"\n",
    "outfile = r\"C:\\Users\\coach\\myfiles\\postdoc\\Invasives\\data\\Invasie species\\composites\\pred_composite2018.tif\"\n",
    "inference(infile = infile, confModel = clf, outfile = outfile, patchSize = 32, num_workers = 7)"
   ]
  },
  {
   "cell_type": "markdown",
   "metadata": {
    "cellUniqueIdByVincent": "ac2f2"
   },
   "source": [
    "### Sample 2018 classification, and 2023 composite"
   ]
  },
  {
   "cell_type": "code",
   "execution_count": 7,
   "metadata": {
    "cellUniqueIdByVincent": "dbc15"
   },
   "outputs": [
    {
     "data": {
      "text/html": [
       "\n",
       "            <style>\n",
       "                .geemap-dark {\n",
       "                    --jp-widgets-color: white;\n",
       "                    --jp-widgets-label-color: white;\n",
       "                    --jp-ui-font-color1: white;\n",
       "                    --jp-layout-color2: #454545;\n",
       "                    background-color: #383838;\n",
       "                }\n",
       "\n",
       "                .geemap-dark .jupyter-button {\n",
       "                    --jp-layout-color3: #383838;\n",
       "                }\n",
       "\n",
       "                .geemap-colab {\n",
       "                    background-color: var(--colab-primary-surface-color, white);\n",
       "                }\n",
       "\n",
       "                .geemap-colab .jupyter-button {\n",
       "                    --jp-layout-color3: var(--colab-primary-surface-color, white);\n",
       "                }\n",
       "            </style>\n",
       "            "
      ],
      "text/plain": [
       "<IPython.core.display.HTML object>"
      ]
     },
     "metadata": {},
     "output_type": "display_data"
    },
    {
     "name": "stdout",
     "output_type": "stream",
     "text": [
      "Area per class (km²): [{'area_km2': 46.51087429231495, 'classification': 0, 'sum': 46510874.292314954}, {'area_km2': 2.765961758495196, 'classification': 1, 'sum': 2765961.758495196}, {'area_km2': 42.329922020448514, 'classification': 2, 'sum': 42329922.02044851}, {'area_km2': 363.50202361679504, 'classification': 3, 'sum': 363502023.61679506}, {'area_km2': 608.4786467444915, 'classification': 4, 'sum': 608478646.7444915}, {'area_km2': 12.351374990374486, 'classification': 5, 'sum': 12351374.990374487}, {'area_km2': 43.33394519877673, 'classification': 6, 'sum': 43333945.19877673}, {'area_km2': 94.94741888564626, 'classification': 7, 'sum': 94947418.88564625}, {'area_km2': 164.44716737557948, 'classification': 8, 'sum': 164447167.37557948}, {'area_km2': 73.62839560954167, 'classification': 9, 'sum': 73628395.60954167}, {'area_km2': 42.31556370555142, 'classification': 10, 'sum': 42315563.705551416}]\n"
     ]
    }
   ],
   "source": [
    "# pred_composite2018.tif\" was manually uploaded to GEE as an asset\n",
    "# Now we can use it in GEE\n",
    "classified = ee.Image(\"projects/ee-gsingh/assets/postdoc/pred_composite2018\").rename('classification')\n",
    "\n",
    "# Define region and scale\n",
    "region = pts.geometry().bounds()  # Use the bounding box of the points\n",
    "# Define scale in meters\n",
    "scale = 10  # in meters\n",
    "\n",
    "# Compute per-class area in m²\n",
    "area_image = ee.Image.pixelArea().addBands(classified)\n",
    "\n",
    "# Reduce to total area per class\n",
    "areas = area_image.reduceRegion(\n",
    "    reducer=ee.Reducer.sum().group(\n",
    "        groupField=1,\n",
    "        groupName='classification'\n",
    "    ),\n",
    "    geometry=region,\n",
    "    scale=scale,\n",
    "    maxPixels=1e13\n",
    ")\n",
    "\n",
    "# Convert m² to km²\n",
    "area_km2 = ee.List(areas.get('groups')).map(lambda g:\n",
    "    ee.Dictionary(g).set(\n",
    "        'area_km2',\n",
    "        ee.Number(ee.Dictionary(g).get('sum')).divide(1e6)\n",
    "    )\n",
    ")\n",
    "area_km2 = area_km2.getInfo()\n",
    "print('Area per class (km²):', area_km2)\n"
   ]
  },
  {
   "cell_type": "code",
   "execution_count": 8,
   "metadata": {
    "cellUniqueIdByVincent": "89a85"
   },
   "outputs": [
    {
     "data": {
      "text/html": [
       "\n",
       "            <style>\n",
       "                .geemap-dark {\n",
       "                    --jp-widgets-color: white;\n",
       "                    --jp-widgets-label-color: white;\n",
       "                    --jp-ui-font-color1: white;\n",
       "                    --jp-layout-color2: #454545;\n",
       "                    background-color: #383838;\n",
       "                }\n",
       "\n",
       "                .geemap-dark .jupyter-button {\n",
       "                    --jp-layout-color3: #383838;\n",
       "                }\n",
       "\n",
       "                .geemap-colab {\n",
       "                    background-color: var(--colab-primary-surface-color, white);\n",
       "                }\n",
       "\n",
       "                .geemap-colab .jupyter-button {\n",
       "                    --jp-layout-color3: var(--colab-primary-surface-color, white);\n",
       "                }\n",
       "            </style>\n",
       "            "
      ],
      "text/plain": [
       "<IPython.core.display.HTML object>"
      ]
     },
     "metadata": {},
     "output_type": "display_data"
    },
    {
     "name": "stdout",
     "output_type": "stream",
     "text": [
      "Total allocated: 162294\n",
      "Class  0: 5001 samples\n",
      "Class  1: 1608 samples\n",
      "Class  2: 4551 samples\n",
      "Class  3: 39085 samples\n",
      "Class  4: 65426 samples\n",
      "Class  5: 1608 samples\n",
      "Class  6: 4659 samples\n",
      "Class  7: 10209 samples\n",
      "Class  8: 17682 samples\n",
      "Class  9: 7916 samples\n",
      "Class 10: 4549 samples\n"
     ]
    }
   ],
   "source": [
    "import math\n",
    "\n",
    "# Input: list of dicts from GEE\n",
    "# Reformat the data to match the 'area_stats' structure\n",
    "area_stats = [\n",
    "    {'area_km2': item['area_km2'], 'classification': item['classification']}\n",
    "    for item in area_km2\n",
    "]\n",
    "\n",
    "# Parameters\n",
    "total_samples = 160_708\n",
    "min_samples_per_class = 1_608\n",
    "\n",
    "# Step 1: compute total area\n",
    "total_area = sum(c['area_km2'] for c in area_stats)\n",
    "\n",
    "# Step 2: compute proportional sample allocation\n",
    "sample_alloc = []\n",
    "for c in area_stats:\n",
    "    weight = c['area_km2'] / total_area\n",
    "    n = math.floor(weight * total_samples)\n",
    "    n = max(n, min_samples_per_class)\n",
    "    sample_alloc.append({'class': c['classification'], 'samples': n})\n",
    "\n",
    "# Step 3: (optional) normalize if over-allocated\n",
    "allocated_total = sum(c['samples'] for c in sample_alloc)\n",
    "print(\"Total allocated:\", allocated_total)\n",
    "\n",
    "# Display result\n",
    "for row in sample_alloc:\n",
    "    print(f\"Class {row['class']:>2}: {row['samples']} samples\")\n"
   ]
  },
  {
   "cell_type": "code",
   "execution_count": 12,
   "metadata": {
    "cellUniqueIdByVincent": "a63b1"
   },
   "outputs": [
    {
     "data": {
      "text/html": [
       "\n",
       "            <style>\n",
       "                .geemap-dark {\n",
       "                    --jp-widgets-color: white;\n",
       "                    --jp-widgets-label-color: white;\n",
       "                    --jp-ui-font-color1: white;\n",
       "                    --jp-layout-color2: #454545;\n",
       "                    background-color: #383838;\n",
       "                }\n",
       "\n",
       "                .geemap-dark .jupyter-button {\n",
       "                    --jp-layout-color3: #383838;\n",
       "                }\n",
       "\n",
       "                .geemap-colab {\n",
       "                    background-color: var(--colab-primary-surface-color, white);\n",
       "                }\n",
       "\n",
       "                .geemap-colab .jupyter-button {\n",
       "                    --jp-layout-color3: var(--colab-primary-surface-color, white);\n",
       "                }\n",
       "            </style>\n",
       "            "
      ],
      "text/plain": [
       "<IPython.core.display.HTML object>"
      ]
     },
     "metadata": {},
     "output_type": "display_data"
    },
    {
     "name": "stdout",
     "output_type": "stream",
     "text": [
      "Sample size (should be 162294): 162294\n"
     ]
    }
   ],
   "source": [
    "# Class-wise sample sizes\n",
    "class_counts = {\n",
    "    item['class']: item['samples']\n",
    "    for item in sample_alloc\n",
    "}\n",
    "\n",
    "# Convert the dictionary to an ee.Dictionary\n",
    "class_counts_ee = ee.Dictionary(class_counts)\n",
    "\n",
    "# Add the classification band to composite for stratified sampling\n",
    "composite_with_class = composite2023.addBands(classified.rename('class').toInt()).updateMask(im_z.lt(95.811))\n",
    "\n",
    "# Perform stratified sampling\n",
    "sample = composite_with_class.stratifiedSample(\n",
    "    numPoints=0,  # must be 0 if you're using classValues & classPoints\n",
    "    classBand='class',\n",
    "    classValues=list(class_counts.keys()),\n",
    "    classPoints=list(class_counts.values()),\n",
    "    region=region,\n",
    "    scale=10,\n",
    "    geometries=True,  # set to True if you want point geometry\n",
    "    seed=42\n",
    ")\n",
    "\n",
    "# Optional: print sample count\n",
    "sample_size = sample.size()\n",
    "print(f\"Sample size (should be {allocated_total}):\", sample_size.getInfo())"
   ]
  },
  {
   "cell_type": "code",
   "execution_count": 13,
   "metadata": {
    "cellUniqueIdByVincent": "1883d"
   },
   "outputs": [
    {
     "data": {
      "text/html": [
       "\n",
       "            <style>\n",
       "                .geemap-dark {\n",
       "                    --jp-widgets-color: white;\n",
       "                    --jp-widgets-label-color: white;\n",
       "                    --jp-ui-font-color1: white;\n",
       "                    --jp-layout-color2: #454545;\n",
       "                    background-color: #383838;\n",
       "                }\n",
       "\n",
       "                .geemap-dark .jupyter-button {\n",
       "                    --jp-layout-color3: #383838;\n",
       "                }\n",
       "\n",
       "                .geemap-colab {\n",
       "                    background-color: var(--colab-primary-surface-color, white);\n",
       "                }\n",
       "\n",
       "                .geemap-colab .jupyter-button {\n",
       "                    --jp-layout-color3: var(--colab-primary-surface-color, white);\n",
       "                }\n",
       "            </style>\n",
       "            "
      ],
      "text/plain": [
       "<IPython.core.display.HTML object>"
      ]
     },
     "metadata": {},
     "output_type": "display_data"
    },
    {
     "data": {
      "text/html": [
       "<div>\n",
       "<style scoped>\n",
       "    .dataframe tbody tr th:only-of-type {\n",
       "        vertical-align: middle;\n",
       "    }\n",
       "\n",
       "    .dataframe tbody tr th {\n",
       "        vertical-align: top;\n",
       "    }\n",
       "\n",
       "    .dataframe thead th {\n",
       "        text-align: right;\n",
       "    }\n",
       "</style>\n",
       "<table border=\"1\" class=\"dataframe\">\n",
       "  <thead>\n",
       "    <tr style=\"text-align: right;\">\n",
       "      <th></th>\n",
       "      <th>geometry</th>\n",
       "      <th>B11</th>\n",
       "      <th>B12</th>\n",
       "      <th>B2</th>\n",
       "      <th>B3</th>\n",
       "      <th>B4</th>\n",
       "      <th>B5</th>\n",
       "      <th>B6</th>\n",
       "      <th>B7</th>\n",
       "      <th>B8</th>\n",
       "      <th>class</th>\n",
       "    </tr>\n",
       "  </thead>\n",
       "  <tbody>\n",
       "    <tr>\n",
       "      <th>0</th>\n",
       "      <td>POINT (19.5181 -33.82045)</td>\n",
       "      <td>0.29960</td>\n",
       "      <td>0.22415</td>\n",
       "      <td>0.13375</td>\n",
       "      <td>0.16055</td>\n",
       "      <td>0.21695</td>\n",
       "      <td>0.20375</td>\n",
       "      <td>0.24760</td>\n",
       "      <td>0.27035</td>\n",
       "      <td>0.29430</td>\n",
       "      <td>0</td>\n",
       "    </tr>\n",
       "    <tr>\n",
       "      <th>1</th>\n",
       "      <td>POINT (19.19318 -33.98313)</td>\n",
       "      <td>0.20425</td>\n",
       "      <td>0.13390</td>\n",
       "      <td>0.09995</td>\n",
       "      <td>0.09005</td>\n",
       "      <td>0.08505</td>\n",
       "      <td>0.10820</td>\n",
       "      <td>0.14485</td>\n",
       "      <td>0.16175</td>\n",
       "      <td>0.15410</td>\n",
       "      <td>0</td>\n",
       "    </tr>\n",
       "    <tr>\n",
       "      <th>2</th>\n",
       "      <td>POINT (19.34913 -33.87057)</td>\n",
       "      <td>0.24115</td>\n",
       "      <td>0.16345</td>\n",
       "      <td>0.12075</td>\n",
       "      <td>0.11645</td>\n",
       "      <td>0.12010</td>\n",
       "      <td>0.15425</td>\n",
       "      <td>0.19385</td>\n",
       "      <td>0.21330</td>\n",
       "      <td>0.20035</td>\n",
       "      <td>0</td>\n",
       "    </tr>\n",
       "    <tr>\n",
       "      <th>3</th>\n",
       "      <td>POINT (19.51603 -33.83581)</td>\n",
       "      <td>0.26515</td>\n",
       "      <td>0.19700</td>\n",
       "      <td>0.13405</td>\n",
       "      <td>0.14895</td>\n",
       "      <td>0.17200</td>\n",
       "      <td>0.19065</td>\n",
       "      <td>0.21160</td>\n",
       "      <td>0.22500</td>\n",
       "      <td>0.21065</td>\n",
       "      <td>0</td>\n",
       "    </tr>\n",
       "    <tr>\n",
       "      <th>4</th>\n",
       "      <td>POINT (19.25444 -33.97002)</td>\n",
       "      <td>0.21990</td>\n",
       "      <td>0.14090</td>\n",
       "      <td>0.10530</td>\n",
       "      <td>0.09820</td>\n",
       "      <td>0.09390</td>\n",
       "      <td>0.11480</td>\n",
       "      <td>0.15850</td>\n",
       "      <td>0.17780</td>\n",
       "      <td>0.18410</td>\n",
       "      <td>0</td>\n",
       "    </tr>\n",
       "  </tbody>\n",
       "</table>\n",
       "</div>"
      ],
      "text/plain": [
       "                     geometry      B11      B12       B2       B3       B4  \\\n",
       "0   POINT (19.5181 -33.82045)  0.29960  0.22415  0.13375  0.16055  0.21695   \n",
       "1  POINT (19.19318 -33.98313)  0.20425  0.13390  0.09995  0.09005  0.08505   \n",
       "2  POINT (19.34913 -33.87057)  0.24115  0.16345  0.12075  0.11645  0.12010   \n",
       "3  POINT (19.51603 -33.83581)  0.26515  0.19700  0.13405  0.14895  0.17200   \n",
       "4  POINT (19.25444 -33.97002)  0.21990  0.14090  0.10530  0.09820  0.09390   \n",
       "\n",
       "        B5       B6       B7       B8  class  \n",
       "0  0.20375  0.24760  0.27035  0.29430      0  \n",
       "1  0.10820  0.14485  0.16175  0.15410      0  \n",
       "2  0.15425  0.19385  0.21330  0.20035      0  \n",
       "3  0.19065  0.21160  0.22500  0.21065      0  \n",
       "4  0.11480  0.15850  0.17780  0.18410      0  "
      ]
     },
     "execution_count": 13,
     "metadata": {},
     "output_type": "execute_result"
    }
   ],
   "source": [
    "# convert to geopandas dataframe\n",
    "gdf23 = ee.data.computeFeatures({\n",
    "    'expression': sample,\n",
    "    'fileFormat': 'GEOPANDAS_GEODATAFRAME'\n",
    "})\n",
    "\n",
    "# Need to set the CRS.\n",
    "# Make sure it matches the CRS of FeatureCollection geometries.\n",
    "gdf23.crs = 'EPSG:4326'\n",
    "gdf23.head()"
   ]
  },
  {
   "cell_type": "code",
   "execution_count": 14,
   "metadata": {
    "cellUniqueIdByVincent": "60c70"
   },
   "outputs": [
    {
     "data": {
      "text/html": [
       "\n",
       "            <style>\n",
       "                .geemap-dark {\n",
       "                    --jp-widgets-color: white;\n",
       "                    --jp-widgets-label-color: white;\n",
       "                    --jp-ui-font-color1: white;\n",
       "                    --jp-layout-color2: #454545;\n",
       "                    background-color: #383838;\n",
       "                }\n",
       "\n",
       "                .geemap-dark .jupyter-button {\n",
       "                    --jp-layout-color3: #383838;\n",
       "                }\n",
       "\n",
       "                .geemap-colab {\n",
       "                    background-color: var(--colab-primary-surface-color, white);\n",
       "                }\n",
       "\n",
       "                .geemap-colab .jupyter-button {\n",
       "                    --jp-layout-color3: var(--colab-primary-surface-color, white);\n",
       "                }\n",
       "            </style>\n",
       "            "
      ],
      "text/plain": [
       "<IPython.core.display.HTML object>"
      ]
     },
     "metadata": {},
     "output_type": "display_data"
    },
    {
     "data": {
      "text/html": [
       "<style>#sk-container-id-1 {\n",
       "  /* Definition of color scheme common for light and dark mode */\n",
       "  --sklearn-color-text: black;\n",
       "  --sklearn-color-line: gray;\n",
       "  /* Definition of color scheme for unfitted estimators */\n",
       "  --sklearn-color-unfitted-level-0: #fff5e6;\n",
       "  --sklearn-color-unfitted-level-1: #f6e4d2;\n",
       "  --sklearn-color-unfitted-level-2: #ffe0b3;\n",
       "  --sklearn-color-unfitted-level-3: chocolate;\n",
       "  /* Definition of color scheme for fitted estimators */\n",
       "  --sklearn-color-fitted-level-0: #f0f8ff;\n",
       "  --sklearn-color-fitted-level-1: #d4ebff;\n",
       "  --sklearn-color-fitted-level-2: #b3dbfd;\n",
       "  --sklearn-color-fitted-level-3: cornflowerblue;\n",
       "\n",
       "  /* Specific color for light theme */\n",
       "  --sklearn-color-text-on-default-background: var(--sg-text-color, var(--theme-code-foreground, var(--jp-content-font-color1, black)));\n",
       "  --sklearn-color-background: var(--sg-background-color, var(--theme-background, var(--jp-layout-color0, white)));\n",
       "  --sklearn-color-border-box: var(--sg-text-color, var(--theme-code-foreground, var(--jp-content-font-color1, black)));\n",
       "  --sklearn-color-icon: #696969;\n",
       "\n",
       "  @media (prefers-color-scheme: dark) {\n",
       "    /* Redefinition of color scheme for dark theme */\n",
       "    --sklearn-color-text-on-default-background: var(--sg-text-color, var(--theme-code-foreground, var(--jp-content-font-color1, white)));\n",
       "    --sklearn-color-background: var(--sg-background-color, var(--theme-background, var(--jp-layout-color0, #111)));\n",
       "    --sklearn-color-border-box: var(--sg-text-color, var(--theme-code-foreground, var(--jp-content-font-color1, white)));\n",
       "    --sklearn-color-icon: #878787;\n",
       "  }\n",
       "}\n",
       "\n",
       "#sk-container-id-1 {\n",
       "  color: var(--sklearn-color-text);\n",
       "}\n",
       "\n",
       "#sk-container-id-1 pre {\n",
       "  padding: 0;\n",
       "}\n",
       "\n",
       "#sk-container-id-1 input.sk-hidden--visually {\n",
       "  border: 0;\n",
       "  clip: rect(1px 1px 1px 1px);\n",
       "  clip: rect(1px, 1px, 1px, 1px);\n",
       "  height: 1px;\n",
       "  margin: -1px;\n",
       "  overflow: hidden;\n",
       "  padding: 0;\n",
       "  position: absolute;\n",
       "  width: 1px;\n",
       "}\n",
       "\n",
       "#sk-container-id-1 div.sk-dashed-wrapped {\n",
       "  border: 1px dashed var(--sklearn-color-line);\n",
       "  margin: 0 0.4em 0.5em 0.4em;\n",
       "  box-sizing: border-box;\n",
       "  padding-bottom: 0.4em;\n",
       "  background-color: var(--sklearn-color-background);\n",
       "}\n",
       "\n",
       "#sk-container-id-1 div.sk-container {\n",
       "  /* jupyter's `normalize.less` sets `[hidden] { display: none; }`\n",
       "     but bootstrap.min.css set `[hidden] { display: none !important; }`\n",
       "     so we also need the `!important` here to be able to override the\n",
       "     default hidden behavior on the sphinx rendered scikit-learn.org.\n",
       "     See: https://github.com/scikit-learn/scikit-learn/issues/21755 */\n",
       "  display: inline-block !important;\n",
       "  position: relative;\n",
       "}\n",
       "\n",
       "#sk-container-id-1 div.sk-text-repr-fallback {\n",
       "  display: none;\n",
       "}\n",
       "\n",
       "div.sk-parallel-item,\n",
       "div.sk-serial,\n",
       "div.sk-item {\n",
       "  /* draw centered vertical line to link estimators */\n",
       "  background-image: linear-gradient(var(--sklearn-color-text-on-default-background), var(--sklearn-color-text-on-default-background));\n",
       "  background-size: 2px 100%;\n",
       "  background-repeat: no-repeat;\n",
       "  background-position: center center;\n",
       "}\n",
       "\n",
       "/* Parallel-specific style estimator block */\n",
       "\n",
       "#sk-container-id-1 div.sk-parallel-item::after {\n",
       "  content: \"\";\n",
       "  width: 100%;\n",
       "  border-bottom: 2px solid var(--sklearn-color-text-on-default-background);\n",
       "  flex-grow: 1;\n",
       "}\n",
       "\n",
       "#sk-container-id-1 div.sk-parallel {\n",
       "  display: flex;\n",
       "  align-items: stretch;\n",
       "  justify-content: center;\n",
       "  background-color: var(--sklearn-color-background);\n",
       "  position: relative;\n",
       "}\n",
       "\n",
       "#sk-container-id-1 div.sk-parallel-item {\n",
       "  display: flex;\n",
       "  flex-direction: column;\n",
       "}\n",
       "\n",
       "#sk-container-id-1 div.sk-parallel-item:first-child::after {\n",
       "  align-self: flex-end;\n",
       "  width: 50%;\n",
       "}\n",
       "\n",
       "#sk-container-id-1 div.sk-parallel-item:last-child::after {\n",
       "  align-self: flex-start;\n",
       "  width: 50%;\n",
       "}\n",
       "\n",
       "#sk-container-id-1 div.sk-parallel-item:only-child::after {\n",
       "  width: 0;\n",
       "}\n",
       "\n",
       "/* Serial-specific style estimator block */\n",
       "\n",
       "#sk-container-id-1 div.sk-serial {\n",
       "  display: flex;\n",
       "  flex-direction: column;\n",
       "  align-items: center;\n",
       "  background-color: var(--sklearn-color-background);\n",
       "  padding-right: 1em;\n",
       "  padding-left: 1em;\n",
       "}\n",
       "\n",
       "\n",
       "/* Toggleable style: style used for estimator/Pipeline/ColumnTransformer box that is\n",
       "clickable and can be expanded/collapsed.\n",
       "- Pipeline and ColumnTransformer use this feature and define the default style\n",
       "- Estimators will overwrite some part of the style using the `sk-estimator` class\n",
       "*/\n",
       "\n",
       "/* Pipeline and ColumnTransformer style (default) */\n",
       "\n",
       "#sk-container-id-1 div.sk-toggleable {\n",
       "  /* Default theme specific background. It is overwritten whether we have a\n",
       "  specific estimator or a Pipeline/ColumnTransformer */\n",
       "  background-color: var(--sklearn-color-background);\n",
       "}\n",
       "\n",
       "/* Toggleable label */\n",
       "#sk-container-id-1 label.sk-toggleable__label {\n",
       "  cursor: pointer;\n",
       "  display: block;\n",
       "  width: 100%;\n",
       "  margin-bottom: 0;\n",
       "  padding: 0.5em;\n",
       "  box-sizing: border-box;\n",
       "  text-align: center;\n",
       "}\n",
       "\n",
       "#sk-container-id-1 label.sk-toggleable__label-arrow:before {\n",
       "  /* Arrow on the left of the label */\n",
       "  content: \"▸\";\n",
       "  float: left;\n",
       "  margin-right: 0.25em;\n",
       "  color: var(--sklearn-color-icon);\n",
       "}\n",
       "\n",
       "#sk-container-id-1 label.sk-toggleable__label-arrow:hover:before {\n",
       "  color: var(--sklearn-color-text);\n",
       "}\n",
       "\n",
       "/* Toggleable content - dropdown */\n",
       "\n",
       "#sk-container-id-1 div.sk-toggleable__content {\n",
       "  max-height: 0;\n",
       "  max-width: 0;\n",
       "  overflow: hidden;\n",
       "  text-align: left;\n",
       "  /* unfitted */\n",
       "  background-color: var(--sklearn-color-unfitted-level-0);\n",
       "}\n",
       "\n",
       "#sk-container-id-1 div.sk-toggleable__content.fitted {\n",
       "  /* fitted */\n",
       "  background-color: var(--sklearn-color-fitted-level-0);\n",
       "}\n",
       "\n",
       "#sk-container-id-1 div.sk-toggleable__content pre {\n",
       "  margin: 0.2em;\n",
       "  border-radius: 0.25em;\n",
       "  color: var(--sklearn-color-text);\n",
       "  /* unfitted */\n",
       "  background-color: var(--sklearn-color-unfitted-level-0);\n",
       "}\n",
       "\n",
       "#sk-container-id-1 div.sk-toggleable__content.fitted pre {\n",
       "  /* unfitted */\n",
       "  background-color: var(--sklearn-color-fitted-level-0);\n",
       "}\n",
       "\n",
       "#sk-container-id-1 input.sk-toggleable__control:checked~div.sk-toggleable__content {\n",
       "  /* Expand drop-down */\n",
       "  max-height: 200px;\n",
       "  max-width: 100%;\n",
       "  overflow: auto;\n",
       "}\n",
       "\n",
       "#sk-container-id-1 input.sk-toggleable__control:checked~label.sk-toggleable__label-arrow:before {\n",
       "  content: \"▾\";\n",
       "}\n",
       "\n",
       "/* Pipeline/ColumnTransformer-specific style */\n",
       "\n",
       "#sk-container-id-1 div.sk-label input.sk-toggleable__control:checked~label.sk-toggleable__label {\n",
       "  color: var(--sklearn-color-text);\n",
       "  background-color: var(--sklearn-color-unfitted-level-2);\n",
       "}\n",
       "\n",
       "#sk-container-id-1 div.sk-label.fitted input.sk-toggleable__control:checked~label.sk-toggleable__label {\n",
       "  background-color: var(--sklearn-color-fitted-level-2);\n",
       "}\n",
       "\n",
       "/* Estimator-specific style */\n",
       "\n",
       "/* Colorize estimator box */\n",
       "#sk-container-id-1 div.sk-estimator input.sk-toggleable__control:checked~label.sk-toggleable__label {\n",
       "  /* unfitted */\n",
       "  background-color: var(--sklearn-color-unfitted-level-2);\n",
       "}\n",
       "\n",
       "#sk-container-id-1 div.sk-estimator.fitted input.sk-toggleable__control:checked~label.sk-toggleable__label {\n",
       "  /* fitted */\n",
       "  background-color: var(--sklearn-color-fitted-level-2);\n",
       "}\n",
       "\n",
       "#sk-container-id-1 div.sk-label label.sk-toggleable__label,\n",
       "#sk-container-id-1 div.sk-label label {\n",
       "  /* The background is the default theme color */\n",
       "  color: var(--sklearn-color-text-on-default-background);\n",
       "}\n",
       "\n",
       "/* On hover, darken the color of the background */\n",
       "#sk-container-id-1 div.sk-label:hover label.sk-toggleable__label {\n",
       "  color: var(--sklearn-color-text);\n",
       "  background-color: var(--sklearn-color-unfitted-level-2);\n",
       "}\n",
       "\n",
       "/* Label box, darken color on hover, fitted */\n",
       "#sk-container-id-1 div.sk-label.fitted:hover label.sk-toggleable__label.fitted {\n",
       "  color: var(--sklearn-color-text);\n",
       "  background-color: var(--sklearn-color-fitted-level-2);\n",
       "}\n",
       "\n",
       "/* Estimator label */\n",
       "\n",
       "#sk-container-id-1 div.sk-label label {\n",
       "  font-family: monospace;\n",
       "  font-weight: bold;\n",
       "  display: inline-block;\n",
       "  line-height: 1.2em;\n",
       "}\n",
       "\n",
       "#sk-container-id-1 div.sk-label-container {\n",
       "  text-align: center;\n",
       "}\n",
       "\n",
       "/* Estimator-specific */\n",
       "#sk-container-id-1 div.sk-estimator {\n",
       "  font-family: monospace;\n",
       "  border: 1px dotted var(--sklearn-color-border-box);\n",
       "  border-radius: 0.25em;\n",
       "  box-sizing: border-box;\n",
       "  margin-bottom: 0.5em;\n",
       "  /* unfitted */\n",
       "  background-color: var(--sklearn-color-unfitted-level-0);\n",
       "}\n",
       "\n",
       "#sk-container-id-1 div.sk-estimator.fitted {\n",
       "  /* fitted */\n",
       "  background-color: var(--sklearn-color-fitted-level-0);\n",
       "}\n",
       "\n",
       "/* on hover */\n",
       "#sk-container-id-1 div.sk-estimator:hover {\n",
       "  /* unfitted */\n",
       "  background-color: var(--sklearn-color-unfitted-level-2);\n",
       "}\n",
       "\n",
       "#sk-container-id-1 div.sk-estimator.fitted:hover {\n",
       "  /* fitted */\n",
       "  background-color: var(--sklearn-color-fitted-level-2);\n",
       "}\n",
       "\n",
       "/* Specification for estimator info (e.g. \"i\" and \"?\") */\n",
       "\n",
       "/* Common style for \"i\" and \"?\" */\n",
       "\n",
       ".sk-estimator-doc-link,\n",
       "a:link.sk-estimator-doc-link,\n",
       "a:visited.sk-estimator-doc-link {\n",
       "  float: right;\n",
       "  font-size: smaller;\n",
       "  line-height: 1em;\n",
       "  font-family: monospace;\n",
       "  background-color: var(--sklearn-color-background);\n",
       "  border-radius: 1em;\n",
       "  height: 1em;\n",
       "  width: 1em;\n",
       "  text-decoration: none !important;\n",
       "  margin-left: 1ex;\n",
       "  /* unfitted */\n",
       "  border: var(--sklearn-color-unfitted-level-1) 1pt solid;\n",
       "  color: var(--sklearn-color-unfitted-level-1);\n",
       "}\n",
       "\n",
       ".sk-estimator-doc-link.fitted,\n",
       "a:link.sk-estimator-doc-link.fitted,\n",
       "a:visited.sk-estimator-doc-link.fitted {\n",
       "  /* fitted */\n",
       "  border: var(--sklearn-color-fitted-level-1) 1pt solid;\n",
       "  color: var(--sklearn-color-fitted-level-1);\n",
       "}\n",
       "\n",
       "/* On hover */\n",
       "div.sk-estimator:hover .sk-estimator-doc-link:hover,\n",
       ".sk-estimator-doc-link:hover,\n",
       "div.sk-label-container:hover .sk-estimator-doc-link:hover,\n",
       ".sk-estimator-doc-link:hover {\n",
       "  /* unfitted */\n",
       "  background-color: var(--sklearn-color-unfitted-level-3);\n",
       "  color: var(--sklearn-color-background);\n",
       "  text-decoration: none;\n",
       "}\n",
       "\n",
       "div.sk-estimator.fitted:hover .sk-estimator-doc-link.fitted:hover,\n",
       ".sk-estimator-doc-link.fitted:hover,\n",
       "div.sk-label-container:hover .sk-estimator-doc-link.fitted:hover,\n",
       ".sk-estimator-doc-link.fitted:hover {\n",
       "  /* fitted */\n",
       "  background-color: var(--sklearn-color-fitted-level-3);\n",
       "  color: var(--sklearn-color-background);\n",
       "  text-decoration: none;\n",
       "}\n",
       "\n",
       "/* Span, style for the box shown on hovering the info icon */\n",
       ".sk-estimator-doc-link span {\n",
       "  display: none;\n",
       "  z-index: 9999;\n",
       "  position: relative;\n",
       "  font-weight: normal;\n",
       "  right: .2ex;\n",
       "  padding: .5ex;\n",
       "  margin: .5ex;\n",
       "  width: min-content;\n",
       "  min-width: 20ex;\n",
       "  max-width: 50ex;\n",
       "  color: var(--sklearn-color-text);\n",
       "  box-shadow: 2pt 2pt 4pt #999;\n",
       "  /* unfitted */\n",
       "  background: var(--sklearn-color-unfitted-level-0);\n",
       "  border: .5pt solid var(--sklearn-color-unfitted-level-3);\n",
       "}\n",
       "\n",
       ".sk-estimator-doc-link.fitted span {\n",
       "  /* fitted */\n",
       "  background: var(--sklearn-color-fitted-level-0);\n",
       "  border: var(--sklearn-color-fitted-level-3);\n",
       "}\n",
       "\n",
       ".sk-estimator-doc-link:hover span {\n",
       "  display: block;\n",
       "}\n",
       "\n",
       "/* \"?\"-specific style due to the `<a>` HTML tag */\n",
       "\n",
       "#sk-container-id-1 a.estimator_doc_link {\n",
       "  float: right;\n",
       "  font-size: 1rem;\n",
       "  line-height: 1em;\n",
       "  font-family: monospace;\n",
       "  background-color: var(--sklearn-color-background);\n",
       "  border-radius: 1rem;\n",
       "  height: 1rem;\n",
       "  width: 1rem;\n",
       "  text-decoration: none;\n",
       "  /* unfitted */\n",
       "  color: var(--sklearn-color-unfitted-level-1);\n",
       "  border: var(--sklearn-color-unfitted-level-1) 1pt solid;\n",
       "}\n",
       "\n",
       "#sk-container-id-1 a.estimator_doc_link.fitted {\n",
       "  /* fitted */\n",
       "  border: var(--sklearn-color-fitted-level-1) 1pt solid;\n",
       "  color: var(--sklearn-color-fitted-level-1);\n",
       "}\n",
       "\n",
       "/* On hover */\n",
       "#sk-container-id-1 a.estimator_doc_link:hover {\n",
       "  /* unfitted */\n",
       "  background-color: var(--sklearn-color-unfitted-level-3);\n",
       "  color: var(--sklearn-color-background);\n",
       "  text-decoration: none;\n",
       "}\n",
       "\n",
       "#sk-container-id-1 a.estimator_doc_link.fitted:hover {\n",
       "  /* fitted */\n",
       "  background-color: var(--sklearn-color-fitted-level-3);\n",
       "}\n",
       "</style><div id=\"sk-container-id-1\" class=\"sk-top-container\"><div class=\"sk-text-repr-fallback\"><pre>RandomForestClassifier(n_jobs=-1, random_state=42)</pre><b>In a Jupyter environment, please rerun this cell to show the HTML representation or trust the notebook. <br />On GitHub, the HTML representation is unable to render, please try loading this page with nbviewer.org.</b></div><div class=\"sk-container\" hidden><div class=\"sk-item\"><div class=\"sk-estimator fitted sk-toggleable\"><input class=\"sk-toggleable__control sk-hidden--visually\" id=\"sk-estimator-id-1\" type=\"checkbox\" checked><label for=\"sk-estimator-id-1\" class=\"sk-toggleable__label fitted sk-toggleable__label-arrow fitted\">&nbsp;&nbsp;RandomForestClassifier<a class=\"sk-estimator-doc-link fitted\" rel=\"noreferrer\" target=\"_blank\" href=\"https://scikit-learn.org/1.5/modules/generated/sklearn.ensemble.RandomForestClassifier.html\">?<span>Documentation for RandomForestClassifier</span></a><span class=\"sk-estimator-doc-link fitted\">i<span>Fitted</span></span></label><div class=\"sk-toggleable__content fitted\"><pre>RandomForestClassifier(n_jobs=-1, random_state=42)</pre></div> </div></div></div></div>"
      ],
      "text/plain": [
       "RandomForestClassifier(n_jobs=-1, random_state=42)"
      ]
     },
     "execution_count": 14,
     "metadata": {},
     "output_type": "execute_result"
    }
   ],
   "source": [
    "from sklearn.ensemble import RandomForestClassifier \n",
    "\n",
    "wavelength23_cols = ['B2','B3', 'B4', 'B5', 'B6', 'B7', 'B8','B11','B12']\n",
    "clf23 = RandomForestClassifier(random_state=42, n_jobs=-1)\n",
    "clf23.fit(gdf23[wavelength23_cols], gdf23['class'].astype(int))"
   ]
  },
  {
   "cell_type": "code",
   "execution_count": 15,
   "metadata": {
    "cellUniqueIdByVincent": "14813"
   },
   "outputs": [
    {
     "data": {
      "text/html": [
       "\n",
       "            <style>\n",
       "                .geemap-dark {\n",
       "                    --jp-widgets-color: white;\n",
       "                    --jp-widgets-label-color: white;\n",
       "                    --jp-ui-font-color1: white;\n",
       "                    --jp-layout-color2: #454545;\n",
       "                    background-color: #383838;\n",
       "                }\n",
       "\n",
       "                .geemap-dark .jupyter-button {\n",
       "                    --jp-layout-color3: #383838;\n",
       "                }\n",
       "\n",
       "                .geemap-colab {\n",
       "                    background-color: var(--colab-primary-surface-color, white);\n",
       "                }\n",
       "\n",
       "                .geemap-colab .jupyter-button {\n",
       "                    --jp-layout-color3: var(--colab-primary-surface-color, white);\n",
       "                }\n",
       "            </style>\n",
       "            "
      ],
      "text/plain": [
       "<IPython.core.display.HTML object>"
      ]
     },
     "metadata": {},
     "output_type": "display_data"
    },
    {
     "name": "stdout",
     "output_type": "stream",
     "text": [
      "Model saved to C:\\Users\\coach\\myfiles\\postdoc\\Invasives\\models\\CS1_S2_E3_2018_RF.pkl\n"
     ]
    }
   ],
   "source": [
    "import joblib\n",
    "# -------------------------------------------------\n",
    "# 2. Export the trained model to a file\n",
    "# -------------------------------------------------\n",
    "\n",
    "model_path = r\"C:\\Users\\coach\\myfiles\\postdoc\\Invasives\\models\\CS1_S2_E3_2018_RF.pkl\"   # choose any path you like\n",
    "joblib.dump(clf23, model_path)\n",
    "\n",
    "print(f\"Model saved to {model_path}\")"
   ]
  },
  {
   "cell_type": "code",
   "execution_count": 33,
   "metadata": {
    "cellUniqueIdByVincent": "30204"
   },
   "outputs": [
    {
     "data": {
      "text/html": [
       "\n",
       "            <style>\n",
       "                .geemap-dark {\n",
       "                    --jp-widgets-color: white;\n",
       "                    --jp-widgets-label-color: white;\n",
       "                    --jp-ui-font-color1: white;\n",
       "                    --jp-layout-color2: #454545;\n",
       "                    background-color: #383838;\n",
       "                }\n",
       "\n",
       "                .geemap-dark .jupyter-button {\n",
       "                    --jp-layout-color3: #383838;\n",
       "                }\n",
       "\n",
       "                .geemap-colab {\n",
       "                    background-color: var(--colab-primary-surface-color, white);\n",
       "                }\n",
       "\n",
       "                .geemap-colab .jupyter-button {\n",
       "                    --jp-layout-color3: var(--colab-primary-surface-color, white);\n",
       "                }\n",
       "            </style>\n",
       "            "
      ],
      "text/plain": [
       "<IPython.core.display.HTML object>"
      ]
     },
     "metadata": {},
     "output_type": "display_data"
    },
    {
     "data": {
      "application/vnd.jupyter.widget-view+json": {
       "model_id": "83a8b94c5a744b19bcb1305f9bed96e4",
       "version_major": 2,
       "version_minor": 0
      },
      "text/plain": [
       "pred_composite2023.tif:   0%|          | 0/17765 [00:00<?, ?it/s]"
      ]
     },
     "metadata": {},
     "output_type": "display_data"
    }
   ],
   "source": [
    "# Sanity check before running all images- Perform inference for a single planet image\n",
    "infile = r\"C:\\Users\\coach\\myfiles\\postdoc\\Invasives\\data\\Invasie species\\composites\\composite2023.tif\"\n",
    "outfile = r\"C:\\Users\\coach\\myfiles\\postdoc\\Invasives\\data\\Invasie species\\composites\\pred_composite2023.tif\"\n",
    "inference(infile = infile, confModel = clf23, outfile = outfile, patchSize = 32, num_workers = 7)"
   ]
  },
  {
   "cell_type": "markdown",
   "metadata": {
    "cellUniqueIdByVincent": "a6a11"
   },
   "source": [
    "### Evaluate 2023 map"
   ]
  },
  {
   "cell_type": "code",
   "execution_count": 36,
   "metadata": {
    "cellUniqueIdByVincent": "f8e82"
   },
   "outputs": [
    {
     "data": {
      "text/html": [
       "\n",
       "            <style>\n",
       "                .geemap-dark {\n",
       "                    --jp-widgets-color: white;\n",
       "                    --jp-widgets-label-color: white;\n",
       "                    --jp-ui-font-color1: white;\n",
       "                    --jp-layout-color2: #454545;\n",
       "                    background-color: #383838;\n",
       "                }\n",
       "\n",
       "                .geemap-dark .jupyter-button {\n",
       "                    --jp-layout-color3: #383838;\n",
       "                }\n",
       "\n",
       "                .geemap-colab {\n",
       "                    background-color: var(--colab-primary-surface-color, white);\n",
       "                }\n",
       "\n",
       "                .geemap-colab .jupyter-button {\n",
       "                    --jp-layout-color3: var(--colab-primary-surface-color, white);\n",
       "                }\n",
       "            </style>\n",
       "            "
      ],
      "text/plain": [
       "<IPython.core.display.HTML object>"
      ]
     },
     "metadata": {},
     "output_type": "display_data"
    },
    {
     "data": {
      "text/html": [
       "<div id=\"269700b2-b167-4d93-9acc-9380891eda4c\" style=\"height: auto; width:100%;\"></div>"
      ],
      "text/plain": [
       "<IPython.core.display.HTML object>"
      ]
     },
     "metadata": {},
     "output_type": "display_data"
    },
    {
     "data": {
      "text/html": [
       "\n",
       "        <script src=\"/static/components/requirejs/require.js\"></script> <!-- Needed in Colab -->\n",
       "        <script>\n",
       "            require([\"https://rawgit.com/caldwell/renderjson/master/renderjson.js\"], function() {\n",
       "              renderjson.set_show_to_level(1)\n",
       "              document.getElementById('269700b2-b167-4d93-9acc-9380891eda4c').appendChild(renderjson({\"type\": \"Feature\", \"geometry\": {\"type\": \"Point\", \"coordinates\": [19.07260971703242, -33.805537565931296]}, \"id\": \"000000000000000003fb\", \"properties\": {\"2018_2023\": 0.006702983744329, \"2023_class\": \"None\", \"change\": 0, \"class\": 0, \"fid\": 1028, \"group\": 0, \"layer\": \"valid\", \"notes\": \"\", \"path\": \"/Users/glennmoncrieff/Documents/qgis/valid.gpkg|layername=valid\"}}))\n",
       "            });\n",
       "        </script>\n",
       "    "
      ],
      "text/plain": [
       "<IPython.core.display.HTML object>"
      ]
     },
     "metadata": {},
     "output_type": "display_data"
    }
   ],
   "source": [
    "eeprint(pts.first())"
   ]
  },
  {
   "cell_type": "code",
   "execution_count": 28,
   "metadata": {
    "cellUniqueIdByVincent": "70671"
   },
   "outputs": [
    {
     "data": {
      "text/html": [
       "\n",
       "            <style>\n",
       "                .geemap-dark {\n",
       "                    --jp-widgets-color: white;\n",
       "                    --jp-widgets-label-color: white;\n",
       "                    --jp-ui-font-color1: white;\n",
       "                    --jp-layout-color2: #454545;\n",
       "                    background-color: #383838;\n",
       "                }\n",
       "\n",
       "                .geemap-dark .jupyter-button {\n",
       "                    --jp-layout-color3: #383838;\n",
       "                }\n",
       "\n",
       "                .geemap-colab {\n",
       "                    background-color: var(--colab-primary-surface-color, white);\n",
       "                }\n",
       "\n",
       "                .geemap-colab .jupyter-button {\n",
       "                    --jp-layout-color3: var(--colab-primary-surface-color, white);\n",
       "                }\n",
       "            </style>\n",
       "            "
      ],
      "text/plain": [
       "<IPython.core.display.HTML object>"
      ]
     },
     "metadata": {},
     "output_type": "display_data"
    },
    {
     "data": {
      "text/html": [
       "<div id=\"9e6d33b3-3990-482d-8c42-b32fa7148703\" style=\"height: auto; width:100%;\"></div>"
      ],
      "text/plain": [
       "<IPython.core.display.HTML object>"
      ]
     },
     "metadata": {},
     "output_type": "display_data"
    },
    {
     "data": {
      "text/html": [
       "\n",
       "        <script src=\"/static/components/requirejs/require.js\"></script> <!-- Needed in Colab -->\n",
       "        <script>\n",
       "            require([\"https://rawgit.com/caldwell/renderjson/master/renderjson.js\"], function() {\n",
       "              renderjson.set_show_to_level(1)\n",
       "              document.getElementById('9e6d33b3-3990-482d-8c42-b32fa7148703').appendChild(renderjson([0, 0, 0, 0, 0]))\n",
       "            });\n",
       "        </script>\n",
       "    "
      ],
      "text/plain": [
       "<IPython.core.display.HTML object>"
      ]
     },
     "metadata": {},
     "output_type": "display_data"
    }
   ],
   "source": [
    "pred2023 = ee.Image(\"projects/ee-gsingh/assets/postdoc/pred_composite2023\").rename('classification')\n",
    "\n",
    "def update_2023_class(f):\n",
    "    change = ee.Number(f.get('change'))\n",
    "    new_class = ee.Algorithms.If(\n",
    "        change.eq(0),\n",
    "        f.get('class'),        # if change == 0 → set to 'class'\n",
    "        f.get('2023_class')    # if change == 1 → leave unchanged\n",
    "    )\n",
    "    return f.set('2023_class', new_class)\n",
    "\n",
    "updated_pts = pts.map(update_2023_class)\n",
    "\n",
    "# Buffer radius in meters\n",
    "bufferDist = 100  \n",
    "\n",
    "# Step 1: Buffer and merge all exclude points into a single geometry\n",
    "excludeBufferUnion = (\n",
    "    sample\n",
    "    .map(lambda f: f.buffer(bufferDist, 10))\n",
    "    .union(1)  # merge into one feature\n",
    "    .geometry()\n",
    ")\n",
    "\n",
    "# Step 2: Filter pointsKeep to those NOT intersecting the buffer union\n",
    "pointsFiltered = updated_pts.filter(ee.Filter.bounds(excludeBufferUnion).Not())\n",
    "\n",
    "\n",
    "results = pred2023.sampleRegions(\n",
    "    collection=pointsFiltered.filter(ee.Filter.lt('2023_class', 12)),\n",
    "    properties=['change', 'class', '2023_class'],\n",
    "    scale=10\n",
    ")\n",
    "eeprint(results.limit(5).aggregate_array('2023_class'))"
   ]
  },
  {
   "cell_type": "code",
   "execution_count": 26,
   "metadata": {
    "cellUniqueIdByVincent": "280b0"
   },
   "outputs": [
    {
     "data": {
      "text/html": [
       "\n",
       "            <style>\n",
       "                .geemap-dark {\n",
       "                    --jp-widgets-color: white;\n",
       "                    --jp-widgets-label-color: white;\n",
       "                    --jp-ui-font-color1: white;\n",
       "                    --jp-layout-color2: #454545;\n",
       "                    background-color: #383838;\n",
       "                }\n",
       "\n",
       "                .geemap-dark .jupyter-button {\n",
       "                    --jp-layout-color3: #383838;\n",
       "                }\n",
       "\n",
       "                .geemap-colab {\n",
       "                    background-color: var(--colab-primary-surface-color, white);\n",
       "                }\n",
       "\n",
       "                .geemap-colab .jupyter-button {\n",
       "                    --jp-layout-color3: var(--colab-primary-surface-color, white);\n",
       "                }\n",
       "            </style>\n",
       "            "
      ],
      "text/plain": [
       "<IPython.core.display.HTML object>"
      ]
     },
     "metadata": {},
     "output_type": "display_data"
    },
    {
     "data": {
      "text/html": [
       "<div id=\"82ee8eed-d46e-439e-8552-6a93188e2e1d\" style=\"height: auto; width:100%;\"></div>"
      ],
      "text/plain": [
       "<IPython.core.display.HTML object>"
      ]
     },
     "metadata": {},
     "output_type": "display_data"
    },
    {
     "data": {
      "text/html": [
       "\n",
       "        <script src=\"/static/components/requirejs/require.js\"></script> <!-- Needed in Colab -->\n",
       "        <script>\n",
       "            require([\"https://rawgit.com/caldwell/renderjson/master/renderjson.js\"], function() {\n",
       "              renderjson.set_show_to_level(1)\n",
       "              document.getElementById('82ee8eed-d46e-439e-8552-6a93188e2e1d').appendChild(renderjson(1688))\n",
       "            });\n",
       "        </script>\n",
       "    "
      ],
      "text/plain": [
       "<IPython.core.display.HTML object>"
      ]
     },
     "metadata": {},
     "output_type": "display_data"
    }
   ],
   "source": [
    "eeprint(updated_pts.size())"
   ]
  },
  {
   "cell_type": "code",
   "execution_count": 27,
   "metadata": {
    "cellUniqueIdByVincent": "8255d"
   },
   "outputs": [
    {
     "data": {
      "text/html": [
       "\n",
       "            <style>\n",
       "                .geemap-dark {\n",
       "                    --jp-widgets-color: white;\n",
       "                    --jp-widgets-label-color: white;\n",
       "                    --jp-ui-font-color1: white;\n",
       "                    --jp-layout-color2: #454545;\n",
       "                    background-color: #383838;\n",
       "                }\n",
       "\n",
       "                .geemap-dark .jupyter-button {\n",
       "                    --jp-layout-color3: #383838;\n",
       "                }\n",
       "\n",
       "                .geemap-colab {\n",
       "                    background-color: var(--colab-primary-surface-color, white);\n",
       "                }\n",
       "\n",
       "                .geemap-colab .jupyter-button {\n",
       "                    --jp-layout-color3: var(--colab-primary-surface-color, white);\n",
       "                }\n",
       "            </style>\n",
       "            "
      ],
      "text/plain": [
       "<IPython.core.display.HTML object>"
      ]
     },
     "metadata": {},
     "output_type": "display_data"
    },
    {
     "data": {
      "text/html": [
       "<div id=\"fc5547fa-e578-4909-959b-114cdadb5c05\" style=\"height: auto; width:100%;\"></div>"
      ],
      "text/plain": [
       "<IPython.core.display.HTML object>"
      ]
     },
     "metadata": {},
     "output_type": "display_data"
    },
    {
     "data": {
      "text/html": [
       "\n",
       "        <script src=\"/static/components/requirejs/require.js\"></script> <!-- Needed in Colab -->\n",
       "        <script>\n",
       "            require([\"https://rawgit.com/caldwell/renderjson/master/renderjson.js\"], function() {\n",
       "              renderjson.set_show_to_level(1)\n",
       "              document.getElementById('fc5547fa-e578-4909-959b-114cdadb5c05').appendChild(renderjson(406))\n",
       "            });\n",
       "        </script>\n",
       "    "
      ],
      "text/plain": [
       "<IPython.core.display.HTML object>"
      ]
     },
     "metadata": {},
     "output_type": "display_data"
    }
   ],
   "source": [
    "eeprint(pointsFiltered.size())"
   ]
  },
  {
   "cell_type": "code",
   "execution_count": 29,
   "metadata": {
    "cellUniqueIdByVincent": "27eae"
   },
   "outputs": [
    {
     "data": {
      "text/html": [
       "\n",
       "            <style>\n",
       "                .geemap-dark {\n",
       "                    --jp-widgets-color: white;\n",
       "                    --jp-widgets-label-color: white;\n",
       "                    --jp-ui-font-color1: white;\n",
       "                    --jp-layout-color2: #454545;\n",
       "                    background-color: #383838;\n",
       "                }\n",
       "\n",
       "                .geemap-dark .jupyter-button {\n",
       "                    --jp-layout-color3: #383838;\n",
       "                }\n",
       "\n",
       "                .geemap-colab {\n",
       "                    background-color: var(--colab-primary-surface-color, white);\n",
       "                }\n",
       "\n",
       "                .geemap-colab .jupyter-button {\n",
       "                    --jp-layout-color3: var(--colab-primary-surface-color, white);\n",
       "                }\n",
       "            </style>\n",
       "            "
      ],
      "text/plain": [
       "<IPython.core.display.HTML object>"
      ]
     },
     "metadata": {},
     "output_type": "display_data"
    },
    {
     "data": {
      "text/html": [
       "<div>\n",
       "<style scoped>\n",
       "    .dataframe tbody tr th:only-of-type {\n",
       "        vertical-align: middle;\n",
       "    }\n",
       "\n",
       "    .dataframe tbody tr th {\n",
       "        vertical-align: top;\n",
       "    }\n",
       "\n",
       "    .dataframe thead th {\n",
       "        text-align: right;\n",
       "    }\n",
       "</style>\n",
       "<table border=\"1\" class=\"dataframe\">\n",
       "  <thead>\n",
       "    <tr style=\"text-align: right;\">\n",
       "      <th></th>\n",
       "      <th>geometry</th>\n",
       "      <th>2023_class</th>\n",
       "      <th>change</th>\n",
       "      <th>class</th>\n",
       "      <th>classification</th>\n",
       "    </tr>\n",
       "  </thead>\n",
       "  <tbody>\n",
       "    <tr>\n",
       "      <th>0</th>\n",
       "      <td>None</td>\n",
       "      <td>0</td>\n",
       "      <td>0</td>\n",
       "      <td>0</td>\n",
       "      <td>0</td>\n",
       "    </tr>\n",
       "    <tr>\n",
       "      <th>1</th>\n",
       "      <td>None</td>\n",
       "      <td>0</td>\n",
       "      <td>0</td>\n",
       "      <td>0</td>\n",
       "      <td>10</td>\n",
       "    </tr>\n",
       "    <tr>\n",
       "      <th>2</th>\n",
       "      <td>None</td>\n",
       "      <td>0</td>\n",
       "      <td>0</td>\n",
       "      <td>0</td>\n",
       "      <td>8</td>\n",
       "    </tr>\n",
       "    <tr>\n",
       "      <th>3</th>\n",
       "      <td>None</td>\n",
       "      <td>0</td>\n",
       "      <td>0</td>\n",
       "      <td>0</td>\n",
       "      <td>0</td>\n",
       "    </tr>\n",
       "    <tr>\n",
       "      <th>4</th>\n",
       "      <td>None</td>\n",
       "      <td>0</td>\n",
       "      <td>0</td>\n",
       "      <td>0</td>\n",
       "      <td>0</td>\n",
       "    </tr>\n",
       "  </tbody>\n",
       "</table>\n",
       "</div>"
      ],
      "text/plain": [
       "  geometry  2023_class  change  class  classification\n",
       "0     None           0       0      0               0\n",
       "1     None           0       0      0              10\n",
       "2     None           0       0      0               8\n",
       "3     None           0       0      0               0\n",
       "4     None           0       0      0               0"
      ]
     },
     "execution_count": 29,
     "metadata": {},
     "output_type": "execute_result"
    }
   ],
   "source": [
    "# convert to geopandas dataframe\n",
    "rfeval = ee.data.computeFeatures({\n",
    "    'expression': results,\n",
    "    'fileFormat': 'GEOPANDAS_GEODATAFRAME'\n",
    "})\n",
    "\n",
    "# Need to set the CRS.\n",
    "# Make sure it matches the CRS of FeatureCollection geometries.\n",
    "rfeval.crs = 'EPSG:4326'\n",
    "rfeval.head()"
   ]
  },
  {
   "cell_type": "code",
   "execution_count": 30,
   "metadata": {
    "cellUniqueIdByVincent": "b9f7c"
   },
   "outputs": [
    {
     "data": {
      "text/html": [
       "\n",
       "            <style>\n",
       "                .geemap-dark {\n",
       "                    --jp-widgets-color: white;\n",
       "                    --jp-widgets-label-color: white;\n",
       "                    --jp-ui-font-color1: white;\n",
       "                    --jp-layout-color2: #454545;\n",
       "                    background-color: #383838;\n",
       "                }\n",
       "\n",
       "                .geemap-dark .jupyter-button {\n",
       "                    --jp-layout-color3: #383838;\n",
       "                }\n",
       "\n",
       "                .geemap-colab {\n",
       "                    background-color: var(--colab-primary-surface-color, white);\n",
       "                }\n",
       "\n",
       "                .geemap-colab .jupyter-button {\n",
       "                    --jp-layout-color3: var(--colab-primary-surface-color, white);\n",
       "                }\n",
       "            </style>\n",
       "            "
      ],
      "text/plain": [
       "<IPython.core.display.HTML object>"
      ]
     },
     "metadata": {},
     "output_type": "display_data"
    },
    {
     "name": "stdout",
     "output_type": "stream",
     "text": [
      "\n",
      " Accuracy: 0.51, F1 Score: 0.49\n",
      "              precision    recall  f1-score   support\n",
      "\n",
      "           0       0.67      0.22      0.33        73\n",
      "           1       0.00      0.00      0.00        14\n",
      "           2       0.55      0.21      0.30        29\n",
      "           3       0.16      0.32      0.21        22\n",
      "           4       0.47      0.76      0.58        76\n",
      "           5       0.58      0.32      0.41        22\n",
      "           6       0.00      0.00      0.00         8\n",
      "           7       0.78      0.50      0.61        36\n",
      "           8       0.32      0.58      0.41        36\n",
      "           9       0.00      0.00      0.00         0\n",
      "          10       0.97      0.97      0.97        58\n",
      "\n",
      "    accuracy                           0.51       374\n",
      "   macro avg       0.41      0.35      0.35       374\n",
      "weighted avg       0.57      0.51      0.49       374\n",
      "\n"
     ]
    },
    {
     "name": "stderr",
     "output_type": "stream",
     "text": [
      "c:\\ProgramData\\Anaconda3\\envs\\erthy\\Lib\\site-packages\\sklearn\\metrics\\_classification.py:1531: UndefinedMetricWarning: Recall is ill-defined and being set to 0.0 in labels with no true samples. Use `zero_division` parameter to control this behavior.\n",
      "  _warn_prf(average, modifier, f\"{metric.capitalize()} is\", len(result))\n",
      "c:\\ProgramData\\Anaconda3\\envs\\erthy\\Lib\\site-packages\\sklearn\\metrics\\_classification.py:1531: UndefinedMetricWarning: Recall is ill-defined and being set to 0.0 in labels with no true samples. Use `zero_division` parameter to control this behavior.\n",
      "  _warn_prf(average, modifier, f\"{metric.capitalize()} is\", len(result))\n",
      "c:\\ProgramData\\Anaconda3\\envs\\erthy\\Lib\\site-packages\\sklearn\\metrics\\_classification.py:1531: UndefinedMetricWarning: Recall is ill-defined and being set to 0.0 in labels with no true samples. Use `zero_division` parameter to control this behavior.\n",
      "  _warn_prf(average, modifier, f\"{metric.capitalize()} is\", len(result))\n",
      "c:\\ProgramData\\Anaconda3\\envs\\erthy\\Lib\\site-packages\\sklearn\\metrics\\_classification.py:1531: UndefinedMetricWarning: Recall is ill-defined and being set to 0.0 in labels with no true samples. Use `zero_division` parameter to control this behavior.\n",
      "  _warn_prf(average, modifier, f\"{metric.capitalize()} is\", len(result))\n",
      "c:\\ProgramData\\Anaconda3\\envs\\erthy\\Lib\\site-packages\\sklearn\\metrics\\_classification.py:1531: UndefinedMetricWarning: Recall is ill-defined and being set to 0.0 in labels with no true samples. Use `zero_division` parameter to control this behavior.\n",
      "  _warn_prf(average, modifier, f\"{metric.capitalize()} is\", len(result))\n",
      "c:\\ProgramData\\Anaconda3\\envs\\erthy\\Lib\\site-packages\\sklearn\\metrics\\_classification.py:1531: UndefinedMetricWarning: Recall is ill-defined and being set to 0.0 in labels with no true samples. Use `zero_division` parameter to control this behavior.\n",
      "  _warn_prf(average, modifier, f\"{metric.capitalize()} is\", len(result))\n"
     ]
    }
   ],
   "source": [
    "from sklearn.metrics import accuracy_score, classification_report, f1_score\n",
    "\n",
    "y_test = rfeval['2023_class'].astype(int)  # True labels\n",
    "y_pred = rfeval['classification'].astype(int)  # Predicted labels\n",
    "\n",
    "# Accuracy\n",
    "acc = accuracy_score(y_test, y_pred)\n",
    "\n",
    "# F1\n",
    "f1 = f1_score(y_test, y_pred, average='weighted')\n",
    "\n",
    "# Report\n",
    "report = classification_report(y_test, y_pred, output_dict=True)\n",
    "\n",
    "print(f\"\\n Accuracy: {acc:.2f}, F1 Score: {f1:.2f}\")\n",
    "print(classification_report(y_test, y_pred))"
   ]
  },
  {
   "cell_type": "markdown",
   "metadata": {
    "cellUniqueIdByVincent": "0d2f8"
   },
   "source": [
    "## TabPFN"
   ]
  },
  {
   "cell_type": "code",
   "execution_count": null,
   "metadata": {
    "cellUniqueIdByVincent": "f34c3"
   },
   "outputs": [],
   "source": [
    "# Steps to follow:\n",
    "# create s2 classification based on 2018 reference data and composite imagery\n",
    "    # extract data for 2018 as gpd\n",
    "    # download image for 2018 and 2023\n",
    "    # classify 2018\n",
    "    # upload to gee\n",
    "# Apply change mask\n",
    "# Calculate area proportions for each class\n",
    "# Calculate number of samples per class\n",
    "# perform stratified sample of 2023 composite with 2018 classified image"
   ]
  },
  {
   "cell_type": "code",
   "execution_count": 1,
   "metadata": {
    "cellUniqueIdByVincent": "fb60e"
   },
   "outputs": [],
   "source": [
    "import ee\n",
    "try:\n",
    "    ee.Authenticate(auth_mode='notebook')\n",
    "    ee.Initialize(project = 'ee-gsingh')\n",
    "except: \n",
    "    ee.Authenticate()\n",
    "    ee.Initialize()\n",
    "\n",
    "import geemap\n",
    "from geeml.utils import eeprint\n",
    "import matplotlib.pyplot as plt\n",
    "import numpy as np\n",
    "import pandas as pd"
   ]
  },
  {
   "cell_type": "markdown",
   "metadata": {
    "cellUniqueIdByVincent": "97796"
   },
   "source": [
    "#### Extracting 2018 data from Earth Engine"
   ]
  },
  {
   "cell_type": "code",
   "execution_count": 2,
   "metadata": {
    "cellUniqueIdByVincent": "06cb4"
   },
   "outputs": [
    {
     "data": {
      "text/html": [
       "\n",
       "            <style>\n",
       "                .geemap-dark {\n",
       "                    --jp-widgets-color: white;\n",
       "                    --jp-widgets-label-color: white;\n",
       "                    --jp-ui-font-color1: white;\n",
       "                    --jp-layout-color2: #454545;\n",
       "                    background-color: #383838;\n",
       "                }\n",
       "\n",
       "                .geemap-dark .jupyter-button {\n",
       "                    --jp-layout-color3: #383838;\n",
       "                }\n",
       "\n",
       "                .geemap-colab {\n",
       "                    background-color: var(--colab-primary-surface-color, white);\n",
       "                }\n",
       "\n",
       "                .geemap-colab .jupyter-button {\n",
       "                    --jp-layout-color3: var(--colab-primary-surface-color, white);\n",
       "                }\n",
       "            </style>\n",
       "            "
      ],
      "text/plain": [
       "<IPython.core.display.HTML object>"
      ]
     },
     "metadata": {},
     "output_type": "display_data"
    },
    {
     "data": {
      "text/html": [
       "<div id=\"cea3b886-b186-44bb-a2a7-6ef364279165\" style=\"height: auto; width:100%;\"></div>"
      ],
      "text/plain": [
       "<IPython.core.display.HTML object>"
      ]
     },
     "metadata": {},
     "output_type": "display_data"
    },
    {
     "data": {
      "text/html": [
       "\n",
       "        <script src=\"/static/components/requirejs/require.js\"></script> <!-- Needed in Colab -->\n",
       "        <script>\n",
       "            require([\"https://rawgit.com/caldwell/renderjson/master/renderjson.js\"], function() {\n",
       "              renderjson.set_show_to_level(1)\n",
       "              document.getElementById('cea3b886-b186-44bb-a2a7-6ef364279165').appendChild(renderjson({\"type\": \"FeatureCollection\", \"columns\": {\"2018_2023\": \"Float\", \"2023_class\": \"Long\", \"change\": \"Long\", \"class\": \"Long\", \"fid\": \"Long\", \"group\": \"Long\", \"layer\": \"String\", \"notes\": \"String\", \"path\": \"String\", \"system:index\": \"String\"}, \"version\": 1750928796749160.0, \"id\": \"projects/ee-geethensingh/assets/postdoc/aliens_sep2018_bioscape2023\", \"properties\": {\"system:asset_size\": 84232}, \"features\": [{\"type\": \"Feature\", \"geometry\": {\"type\": \"Point\", \"coordinates\": [19.07260971703242, -33.805537565931296]}, \"id\": \"000000000000000003fb\", \"properties\": {\"2018_2023\": 0.006702983744329, \"2023_class\": \"None\", \"change\": 0, \"class\": 0, \"fid\": 1028, \"group\": 0, \"layer\": \"valid\", \"notes\": \"\", \"path\": \"/Users/glennmoncrieff/Documents/qgis/valid.gpkg|layername=valid\"}}, {\"type\": \"Feature\", \"geometry\": {\"type\": \"Point\", \"coordinates\": [19.077947260993394, -33.80792318499489]}, \"id\": \"000000000000000003fc\", \"properties\": {\"2018_2023\": 0.012547892265916, \"2023_class\": \"None\", \"change\": 0, \"class\": 0, \"fid\": 1029, \"group\": 0, \"layer\": \"valid\", \"notes\": \"chngg rb\", \"path\": \"/Users/glennmoncrieff/Documents/qgis/valid.gpkg|layername=valid\"}}, {\"type\": \"Feature\", \"geometry\": {\"type\": \"Point\", \"coordinates\": [19.078205888854495, -33.80820856746231]}, \"id\": \"000000000000000003fd\", \"properties\": {\"2018_2023\": 0.021821219977462, \"2023_class\": \"None\", \"change\": 0, \"class\": 0, \"fid\": 1030, \"group\": 0, \"layer\": \"valid\", \"notes\": \"chngg rb\", \"path\": \"/Users/glennmoncrieff/Documents/qgis/valid.gpkg|layername=valid\"}}, {\"type\": \"Feature\", \"geometry\": {\"type\": \"Point\", \"coordinates\": [19.14952475110331, -33.73579722545541]}, \"id\": \"0000000000000000045a\", \"properties\": {\"2018_2023\": 0.021899021606995, \"2023_class\": \"None\", \"change\": 0, \"class\": 0, \"fid\": 1125, \"group\": 0, \"layer\": \"valid\", \"notes\": \"\", \"path\": \"/Users/glennmoncrieff/Documents/qgis/valid.gpkg|layername=valid\"}}, {\"type\": \"Feature\", \"geometry\": {\"type\": \"Point\", \"coordinates\": [19.266571694655205, -33.752777482266936]}, \"id\": \"00000000000000000468\", \"properties\": {\"2018_2023\": 0.003017588595706, \"2023_class\": \"None\", \"change\": 0, \"class\": 0, \"fid\": 1139, \"group\": 0, \"layer\": \"valid\", \"notes\": \"\", \"path\": \"/Users/glennmoncrieff/Documents/qgis/valid.gpkg|layername=valid\"}}]}))\n",
       "            });\n",
       "        </script>\n",
       "    "
      ],
      "text/plain": [
       "<IPython.core.display.HTML object>"
      ]
     },
     "metadata": {},
     "output_type": "display_data"
    }
   ],
   "source": [
    "pts = ee.FeatureCollection('projects/ee-geethensingh/assets/postdoc/aliens_sep2018_bioscape2023')\n",
    "eeprint(pts.limit(5))"
   ]
  },
  {
   "cell_type": "code",
   "execution_count": 3,
   "metadata": {
    "cellUniqueIdByVincent": "ce6e4"
   },
   "outputs": [
    {
     "data": {
      "text/html": [
       "\n",
       "            <style>\n",
       "                .geemap-dark {\n",
       "                    --jp-widgets-color: white;\n",
       "                    --jp-widgets-label-color: white;\n",
       "                    --jp-ui-font-color1: white;\n",
       "                    --jp-layout-color2: #454545;\n",
       "                    background-color: #383838;\n",
       "                }\n",
       "\n",
       "                .geemap-dark .jupyter-button {\n",
       "                    --jp-layout-color3: #383838;\n",
       "                }\n",
       "\n",
       "                .geemap-colab {\n",
       "                    background-color: var(--colab-primary-surface-color, white);\n",
       "                }\n",
       "\n",
       "                .geemap-colab .jupyter-button {\n",
       "                    --jp-layout-color3: var(--colab-primary-surface-color, white);\n",
       "                }\n",
       "            </style>\n",
       "            "
      ],
      "text/plain": [
       "<IPython.core.display.HTML object>"
      ]
     },
     "metadata": {},
     "output_type": "display_data"
    }
   ],
   "source": [
    "class prepareTrainingData:\n",
    "    \"\"\"This class prepares training data for the earth engine random forest model.\"\"\"\n",
    "    def __init__(self, points: ee.FeatureCollection, targetProperty: str, nFolds: int, proj: str = 'EPSG:4326'):\n",
    "        \"\"\"\n",
    "        Args:\n",
    "            points (ee.FeatureCollection): ee.FeatureCollection\n",
    "            targetProperty (str): name of the property that contains the target variable\n",
    "            nFolds (int): number of folds for cross validation\n",
    "            proj (str): projection of the data\n",
    "        \"\"\"\n",
    "\n",
    "        self.points = points\n",
    "        self.targetProperty = targetProperty\n",
    "        self.nFolds = nFolds\n",
    "        self.proj = proj\n",
    "\n",
    "    def addCoordProperty(self, features: ee.FeatureCollection) -> ee.FeatureCollection:\n",
    "        \"\"\"\n",
    "        This function adds coordinates to the points\n",
    "\n",
    "        Args:\n",
    "            features (ee.FeatureCollection): ee.FeatureCollection\n",
    "\n",
    "        Returns:\n",
    "            ee.FeatureCollection: ee.FeatureCollection\n",
    "        \"\"\"\n",
    "        def coords(feature):\n",
    "            return feature.geometry().transform(proj = self.proj).coordinates()\n",
    "\n",
    "        return features.map(lambda ft: ft.set('x', coords(ft).getNumber(0)).set('y', coords(ft).getNumber(1)))\n",
    "        \n",
    "    def _preparePoints(self):\n",
    "        # add coordinates to points.\n",
    "        points = self.addCoordProperty(self.points)\n",
    "\n",
    "        # cluster points into groups based on coordinates\n",
    "        clusterer = ee.Clusterer.wekaKMeans(self.nFolds).train(features = points,inputProperties = ['x','y'])\n",
    "        points = points.cluster(clusterer)\n",
    "        return points"
   ]
  },
  {
   "cell_type": "code",
   "execution_count": 4,
   "metadata": {
    "cellUniqueIdByVincent": "5c771"
   },
   "outputs": [
    {
     "data": {
      "text/html": [
       "\n",
       "            <style>\n",
       "                .geemap-dark {\n",
       "                    --jp-widgets-color: white;\n",
       "                    --jp-widgets-label-color: white;\n",
       "                    --jp-ui-font-color1: white;\n",
       "                    --jp-layout-color2: #454545;\n",
       "                    background-color: #383838;\n",
       "                }\n",
       "\n",
       "                .geemap-dark .jupyter-button {\n",
       "                    --jp-layout-color3: #383838;\n",
       "                }\n",
       "\n",
       "                .geemap-colab {\n",
       "                    background-color: var(--colab-primary-surface-color, white);\n",
       "                }\n",
       "\n",
       "                .geemap-colab .jupyter-button {\n",
       "                    --jp-layout-color3: var(--colab-primary-surface-color, white);\n",
       "                }\n",
       "            </style>\n",
       "            "
      ],
      "text/plain": [
       "<IPython.core.display.HTML object>"
      ]
     },
     "metadata": {},
     "output_type": "display_data"
    },
    {
     "data": {
      "text/html": [
       "<div id=\"c90c8508-964e-4e1d-84f3-446e4fb36db9\" style=\"height: auto; width:100%;\"></div>"
      ],
      "text/plain": [
       "<IPython.core.display.HTML object>"
      ]
     },
     "metadata": {},
     "output_type": "display_data"
    },
    {
     "data": {
      "text/html": [
       "\n",
       "        <script src=\"/static/components/requirejs/require.js\"></script> <!-- Needed in Colab -->\n",
       "        <script>\n",
       "            require([\"https://rawgit.com/caldwell/renderjson/master/renderjson.js\"], function() {\n",
       "              renderjson.set_show_to_level(1)\n",
       "              document.getElementById('c90c8508-964e-4e1d-84f3-446e4fb36db9').appendChild(renderjson({\"type\": \"FeatureCollection\", \"columns\": {\"2018_2023\": \"Float\", \"2023_class\": \"Long\", \"change\": \"Long\", \"class\": \"Long\", \"cluster\": \"<any>\", \"fid\": \"Long\", \"group\": \"Long\", \"layer\": \"String\", \"notes\": \"String\", \"path\": \"String\", \"system:index\": \"String\", \"x\": \"Number\", \"y\": \"Number\"}, \"features\": [{\"type\": \"Feature\", \"geometry\": {\"type\": \"Point\", \"coordinates\": [19.07260971703242, -33.805537565931296]}, \"id\": \"000000000000000003fb\", \"properties\": {\"2018_2023\": 0.006702983744329, \"change\": 0, \"class\": 0, \"cluster\": 3, \"fid\": 1028, \"group\": 0, \"layer\": \"valid\", \"notes\": \"\", \"path\": \"/Users/glennmoncrieff/Documents/qgis/valid.gpkg|layername=valid\", \"x\": 19.07260971703242, \"y\": -33.805537565931296}}, {\"type\": \"Feature\", \"geometry\": {\"type\": \"Point\", \"coordinates\": [19.077947260993394, -33.80792318499489]}, \"id\": \"000000000000000003fc\", \"properties\": {\"2018_2023\": 0.012547892265916, \"change\": 0, \"class\": 0, \"cluster\": 3, \"fid\": 1029, \"group\": 0, \"layer\": \"valid\", \"notes\": \"chngg rb\", \"path\": \"/Users/glennmoncrieff/Documents/qgis/valid.gpkg|layername=valid\", \"x\": 19.077947260993394, \"y\": -33.80792318499489}}, {\"type\": \"Feature\", \"geometry\": {\"type\": \"Point\", \"coordinates\": [19.078205888854495, -33.80820856746231]}, \"id\": \"000000000000000003fd\", \"properties\": {\"2018_2023\": 0.021821219977462, \"change\": 0, \"class\": 0, \"cluster\": 3, \"fid\": 1030, \"group\": 0, \"layer\": \"valid\", \"notes\": \"chngg rb\", \"path\": \"/Users/glennmoncrieff/Documents/qgis/valid.gpkg|layername=valid\", \"x\": 19.078205888854495, \"y\": -33.80820856746231}}, {\"type\": \"Feature\", \"geometry\": {\"type\": \"Point\", \"coordinates\": [19.14952475110331, -33.73579722545541]}, \"id\": \"0000000000000000045a\", \"properties\": {\"2018_2023\": 0.021899021606995, \"change\": 0, \"class\": 0, \"cluster\": 3, \"fid\": 1125, \"group\": 0, \"layer\": \"valid\", \"notes\": \"\", \"path\": \"/Users/glennmoncrieff/Documents/qgis/valid.gpkg|layername=valid\", \"x\": 19.14952475110331, \"y\": -33.73579722545541}}, {\"type\": \"Feature\", \"geometry\": {\"type\": \"Point\", \"coordinates\": [19.266571694655205, -33.752777482266936]}, \"id\": \"00000000000000000468\", \"properties\": {\"2018_2023\": 0.003017588595706, \"change\": 0, \"class\": 0, \"cluster\": 1, \"fid\": 1139, \"group\": 0, \"layer\": \"valid\", \"notes\": \"\", \"path\": \"/Users/glennmoncrieff/Documents/qgis/valid.gpkg|layername=valid\", \"x\": 19.266571694655205, \"y\": -33.752777482266936}}]}))\n",
       "            });\n",
       "        </script>\n",
       "    "
      ],
      "text/plain": [
       "<IPython.core.display.HTML object>"
      ]
     },
     "metadata": {},
     "output_type": "display_data"
    }
   ],
   "source": [
    "wKfold = prepareTrainingData(points=pts, targetProperty='class', nFolds=5)._preparePoints()\n",
    "eeprint(wKfold.limit(5))"
   ]
  },
  {
   "cell_type": "code",
   "execution_count": 5,
   "metadata": {
    "cellUniqueIdByVincent": "3f1a8"
   },
   "outputs": [
    {
     "data": {
      "text/html": [
       "\n",
       "            <style>\n",
       "                .geemap-dark {\n",
       "                    --jp-widgets-color: white;\n",
       "                    --jp-widgets-label-color: white;\n",
       "                    --jp-ui-font-color1: white;\n",
       "                    --jp-layout-color2: #454545;\n",
       "                    background-color: #383838;\n",
       "                }\n",
       "\n",
       "                .geemap-dark .jupyter-button {\n",
       "                    --jp-layout-color3: #383838;\n",
       "                }\n",
       "\n",
       "                .geemap-colab {\n",
       "                    background-color: var(--colab-primary-surface-color, white);\n",
       "                }\n",
       "\n",
       "                .geemap-colab .jupyter-button {\n",
       "                    --jp-layout-color3: var(--colab-primary-surface-color, white);\n",
       "                }\n",
       "            </style>\n",
       "            "
      ],
      "text/plain": [
       "<IPython.core.display.HTML object>"
      ]
     },
     "metadata": {},
     "output_type": "display_data"
    }
   ],
   "source": [
    "def createComposite(imageCollection: str, points: ee.Geometry, year: int, period:str):\n",
    "    \"\"\"Creates a composite image of a point over a given year (uses 1 month period for 2018 and 2 months for 2023).\n",
    "    \n",
    "    Args:\n",
    "        imageCollection (str): The collection to use for the composite.\n",
    "        point (ee.Geometry): The point to create the composite for.\n",
    "        year (int): The year to create the composite for.\n",
    "        period (str): Either values of first (Sept-09), second(oct-Nov) or both. \n",
    "    \n",
    "    Returns:\n",
    "        ee.Image: The composite image.\n",
    "    \"\"\"\n",
    "\n",
    "    # Get the image collection\n",
    "    ic = ee.ImageCollection(imageCollection)\n",
    "\n",
    "    if period == 'first':\n",
    "        startDate = f'{year}-09-01'\n",
    "        endDate = f'{year}-10-01'\n",
    "    elif period == 'second':\n",
    "        startDate = f'{year}-10-22'\n",
    "        endDate = f'{year}-11-27'\n",
    "        # startDate = f'{year}-10-01'\n",
    "        # endDate = f'{year}-12-01'\n",
    "        \n",
    "\n",
    "    # Mask clouds using cloud score+\n",
    "    csPlus = ee.ImageCollection('GOOGLE/CLOUD_SCORE_PLUS/V1/S2_HARMONIZED')\n",
    "\n",
    "    QA_BAND = 'cs_cdf'\n",
    "    CLEAR_THRESHOLD = 0.65\n",
    "    \n",
    "    # Filter the collection to the start and end dates, and point\n",
    "    medianImage = ic.filterDate(startDate, endDate).filterBounds(points).linkCollection(csPlus, [QA_BAND])\\\n",
    "    .map(lambda img: img.updateMask(img.select(QA_BAND).gte(CLEAR_THRESHOLD)))\\\n",
    "    .median()\n",
    "    \n",
    "    return medianImage.divide(10000).select([\"B2\",\"B3\",\"B4\",\"B5\",\"B6\",\"B7\",\"B8\",\"B11\",\"B12\"])"
   ]
  },
  {
   "cell_type": "code",
   "execution_count": 6,
   "metadata": {
    "cellUniqueIdByVincent": "b9f7d"
   },
   "outputs": [
    {
     "data": {
      "text/html": [
       "\n",
       "            <style>\n",
       "                .geemap-dark {\n",
       "                    --jp-widgets-color: white;\n",
       "                    --jp-widgets-label-color: white;\n",
       "                    --jp-ui-font-color1: white;\n",
       "                    --jp-layout-color2: #454545;\n",
       "                    background-color: #383838;\n",
       "                }\n",
       "\n",
       "                .geemap-dark .jupyter-button {\n",
       "                    --jp-layout-color3: #383838;\n",
       "                }\n",
       "\n",
       "                .geemap-colab {\n",
       "                    background-color: var(--colab-primary-surface-color, white);\n",
       "                }\n",
       "\n",
       "                .geemap-colab .jupyter-button {\n",
       "                    --jp-layout-color3: var(--colab-primary-surface-color, white);\n",
       "                }\n",
       "            </style>\n",
       "            "
      ],
      "text/plain": [
       "<IPython.core.display.HTML object>"
      ]
     },
     "metadata": {},
     "output_type": "display_data"
    }
   ],
   "source": [
    "# ee.ImageCollection(\"COPERNICUS/S2_SR_HARMONIZED\")\n",
    "\n",
    "composite2018 = createComposite(imageCollection= ee.ImageCollection(\"COPERNICUS/S2_HARMONIZED\"),\n",
    "                points=pts.geometry(),\n",
    "                year=2018,\n",
    "                period='first')\n",
    "\n",
    "# Create a composite for 2023\n",
    "composite2023 = createComposite(imageCollection= ee.ImageCollection(\"COPERNICUS/S2_HARMONIZED\"),\n",
    "                points=pts.geometry(),\n",
    "                year=2023,\n",
    "                period='second')"
   ]
  },
  {
   "cell_type": "code",
   "execution_count": 7,
   "metadata": {
    "cellUniqueIdByVincent": "5f80c"
   },
   "outputs": [
    {
     "data": {
      "text/html": [
       "\n",
       "            <style>\n",
       "                .geemap-dark {\n",
       "                    --jp-widgets-color: white;\n",
       "                    --jp-widgets-label-color: white;\n",
       "                    --jp-ui-font-color1: white;\n",
       "                    --jp-layout-color2: #454545;\n",
       "                    background-color: #383838;\n",
       "                }\n",
       "\n",
       "                .geemap-dark .jupyter-button {\n",
       "                    --jp-layout-color3: #383838;\n",
       "                }\n",
       "\n",
       "                .geemap-colab {\n",
       "                    background-color: var(--colab-primary-surface-color, white);\n",
       "                }\n",
       "\n",
       "                .geemap-colab .jupyter-button {\n",
       "                    --jp-layout-color3: var(--colab-primary-surface-color, white);\n",
       "                }\n",
       "            </style>\n",
       "            "
      ],
      "text/plain": [
       "<IPython.core.display.HTML object>"
      ]
     },
     "metadata": {},
     "output_type": "display_data"
    },
    {
     "data": {
      "text/html": [
       "<div>\n",
       "<style scoped>\n",
       "    .dataframe tbody tr th:only-of-type {\n",
       "        vertical-align: middle;\n",
       "    }\n",
       "\n",
       "    .dataframe tbody tr th {\n",
       "        vertical-align: top;\n",
       "    }\n",
       "\n",
       "    .dataframe thead th {\n",
       "        text-align: right;\n",
       "    }\n",
       "</style>\n",
       "<table border=\"1\" class=\"dataframe\">\n",
       "  <thead>\n",
       "    <tr style=\"text-align: right;\">\n",
       "      <th></th>\n",
       "      <th>geometry</th>\n",
       "      <th>2018_2023</th>\n",
       "      <th>B11</th>\n",
       "      <th>B12</th>\n",
       "      <th>B2</th>\n",
       "      <th>B3</th>\n",
       "      <th>B4</th>\n",
       "      <th>B5</th>\n",
       "      <th>B6</th>\n",
       "      <th>B7</th>\n",
       "      <th>...</th>\n",
       "      <th>class</th>\n",
       "      <th>cluster</th>\n",
       "      <th>fid</th>\n",
       "      <th>group</th>\n",
       "      <th>layer</th>\n",
       "      <th>notes</th>\n",
       "      <th>path</th>\n",
       "      <th>x</th>\n",
       "      <th>y</th>\n",
       "      <th>2023_class</th>\n",
       "    </tr>\n",
       "  </thead>\n",
       "  <tbody>\n",
       "    <tr>\n",
       "      <th>0</th>\n",
       "      <td>POINT (19.07261 -33.80554)</td>\n",
       "      <td>0.006703</td>\n",
       "      <td>0.27505</td>\n",
       "      <td>0.18230</td>\n",
       "      <td>0.15000</td>\n",
       "      <td>0.14865</td>\n",
       "      <td>0.15835</td>\n",
       "      <td>0.16810</td>\n",
       "      <td>0.20965</td>\n",
       "      <td>0.22755</td>\n",
       "      <td>...</td>\n",
       "      <td>0</td>\n",
       "      <td>3</td>\n",
       "      <td>1028</td>\n",
       "      <td>0</td>\n",
       "      <td>valid</td>\n",
       "      <td></td>\n",
       "      <td>/Users/glennmoncrieff/Documents/qgis/valid.gpk...</td>\n",
       "      <td>19.072610</td>\n",
       "      <td>-33.805538</td>\n",
       "      <td>NaN</td>\n",
       "    </tr>\n",
       "    <tr>\n",
       "      <th>1</th>\n",
       "      <td>POINT (19.07795 -33.80792)</td>\n",
       "      <td>0.012548</td>\n",
       "      <td>0.12760</td>\n",
       "      <td>0.07865</td>\n",
       "      <td>0.12595</td>\n",
       "      <td>0.12255</td>\n",
       "      <td>0.12510</td>\n",
       "      <td>0.11825</td>\n",
       "      <td>0.14300</td>\n",
       "      <td>0.15080</td>\n",
       "      <td>...</td>\n",
       "      <td>0</td>\n",
       "      <td>3</td>\n",
       "      <td>1029</td>\n",
       "      <td>0</td>\n",
       "      <td>valid</td>\n",
       "      <td>chngg rb</td>\n",
       "      <td>/Users/glennmoncrieff/Documents/qgis/valid.gpk...</td>\n",
       "      <td>19.077947</td>\n",
       "      <td>-33.807923</td>\n",
       "      <td>NaN</td>\n",
       "    </tr>\n",
       "    <tr>\n",
       "      <th>2</th>\n",
       "      <td>POINT (19.07821 -33.80821)</td>\n",
       "      <td>0.021821</td>\n",
       "      <td>0.10140</td>\n",
       "      <td>0.06245</td>\n",
       "      <td>0.09610</td>\n",
       "      <td>0.08235</td>\n",
       "      <td>0.07385</td>\n",
       "      <td>0.09030</td>\n",
       "      <td>0.09670</td>\n",
       "      <td>0.10565</td>\n",
       "      <td>...</td>\n",
       "      <td>0</td>\n",
       "      <td>3</td>\n",
       "      <td>1030</td>\n",
       "      <td>0</td>\n",
       "      <td>valid</td>\n",
       "      <td>chngg rb</td>\n",
       "      <td>/Users/glennmoncrieff/Documents/qgis/valid.gpk...</td>\n",
       "      <td>19.078206</td>\n",
       "      <td>-33.808209</td>\n",
       "      <td>NaN</td>\n",
       "    </tr>\n",
       "    <tr>\n",
       "      <th>3</th>\n",
       "      <td>POINT (19.14952 -33.7358)</td>\n",
       "      <td>0.021899</td>\n",
       "      <td>0.19480</td>\n",
       "      <td>0.11190</td>\n",
       "      <td>0.13910</td>\n",
       "      <td>0.13220</td>\n",
       "      <td>0.15010</td>\n",
       "      <td>0.13500</td>\n",
       "      <td>0.18200</td>\n",
       "      <td>0.21320</td>\n",
       "      <td>...</td>\n",
       "      <td>0</td>\n",
       "      <td>3</td>\n",
       "      <td>1125</td>\n",
       "      <td>0</td>\n",
       "      <td>valid</td>\n",
       "      <td></td>\n",
       "      <td>/Users/glennmoncrieff/Documents/qgis/valid.gpk...</td>\n",
       "      <td>19.149525</td>\n",
       "      <td>-33.735797</td>\n",
       "      <td>NaN</td>\n",
       "    </tr>\n",
       "    <tr>\n",
       "      <th>4</th>\n",
       "      <td>POINT (19.26657 -33.75278)</td>\n",
       "      <td>0.003018</td>\n",
       "      <td>0.29175</td>\n",
       "      <td>0.21710</td>\n",
       "      <td>0.14200</td>\n",
       "      <td>0.13540</td>\n",
       "      <td>0.14580</td>\n",
       "      <td>0.16260</td>\n",
       "      <td>0.19265</td>\n",
       "      <td>0.20745</td>\n",
       "      <td>...</td>\n",
       "      <td>0</td>\n",
       "      <td>1</td>\n",
       "      <td>1139</td>\n",
       "      <td>0</td>\n",
       "      <td>valid</td>\n",
       "      <td></td>\n",
       "      <td>/Users/glennmoncrieff/Documents/qgis/valid.gpk...</td>\n",
       "      <td>19.266572</td>\n",
       "      <td>-33.752777</td>\n",
       "      <td>NaN</td>\n",
       "    </tr>\n",
       "  </tbody>\n",
       "</table>\n",
       "<p>5 rows × 22 columns</p>\n",
       "</div>"
      ],
      "text/plain": [
       "                     geometry  2018_2023      B11      B12       B2       B3  \\\n",
       "0  POINT (19.07261 -33.80554)   0.006703  0.27505  0.18230  0.15000  0.14865   \n",
       "1  POINT (19.07795 -33.80792)   0.012548  0.12760  0.07865  0.12595  0.12255   \n",
       "2  POINT (19.07821 -33.80821)   0.021821  0.10140  0.06245  0.09610  0.08235   \n",
       "3   POINT (19.14952 -33.7358)   0.021899  0.19480  0.11190  0.13910  0.13220   \n",
       "4  POINT (19.26657 -33.75278)   0.003018  0.29175  0.21710  0.14200  0.13540   \n",
       "\n",
       "        B4       B5       B6       B7  ...  class  cluster   fid  group  \\\n",
       "0  0.15835  0.16810  0.20965  0.22755  ...      0        3  1028      0   \n",
       "1  0.12510  0.11825  0.14300  0.15080  ...      0        3  1029      0   \n",
       "2  0.07385  0.09030  0.09670  0.10565  ...      0        3  1030      0   \n",
       "3  0.15010  0.13500  0.18200  0.21320  ...      0        3  1125      0   \n",
       "4  0.14580  0.16260  0.19265  0.20745  ...      0        1  1139      0   \n",
       "\n",
       "   layer     notes                                               path  \\\n",
       "0  valid            /Users/glennmoncrieff/Documents/qgis/valid.gpk...   \n",
       "1  valid  chngg rb  /Users/glennmoncrieff/Documents/qgis/valid.gpk...   \n",
       "2  valid  chngg rb  /Users/glennmoncrieff/Documents/qgis/valid.gpk...   \n",
       "3  valid            /Users/glennmoncrieff/Documents/qgis/valid.gpk...   \n",
       "4  valid            /Users/glennmoncrieff/Documents/qgis/valid.gpk...   \n",
       "\n",
       "           x          y  2023_class  \n",
       "0  19.072610 -33.805538         NaN  \n",
       "1  19.077947 -33.807923         NaN  \n",
       "2  19.078206 -33.808209         NaN  \n",
       "3  19.149525 -33.735797         NaN  \n",
       "4  19.266572 -33.752777         NaN  \n",
       "\n",
       "[5 rows x 22 columns]"
      ]
     },
     "execution_count": 7,
     "metadata": {},
     "output_type": "execute_result"
    }
   ],
   "source": [
    "# extract values at points\n",
    "data = composite2018.reduceRegions(collection=wKfold, reducer=ee.Reducer.first(), scale=10)\n",
    "data.limit(5)\n",
    "\n",
    "# convert to geopandas dataframe\n",
    "gdf18 = ee.data.computeFeatures({\n",
    "    'expression': data,\n",
    "    'fileFormat': 'GEOPANDAS_GEODATAFRAME'\n",
    "})\n",
    "\n",
    "# Need to set the CRS.\n",
    "# Make sure it matches the CRS of FeatureCollection geometries.\n",
    "gdf18.crs = 'EPSG:4326'\n",
    "\n",
    "gdf18.head()"
   ]
  },
  {
   "cell_type": "code",
   "execution_count": 22,
   "metadata": {
    "cellUniqueIdByVincent": "74292"
   },
   "outputs": [
    {
     "data": {
      "text/html": [
       "\n",
       "            <style>\n",
       "                .geemap-dark {\n",
       "                    --jp-widgets-color: white;\n",
       "                    --jp-widgets-label-color: white;\n",
       "                    --jp-ui-font-color1: white;\n",
       "                    --jp-layout-color2: #454545;\n",
       "                    background-color: #383838;\n",
       "                }\n",
       "\n",
       "                .geemap-dark .jupyter-button {\n",
       "                    --jp-layout-color3: #383838;\n",
       "                }\n",
       "\n",
       "                .geemap-colab {\n",
       "                    background-color: var(--colab-primary-surface-color, white);\n",
       "                }\n",
       "\n",
       "                .geemap-colab .jupyter-button {\n",
       "                    --jp-layout-color3: var(--colab-primary-surface-color, white);\n",
       "                }\n",
       "            </style>\n",
       "            "
      ],
      "text/plain": [
       "<IPython.core.display.HTML object>"
      ]
     },
     "metadata": {},
     "output_type": "display_data"
    },
    {
     "data": {
      "text/plain": [
       "(1688, 22)"
      ]
     },
     "execution_count": 22,
     "metadata": {},
     "output_type": "execute_result"
    }
   ],
   "source": [
    "gdf18.shape"
   ]
  },
  {
   "cell_type": "markdown",
   "metadata": {
    "cellUniqueIdByVincent": "2f2d8"
   },
   "source": [
    "### Train 2018 model"
   ]
  },
  {
   "cell_type": "code",
   "execution_count": 23,
   "metadata": {
    "cellUniqueIdByVincent": "b8775"
   },
   "outputs": [
    {
     "data": {
      "text/html": [
       "\n",
       "            <style>\n",
       "                .geemap-dark {\n",
       "                    --jp-widgets-color: white;\n",
       "                    --jp-widgets-label-color: white;\n",
       "                    --jp-ui-font-color1: white;\n",
       "                    --jp-layout-color2: #454545;\n",
       "                    background-color: #383838;\n",
       "                }\n",
       "\n",
       "                .geemap-dark .jupyter-button {\n",
       "                    --jp-layout-color3: #383838;\n",
       "                }\n",
       "\n",
       "                .geemap-colab {\n",
       "                    background-color: var(--colab-primary-surface-color, white);\n",
       "                }\n",
       "\n",
       "                .geemap-colab .jupyter-button {\n",
       "                    --jp-layout-color3: var(--colab-primary-surface-color, white);\n",
       "                }\n",
       "            </style>\n",
       "            "
      ],
      "text/plain": [
       "<IPython.core.display.HTML object>"
      ]
     },
     "metadata": {},
     "output_type": "display_data"
    },
    {
     "data": {
      "text/html": [
       "<style>#sk-container-id-5 {\n",
       "  /* Definition of color scheme common for light and dark mode */\n",
       "  --sklearn-color-text: black;\n",
       "  --sklearn-color-line: gray;\n",
       "  /* Definition of color scheme for unfitted estimators */\n",
       "  --sklearn-color-unfitted-level-0: #fff5e6;\n",
       "  --sklearn-color-unfitted-level-1: #f6e4d2;\n",
       "  --sklearn-color-unfitted-level-2: #ffe0b3;\n",
       "  --sklearn-color-unfitted-level-3: chocolate;\n",
       "  /* Definition of color scheme for fitted estimators */\n",
       "  --sklearn-color-fitted-level-0: #f0f8ff;\n",
       "  --sklearn-color-fitted-level-1: #d4ebff;\n",
       "  --sklearn-color-fitted-level-2: #b3dbfd;\n",
       "  --sklearn-color-fitted-level-3: cornflowerblue;\n",
       "\n",
       "  /* Specific color for light theme */\n",
       "  --sklearn-color-text-on-default-background: var(--sg-text-color, var(--theme-code-foreground, var(--jp-content-font-color1, black)));\n",
       "  --sklearn-color-background: var(--sg-background-color, var(--theme-background, var(--jp-layout-color0, white)));\n",
       "  --sklearn-color-border-box: var(--sg-text-color, var(--theme-code-foreground, var(--jp-content-font-color1, black)));\n",
       "  --sklearn-color-icon: #696969;\n",
       "\n",
       "  @media (prefers-color-scheme: dark) {\n",
       "    /* Redefinition of color scheme for dark theme */\n",
       "    --sklearn-color-text-on-default-background: var(--sg-text-color, var(--theme-code-foreground, var(--jp-content-font-color1, white)));\n",
       "    --sklearn-color-background: var(--sg-background-color, var(--theme-background, var(--jp-layout-color0, #111)));\n",
       "    --sklearn-color-border-box: var(--sg-text-color, var(--theme-code-foreground, var(--jp-content-font-color1, white)));\n",
       "    --sklearn-color-icon: #878787;\n",
       "  }\n",
       "}\n",
       "\n",
       "#sk-container-id-5 {\n",
       "  color: var(--sklearn-color-text);\n",
       "}\n",
       "\n",
       "#sk-container-id-5 pre {\n",
       "  padding: 0;\n",
       "}\n",
       "\n",
       "#sk-container-id-5 input.sk-hidden--visually {\n",
       "  border: 0;\n",
       "  clip: rect(1px 1px 1px 1px);\n",
       "  clip: rect(1px, 1px, 1px, 1px);\n",
       "  height: 1px;\n",
       "  margin: -1px;\n",
       "  overflow: hidden;\n",
       "  padding: 0;\n",
       "  position: absolute;\n",
       "  width: 1px;\n",
       "}\n",
       "\n",
       "#sk-container-id-5 div.sk-dashed-wrapped {\n",
       "  border: 1px dashed var(--sklearn-color-line);\n",
       "  margin: 0 0.4em 0.5em 0.4em;\n",
       "  box-sizing: border-box;\n",
       "  padding-bottom: 0.4em;\n",
       "  background-color: var(--sklearn-color-background);\n",
       "}\n",
       "\n",
       "#sk-container-id-5 div.sk-container {\n",
       "  /* jupyter's `normalize.less` sets `[hidden] { display: none; }`\n",
       "     but bootstrap.min.css set `[hidden] { display: none !important; }`\n",
       "     so we also need the `!important` here to be able to override the\n",
       "     default hidden behavior on the sphinx rendered scikit-learn.org.\n",
       "     See: https://github.com/scikit-learn/scikit-learn/issues/21755 */\n",
       "  display: inline-block !important;\n",
       "  position: relative;\n",
       "}\n",
       "\n",
       "#sk-container-id-5 div.sk-text-repr-fallback {\n",
       "  display: none;\n",
       "}\n",
       "\n",
       "div.sk-parallel-item,\n",
       "div.sk-serial,\n",
       "div.sk-item {\n",
       "  /* draw centered vertical line to link estimators */\n",
       "  background-image: linear-gradient(var(--sklearn-color-text-on-default-background), var(--sklearn-color-text-on-default-background));\n",
       "  background-size: 2px 100%;\n",
       "  background-repeat: no-repeat;\n",
       "  background-position: center center;\n",
       "}\n",
       "\n",
       "/* Parallel-specific style estimator block */\n",
       "\n",
       "#sk-container-id-5 div.sk-parallel-item::after {\n",
       "  content: \"\";\n",
       "  width: 100%;\n",
       "  border-bottom: 2px solid var(--sklearn-color-text-on-default-background);\n",
       "  flex-grow: 1;\n",
       "}\n",
       "\n",
       "#sk-container-id-5 div.sk-parallel {\n",
       "  display: flex;\n",
       "  align-items: stretch;\n",
       "  justify-content: center;\n",
       "  background-color: var(--sklearn-color-background);\n",
       "  position: relative;\n",
       "}\n",
       "\n",
       "#sk-container-id-5 div.sk-parallel-item {\n",
       "  display: flex;\n",
       "  flex-direction: column;\n",
       "}\n",
       "\n",
       "#sk-container-id-5 div.sk-parallel-item:first-child::after {\n",
       "  align-self: flex-end;\n",
       "  width: 50%;\n",
       "}\n",
       "\n",
       "#sk-container-id-5 div.sk-parallel-item:last-child::after {\n",
       "  align-self: flex-start;\n",
       "  width: 50%;\n",
       "}\n",
       "\n",
       "#sk-container-id-5 div.sk-parallel-item:only-child::after {\n",
       "  width: 0;\n",
       "}\n",
       "\n",
       "/* Serial-specific style estimator block */\n",
       "\n",
       "#sk-container-id-5 div.sk-serial {\n",
       "  display: flex;\n",
       "  flex-direction: column;\n",
       "  align-items: center;\n",
       "  background-color: var(--sklearn-color-background);\n",
       "  padding-right: 1em;\n",
       "  padding-left: 1em;\n",
       "}\n",
       "\n",
       "\n",
       "/* Toggleable style: style used for estimator/Pipeline/ColumnTransformer box that is\n",
       "clickable and can be expanded/collapsed.\n",
       "- Pipeline and ColumnTransformer use this feature and define the default style\n",
       "- Estimators will overwrite some part of the style using the `sk-estimator` class\n",
       "*/\n",
       "\n",
       "/* Pipeline and ColumnTransformer style (default) */\n",
       "\n",
       "#sk-container-id-5 div.sk-toggleable {\n",
       "  /* Default theme specific background. It is overwritten whether we have a\n",
       "  specific estimator or a Pipeline/ColumnTransformer */\n",
       "  background-color: var(--sklearn-color-background);\n",
       "}\n",
       "\n",
       "/* Toggleable label */\n",
       "#sk-container-id-5 label.sk-toggleable__label {\n",
       "  cursor: pointer;\n",
       "  display: block;\n",
       "  width: 100%;\n",
       "  margin-bottom: 0;\n",
       "  padding: 0.5em;\n",
       "  box-sizing: border-box;\n",
       "  text-align: center;\n",
       "}\n",
       "\n",
       "#sk-container-id-5 label.sk-toggleable__label-arrow:before {\n",
       "  /* Arrow on the left of the label */\n",
       "  content: \"▸\";\n",
       "  float: left;\n",
       "  margin-right: 0.25em;\n",
       "  color: var(--sklearn-color-icon);\n",
       "}\n",
       "\n",
       "#sk-container-id-5 label.sk-toggleable__label-arrow:hover:before {\n",
       "  color: var(--sklearn-color-text);\n",
       "}\n",
       "\n",
       "/* Toggleable content - dropdown */\n",
       "\n",
       "#sk-container-id-5 div.sk-toggleable__content {\n",
       "  max-height: 0;\n",
       "  max-width: 0;\n",
       "  overflow: hidden;\n",
       "  text-align: left;\n",
       "  /* unfitted */\n",
       "  background-color: var(--sklearn-color-unfitted-level-0);\n",
       "}\n",
       "\n",
       "#sk-container-id-5 div.sk-toggleable__content.fitted {\n",
       "  /* fitted */\n",
       "  background-color: var(--sklearn-color-fitted-level-0);\n",
       "}\n",
       "\n",
       "#sk-container-id-5 div.sk-toggleable__content pre {\n",
       "  margin: 0.2em;\n",
       "  border-radius: 0.25em;\n",
       "  color: var(--sklearn-color-text);\n",
       "  /* unfitted */\n",
       "  background-color: var(--sklearn-color-unfitted-level-0);\n",
       "}\n",
       "\n",
       "#sk-container-id-5 div.sk-toggleable__content.fitted pre {\n",
       "  /* unfitted */\n",
       "  background-color: var(--sklearn-color-fitted-level-0);\n",
       "}\n",
       "\n",
       "#sk-container-id-5 input.sk-toggleable__control:checked~div.sk-toggleable__content {\n",
       "  /* Expand drop-down */\n",
       "  max-height: 200px;\n",
       "  max-width: 100%;\n",
       "  overflow: auto;\n",
       "}\n",
       "\n",
       "#sk-container-id-5 input.sk-toggleable__control:checked~label.sk-toggleable__label-arrow:before {\n",
       "  content: \"▾\";\n",
       "}\n",
       "\n",
       "/* Pipeline/ColumnTransformer-specific style */\n",
       "\n",
       "#sk-container-id-5 div.sk-label input.sk-toggleable__control:checked~label.sk-toggleable__label {\n",
       "  color: var(--sklearn-color-text);\n",
       "  background-color: var(--sklearn-color-unfitted-level-2);\n",
       "}\n",
       "\n",
       "#sk-container-id-5 div.sk-label.fitted input.sk-toggleable__control:checked~label.sk-toggleable__label {\n",
       "  background-color: var(--sklearn-color-fitted-level-2);\n",
       "}\n",
       "\n",
       "/* Estimator-specific style */\n",
       "\n",
       "/* Colorize estimator box */\n",
       "#sk-container-id-5 div.sk-estimator input.sk-toggleable__control:checked~label.sk-toggleable__label {\n",
       "  /* unfitted */\n",
       "  background-color: var(--sklearn-color-unfitted-level-2);\n",
       "}\n",
       "\n",
       "#sk-container-id-5 div.sk-estimator.fitted input.sk-toggleable__control:checked~label.sk-toggleable__label {\n",
       "  /* fitted */\n",
       "  background-color: var(--sklearn-color-fitted-level-2);\n",
       "}\n",
       "\n",
       "#sk-container-id-5 div.sk-label label.sk-toggleable__label,\n",
       "#sk-container-id-5 div.sk-label label {\n",
       "  /* The background is the default theme color */\n",
       "  color: var(--sklearn-color-text-on-default-background);\n",
       "}\n",
       "\n",
       "/* On hover, darken the color of the background */\n",
       "#sk-container-id-5 div.sk-label:hover label.sk-toggleable__label {\n",
       "  color: var(--sklearn-color-text);\n",
       "  background-color: var(--sklearn-color-unfitted-level-2);\n",
       "}\n",
       "\n",
       "/* Label box, darken color on hover, fitted */\n",
       "#sk-container-id-5 div.sk-label.fitted:hover label.sk-toggleable__label.fitted {\n",
       "  color: var(--sklearn-color-text);\n",
       "  background-color: var(--sklearn-color-fitted-level-2);\n",
       "}\n",
       "\n",
       "/* Estimator label */\n",
       "\n",
       "#sk-container-id-5 div.sk-label label {\n",
       "  font-family: monospace;\n",
       "  font-weight: bold;\n",
       "  display: inline-block;\n",
       "  line-height: 1.2em;\n",
       "}\n",
       "\n",
       "#sk-container-id-5 div.sk-label-container {\n",
       "  text-align: center;\n",
       "}\n",
       "\n",
       "/* Estimator-specific */\n",
       "#sk-container-id-5 div.sk-estimator {\n",
       "  font-family: monospace;\n",
       "  border: 1px dotted var(--sklearn-color-border-box);\n",
       "  border-radius: 0.25em;\n",
       "  box-sizing: border-box;\n",
       "  margin-bottom: 0.5em;\n",
       "  /* unfitted */\n",
       "  background-color: var(--sklearn-color-unfitted-level-0);\n",
       "}\n",
       "\n",
       "#sk-container-id-5 div.sk-estimator.fitted {\n",
       "  /* fitted */\n",
       "  background-color: var(--sklearn-color-fitted-level-0);\n",
       "}\n",
       "\n",
       "/* on hover */\n",
       "#sk-container-id-5 div.sk-estimator:hover {\n",
       "  /* unfitted */\n",
       "  background-color: var(--sklearn-color-unfitted-level-2);\n",
       "}\n",
       "\n",
       "#sk-container-id-5 div.sk-estimator.fitted:hover {\n",
       "  /* fitted */\n",
       "  background-color: var(--sklearn-color-fitted-level-2);\n",
       "}\n",
       "\n",
       "/* Specification for estimator info (e.g. \"i\" and \"?\") */\n",
       "\n",
       "/* Common style for \"i\" and \"?\" */\n",
       "\n",
       ".sk-estimator-doc-link,\n",
       "a:link.sk-estimator-doc-link,\n",
       "a:visited.sk-estimator-doc-link {\n",
       "  float: right;\n",
       "  font-size: smaller;\n",
       "  line-height: 1em;\n",
       "  font-family: monospace;\n",
       "  background-color: var(--sklearn-color-background);\n",
       "  border-radius: 1em;\n",
       "  height: 1em;\n",
       "  width: 1em;\n",
       "  text-decoration: none !important;\n",
       "  margin-left: 1ex;\n",
       "  /* unfitted */\n",
       "  border: var(--sklearn-color-unfitted-level-1) 1pt solid;\n",
       "  color: var(--sklearn-color-unfitted-level-1);\n",
       "}\n",
       "\n",
       ".sk-estimator-doc-link.fitted,\n",
       "a:link.sk-estimator-doc-link.fitted,\n",
       "a:visited.sk-estimator-doc-link.fitted {\n",
       "  /* fitted */\n",
       "  border: var(--sklearn-color-fitted-level-1) 1pt solid;\n",
       "  color: var(--sklearn-color-fitted-level-1);\n",
       "}\n",
       "\n",
       "/* On hover */\n",
       "div.sk-estimator:hover .sk-estimator-doc-link:hover,\n",
       ".sk-estimator-doc-link:hover,\n",
       "div.sk-label-container:hover .sk-estimator-doc-link:hover,\n",
       ".sk-estimator-doc-link:hover {\n",
       "  /* unfitted */\n",
       "  background-color: var(--sklearn-color-unfitted-level-3);\n",
       "  color: var(--sklearn-color-background);\n",
       "  text-decoration: none;\n",
       "}\n",
       "\n",
       "div.sk-estimator.fitted:hover .sk-estimator-doc-link.fitted:hover,\n",
       ".sk-estimator-doc-link.fitted:hover,\n",
       "div.sk-label-container:hover .sk-estimator-doc-link.fitted:hover,\n",
       ".sk-estimator-doc-link.fitted:hover {\n",
       "  /* fitted */\n",
       "  background-color: var(--sklearn-color-fitted-level-3);\n",
       "  color: var(--sklearn-color-background);\n",
       "  text-decoration: none;\n",
       "}\n",
       "\n",
       "/* Span, style for the box shown on hovering the info icon */\n",
       ".sk-estimator-doc-link span {\n",
       "  display: none;\n",
       "  z-index: 9999;\n",
       "  position: relative;\n",
       "  font-weight: normal;\n",
       "  right: .2ex;\n",
       "  padding: .5ex;\n",
       "  margin: .5ex;\n",
       "  width: min-content;\n",
       "  min-width: 20ex;\n",
       "  max-width: 50ex;\n",
       "  color: var(--sklearn-color-text);\n",
       "  box-shadow: 2pt 2pt 4pt #999;\n",
       "  /* unfitted */\n",
       "  background: var(--sklearn-color-unfitted-level-0);\n",
       "  border: .5pt solid var(--sklearn-color-unfitted-level-3);\n",
       "}\n",
       "\n",
       ".sk-estimator-doc-link.fitted span {\n",
       "  /* fitted */\n",
       "  background: var(--sklearn-color-fitted-level-0);\n",
       "  border: var(--sklearn-color-fitted-level-3);\n",
       "}\n",
       "\n",
       ".sk-estimator-doc-link:hover span {\n",
       "  display: block;\n",
       "}\n",
       "\n",
       "/* \"?\"-specific style due to the `<a>` HTML tag */\n",
       "\n",
       "#sk-container-id-5 a.estimator_doc_link {\n",
       "  float: right;\n",
       "  font-size: 1rem;\n",
       "  line-height: 1em;\n",
       "  font-family: monospace;\n",
       "  background-color: var(--sklearn-color-background);\n",
       "  border-radius: 1rem;\n",
       "  height: 1rem;\n",
       "  width: 1rem;\n",
       "  text-decoration: none;\n",
       "  /* unfitted */\n",
       "  color: var(--sklearn-color-unfitted-level-1);\n",
       "  border: var(--sklearn-color-unfitted-level-1) 1pt solid;\n",
       "}\n",
       "\n",
       "#sk-container-id-5 a.estimator_doc_link.fitted {\n",
       "  /* fitted */\n",
       "  border: var(--sklearn-color-fitted-level-1) 1pt solid;\n",
       "  color: var(--sklearn-color-fitted-level-1);\n",
       "}\n",
       "\n",
       "/* On hover */\n",
       "#sk-container-id-5 a.estimator_doc_link:hover {\n",
       "  /* unfitted */\n",
       "  background-color: var(--sklearn-color-unfitted-level-3);\n",
       "  color: var(--sklearn-color-background);\n",
       "  text-decoration: none;\n",
       "}\n",
       "\n",
       "#sk-container-id-5 a.estimator_doc_link.fitted:hover {\n",
       "  /* fitted */\n",
       "  background-color: var(--sklearn-color-fitted-level-3);\n",
       "}\n",
       "</style><div id=\"sk-container-id-5\" class=\"sk-top-container\"><div class=\"sk-text-repr-fallback\"><pre>ManyClassClassifier(alphabet_size=10, estimator=TabPFNClassifier())</pre><b>In a Jupyter environment, please rerun this cell to show the HTML representation or trust the notebook. <br />On GitHub, the HTML representation is unable to render, please try loading this page with nbviewer.org.</b></div><div class=\"sk-container\" hidden><div class=\"sk-item sk-dashed-wrapped\"><div class=\"sk-label-container\"><div class=\"sk-label fitted sk-toggleable\"><input class=\"sk-toggleable__control sk-hidden--visually\" id=\"sk-estimator-id-13\" type=\"checkbox\" ><label for=\"sk-estimator-id-13\" class=\"sk-toggleable__label fitted sk-toggleable__label-arrow fitted\">&nbsp;ManyClassClassifier<span class=\"sk-estimator-doc-link fitted\">i<span>Fitted</span></span></label><div class=\"sk-toggleable__content fitted\"><pre>ManyClassClassifier(alphabet_size=10, estimator=TabPFNClassifier())</pre></div> </div></div><div class=\"sk-parallel\"><div class=\"sk-parallel-item\"><div class=\"sk-item\"><div class=\"sk-label-container\"><div class=\"sk-label fitted sk-toggleable\"><input class=\"sk-toggleable__control sk-hidden--visually\" id=\"sk-estimator-id-14\" type=\"checkbox\" ><label for=\"sk-estimator-id-14\" class=\"sk-toggleable__label fitted sk-toggleable__label-arrow fitted\">estimator: TabPFNClassifier</label><div class=\"sk-toggleable__content fitted\"><pre>TabPFNClassifier()</pre></div> </div></div><div class=\"sk-serial\"><div class=\"sk-item\"><div class=\"sk-estimator fitted sk-toggleable\"><input class=\"sk-toggleable__control sk-hidden--visually\" id=\"sk-estimator-id-15\" type=\"checkbox\" ><label for=\"sk-estimator-id-15\" class=\"sk-toggleable__label fitted sk-toggleable__label-arrow fitted\">TabPFNClassifier</label><div class=\"sk-toggleable__content fitted\"><pre>TabPFNClassifier()</pre></div> </div></div></div></div></div></div></div></div></div>"
      ],
      "text/plain": [
       "ManyClassClassifier(alphabet_size=10, estimator=TabPFNClassifier())"
      ]
     },
     "execution_count": 23,
     "metadata": {},
     "output_type": "execute_result"
    }
   ],
   "source": [
    "from tabpfn import TabPFNClassifier\n",
    "from tabpfn_extensions.many_class import ManyClassClassifier\n",
    "import numpy as np\n",
    "\n",
    "# Features and target\n",
    "wavelength23_cols = ['B2','B3', 'B4', 'B5', 'B6', 'B7', 'B8','B11','B12']\n",
    "X = gdf18[wavelength23_cols]\n",
    "y = gdf18['class'].astype(int)\n",
    "\n",
    "# Classifier\n",
    "# Create a base TabPFN classifier\n",
    "base_clf = TabPFNClassifier(fit_mode= 'fit_preprocessors')\n",
    "# Initialize a classifier\n",
    "clf = ManyClassClassifier(\n",
    "    estimator=base_clf,\n",
    "    alphabet_size=10  # Use TabPFN's maximum class limit\n",
    ")\n",
    "clf.fit(X, y)"
   ]
  },
  {
   "cell_type": "code",
   "execution_count": 24,
   "metadata": {
    "cellUniqueIdByVincent": "1b32a"
   },
   "outputs": [
    {
     "data": {
      "text/html": [
       "\n",
       "            <style>\n",
       "                .geemap-dark {\n",
       "                    --jp-widgets-color: white;\n",
       "                    --jp-widgets-label-color: white;\n",
       "                    --jp-ui-font-color1: white;\n",
       "                    --jp-layout-color2: #454545;\n",
       "                    background-color: #383838;\n",
       "                }\n",
       "\n",
       "                .geemap-dark .jupyter-button {\n",
       "                    --jp-layout-color3: #383838;\n",
       "                }\n",
       "\n",
       "                .geemap-colab {\n",
       "                    background-color: var(--colab-primary-surface-color, white);\n",
       "                }\n",
       "\n",
       "                .geemap-colab .jupyter-button {\n",
       "                    --jp-layout-color3: var(--colab-primary-surface-color, white);\n",
       "                }\n",
       "            </style>\n",
       "            "
      ],
      "text/plain": [
       "<IPython.core.display.HTML object>"
      ]
     },
     "metadata": {},
     "output_type": "display_data"
    }
   ],
   "source": [
    "import os\n",
    "import numpy as np\n",
    "import pandas as pd\n",
    "import rasterio\n",
    "from rasterio.plot import reshape_as_image, reshape_as_raster\n",
    "\n",
    "# Parralel processing\n",
    "import concurrent.futures\n",
    "import threading\n",
    "import logging\n",
    "from tqdm.auto import tqdm\n",
    "from pathlib import Path\n",
    "import warnings\n",
    "\n",
    "# Ignore all warnings\n",
    "warnings.filterwarnings(\"ignore\")\n",
    "def inference(infile: str, confModel, outfile : str, patchSize : int, num_workers : int = 4):\n",
    "        \"\"\"\n",
    "        Run inference on infile (Geotiff) using trained model.\n",
    "\n",
    "        Args:\n",
    "            infile (str): A complete path to an image to perform inference on.\n",
    "            confModel (mapie classifier): Calibrated conformal predictor based on the MAPIE package.\n",
    "            outfile (str): File path and file name to save output geoTiff files\n",
    "            patchSize (int): The height and width dimensions of the patch to process\n",
    "            num_workers (int): The number of core to utilise during parralel processing\n",
    "\n",
    "        Returns:\n",
    "            multiband (n_classes +2) geotiff in 'all' mode.\n",
    "            1) A multiband (number of bands equal to the n classes) geotiff ('set'),\n",
    "            2) A single band geotiff for highest probability (argmax) class ('predict'),\n",
    "            3) A single band geotiff for the probability of the argmax class ('predict_proba')\n",
    "\n",
    "        \"\"\"\n",
    "\n",
    "        with rasterio.open(infile) as src:\n",
    "            \n",
    "            logger = logging.getLogger(__name__)\n",
    "            # Create a destination dataset based on source params. The\n",
    "            # destination will be tiled, and the tiles will be processed\n",
    "            # concurrently.\n",
    "            profile = src.profile\n",
    "            profile.update(blockxsize= patchSize, blockysize= patchSize, tiled=True, count =1)\n",
    "\n",
    "            with rasterio.open(Path(outfile), \"w\", **profile) as dst:\n",
    "                windows = [window for ij, window in dst.block_windows()]\n",
    "\n",
    "                # use a lock to protect the DatasetReader/Writer\n",
    "                read_lock = threading.Lock()\n",
    "                write_lock = threading.Lock()\n",
    "\n",
    "                def process(window):\n",
    "                    with read_lock:\n",
    "                        src_array = src.read(window=window)\n",
    "                        i_arr = reshape_as_image(src_array)\n",
    "                        \n",
    "                        #Format input_image for inference\n",
    "                        nPixels = i_arr.shape[0]*i_arr.shape[1]\n",
    "                        nBands = i_arr.shape[-1]\n",
    "                        # Take full image and reshape into long 2d array (nrow * ncol, nband) for classification\n",
    "                        new_arr = i_arr.reshape(nPixels, nBands)#reshape 3d array to 2d array that matches the training data table from earlier\n",
    "                        bandnames = list(src.descriptions)\n",
    "                        data = pd.DataFrame(new_arr, columns = bandnames).fillna(0)\n",
    "                        y_pred = confModel.predict(data)\n",
    "                        \n",
    "                        # Reshape our outputs back into a 2D matrix so we can save it as an image\n",
    "                        result = y_pred.reshape([i_arr.shape[0],i_arr.shape[1]]).astype(np.float64)\n",
    "                        dst.descriptions = tuple(['classification'])\n",
    "                    with write_lock:\n",
    "                    #     for index, filename in enumerate([result], start=1):\n",
    "                    #         dst.write(filename, window= window, indexes=index)\n",
    "                        dst.write(result, window=window, indexes=1)\n",
    "\n",
    "                # We map the process() function over the list of windows.\n",
    "                with tqdm(total=len(windows), desc = os.path.basename(outfile)) as pbar:\n",
    "                    with concurrent.futures.ThreadPoolExecutor(max_workers=num_workers) as executor:\n",
    "                        futures = {executor.submit(process, window): window for window in windows[:2]}\n",
    "                        try:\n",
    "                            for future in concurrent.futures.as_completed(futures):\n",
    "                                future.result()\n",
    "                                pbar.update(1)\n",
    "\n",
    "                        except Exception as ex:\n",
    "                            logger.info('Cancelling...')\n",
    "                            executor.shutdown(wait=False, cancel_futures=True)\n",
    "                            raise ex"
   ]
  },
  {
   "cell_type": "code",
   "execution_count": null,
   "metadata": {
    "cellUniqueIdByVincent": "50471"
   },
   "outputs": [
    {
     "data": {
      "text/html": [
       "\n",
       "            <style>\n",
       "                .geemap-dark {\n",
       "                    --jp-widgets-color: white;\n",
       "                    --jp-widgets-label-color: white;\n",
       "                    --jp-ui-font-color1: white;\n",
       "                    --jp-layout-color2: #454545;\n",
       "                    background-color: #383838;\n",
       "                }\n",
       "\n",
       "                .geemap-dark .jupyter-button {\n",
       "                    --jp-layout-color3: #383838;\n",
       "                }\n",
       "\n",
       "                .geemap-colab {\n",
       "                    background-color: var(--colab-primary-surface-color, white);\n",
       "                }\n",
       "\n",
       "                .geemap-colab .jupyter-button {\n",
       "                    --jp-layout-color3: var(--colab-primary-surface-color, white);\n",
       "                }\n",
       "            </style>\n",
       "            "
      ],
      "text/plain": [
       "<IPython.core.display.HTML object>"
      ]
     },
     "metadata": {},
     "output_type": "display_data"
    },
    {
     "data": {
      "application/vnd.jupyter.widget-view+json": {
       "model_id": "e116ab970ebe4b199d2d67910ae4270a",
       "version_major": 2,
       "version_minor": 0
      },
      "text/plain": [
       "tabpfn_pred_composite2018.tif:   0%|          | 0/8000 [00:00<?, ?it/s]"
      ]
     },
     "metadata": {},
     "output_type": "display_data"
    },
    {
     "name": "stderr",
     "output_type": "stream",
     "text": [
      "100%|██████████| 16/16 [02:15<00:00,  8.44s/it]\n",
      "100%|██████████| 16/16 [02:23<00:00,  9.00s/it]\n"
     ]
    }
   ],
   "source": [
    "# Estimated to take 11.11 days to run for entire aoi. Not practical.\n",
    "infile = r\"C:\\Users\\coach\\myfiles\\postdoc\\Invasives\\data\\Invasie species\\composites\\composite2018.tif\"\n",
    "outfile = r\"C:\\Users\\coach\\myfiles\\postdoc\\Invasives\\data\\Invasie species\\composites\\tabpfn_pred_composite2018.tif\"\n",
    "inference(infile = infile, confModel = clf, outfile = outfile, patchSize = 48, num_workers = 7)"
   ]
  },
  {
   "cell_type": "markdown",
   "metadata": {
    "cellUniqueIdByVincent": "81894"
   },
   "source": [
    "### Sample 2018 classification, and 2023 composite"
   ]
  },
  {
   "cell_type": "code",
   "execution_count": null,
   "metadata": {
    "cellUniqueIdByVincent": "ae358"
   },
   "outputs": [
    {
     "data": {
      "text/html": [
       "\n",
       "            <style>\n",
       "                .geemap-dark {\n",
       "                    --jp-widgets-color: white;\n",
       "                    --jp-widgets-label-color: white;\n",
       "                    --jp-ui-font-color1: white;\n",
       "                    --jp-layout-color2: #454545;\n",
       "                    background-color: #383838;\n",
       "                }\n",
       "\n",
       "                .geemap-dark .jupyter-button {\n",
       "                    --jp-layout-color3: #383838;\n",
       "                }\n",
       "\n",
       "                .geemap-colab {\n",
       "                    background-color: var(--colab-primary-surface-color, white);\n",
       "                }\n",
       "\n",
       "                .geemap-colab .jupyter-button {\n",
       "                    --jp-layout-color3: var(--colab-primary-surface-color, white);\n",
       "                }\n",
       "            </style>\n",
       "            "
      ],
      "text/plain": [
       "<IPython.core.display.HTML object>"
      ]
     },
     "metadata": {},
     "output_type": "display_data"
    },
    {
     "name": "stdout",
     "output_type": "stream",
     "text": [
      "Area per class (km²): [{'area_km2': 46.51087429231495, 'classification': 0, 'sum': 46510874.292314954}, {'area_km2': 2.7659617584951963, 'classification': 1, 'sum': 2765961.7584951962}, {'area_km2': 42.329922020448514, 'classification': 2, 'sum': 42329922.02044851}, {'area_km2': 363.50202361679504, 'classification': 3, 'sum': 363502023.61679506}, {'area_km2': 608.4786467444915, 'classification': 4, 'sum': 608478646.7444915}, {'area_km2': 12.351374990374486, 'classification': 5, 'sum': 12351374.990374487}, {'area_km2': 43.33394519877673, 'classification': 6, 'sum': 43333945.19877673}, {'area_km2': 94.94741888564624, 'classification': 7, 'sum': 94947418.88564624}, {'area_km2': 164.44716737557945, 'classification': 8, 'sum': 164447167.37557945}, {'area_km2': 73.62839560954168, 'classification': 9, 'sum': 73628395.60954168}, {'area_km2': 42.315563705551405, 'classification': 10, 'sum': 42315563.70555141}]\n"
     ]
    }
   ],
   "source": [
    "# pred_composite2018.tif\" was manually uploaded to GEE as an asset\n",
    "# Now we can use it in GEE\n",
    "classified = ee.Image(\"projects/ee-gsingh/assets/postdoc/pred_composite2018\").rename('classification')\n",
    "\n",
    "# Define region and scale\n",
    "region = pts.geometry().bounds()  # Use the bounding box of the points\n",
    "# Define scale in meters\n",
    "scale = 10  # in meters\n",
    "\n",
    "# Compute per-class area in m²\n",
    "area_image = ee.Image.pixelArea().addBands(classified)\n",
    "\n",
    "# Reduce to total area per class\n",
    "areas = area_image.reduceRegion(\n",
    "    reducer=ee.Reducer.sum().group(\n",
    "        groupField=1,\n",
    "        groupName='classification'\n",
    "    ),\n",
    "    geometry=region,\n",
    "    scale=scale,\n",
    "    maxPixels=1e13\n",
    ")\n",
    "\n",
    "# Convert m² to km²\n",
    "area_km2 = ee.List(areas.get('groups')).map(lambda g:\n",
    "    ee.Dictionary(g).set(\n",
    "        'area_km2',\n",
    "        ee.Number(ee.Dictionary(g).get('sum')).divide(1e6)\n",
    "    )\n",
    ")\n",
    "area_km2 = area_km2.getInfo()\n",
    "print('Area per class (km²):', area_km2)\n"
   ]
  },
  {
   "cell_type": "code",
   "execution_count": null,
   "metadata": {
    "cellUniqueIdByVincent": "023df"
   },
   "outputs": [
    {
     "data": {
      "text/html": [
       "\n",
       "            <style>\n",
       "                .geemap-dark {\n",
       "                    --jp-widgets-color: white;\n",
       "                    --jp-widgets-label-color: white;\n",
       "                    --jp-ui-font-color1: white;\n",
       "                    --jp-layout-color2: #454545;\n",
       "                    background-color: #383838;\n",
       "                }\n",
       "\n",
       "                .geemap-dark .jupyter-button {\n",
       "                    --jp-layout-color3: #383838;\n",
       "                }\n",
       "\n",
       "                .geemap-colab {\n",
       "                    background-color: var(--colab-primary-surface-color, white);\n",
       "                }\n",
       "\n",
       "                .geemap-colab .jupyter-button {\n",
       "                    --jp-layout-color3: var(--colab-primary-surface-color, white);\n",
       "                }\n",
       "            </style>\n",
       "            "
      ],
      "text/plain": [
       "<IPython.core.display.HTML object>"
      ]
     },
     "metadata": {},
     "output_type": "display_data"
    },
    {
     "name": "stdout",
     "output_type": "stream",
     "text": [
      "Total allocated: 162294\n",
      "Class  0: 5001 samples\n",
      "Class  1: 1608 samples\n",
      "Class  2: 4551 samples\n",
      "Class  3: 39085 samples\n",
      "Class  4: 65426 samples\n",
      "Class  5: 1608 samples\n",
      "Class  6: 4659 samples\n",
      "Class  7: 10209 samples\n",
      "Class  8: 17682 samples\n",
      "Class  9: 7916 samples\n",
      "Class 10: 4549 samples\n"
     ]
    }
   ],
   "source": [
    "import math\n",
    "\n",
    "# Input: list of dicts from GEE\n",
    "# Reformat the data to match the 'area_stats' structure\n",
    "area_stats = [\n",
    "    {'area_km2': item['area_km2'], 'classification': item['classification']}\n",
    "    for item in area_km2\n",
    "]\n",
    "\n",
    "# Parameters\n",
    "total_samples = 160_708\n",
    "min_samples_per_class = 1_608\n",
    "\n",
    "# Step 1: compute total area\n",
    "total_area = sum(c['area_km2'] for c in area_stats)\n",
    "\n",
    "# Step 2: compute proportional sample allocation\n",
    "sample_alloc = []\n",
    "for c in area_stats:\n",
    "    weight = c['area_km2'] / total_area\n",
    "    n = math.floor(weight * total_samples)\n",
    "    n = max(n, min_samples_per_class)\n",
    "    sample_alloc.append({'class': c['classification'], 'samples': n})\n",
    "\n",
    "# Step 3: (optional) normalize if over-allocated\n",
    "allocated_total = sum(c['samples'] for c in sample_alloc)\n",
    "print(\"Total allocated:\", allocated_total)\n",
    "\n",
    "# Display result\n",
    "for row in sample_alloc:\n",
    "    print(f\"Class {row['class']:>2}: {row['samples']} samples\")\n"
   ]
  },
  {
   "cell_type": "code",
   "execution_count": null,
   "metadata": {
    "cellUniqueIdByVincent": "33e3b"
   },
   "outputs": [
    {
     "data": {
      "text/html": [
       "\n",
       "            <style>\n",
       "                .geemap-dark {\n",
       "                    --jp-widgets-color: white;\n",
       "                    --jp-widgets-label-color: white;\n",
       "                    --jp-ui-font-color1: white;\n",
       "                    --jp-layout-color2: #454545;\n",
       "                    background-color: #383838;\n",
       "                }\n",
       "\n",
       "                .geemap-dark .jupyter-button {\n",
       "                    --jp-layout-color3: #383838;\n",
       "                }\n",
       "\n",
       "                .geemap-colab {\n",
       "                    background-color: var(--colab-primary-surface-color, white);\n",
       "                }\n",
       "\n",
       "                .geemap-colab .jupyter-button {\n",
       "                    --jp-layout-color3: var(--colab-primary-surface-color, white);\n",
       "                }\n",
       "            </style>\n",
       "            "
      ],
      "text/plain": [
       "<IPython.core.display.HTML object>"
      ]
     },
     "metadata": {},
     "output_type": "display_data"
    },
    {
     "name": "stdout",
     "output_type": "stream",
     "text": [
      "Sample size (should be 162294): 162294\n"
     ]
    }
   ],
   "source": [
    "# Class-wise sample sizes\n",
    "class_counts = {\n",
    "    item['class']: item['samples']\n",
    "    for item in sample_alloc\n",
    "}\n",
    "\n",
    "# Convert the dictionary to an ee.Dictionary\n",
    "class_counts_ee = ee.Dictionary(class_counts)\n",
    "\n",
    "# Add the classification band to composite for stratified sampling\n",
    "composite_with_class = composite2023.addBands(classified.rename('class').toInt()).updateMask(im_z.lt(95.811))\n",
    "\n",
    "# Perform stratified sampling\n",
    "sample = composite_with_class.stratifiedSample(\n",
    "    numPoints=0,  # must be 0 if you're using classValues & classPoints\n",
    "    classBand='class',\n",
    "    classValues=list(class_counts.keys()),\n",
    "    classPoints=list(class_counts.values()),\n",
    "    region=region,\n",
    "    scale=10,\n",
    "    geometries=True,  # set to True if you want point geometry\n",
    "    seed=42\n",
    ")\n",
    "\n",
    "# Optional: print sample count\n",
    "sample_size = sample.size()\n",
    "print(f\"Sample size (should be {allocated_total}):\", sample_size.getInfo())"
   ]
  },
  {
   "cell_type": "code",
   "execution_count": null,
   "metadata": {
    "cellUniqueIdByVincent": "42d6f"
   },
   "outputs": [
    {
     "data": {
      "text/html": [
       "\n",
       "            <style>\n",
       "                .geemap-dark {\n",
       "                    --jp-widgets-color: white;\n",
       "                    --jp-widgets-label-color: white;\n",
       "                    --jp-ui-font-color1: white;\n",
       "                    --jp-layout-color2: #454545;\n",
       "                    background-color: #383838;\n",
       "                }\n",
       "\n",
       "                .geemap-dark .jupyter-button {\n",
       "                    --jp-layout-color3: #383838;\n",
       "                }\n",
       "\n",
       "                .geemap-colab {\n",
       "                    background-color: var(--colab-primary-surface-color, white);\n",
       "                }\n",
       "\n",
       "                .geemap-colab .jupyter-button {\n",
       "                    --jp-layout-color3: var(--colab-primary-surface-color, white);\n",
       "                }\n",
       "            </style>\n",
       "            "
      ],
      "text/plain": [
       "<IPython.core.display.HTML object>"
      ]
     },
     "metadata": {},
     "output_type": "display_data"
    },
    {
     "data": {
      "text/html": [
       "<div>\n",
       "<style scoped>\n",
       "    .dataframe tbody tr th:only-of-type {\n",
       "        vertical-align: middle;\n",
       "    }\n",
       "\n",
       "    .dataframe tbody tr th {\n",
       "        vertical-align: top;\n",
       "    }\n",
       "\n",
       "    .dataframe thead th {\n",
       "        text-align: right;\n",
       "    }\n",
       "</style>\n",
       "<table border=\"1\" class=\"dataframe\">\n",
       "  <thead>\n",
       "    <tr style=\"text-align: right;\">\n",
       "      <th></th>\n",
       "      <th>geometry</th>\n",
       "      <th>B11</th>\n",
       "      <th>B12</th>\n",
       "      <th>B2</th>\n",
       "      <th>B3</th>\n",
       "      <th>B4</th>\n",
       "      <th>B5</th>\n",
       "      <th>B6</th>\n",
       "      <th>B7</th>\n",
       "      <th>B8</th>\n",
       "      <th>class</th>\n",
       "    </tr>\n",
       "  </thead>\n",
       "  <tbody>\n",
       "    <tr>\n",
       "      <th>0</th>\n",
       "      <td>POINT (19.5181 -33.82045)</td>\n",
       "      <td>0.29960</td>\n",
       "      <td>0.22415</td>\n",
       "      <td>0.13375</td>\n",
       "      <td>0.16055</td>\n",
       "      <td>0.21695</td>\n",
       "      <td>0.20375</td>\n",
       "      <td>0.24760</td>\n",
       "      <td>0.27035</td>\n",
       "      <td>0.29430</td>\n",
       "      <td>0</td>\n",
       "    </tr>\n",
       "    <tr>\n",
       "      <th>1</th>\n",
       "      <td>POINT (19.19318 -33.98313)</td>\n",
       "      <td>0.20425</td>\n",
       "      <td>0.13390</td>\n",
       "      <td>0.09995</td>\n",
       "      <td>0.09005</td>\n",
       "      <td>0.08505</td>\n",
       "      <td>0.10820</td>\n",
       "      <td>0.14485</td>\n",
       "      <td>0.16175</td>\n",
       "      <td>0.15410</td>\n",
       "      <td>0</td>\n",
       "    </tr>\n",
       "    <tr>\n",
       "      <th>2</th>\n",
       "      <td>POINT (19.34913 -33.87057)</td>\n",
       "      <td>0.24115</td>\n",
       "      <td>0.16345</td>\n",
       "      <td>0.12075</td>\n",
       "      <td>0.11645</td>\n",
       "      <td>0.12010</td>\n",
       "      <td>0.15425</td>\n",
       "      <td>0.19385</td>\n",
       "      <td>0.21330</td>\n",
       "      <td>0.20035</td>\n",
       "      <td>0</td>\n",
       "    </tr>\n",
       "    <tr>\n",
       "      <th>3</th>\n",
       "      <td>POINT (19.51603 -33.83581)</td>\n",
       "      <td>0.26515</td>\n",
       "      <td>0.19700</td>\n",
       "      <td>0.13405</td>\n",
       "      <td>0.14895</td>\n",
       "      <td>0.17200</td>\n",
       "      <td>0.19065</td>\n",
       "      <td>0.21160</td>\n",
       "      <td>0.22500</td>\n",
       "      <td>0.21065</td>\n",
       "      <td>0</td>\n",
       "    </tr>\n",
       "    <tr>\n",
       "      <th>4</th>\n",
       "      <td>POINT (19.25444 -33.97002)</td>\n",
       "      <td>0.21990</td>\n",
       "      <td>0.14090</td>\n",
       "      <td>0.10530</td>\n",
       "      <td>0.09820</td>\n",
       "      <td>0.09390</td>\n",
       "      <td>0.11480</td>\n",
       "      <td>0.15850</td>\n",
       "      <td>0.17780</td>\n",
       "      <td>0.18410</td>\n",
       "      <td>0</td>\n",
       "    </tr>\n",
       "  </tbody>\n",
       "</table>\n",
       "</div>"
      ],
      "text/plain": [
       "                     geometry      B11      B12       B2       B3       B4  \\\n",
       "0   POINT (19.5181 -33.82045)  0.29960  0.22415  0.13375  0.16055  0.21695   \n",
       "1  POINT (19.19318 -33.98313)  0.20425  0.13390  0.09995  0.09005  0.08505   \n",
       "2  POINT (19.34913 -33.87057)  0.24115  0.16345  0.12075  0.11645  0.12010   \n",
       "3  POINT (19.51603 -33.83581)  0.26515  0.19700  0.13405  0.14895  0.17200   \n",
       "4  POINT (19.25444 -33.97002)  0.21990  0.14090  0.10530  0.09820  0.09390   \n",
       "\n",
       "        B5       B6       B7       B8  class  \n",
       "0  0.20375  0.24760  0.27035  0.29430      0  \n",
       "1  0.10820  0.14485  0.16175  0.15410      0  \n",
       "2  0.15425  0.19385  0.21330  0.20035      0  \n",
       "3  0.19065  0.21160  0.22500  0.21065      0  \n",
       "4  0.11480  0.15850  0.17780  0.18410      0  "
      ]
     },
     "metadata": {},
     "output_type": "display_data"
    }
   ],
   "source": [
    "# convert to geopandas dataframe\n",
    "gdf23 = ee.data.computeFeatures({\n",
    "    'expression': sample,\n",
    "    'fileFormat': 'GEOPANDAS_GEODATAFRAME'\n",
    "})\n",
    "\n",
    "# Need to set the CRS.\n",
    "# Make sure it matches the CRS of FeatureCollection geometries.\n",
    "gdf23.crs = 'EPSG:4326'\n",
    "gdf23.head()"
   ]
  },
  {
   "cell_type": "code",
   "execution_count": null,
   "metadata": {
    "cellUniqueIdByVincent": "c0a58"
   },
   "outputs": [
    {
     "data": {
      "text/html": [
       "\n",
       "            <style>\n",
       "                .geemap-dark {\n",
       "                    --jp-widgets-color: white;\n",
       "                    --jp-widgets-label-color: white;\n",
       "                    --jp-ui-font-color1: white;\n",
       "                    --jp-layout-color2: #454545;\n",
       "                    background-color: #383838;\n",
       "                }\n",
       "\n",
       "                .geemap-dark .jupyter-button {\n",
       "                    --jp-layout-color3: #383838;\n",
       "                }\n",
       "\n",
       "                .geemap-colab {\n",
       "                    background-color: var(--colab-primary-surface-color, white);\n",
       "                }\n",
       "\n",
       "                .geemap-colab .jupyter-button {\n",
       "                    --jp-layout-color3: var(--colab-primary-surface-color, white);\n",
       "                }\n",
       "            </style>\n",
       "            "
      ],
      "text/plain": [
       "<IPython.core.display.HTML object>"
      ]
     },
     "metadata": {},
     "output_type": "display_data"
    },
    {
     "data": {
      "text/html": [
       "<style>#sk-container-id-1 {\n",
       "  /* Definition of color scheme common for light and dark mode */\n",
       "  --sklearn-color-text: black;\n",
       "  --sklearn-color-line: gray;\n",
       "  /* Definition of color scheme for unfitted estimators */\n",
       "  --sklearn-color-unfitted-level-0: #fff5e6;\n",
       "  --sklearn-color-unfitted-level-1: #f6e4d2;\n",
       "  --sklearn-color-unfitted-level-2: #ffe0b3;\n",
       "  --sklearn-color-unfitted-level-3: chocolate;\n",
       "  /* Definition of color scheme for fitted estimators */\n",
       "  --sklearn-color-fitted-level-0: #f0f8ff;\n",
       "  --sklearn-color-fitted-level-1: #d4ebff;\n",
       "  --sklearn-color-fitted-level-2: #b3dbfd;\n",
       "  --sklearn-color-fitted-level-3: cornflowerblue;\n",
       "\n",
       "  /* Specific color for light theme */\n",
       "  --sklearn-color-text-on-default-background: var(--sg-text-color, var(--theme-code-foreground, var(--jp-content-font-color1, black)));\n",
       "  --sklearn-color-background: var(--sg-background-color, var(--theme-background, var(--jp-layout-color0, white)));\n",
       "  --sklearn-color-border-box: var(--sg-text-color, var(--theme-code-foreground, var(--jp-content-font-color1, black)));\n",
       "  --sklearn-color-icon: #696969;\n",
       "\n",
       "  @media (prefers-color-scheme: dark) {\n",
       "    /* Redefinition of color scheme for dark theme */\n",
       "    --sklearn-color-text-on-default-background: var(--sg-text-color, var(--theme-code-foreground, var(--jp-content-font-color1, white)));\n",
       "    --sklearn-color-background: var(--sg-background-color, var(--theme-background, var(--jp-layout-color0, #111)));\n",
       "    --sklearn-color-border-box: var(--sg-text-color, var(--theme-code-foreground, var(--jp-content-font-color1, white)));\n",
       "    --sklearn-color-icon: #878787;\n",
       "  }\n",
       "}\n",
       "\n",
       "#sk-container-id-1 {\n",
       "  color: var(--sklearn-color-text);\n",
       "}\n",
       "\n",
       "#sk-container-id-1 pre {\n",
       "  padding: 0;\n",
       "}\n",
       "\n",
       "#sk-container-id-1 input.sk-hidden--visually {\n",
       "  border: 0;\n",
       "  clip: rect(1px 1px 1px 1px);\n",
       "  clip: rect(1px, 1px, 1px, 1px);\n",
       "  height: 1px;\n",
       "  margin: -1px;\n",
       "  overflow: hidden;\n",
       "  padding: 0;\n",
       "  position: absolute;\n",
       "  width: 1px;\n",
       "}\n",
       "\n",
       "#sk-container-id-1 div.sk-dashed-wrapped {\n",
       "  border: 1px dashed var(--sklearn-color-line);\n",
       "  margin: 0 0.4em 0.5em 0.4em;\n",
       "  box-sizing: border-box;\n",
       "  padding-bottom: 0.4em;\n",
       "  background-color: var(--sklearn-color-background);\n",
       "}\n",
       "\n",
       "#sk-container-id-1 div.sk-container {\n",
       "  /* jupyter's `normalize.less` sets `[hidden] { display: none; }`\n",
       "     but bootstrap.min.css set `[hidden] { display: none !important; }`\n",
       "     so we also need the `!important` here to be able to override the\n",
       "     default hidden behavior on the sphinx rendered scikit-learn.org.\n",
       "     See: https://github.com/scikit-learn/scikit-learn/issues/21755 */\n",
       "  display: inline-block !important;\n",
       "  position: relative;\n",
       "}\n",
       "\n",
       "#sk-container-id-1 div.sk-text-repr-fallback {\n",
       "  display: none;\n",
       "}\n",
       "\n",
       "div.sk-parallel-item,\n",
       "div.sk-serial,\n",
       "div.sk-item {\n",
       "  /* draw centered vertical line to link estimators */\n",
       "  background-image: linear-gradient(var(--sklearn-color-text-on-default-background), var(--sklearn-color-text-on-default-background));\n",
       "  background-size: 2px 100%;\n",
       "  background-repeat: no-repeat;\n",
       "  background-position: center center;\n",
       "}\n",
       "\n",
       "/* Parallel-specific style estimator block */\n",
       "\n",
       "#sk-container-id-1 div.sk-parallel-item::after {\n",
       "  content: \"\";\n",
       "  width: 100%;\n",
       "  border-bottom: 2px solid var(--sklearn-color-text-on-default-background);\n",
       "  flex-grow: 1;\n",
       "}\n",
       "\n",
       "#sk-container-id-1 div.sk-parallel {\n",
       "  display: flex;\n",
       "  align-items: stretch;\n",
       "  justify-content: center;\n",
       "  background-color: var(--sklearn-color-background);\n",
       "  position: relative;\n",
       "}\n",
       "\n",
       "#sk-container-id-1 div.sk-parallel-item {\n",
       "  display: flex;\n",
       "  flex-direction: column;\n",
       "}\n",
       "\n",
       "#sk-container-id-1 div.sk-parallel-item:first-child::after {\n",
       "  align-self: flex-end;\n",
       "  width: 50%;\n",
       "}\n",
       "\n",
       "#sk-container-id-1 div.sk-parallel-item:last-child::after {\n",
       "  align-self: flex-start;\n",
       "  width: 50%;\n",
       "}\n",
       "\n",
       "#sk-container-id-1 div.sk-parallel-item:only-child::after {\n",
       "  width: 0;\n",
       "}\n",
       "\n",
       "/* Serial-specific style estimator block */\n",
       "\n",
       "#sk-container-id-1 div.sk-serial {\n",
       "  display: flex;\n",
       "  flex-direction: column;\n",
       "  align-items: center;\n",
       "  background-color: var(--sklearn-color-background);\n",
       "  padding-right: 1em;\n",
       "  padding-left: 1em;\n",
       "}\n",
       "\n",
       "\n",
       "/* Toggleable style: style used for estimator/Pipeline/ColumnTransformer box that is\n",
       "clickable and can be expanded/collapsed.\n",
       "- Pipeline and ColumnTransformer use this feature and define the default style\n",
       "- Estimators will overwrite some part of the style using the `sk-estimator` class\n",
       "*/\n",
       "\n",
       "/* Pipeline and ColumnTransformer style (default) */\n",
       "\n",
       "#sk-container-id-1 div.sk-toggleable {\n",
       "  /* Default theme specific background. It is overwritten whether we have a\n",
       "  specific estimator or a Pipeline/ColumnTransformer */\n",
       "  background-color: var(--sklearn-color-background);\n",
       "}\n",
       "\n",
       "/* Toggleable label */\n",
       "#sk-container-id-1 label.sk-toggleable__label {\n",
       "  cursor: pointer;\n",
       "  display: block;\n",
       "  width: 100%;\n",
       "  margin-bottom: 0;\n",
       "  padding: 0.5em;\n",
       "  box-sizing: border-box;\n",
       "  text-align: center;\n",
       "}\n",
       "\n",
       "#sk-container-id-1 label.sk-toggleable__label-arrow:before {\n",
       "  /* Arrow on the left of the label */\n",
       "  content: \"▸\";\n",
       "  float: left;\n",
       "  margin-right: 0.25em;\n",
       "  color: var(--sklearn-color-icon);\n",
       "}\n",
       "\n",
       "#sk-container-id-1 label.sk-toggleable__label-arrow:hover:before {\n",
       "  color: var(--sklearn-color-text);\n",
       "}\n",
       "\n",
       "/* Toggleable content - dropdown */\n",
       "\n",
       "#sk-container-id-1 div.sk-toggleable__content {\n",
       "  max-height: 0;\n",
       "  max-width: 0;\n",
       "  overflow: hidden;\n",
       "  text-align: left;\n",
       "  /* unfitted */\n",
       "  background-color: var(--sklearn-color-unfitted-level-0);\n",
       "}\n",
       "\n",
       "#sk-container-id-1 div.sk-toggleable__content.fitted {\n",
       "  /* fitted */\n",
       "  background-color: var(--sklearn-color-fitted-level-0);\n",
       "}\n",
       "\n",
       "#sk-container-id-1 div.sk-toggleable__content pre {\n",
       "  margin: 0.2em;\n",
       "  border-radius: 0.25em;\n",
       "  color: var(--sklearn-color-text);\n",
       "  /* unfitted */\n",
       "  background-color: var(--sklearn-color-unfitted-level-0);\n",
       "}\n",
       "\n",
       "#sk-container-id-1 div.sk-toggleable__content.fitted pre {\n",
       "  /* unfitted */\n",
       "  background-color: var(--sklearn-color-fitted-level-0);\n",
       "}\n",
       "\n",
       "#sk-container-id-1 input.sk-toggleable__control:checked~div.sk-toggleable__content {\n",
       "  /* Expand drop-down */\n",
       "  max-height: 200px;\n",
       "  max-width: 100%;\n",
       "  overflow: auto;\n",
       "}\n",
       "\n",
       "#sk-container-id-1 input.sk-toggleable__control:checked~label.sk-toggleable__label-arrow:before {\n",
       "  content: \"▾\";\n",
       "}\n",
       "\n",
       "/* Pipeline/ColumnTransformer-specific style */\n",
       "\n",
       "#sk-container-id-1 div.sk-label input.sk-toggleable__control:checked~label.sk-toggleable__label {\n",
       "  color: var(--sklearn-color-text);\n",
       "  background-color: var(--sklearn-color-unfitted-level-2);\n",
       "}\n",
       "\n",
       "#sk-container-id-1 div.sk-label.fitted input.sk-toggleable__control:checked~label.sk-toggleable__label {\n",
       "  background-color: var(--sklearn-color-fitted-level-2);\n",
       "}\n",
       "\n",
       "/* Estimator-specific style */\n",
       "\n",
       "/* Colorize estimator box */\n",
       "#sk-container-id-1 div.sk-estimator input.sk-toggleable__control:checked~label.sk-toggleable__label {\n",
       "  /* unfitted */\n",
       "  background-color: var(--sklearn-color-unfitted-level-2);\n",
       "}\n",
       "\n",
       "#sk-container-id-1 div.sk-estimator.fitted input.sk-toggleable__control:checked~label.sk-toggleable__label {\n",
       "  /* fitted */\n",
       "  background-color: var(--sklearn-color-fitted-level-2);\n",
       "}\n",
       "\n",
       "#sk-container-id-1 div.sk-label label.sk-toggleable__label,\n",
       "#sk-container-id-1 div.sk-label label {\n",
       "  /* The background is the default theme color */\n",
       "  color: var(--sklearn-color-text-on-default-background);\n",
       "}\n",
       "\n",
       "/* On hover, darken the color of the background */\n",
       "#sk-container-id-1 div.sk-label:hover label.sk-toggleable__label {\n",
       "  color: var(--sklearn-color-text);\n",
       "  background-color: var(--sklearn-color-unfitted-level-2);\n",
       "}\n",
       "\n",
       "/* Label box, darken color on hover, fitted */\n",
       "#sk-container-id-1 div.sk-label.fitted:hover label.sk-toggleable__label.fitted {\n",
       "  color: var(--sklearn-color-text);\n",
       "  background-color: var(--sklearn-color-fitted-level-2);\n",
       "}\n",
       "\n",
       "/* Estimator label */\n",
       "\n",
       "#sk-container-id-1 div.sk-label label {\n",
       "  font-family: monospace;\n",
       "  font-weight: bold;\n",
       "  display: inline-block;\n",
       "  line-height: 1.2em;\n",
       "}\n",
       "\n",
       "#sk-container-id-1 div.sk-label-container {\n",
       "  text-align: center;\n",
       "}\n",
       "\n",
       "/* Estimator-specific */\n",
       "#sk-container-id-1 div.sk-estimator {\n",
       "  font-family: monospace;\n",
       "  border: 1px dotted var(--sklearn-color-border-box);\n",
       "  border-radius: 0.25em;\n",
       "  box-sizing: border-box;\n",
       "  margin-bottom: 0.5em;\n",
       "  /* unfitted */\n",
       "  background-color: var(--sklearn-color-unfitted-level-0);\n",
       "}\n",
       "\n",
       "#sk-container-id-1 div.sk-estimator.fitted {\n",
       "  /* fitted */\n",
       "  background-color: var(--sklearn-color-fitted-level-0);\n",
       "}\n",
       "\n",
       "/* on hover */\n",
       "#sk-container-id-1 div.sk-estimator:hover {\n",
       "  /* unfitted */\n",
       "  background-color: var(--sklearn-color-unfitted-level-2);\n",
       "}\n",
       "\n",
       "#sk-container-id-1 div.sk-estimator.fitted:hover {\n",
       "  /* fitted */\n",
       "  background-color: var(--sklearn-color-fitted-level-2);\n",
       "}\n",
       "\n",
       "/* Specification for estimator info (e.g. \"i\" and \"?\") */\n",
       "\n",
       "/* Common style for \"i\" and \"?\" */\n",
       "\n",
       ".sk-estimator-doc-link,\n",
       "a:link.sk-estimator-doc-link,\n",
       "a:visited.sk-estimator-doc-link {\n",
       "  float: right;\n",
       "  font-size: smaller;\n",
       "  line-height: 1em;\n",
       "  font-family: monospace;\n",
       "  background-color: var(--sklearn-color-background);\n",
       "  border-radius: 1em;\n",
       "  height: 1em;\n",
       "  width: 1em;\n",
       "  text-decoration: none !important;\n",
       "  margin-left: 1ex;\n",
       "  /* unfitted */\n",
       "  border: var(--sklearn-color-unfitted-level-1) 1pt solid;\n",
       "  color: var(--sklearn-color-unfitted-level-1);\n",
       "}\n",
       "\n",
       ".sk-estimator-doc-link.fitted,\n",
       "a:link.sk-estimator-doc-link.fitted,\n",
       "a:visited.sk-estimator-doc-link.fitted {\n",
       "  /* fitted */\n",
       "  border: var(--sklearn-color-fitted-level-1) 1pt solid;\n",
       "  color: var(--sklearn-color-fitted-level-1);\n",
       "}\n",
       "\n",
       "/* On hover */\n",
       "div.sk-estimator:hover .sk-estimator-doc-link:hover,\n",
       ".sk-estimator-doc-link:hover,\n",
       "div.sk-label-container:hover .sk-estimator-doc-link:hover,\n",
       ".sk-estimator-doc-link:hover {\n",
       "  /* unfitted */\n",
       "  background-color: var(--sklearn-color-unfitted-level-3);\n",
       "  color: var(--sklearn-color-background);\n",
       "  text-decoration: none;\n",
       "}\n",
       "\n",
       "div.sk-estimator.fitted:hover .sk-estimator-doc-link.fitted:hover,\n",
       ".sk-estimator-doc-link.fitted:hover,\n",
       "div.sk-label-container:hover .sk-estimator-doc-link.fitted:hover,\n",
       ".sk-estimator-doc-link.fitted:hover {\n",
       "  /* fitted */\n",
       "  background-color: var(--sklearn-color-fitted-level-3);\n",
       "  color: var(--sklearn-color-background);\n",
       "  text-decoration: none;\n",
       "}\n",
       "\n",
       "/* Span, style for the box shown on hovering the info icon */\n",
       ".sk-estimator-doc-link span {\n",
       "  display: none;\n",
       "  z-index: 9999;\n",
       "  position: relative;\n",
       "  font-weight: normal;\n",
       "  right: .2ex;\n",
       "  padding: .5ex;\n",
       "  margin: .5ex;\n",
       "  width: min-content;\n",
       "  min-width: 20ex;\n",
       "  max-width: 50ex;\n",
       "  color: var(--sklearn-color-text);\n",
       "  box-shadow: 2pt 2pt 4pt #999;\n",
       "  /* unfitted */\n",
       "  background: var(--sklearn-color-unfitted-level-0);\n",
       "  border: .5pt solid var(--sklearn-color-unfitted-level-3);\n",
       "}\n",
       "\n",
       ".sk-estimator-doc-link.fitted span {\n",
       "  /* fitted */\n",
       "  background: var(--sklearn-color-fitted-level-0);\n",
       "  border: var(--sklearn-color-fitted-level-3);\n",
       "}\n",
       "\n",
       ".sk-estimator-doc-link:hover span {\n",
       "  display: block;\n",
       "}\n",
       "\n",
       "/* \"?\"-specific style due to the `<a>` HTML tag */\n",
       "\n",
       "#sk-container-id-1 a.estimator_doc_link {\n",
       "  float: right;\n",
       "  font-size: 1rem;\n",
       "  line-height: 1em;\n",
       "  font-family: monospace;\n",
       "  background-color: var(--sklearn-color-background);\n",
       "  border-radius: 1rem;\n",
       "  height: 1rem;\n",
       "  width: 1rem;\n",
       "  text-decoration: none;\n",
       "  /* unfitted */\n",
       "  color: var(--sklearn-color-unfitted-level-1);\n",
       "  border: var(--sklearn-color-unfitted-level-1) 1pt solid;\n",
       "}\n",
       "\n",
       "#sk-container-id-1 a.estimator_doc_link.fitted {\n",
       "  /* fitted */\n",
       "  border: var(--sklearn-color-fitted-level-1) 1pt solid;\n",
       "  color: var(--sklearn-color-fitted-level-1);\n",
       "}\n",
       "\n",
       "/* On hover */\n",
       "#sk-container-id-1 a.estimator_doc_link:hover {\n",
       "  /* unfitted */\n",
       "  background-color: var(--sklearn-color-unfitted-level-3);\n",
       "  color: var(--sklearn-color-background);\n",
       "  text-decoration: none;\n",
       "}\n",
       "\n",
       "#sk-container-id-1 a.estimator_doc_link.fitted:hover {\n",
       "  /* fitted */\n",
       "  background-color: var(--sklearn-color-fitted-level-3);\n",
       "}\n",
       "</style><div id=\"sk-container-id-1\" class=\"sk-top-container\"><div class=\"sk-text-repr-fallback\"><pre>RandomForestClassifier(n_jobs=-1, random_state=42)</pre><b>In a Jupyter environment, please rerun this cell to show the HTML representation or trust the notebook. <br />On GitHub, the HTML representation is unable to render, please try loading this page with nbviewer.org.</b></div><div class=\"sk-container\" hidden><div class=\"sk-item\"><div class=\"sk-estimator fitted sk-toggleable\"><input class=\"sk-toggleable__control sk-hidden--visually\" id=\"sk-estimator-id-1\" type=\"checkbox\" checked><label for=\"sk-estimator-id-1\" class=\"sk-toggleable__label fitted sk-toggleable__label-arrow fitted\">&nbsp;&nbsp;RandomForestClassifier<a class=\"sk-estimator-doc-link fitted\" rel=\"noreferrer\" target=\"_blank\" href=\"https://scikit-learn.org/1.5/modules/generated/sklearn.ensemble.RandomForestClassifier.html\">?<span>Documentation for RandomForestClassifier</span></a><span class=\"sk-estimator-doc-link fitted\">i<span>Fitted</span></span></label><div class=\"sk-toggleable__content fitted\"><pre>RandomForestClassifier(n_jobs=-1, random_state=42)</pre></div> </div></div></div></div>"
      ],
      "text/plain": [
       "RandomForestClassifier(n_jobs=-1, random_state=42)"
      ]
     },
     "metadata": {},
     "output_type": "display_data"
    }
   ],
   "source": [
    "from sklearn.ensemble import RandomForestClassifier \n",
    "\n",
    "wavelength23_cols = ['B2','B3', 'B4', 'B5', 'B6', 'B7', 'B8','B11','B12']\n",
    "clf23 = RandomForestClassifier(random_state=42, n_jobs=-1)\n",
    "clf23.fit(gdf23[wavelength23_cols], gdf23['class'].astype(int))"
   ]
  },
  {
   "cell_type": "code",
   "execution_count": null,
   "metadata": {
    "cellUniqueIdByVincent": "b47a8"
   },
   "outputs": [
    {
     "data": {
      "text/html": [
       "\n",
       "            <style>\n",
       "                .geemap-dark {\n",
       "                    --jp-widgets-color: white;\n",
       "                    --jp-widgets-label-color: white;\n",
       "                    --jp-ui-font-color1: white;\n",
       "                    --jp-layout-color2: #454545;\n",
       "                    background-color: #383838;\n",
       "                }\n",
       "\n",
       "                .geemap-dark .jupyter-button {\n",
       "                    --jp-layout-color3: #383838;\n",
       "                }\n",
       "\n",
       "                .geemap-colab {\n",
       "                    background-color: var(--colab-primary-surface-color, white);\n",
       "                }\n",
       "\n",
       "                .geemap-colab .jupyter-button {\n",
       "                    --jp-layout-color3: var(--colab-primary-surface-color, white);\n",
       "                }\n",
       "            </style>\n",
       "            "
      ],
      "text/plain": [
       "<IPython.core.display.HTML object>"
      ]
     },
     "metadata": {},
     "output_type": "display_data"
    },
    {
     "data": {
      "application/vnd.jupyter.widget-view+json": {
       "model_id": "83a8b94c5a744b19bcb1305f9bed96e4",
       "version_major": 2,
       "version_minor": 0
      },
      "text/plain": [
       "pred_composite2023.tif:   0%|          | 0/17765 [00:00<?, ?it/s]"
      ]
     },
     "metadata": {},
     "output_type": "display_data"
    }
   ],
   "source": [
    "# Sanity check before running all images- Perform inference for a single planet image\n",
    "infile = r\"C:\\Users\\coach\\myfiles\\postdoc\\Invasives\\data\\Invasie species\\composites\\composite2023.tif\"\n",
    "outfile = r\"C:\\Users\\coach\\myfiles\\postdoc\\Invasives\\data\\Invasie species\\composites\\pred_composite2023.tif\"\n",
    "inference(infile = infile, confModel = clf23, outfile = outfile, patchSize = 32, num_workers = 7)"
   ]
  },
  {
   "cell_type": "markdown",
   "metadata": {
    "cellUniqueIdByVincent": "248d8"
   },
   "source": [
    "### Evaluate 2023 map"
   ]
  },
  {
   "cell_type": "code",
   "execution_count": null,
   "metadata": {
    "cellUniqueIdByVincent": "1f403"
   },
   "outputs": [
    {
     "data": {
      "text/html": [
       "\n",
       "            <style>\n",
       "                .geemap-dark {\n",
       "                    --jp-widgets-color: white;\n",
       "                    --jp-widgets-label-color: white;\n",
       "                    --jp-ui-font-color1: white;\n",
       "                    --jp-layout-color2: #454545;\n",
       "                    background-color: #383838;\n",
       "                }\n",
       "\n",
       "                .geemap-dark .jupyter-button {\n",
       "                    --jp-layout-color3: #383838;\n",
       "                }\n",
       "\n",
       "                .geemap-colab {\n",
       "                    background-color: var(--colab-primary-surface-color, white);\n",
       "                }\n",
       "\n",
       "                .geemap-colab .jupyter-button {\n",
       "                    --jp-layout-color3: var(--colab-primary-surface-color, white);\n",
       "                }\n",
       "            </style>\n",
       "            "
      ],
      "text/plain": [
       "<IPython.core.display.HTML object>"
      ]
     },
     "metadata": {},
     "output_type": "display_data"
    },
    {
     "data": {
      "text/html": [
       "<div id=\"269700b2-b167-4d93-9acc-9380891eda4c\" style=\"height: auto; width:100%;\"></div>"
      ],
      "text/plain": [
       "<IPython.core.display.HTML object>"
      ]
     },
     "metadata": {},
     "output_type": "display_data"
    },
    {
     "data": {
      "text/html": [
       "\n",
       "        <script src=\"/static/components/requirejs/require.js\"></script> <!-- Needed in Colab -->\n",
       "        <script>\n",
       "            require([\"https://rawgit.com/caldwell/renderjson/master/renderjson.js\"], function() {\n",
       "              renderjson.set_show_to_level(1)\n",
       "              document.getElementById('269700b2-b167-4d93-9acc-9380891eda4c').appendChild(renderjson({\"type\": \"Feature\", \"geometry\": {\"type\": \"Point\", \"coordinates\": [19.07260971703242, -33.805537565931296]}, \"id\": \"000000000000000003fb\", \"properties\": {\"2018_2023\": 0.006702983744329, \"2023_class\": \"None\", \"change\": 0, \"class\": 0, \"fid\": 1028, \"group\": 0, \"layer\": \"valid\", \"notes\": \"\", \"path\": \"/Users/glennmoncrieff/Documents/qgis/valid.gpkg|layername=valid\"}}))\n",
       "            });\n",
       "        </script>\n",
       "    "
      ],
      "text/plain": [
       "<IPython.core.display.HTML object>"
      ]
     },
     "metadata": {},
     "output_type": "display_data"
    }
   ],
   "source": [
    "eeprint(pts.first())"
   ]
  },
  {
   "cell_type": "code",
   "execution_count": null,
   "metadata": {
    "cellUniqueIdByVincent": "1d29b"
   },
   "outputs": [
    {
     "data": {
      "text/html": [
       "\n",
       "            <style>\n",
       "                .geemap-dark {\n",
       "                    --jp-widgets-color: white;\n",
       "                    --jp-widgets-label-color: white;\n",
       "                    --jp-ui-font-color1: white;\n",
       "                    --jp-layout-color2: #454545;\n",
       "                    background-color: #383838;\n",
       "                }\n",
       "\n",
       "                .geemap-dark .jupyter-button {\n",
       "                    --jp-layout-color3: #383838;\n",
       "                }\n",
       "\n",
       "                .geemap-colab {\n",
       "                    background-color: var(--colab-primary-surface-color, white);\n",
       "                }\n",
       "\n",
       "                .geemap-colab .jupyter-button {\n",
       "                    --jp-layout-color3: var(--colab-primary-surface-color, white);\n",
       "                }\n",
       "            </style>\n",
       "            "
      ],
      "text/plain": [
       "<IPython.core.display.HTML object>"
      ]
     },
     "metadata": {},
     "output_type": "display_data"
    },
    {
     "data": {
      "text/html": [
       "<div id=\"9e6d33b3-3990-482d-8c42-b32fa7148703\" style=\"height: auto; width:100%;\"></div>"
      ],
      "text/plain": [
       "<IPython.core.display.HTML object>"
      ]
     },
     "metadata": {},
     "output_type": "display_data"
    },
    {
     "data": {
      "text/html": [
       "\n",
       "        <script src=\"/static/components/requirejs/require.js\"></script> <!-- Needed in Colab -->\n",
       "        <script>\n",
       "            require([\"https://rawgit.com/caldwell/renderjson/master/renderjson.js\"], function() {\n",
       "              renderjson.set_show_to_level(1)\n",
       "              document.getElementById('9e6d33b3-3990-482d-8c42-b32fa7148703').appendChild(renderjson([0, 0, 0, 0, 0]))\n",
       "            });\n",
       "        </script>\n",
       "    "
      ],
      "text/plain": [
       "<IPython.core.display.HTML object>"
      ]
     },
     "metadata": {},
     "output_type": "display_data"
    }
   ],
   "source": [
    "pred2023 = ee.Image(\"projects/ee-gsingh/assets/postdoc/pred_composite2023\").rename('classification')\n",
    "\n",
    "def update_2023_class(f):\n",
    "    change = ee.Number(f.get('change'))\n",
    "    new_class = ee.Algorithms.If(\n",
    "        change.eq(0),\n",
    "        f.get('class'),        # if change == 0 → set to 'class'\n",
    "        f.get('2023_class')    # if change == 1 → leave unchanged\n",
    "    )\n",
    "    return f.set('2023_class', new_class)\n",
    "\n",
    "updated_pts = pts.map(update_2023_class)\n",
    "\n",
    "# Buffer radius in meters\n",
    "bufferDist = 100  \n",
    "\n",
    "# Step 1: Buffer and merge all exclude points into a single geometry\n",
    "excludeBufferUnion = (\n",
    "    sample\n",
    "    .map(lambda f: f.buffer(bufferDist, 10))\n",
    "    .union(1)  # merge into one feature\n",
    "    .geometry()\n",
    ")\n",
    "\n",
    "# Step 2: Filter pointsKeep to those NOT intersecting the buffer union\n",
    "pointsFiltered = updated_pts.filter(ee.Filter.bounds(excludeBufferUnion).Not())\n",
    "\n",
    "\n",
    "results = pred2023.sampleRegions(\n",
    "    collection=pointsFiltered.filter(ee.Filter.lt('2023_class', 12)),\n",
    "    properties=['change', 'class', '2023_class'],\n",
    "    scale=10\n",
    ")\n",
    "eeprint(results.limit(5).aggregate_array('2023_class'))"
   ]
  },
  {
   "cell_type": "code",
   "execution_count": null,
   "metadata": {
    "cellUniqueIdByVincent": "e7e0c"
   },
   "outputs": [
    {
     "data": {
      "text/html": [
       "\n",
       "            <style>\n",
       "                .geemap-dark {\n",
       "                    --jp-widgets-color: white;\n",
       "                    --jp-widgets-label-color: white;\n",
       "                    --jp-ui-font-color1: white;\n",
       "                    --jp-layout-color2: #454545;\n",
       "                    background-color: #383838;\n",
       "                }\n",
       "\n",
       "                .geemap-dark .jupyter-button {\n",
       "                    --jp-layout-color3: #383838;\n",
       "                }\n",
       "\n",
       "                .geemap-colab {\n",
       "                    background-color: var(--colab-primary-surface-color, white);\n",
       "                }\n",
       "\n",
       "                .geemap-colab .jupyter-button {\n",
       "                    --jp-layout-color3: var(--colab-primary-surface-color, white);\n",
       "                }\n",
       "            </style>\n",
       "            "
      ],
      "text/plain": [
       "<IPython.core.display.HTML object>"
      ]
     },
     "metadata": {},
     "output_type": "display_data"
    },
    {
     "data": {
      "text/html": [
       "<div id=\"82ee8eed-d46e-439e-8552-6a93188e2e1d\" style=\"height: auto; width:100%;\"></div>"
      ],
      "text/plain": [
       "<IPython.core.display.HTML object>"
      ]
     },
     "metadata": {},
     "output_type": "display_data"
    },
    {
     "data": {
      "text/html": [
       "\n",
       "        <script src=\"/static/components/requirejs/require.js\"></script> <!-- Needed in Colab -->\n",
       "        <script>\n",
       "            require([\"https://rawgit.com/caldwell/renderjson/master/renderjson.js\"], function() {\n",
       "              renderjson.set_show_to_level(1)\n",
       "              document.getElementById('82ee8eed-d46e-439e-8552-6a93188e2e1d').appendChild(renderjson(1688))\n",
       "            });\n",
       "        </script>\n",
       "    "
      ],
      "text/plain": [
       "<IPython.core.display.HTML object>"
      ]
     },
     "metadata": {},
     "output_type": "display_data"
    }
   ],
   "source": [
    "eeprint(updated_pts.size())"
   ]
  },
  {
   "cell_type": "code",
   "execution_count": null,
   "metadata": {
    "cellUniqueIdByVincent": "f84ca"
   },
   "outputs": [
    {
     "data": {
      "text/html": [
       "\n",
       "            <style>\n",
       "                .geemap-dark {\n",
       "                    --jp-widgets-color: white;\n",
       "                    --jp-widgets-label-color: white;\n",
       "                    --jp-ui-font-color1: white;\n",
       "                    --jp-layout-color2: #454545;\n",
       "                    background-color: #383838;\n",
       "                }\n",
       "\n",
       "                .geemap-dark .jupyter-button {\n",
       "                    --jp-layout-color3: #383838;\n",
       "                }\n",
       "\n",
       "                .geemap-colab {\n",
       "                    background-color: var(--colab-primary-surface-color, white);\n",
       "                }\n",
       "\n",
       "                .geemap-colab .jupyter-button {\n",
       "                    --jp-layout-color3: var(--colab-primary-surface-color, white);\n",
       "                }\n",
       "            </style>\n",
       "            "
      ],
      "text/plain": [
       "<IPython.core.display.HTML object>"
      ]
     },
     "metadata": {},
     "output_type": "display_data"
    },
    {
     "data": {
      "text/html": [
       "<div id=\"fc5547fa-e578-4909-959b-114cdadb5c05\" style=\"height: auto; width:100%;\"></div>"
      ],
      "text/plain": [
       "<IPython.core.display.HTML object>"
      ]
     },
     "metadata": {},
     "output_type": "display_data"
    },
    {
     "data": {
      "text/html": [
       "\n",
       "        <script src=\"/static/components/requirejs/require.js\"></script> <!-- Needed in Colab -->\n",
       "        <script>\n",
       "            require([\"https://rawgit.com/caldwell/renderjson/master/renderjson.js\"], function() {\n",
       "              renderjson.set_show_to_level(1)\n",
       "              document.getElementById('fc5547fa-e578-4909-959b-114cdadb5c05').appendChild(renderjson(406))\n",
       "            });\n",
       "        </script>\n",
       "    "
      ],
      "text/plain": [
       "<IPython.core.display.HTML object>"
      ]
     },
     "metadata": {},
     "output_type": "display_data"
    }
   ],
   "source": [
    "eeprint(pointsFiltered.size())"
   ]
  },
  {
   "cell_type": "code",
   "execution_count": null,
   "metadata": {
    "cellUniqueIdByVincent": "cef54"
   },
   "outputs": [
    {
     "data": {
      "text/html": [
       "\n",
       "            <style>\n",
       "                .geemap-dark {\n",
       "                    --jp-widgets-color: white;\n",
       "                    --jp-widgets-label-color: white;\n",
       "                    --jp-ui-font-color1: white;\n",
       "                    --jp-layout-color2: #454545;\n",
       "                    background-color: #383838;\n",
       "                }\n",
       "\n",
       "                .geemap-dark .jupyter-button {\n",
       "                    --jp-layout-color3: #383838;\n",
       "                }\n",
       "\n",
       "                .geemap-colab {\n",
       "                    background-color: var(--colab-primary-surface-color, white);\n",
       "                }\n",
       "\n",
       "                .geemap-colab .jupyter-button {\n",
       "                    --jp-layout-color3: var(--colab-primary-surface-color, white);\n",
       "                }\n",
       "            </style>\n",
       "            "
      ],
      "text/plain": [
       "<IPython.core.display.HTML object>"
      ]
     },
     "metadata": {},
     "output_type": "display_data"
    },
    {
     "data": {
      "text/html": [
       "<div>\n",
       "<style scoped>\n",
       "    .dataframe tbody tr th:only-of-type {\n",
       "        vertical-align: middle;\n",
       "    }\n",
       "\n",
       "    .dataframe tbody tr th {\n",
       "        vertical-align: top;\n",
       "    }\n",
       "\n",
       "    .dataframe thead th {\n",
       "        text-align: right;\n",
       "    }\n",
       "</style>\n",
       "<table border=\"1\" class=\"dataframe\">\n",
       "  <thead>\n",
       "    <tr style=\"text-align: right;\">\n",
       "      <th></th>\n",
       "      <th>geometry</th>\n",
       "      <th>2023_class</th>\n",
       "      <th>change</th>\n",
       "      <th>class</th>\n",
       "      <th>classification</th>\n",
       "    </tr>\n",
       "  </thead>\n",
       "  <tbody>\n",
       "    <tr>\n",
       "      <th>0</th>\n",
       "      <td>None</td>\n",
       "      <td>0</td>\n",
       "      <td>0</td>\n",
       "      <td>0</td>\n",
       "      <td>0</td>\n",
       "    </tr>\n",
       "    <tr>\n",
       "      <th>1</th>\n",
       "      <td>None</td>\n",
       "      <td>0</td>\n",
       "      <td>0</td>\n",
       "      <td>0</td>\n",
       "      <td>10</td>\n",
       "    </tr>\n",
       "    <tr>\n",
       "      <th>2</th>\n",
       "      <td>None</td>\n",
       "      <td>0</td>\n",
       "      <td>0</td>\n",
       "      <td>0</td>\n",
       "      <td>8</td>\n",
       "    </tr>\n",
       "    <tr>\n",
       "      <th>3</th>\n",
       "      <td>None</td>\n",
       "      <td>0</td>\n",
       "      <td>0</td>\n",
       "      <td>0</td>\n",
       "      <td>0</td>\n",
       "    </tr>\n",
       "    <tr>\n",
       "      <th>4</th>\n",
       "      <td>None</td>\n",
       "      <td>0</td>\n",
       "      <td>0</td>\n",
       "      <td>0</td>\n",
       "      <td>0</td>\n",
       "    </tr>\n",
       "  </tbody>\n",
       "</table>\n",
       "</div>"
      ],
      "text/plain": [
       "  geometry  2023_class  change  class  classification\n",
       "0     None           0       0      0               0\n",
       "1     None           0       0      0              10\n",
       "2     None           0       0      0               8\n",
       "3     None           0       0      0               0\n",
       "4     None           0       0      0               0"
      ]
     },
     "metadata": {},
     "output_type": "display_data"
    }
   ],
   "source": [
    "# convert to geopandas dataframe\n",
    "rfeval = ee.data.computeFeatures({\n",
    "    'expression': results,\n",
    "    'fileFormat': 'GEOPANDAS_GEODATAFRAME'\n",
    "})\n",
    "\n",
    "# Need to set the CRS.\n",
    "# Make sure it matches the CRS of FeatureCollection geometries.\n",
    "rfeval.crs = 'EPSG:4326'\n",
    "rfeval.head()"
   ]
  },
  {
   "cell_type": "code",
   "execution_count": null,
   "metadata": {
    "cellUniqueIdByVincent": "b9e37"
   },
   "outputs": [
    {
     "data": {
      "text/html": [
       "\n",
       "            <style>\n",
       "                .geemap-dark {\n",
       "                    --jp-widgets-color: white;\n",
       "                    --jp-widgets-label-color: white;\n",
       "                    --jp-ui-font-color1: white;\n",
       "                    --jp-layout-color2: #454545;\n",
       "                    background-color: #383838;\n",
       "                }\n",
       "\n",
       "                .geemap-dark .jupyter-button {\n",
       "                    --jp-layout-color3: #383838;\n",
       "                }\n",
       "\n",
       "                .geemap-colab {\n",
       "                    background-color: var(--colab-primary-surface-color, white);\n",
       "                }\n",
       "\n",
       "                .geemap-colab .jupyter-button {\n",
       "                    --jp-layout-color3: var(--colab-primary-surface-color, white);\n",
       "                }\n",
       "            </style>\n",
       "            "
      ],
      "text/plain": [
       "<IPython.core.display.HTML object>"
      ]
     },
     "metadata": {},
     "output_type": "display_data"
    },
    {
     "name": "stdout",
     "output_type": "stream",
     "text": [
      "\n",
      " Accuracy: 0.51, F1 Score: 0.49\n",
      "              precision    recall  f1-score   support\n",
      "\n",
      "           0       0.67      0.22      0.33        73\n",
      "           1       0.00      0.00      0.00        14\n",
      "           2       0.55      0.21      0.30        29\n",
      "           3       0.16      0.32      0.21        22\n",
      "           4       0.47      0.76      0.58        76\n",
      "           5       0.58      0.32      0.41        22\n",
      "           6       0.00      0.00      0.00         8\n",
      "           7       0.78      0.50      0.61        36\n",
      "           8       0.32      0.58      0.41        36\n",
      "           9       0.00      0.00      0.00         0\n",
      "          10       0.97      0.97      0.97        58\n",
      "\n",
      "    accuracy                           0.51       374\n",
      "   macro avg       0.41      0.35      0.35       374\n",
      "weighted avg       0.57      0.51      0.49       374\n",
      "\n"
     ]
    },
    {
     "name": "stderr",
     "output_type": "stream",
     "text": [
      "c:\\ProgramData\\Anaconda3\\envs\\erthy\\Lib\\site-packages\\sklearn\\metrics\\_classification.py:1531: UndefinedMetricWarning: Recall is ill-defined and being set to 0.0 in labels with no true samples. Use `zero_division` parameter to control this behavior.\n",
      "  _warn_prf(average, modifier, f\"{metric.capitalize()} is\", len(result))\n",
      "c:\\ProgramData\\Anaconda3\\envs\\erthy\\Lib\\site-packages\\sklearn\\metrics\\_classification.py:1531: UndefinedMetricWarning: Recall is ill-defined and being set to 0.0 in labels with no true samples. Use `zero_division` parameter to control this behavior.\n",
      "  _warn_prf(average, modifier, f\"{metric.capitalize()} is\", len(result))\n",
      "c:\\ProgramData\\Anaconda3\\envs\\erthy\\Lib\\site-packages\\sklearn\\metrics\\_classification.py:1531: UndefinedMetricWarning: Recall is ill-defined and being set to 0.0 in labels with no true samples. Use `zero_division` parameter to control this behavior.\n",
      "  _warn_prf(average, modifier, f\"{metric.capitalize()} is\", len(result))\n",
      "c:\\ProgramData\\Anaconda3\\envs\\erthy\\Lib\\site-packages\\sklearn\\metrics\\_classification.py:1531: UndefinedMetricWarning: Recall is ill-defined and being set to 0.0 in labels with no true samples. Use `zero_division` parameter to control this behavior.\n",
      "  _warn_prf(average, modifier, f\"{metric.capitalize()} is\", len(result))\n",
      "c:\\ProgramData\\Anaconda3\\envs\\erthy\\Lib\\site-packages\\sklearn\\metrics\\_classification.py:1531: UndefinedMetricWarning: Recall is ill-defined and being set to 0.0 in labels with no true samples. Use `zero_division` parameter to control this behavior.\n",
      "  _warn_prf(average, modifier, f\"{metric.capitalize()} is\", len(result))\n",
      "c:\\ProgramData\\Anaconda3\\envs\\erthy\\Lib\\site-packages\\sklearn\\metrics\\_classification.py:1531: UndefinedMetricWarning: Recall is ill-defined and being set to 0.0 in labels with no true samples. Use `zero_division` parameter to control this behavior.\n",
      "  _warn_prf(average, modifier, f\"{metric.capitalize()} is\", len(result))\n"
     ]
    }
   ],
   "source": [
    "from sklearn.metrics import accuracy_score, classification_report, f1_score\n",
    "\n",
    "y_test = rfeval['2023_class'].astype(int)  # True labels\n",
    "y_pred = rfeval['classification'].astype(int)  # Predicted labels\n",
    "\n",
    "# Accuracy\n",
    "acc = accuracy_score(y_test, y_pred)\n",
    "\n",
    "# F1\n",
    "f1 = f1_score(y_test, y_pred, average='weighted')\n",
    "\n",
    "# Report\n",
    "report = classification_report(y_test, y_pred, output_dict=True)\n",
    "\n",
    "print(f\"\\n Accuracy: {acc:.2f}, F1 Score: {f1:.2f}\")\n",
    "print(classification_report(y_test, y_pred))"
   ]
  },
  {
   "cell_type": "markdown",
   "metadata": {
    "cellUniqueIdByVincent": "34006"
   },
   "source": [
    "## TabPFN"
   ]
  },
  {
   "cell_type": "code",
   "execution_count": null,
   "metadata": {
    "cellUniqueIdByVincent": "b3c20"
   },
   "outputs": [],
   "source": []
  },
  {
   "cell_type": "markdown",
   "metadata": {
    "cellUniqueIdByVincent": "79d67"
   },
   "source": [
    "# RF modelling in GEE - reproducing wessels et al., 2016"
   ]
  },
  {
   "cell_type": "code",
   "execution_count": null,
   "id": "31808125",
   "metadata": {
    "cellUniqueIdByVincent": "5094e"
   },
   "outputs": [],
   "source": [
    "# create s2 classification based on 2018 reference data and composite imagery\n",
    "# Calculate area proportions for each class\n",
    "# Calculate number of samples per class\n",
    "# perform stratfied sample of 2023 composite with 2018 classified image (do not apply no-change mask)\n",
    "\n",
    "# Apply change mask\n",
    "# Calculate area proportions for each class\n",
    "# Calculate number of samples per class\n",
    "# perform stratified sample of 2023 composite with 2018 classified image\n"
   ]
  },
  {
   "cell_type": "code",
   "execution_count": null,
   "metadata": {
    "cellUniqueIdByVincent": "ad364"
   },
   "outputs": [
    {
     "data": {
      "text/html": [
       "\n",
       "            <style>\n",
       "                .geemap-dark {\n",
       "                    --jp-widgets-color: white;\n",
       "                    --jp-widgets-label-color: white;\n",
       "                    --jp-ui-font-color1: white;\n",
       "                    --jp-layout-color2: #454545;\n",
       "                    background-color: #383838;\n",
       "                }\n",
       "\n",
       "                .geemap-dark .jupyter-button {\n",
       "                    --jp-layout-color3: #383838;\n",
       "                }\n",
       "\n",
       "                .geemap-colab {\n",
       "                    background-color: var(--colab-primary-surface-color, white);\n",
       "                }\n",
       "\n",
       "                .geemap-colab .jupyter-button {\n",
       "                    --jp-layout-color3: var(--colab-primary-surface-color, white);\n",
       "                }\n",
       "            </style>\n",
       "            "
      ],
      "text/plain": [
       "<IPython.core.display.HTML object>"
      ]
     },
     "metadata": {},
     "output_type": "display_data"
    },
    {
     "name": "stdout",
     "output_type": "stream",
     "text": [
      "Confusion Matrix:\n",
      " [[16, 0, 0, 0, 4, 0, 0, 0, 0, 2, 0], [1, 7, 3, 3, 0, 1, 2, 0, 0, 0, 0], [0, 0, 52, 10, 1, 1, 4, 0, 0, 0, 0], [0, 1, 7, 68, 10, 1, 0, 0, 10, 2, 1], [2, 0, 0, 10, 44, 0, 0, 8, 4, 4, 0], [0, 0, 12, 2, 0, 10, 3, 0, 5, 0, 0], [0, 1, 8, 7, 1, 4, 17, 0, 1, 0, 0], [0, 0, 0, 1, 4, 0, 0, 19, 0, 3, 1], [0, 0, 3, 12, 7, 1, 2, 0, 30, 0, 0], [1, 0, 0, 4, 8, 0, 0, 5, 1, 17, 1], [0, 0, 0, 1, 0, 0, 0, 0, 0, 0, 25]]\n",
      "Overall Accuracy: 0.6149193548387096\n",
      "Kappa: 0.5594125252299764\n"
     ]
    }
   ],
   "source": [
    "# train and predict for 2018\n",
    "class_property = 'class'  # target column\n",
    "\n",
    "# Extract band names from image\n",
    "bands = composite2018.bandNames()\n",
    "\n",
    "# Sample the image using the training points\n",
    "sampled = composite2018.sampleRegions(\n",
    "    collection=pts,\n",
    "    properties=[class_property],\n",
    "    scale=10,\n",
    "    geometries=True  # preserve geometry if needed\n",
    ")\n",
    "\n",
    "# Split into training/testing (70/30 split)\n",
    "withRandom = sampled.randomColumn('random')\n",
    "trainData = withRandom.filter(ee.Filter.lt('random', 0.7))\n",
    "testData = withRandom.filter(ee.Filter.gte('random', 0.7))\n",
    "\n",
    "# Train Random Forest classifier\n",
    "classifier = ee.Classifier.smileRandomForest(numberOfTrees=100).train(\n",
    "    features=trainData,\n",
    "    classProperty=class_property,\n",
    "    inputProperties=bands\n",
    ")\n",
    "\n",
    "# Classify the composite image\n",
    "classified = composite2018.clip(aoi).classify(classifier)\n",
    "\n",
    "# Evaluate accuracy on test set\n",
    "test = testData.classify(classifier)\n",
    "\n",
    "conf_matrix = test.errorMatrix(class_property, 'classification')\n",
    "print('Confusion Matrix:\\n', conf_matrix.getInfo())\n",
    "print('Overall Accuracy:', conf_matrix.accuracy().getInfo())\n",
    "print('Kappa:', conf_matrix.kappa().getInfo())\n"
   ]
  },
  {
   "cell_type": "code",
   "execution_count": null,
   "metadata": {
    "cellUniqueIdByVincent": "a73b3"
   },
   "outputs": [
    {
     "data": {
      "text/html": [
       "\n",
       "            <style>\n",
       "                .geemap-dark {\n",
       "                    --jp-widgets-color: white;\n",
       "                    --jp-widgets-label-color: white;\n",
       "                    --jp-ui-font-color1: white;\n",
       "                    --jp-layout-color2: #454545;\n",
       "                    background-color: #383838;\n",
       "                }\n",
       "\n",
       "                .geemap-dark .jupyter-button {\n",
       "                    --jp-layout-color3: #383838;\n",
       "                }\n",
       "\n",
       "                .geemap-colab {\n",
       "                    background-color: var(--colab-primary-surface-color, white);\n",
       "                }\n",
       "\n",
       "                .geemap-colab .jupyter-button {\n",
       "                    --jp-layout-color3: var(--colab-primary-surface-color, white);\n",
       "                }\n",
       "            </style>\n",
       "            "
      ],
      "text/plain": [
       "<IPython.core.display.HTML object>"
      ]
     },
     "metadata": {},
     "output_type": "display_data"
    },
    {
     "data": {
      "text/html": [
       "<div id=\"31627a07-9596-4d59-ac47-e3554d490c7d\" style=\"height: auto; width:100%;\"></div>"
      ],
      "text/plain": [
       "<IPython.core.display.HTML object>"
      ]
     },
     "metadata": {},
     "output_type": "display_data"
    },
    {
     "data": {
      "text/html": [
       "\n",
       "        <script src=\"/static/components/requirejs/require.js\"></script> <!-- Needed in Colab -->\n",
       "        <script>\n",
       "            require([\"https://rawgit.com/caldwell/renderjson/master/renderjson.js\"], function() {\n",
       "              renderjson.set_show_to_level(1)\n",
       "              document.getElementById('31627a07-9596-4d59-ac47-e3554d490c7d').appendChild(renderjson({\"type\": \"FeatureCollection\", \"columns\": {}, \"properties\": {\"band_order\": [\"B2\", \"B3\", \"B4\", \"B5\", \"B6\", \"B7\", \"B8\", \"B11\", \"B12\"]}, \"features\": [{\"type\": \"Feature\", \"geometry\": {\"geodesic\": false, \"type\": \"Point\", \"coordinates\": [19.072625870547828, -33.80553551927845]}, \"id\": \"000000000000000003fb_0\", \"properties\": {\"2023_class\": 0, \"B11\": 0.3663, \"B12\": 0.2733, \"B2\": 0.1629, \"B3\": 0.174, \"B4\": 0.1985, \"B5\": 0.2294, \"B6\": 0.2709, \"B7\": 0.2896, \"B8\": 0.2893}}, {\"type\": \"Feature\", \"geometry\": {\"geodesic\": false, \"type\": \"Point\", \"coordinates\": [19.07792593072413, -33.80796097054557]}, \"id\": \"000000000000000003fc_0\", \"properties\": {\"2023_class\": 0, \"B11\": 0.0381, \"B12\": 0.0236, \"B2\": 0.0883, \"B3\": 0.0786, \"B4\": 0.0741, \"B5\": 0.0667, \"B6\": 0.0537, \"B7\": 0.061, \"B8\": 0.0425}}, {\"type\": \"Feature\", \"geometry\": {\"geodesic\": false, \"type\": \"Point\", \"coordinates\": [19.078195425309367, -33.80823046513081]}, \"id\": \"000000000000000003fd_0\", \"properties\": {\"2023_class\": 0, \"B11\": 0.0224, \"B12\": 0.0127, \"B2\": 0.0946, \"B3\": 0.0905, \"B4\": 0.0723, \"B5\": 0.0605, \"B6\": 0.0349, \"B7\": 0.0355, \"B8\": 0.0323}}, {\"type\": \"Feature\", \"geometry\": {\"geodesic\": false, \"type\": \"Point\", \"coordinates\": [19.14952165886846, -33.735826253230776]}, \"id\": \"0000000000000000045a_0\", \"properties\": {\"2023_class\": 0, \"B11\": 0.26125, \"B12\": 0.17635, \"B2\": 0.18115, \"B3\": 0.17685, \"B4\": 0.1839, \"B5\": 0.18, \"B6\": 0.2216, \"B7\": 0.2559, \"B8\": 0.28535}}, {\"type\": \"Feature\", \"geometry\": {\"geodesic\": false, \"type\": \"Point\", \"coordinates\": [19.266572140389233, -33.75280441210064]}, \"id\": \"00000000000000000468_0\", \"properties\": {\"2023_class\": 0, \"B11\": 0.2787, \"B12\": 0.2105, \"B2\": 0.1429, \"B3\": 0.1358, \"B4\": 0.1425, \"B5\": 0.1617, \"B6\": 0.1862, \"B7\": 0.203, \"B8\": 0.2034}}]}))\n",
       "            });\n",
       "        </script>\n",
       "    "
      ],
      "text/plain": [
       "<IPython.core.display.HTML object>"
      ]
     },
     "metadata": {},
     "output_type": "display_data"
    },
    {
     "name": "stdout",
     "output_type": "stream",
     "text": [
      "Confusion Matrix:\n",
      " [[22, 0, 2, 1, 6, 0, 0, 3, 3, 0, 4], [0, 0, 2, 2, 0, 1, 4, 0, 3, 0, 0], [1, 0, 27, 17, 4, 2, 2, 2, 2, 0, 0], [3, 0, 6, 56, 15, 2, 5, 0, 8, 0, 0], [9, 0, 0, 3, 62, 0, 0, 12, 4, 0, 0], [2, 0, 5, 2, 2, 8, 6, 0, 0, 0, 0], [0, 0, 4, 1, 1, 1, 22, 0, 4, 0, 0], [1, 1, 0, 0, 12, 0, 0, 38, 1, 0, 3], [0, 0, 1, 11, 13, 1, 2, 0, 29, 0, 0], [0, 0, 0, 0, 0, 0, 0, 0, 0, 0, 0], [0, 0, 0, 1, 0, 0, 1, 0, 0, 0, 21]]\n",
      "Overall Accuracy: 0.5828220858895705\n",
      "Kappa: 0.5181544614522603\n"
     ]
    }
   ],
   "source": [
    "# train and predict for 2023\n",
    "class_property = '2023_class'  # target column\n",
    "\n",
    "# Extract band names from image\n",
    "bands = composite2023.bandNames()\n",
    "\n",
    "# Step 2: Map over features and conditionally update '2023_class'\n",
    "def update_2023_class(f):\n",
    "    change = ee.Number(f.get('change'))\n",
    "    new_class = ee.Algorithms.If(\n",
    "        change.eq(0),\n",
    "        f.get('class'),        # if change == 0 → set to 'class'\n",
    "        f.get('2023_class')    # if change == 1 → leave unchanged\n",
    "    )\n",
    "    return f.set('2023_class', new_class)\n",
    "\n",
    "updated_pts = pts.map(update_2023_class)\n",
    "\n",
    "# Sample the image using the training points\n",
    "sampled = composite2023.sampleRegions(\n",
    "    collection=updated_pts.filter(ee.Filter.lt('2023_class', 12)),\n",
    "    properties=[class_property],\n",
    "    scale=10,\n",
    "    geometries=True  # preserve geometry if needed\n",
    ")\n",
    "eeprint(sampled.limit(5))\n",
    "# Split into training/testing (70/30 split)\n",
    "withRandom = sampled.randomColumn('random')\n",
    "trainData = withRandom.filter(ee.Filter.lt('random', 0.7))\n",
    "testData = withRandom.filter(ee.Filter.gte('random', 0.7))\n",
    "\n",
    "# Train Random Forest classifier\n",
    "classifier = ee.Classifier.smileRandomForest(numberOfTrees=100).train(\n",
    "    features=trainData,\n",
    "    classProperty=class_property,\n",
    "    inputProperties=bands\n",
    ")\n",
    "\n",
    "# Classify the composite image\n",
    "classified = composite2023.clip(aoi).classify(classifier)\n",
    "\n",
    "# Evaluate accuracy on test set\n",
    "test = testData.classify(classifier)\n",
    "\n",
    "conf_matrix = test.errorMatrix(class_property, 'classification')\n",
    "print('Confusion Matrix:\\n', conf_matrix.getInfo())\n",
    "print('Overall Accuracy:', conf_matrix.accuracy().getInfo())\n",
    "print('Kappa:', conf_matrix.kappa().getInfo())\n"
   ]
  },
  {
   "cell_type": "code",
   "execution_count": 84,
   "id": "33a6662f",
   "metadata": {
    "cellUniqueIdByVincent": "65289"
   },
   "outputs": [
    {
     "data": {
      "text/html": [
       "\n",
       "            <style>\n",
       "                .geemap-dark {\n",
       "                    --jp-widgets-color: white;\n",
       "                    --jp-widgets-label-color: white;\n",
       "                    --jp-ui-font-color1: white;\n",
       "                    --jp-layout-color2: #454545;\n",
       "                    background-color: #383838;\n",
       "                }\n",
       "\n",
       "                .geemap-dark .jupyter-button {\n",
       "                    --jp-layout-color3: #383838;\n",
       "                }\n",
       "\n",
       "                .geemap-colab {\n",
       "                    background-color: var(--colab-primary-surface-color, white);\n",
       "                }\n",
       "\n",
       "                .geemap-colab .jupyter-button {\n",
       "                    --jp-layout-color3: var(--colab-primary-surface-color, white);\n",
       "                }\n",
       "            </style>\n",
       "            "
      ],
      "text/plain": [
       "<IPython.core.display.HTML object>"
      ]
     },
     "metadata": {},
     "output_type": "display_data"
    },
    {
     "data": {
      "application/vnd.jupyter.widget-view+json": {
       "model_id": "8d2c815face341bea4e557a36e4f3526",
       "version_major": 2,
       "version_minor": 0
      },
      "text/plain": [
       "Map(center=[-25, 30], controls=(WidgetControl(options=['position', 'transparent_bg'], widget=SearchDataGUI(chi…"
      ]
     },
     "execution_count": 84,
     "metadata": {},
     "output_type": "execute_result"
    }
   ],
   "source": [
    "Map = geemap.Map(center=[-25, 30], zoom=8)\n",
    "Map.addLayer(composite2018, {'bands': ['B4', 'B3', 'B2'], 'min': 0, 'max': 3000}, 'Composite 2018')\n",
    "Map.addLayer(classified, {'min': 0, 'max': 11, 'palette': ['blue', 'red']}, 'RF Classification')\n",
    "Map.addLayer(pts, {}, 'Training Points')\n",
    "Map\n"
   ]
  },
  {
   "cell_type": "code",
   "execution_count": null,
   "metadata": {
    "cellUniqueIdByVincent": "44b3d"
   },
   "outputs": [
    {
     "data": {
      "text/html": [
       "\n",
       "            <style>\n",
       "                .geemap-dark {\n",
       "                    --jp-widgets-color: white;\n",
       "                    --jp-widgets-label-color: white;\n",
       "                    --jp-ui-font-color1: white;\n",
       "                    --jp-layout-color2: #454545;\n",
       "                    background-color: #383838;\n",
       "                }\n",
       "\n",
       "                .geemap-dark .jupyter-button {\n",
       "                    --jp-layout-color3: #383838;\n",
       "                }\n",
       "\n",
       "                .geemap-colab {\n",
       "                    background-color: var(--colab-primary-surface-color, white);\n",
       "                }\n",
       "\n",
       "                .geemap-colab .jupyter-button {\n",
       "                    --jp-layout-color3: var(--colab-primary-surface-color, white);\n",
       "                }\n",
       "            </style>\n",
       "            "
      ],
      "text/plain": [
       "<IPython.core.display.HTML object>"
      ]
     },
     "metadata": {},
     "output_type": "display_data"
    },
    {
     "name": "stdout",
     "output_type": "stream",
     "text": [
      "Area per class (km²): [{'area_km2': 49.763436156211725, 'classification': 0, 'sum': 49763436.15621173}, {'area_km2': 2.3976928792760215, 'classification': 1, 'sum': 2397692.8792760214}, {'area_km2': 48.42941656133851, 'classification': 2, 'sum': 48429416.561338514}, {'area_km2': 350.57874586727974, 'classification': 3, 'sum': 350578745.8672797}, {'area_km2': 597.0805697931426, 'classification': 4, 'sum': 597080569.7931426}, {'area_km2': 6.632127336324265, 'classification': 5, 'sum': 6632127.336324265}, {'area_km2': 38.74716733688444, 'classification': 6, 'sum': 38747167.33688444}, {'area_km2': 106.20925897727857, 'classification': 7, 'sum': 106209258.97727856}, {'area_km2': 176.569034822652, 'classification': 8, 'sum': 176569034.82265198}, {'area_km2': 69.93270930873375, 'classification': 9, 'sum': 69932709.30873375}, {'area_km2': 48.27113515890887, 'classification': 10, 'sum': 48271135.15890887}]\n"
     ]
    }
   ],
   "source": [
    "# Define region and scale\n",
    "region = aoi\n",
    "scale = 10  # in meters\n",
    "\n",
    "# Compute per-class area in m²\n",
    "area_image = ee.Image.pixelArea().addBands(classified)\n",
    "\n",
    "# Reduce to total area per class\n",
    "areas = area_image.reduceRegion(\n",
    "    reducer=ee.Reducer.sum().group(\n",
    "        groupField=1,\n",
    "        groupName='classification'\n",
    "    ),\n",
    "    geometry=region,\n",
    "    scale=scale,\n",
    "    maxPixels=1e13\n",
    ")\n",
    "\n",
    "# Convert m² to km²\n",
    "area_km2 = ee.List(areas.get('groups')).map(lambda g:\n",
    "    ee.Dictionary(g).set(\n",
    "        'area_km2',\n",
    "        ee.Number(ee.Dictionary(g).get('sum')).divide(1e6)\n",
    "    )\n",
    ")\n",
    "area_km2 = area_km2.getInfo()\n",
    "print('Area per class (km²):', area_km2)\n"
   ]
  },
  {
   "cell_type": "code",
   "execution_count": null,
   "metadata": {
    "cellUniqueIdByVincent": "ead09"
   },
   "outputs": [
    {
     "name": "stdout",
     "output_type": "stream",
     "text": [
      "Total allocated: 162949\n",
      "Class  0: 5350 samples\n",
      "Class  1: 1608 samples\n",
      "Class  2: 5207 samples\n",
      "Class  3: 37695 samples\n",
      "Class  4: 64201 samples\n",
      "Class  5: 1608 samples\n",
      "Class  6: 4166 samples\n",
      "Class  7: 11420 samples\n",
      "Class  8: 18985 samples\n",
      "Class  9: 7519 samples\n",
      "Class 10: 5190 samples\n"
     ]
    }
   ],
   "source": [
    "import math\n",
    "\n",
    "# Input: list of dicts from GEE\n",
    "# Reformat the data to match the 'area_stats' structure\n",
    "area_stats = [\n",
    "    {'area_km2': item['area_km2'], 'classification': item['classification']}\n",
    "    for item in area_km2\n",
    "]\n",
    "\n",
    "# Parameters\n",
    "total_samples = 160_708\n",
    "min_samples_per_class = 1_608\n",
    "\n",
    "# Step 1: compute total area\n",
    "total_area = sum(c['area_km2'] for c in area_stats)\n",
    "\n",
    "# Step 2: compute proportional sample allocation\n",
    "sample_alloc = []\n",
    "for c in area_stats:\n",
    "    weight = c['area_km2'] / total_area\n",
    "    n = math.floor(weight * total_samples)\n",
    "    n = max(n, min_samples_per_class)\n",
    "    sample_alloc.append({'class': c['classification'], 'samples': n})\n",
    "\n",
    "# Step 3: (optional) normalize if over-allocated\n",
    "allocated_total = sum(c['samples'] for c in sample_alloc)\n",
    "print(\"Total allocated:\", allocated_total)\n",
    "\n",
    "# Display result\n",
    "for row in sample_alloc:\n",
    "    print(f\"Class {row['class']:>2}: {row['samples']} samples\")\n"
   ]
  },
  {
   "cell_type": "code",
   "execution_count": 19,
   "metadata": {
    "cellUniqueIdByVincent": "66151"
   },
   "outputs": [
    {
     "data": {
      "text/html": [
       "\n",
       "            <style>\n",
       "                .geemap-dark {\n",
       "                    --jp-widgets-color: white;\n",
       "                    --jp-widgets-label-color: white;\n",
       "                    --jp-ui-font-color1: white;\n",
       "                    --jp-layout-color2: #454545;\n",
       "                    background-color: #383838;\n",
       "                }\n",
       "\n",
       "                .geemap-dark .jupyter-button {\n",
       "                    --jp-layout-color3: #383838;\n",
       "                }\n",
       "\n",
       "                .geemap-colab {\n",
       "                    background-color: var(--colab-primary-surface-color, white);\n",
       "                }\n",
       "\n",
       "                .geemap-colab .jupyter-button {\n",
       "                    --jp-layout-color3: var(--colab-primary-surface-color, white);\n",
       "                }\n",
       "            </style>\n",
       "            "
      ],
      "text/plain": [
       "<IPython.core.display.HTML object>"
      ]
     },
     "metadata": {},
     "output_type": "display_data"
    },
    {
     "name": "stdout",
     "output_type": "stream",
     "text": [
      "Sample size (should be 162949): 162949\n"
     ]
    }
   ],
   "source": [
    "# Class-wise sample sizes\n",
    "class_counts = {\n",
    "    item['class']: item['samples']\n",
    "    for item in sample_alloc\n",
    "}\n",
    "\n",
    "# Convert the dictionary to an ee.Dictionary\n",
    "class_counts_ee = ee.Dictionary(class_counts)\n",
    "\n",
    "# Add the classification band to composite for stratified sampling\n",
    "composite_with_class = composite2023.addBands(classified.rename('class'))\n",
    "\n",
    "# Perform stratified sampling\n",
    "sample = composite_with_class.stratifiedSample(\n",
    "    numPoints=0,  # must be 0 if you're using classValues & classPoints\n",
    "    classBand='class',\n",
    "    classValues=list(class_counts.keys()),\n",
    "    classPoints=list(class_counts.values()),\n",
    "    region=region,\n",
    "    scale=10,\n",
    "    geometries=True,  # set to True if you want point geometry\n",
    "    seed=42\n",
    ")\n",
    "\n",
    "# Optional: print sample count\n",
    "sample_size = sample.size()\n",
    "print(f\"Sample size (should be {allocated_total}):\", sample_size.getInfo())\n"
   ]
  },
  {
   "cell_type": "code",
   "execution_count": null,
   "metadata": {
    "cellUniqueIdByVincent": "520b1"
   },
   "outputs": [],
   "source": [
    "task = ee.batch.Export.table.toAsset(\n",
    "    collection=sample,  # your stratified sample FeatureCollection\n",
    "    description='stratified_sample_asset',\n",
    "    assetId='users/your_username/stratified_sample_2018'\n",
    ")\n",
    "task.start()\n"
   ]
  },
  {
   "cell_type": "code",
   "execution_count": 45,
   "metadata": {
    "cellUniqueIdByVincent": "1609f"
   },
   "outputs": [
    {
     "data": {
      "text/html": [
       "\n",
       "            <style>\n",
       "                .geemap-dark {\n",
       "                    --jp-widgets-color: white;\n",
       "                    --jp-widgets-label-color: white;\n",
       "                    --jp-ui-font-color1: white;\n",
       "                    --jp-layout-color2: #454545;\n",
       "                    background-color: #383838;\n",
       "                }\n",
       "\n",
       "                .geemap-dark .jupyter-button {\n",
       "                    --jp-layout-color3: #383838;\n",
       "                }\n",
       "\n",
       "                .geemap-colab {\n",
       "                    background-color: var(--colab-primary-surface-color, white);\n",
       "                }\n",
       "\n",
       "                .geemap-colab .jupyter-button {\n",
       "                    --jp-layout-color3: var(--colab-primary-surface-color, white);\n",
       "                }\n",
       "            </style>\n",
       "            "
      ],
      "text/plain": [
       "<IPython.core.display.HTML object>"
      ]
     },
     "metadata": {},
     "output_type": "display_data"
    },
    {
     "data": {
      "text/html": [
       "<div id=\"7a8f437e-5b18-448e-9375-2ebe1c89a256\" style=\"height: auto; width:100%;\"></div>"
      ],
      "text/plain": [
       "<IPython.core.display.HTML object>"
      ]
     },
     "metadata": {},
     "output_type": "display_data"
    },
    {
     "data": {
      "text/html": [
       "\n",
       "        <script src=\"/static/components/requirejs/require.js\"></script> <!-- Needed in Colab -->\n",
       "        <script>\n",
       "            require([\"https://rawgit.com/caldwell/renderjson/master/renderjson.js\"], function() {\n",
       "              renderjson.set_show_to_level(1)\n",
       "              document.getElementById('7a8f437e-5b18-448e-9375-2ebe1c89a256').appendChild(renderjson({\"type\": \"FeatureCollection\", \"columns\": {\"2018_2023\": \"Float\", \"2023_class\": \"Long\", \"change\": \"Long\", \"class\": \"Long\", \"fid\": \"Long\", \"group\": \"Long\", \"layer\": \"String\", \"notes\": \"String\", \"path\": \"String\", \"system:index\": \"String\"}, \"version\": 1750928796749160.0, \"id\": \"projects/ee-geethensingh/assets/postdoc/aliens_sep2018_bioscape2023\", \"properties\": {\"system:asset_size\": 84232}, \"features\": [{\"type\": \"Feature\", \"geometry\": {\"type\": \"Point\", \"coordinates\": [19.156093006955036, -33.99033609088925]}, \"id\": \"000000000000000005c6\", \"properties\": {\"2018_2023\": 0.002137792789123, \"2023_class\": 10, \"change\": 1, \"class\": 0, \"fid\": 1497, \"group\": 0, \"layer\": \"valid\", \"notes\": \"seasonal w\", \"path\": \"/Users/glennmoncrieff/Documents/qgis/valid.gpkg|layername=valid\"}}, {\"type\": \"Feature\", \"geometry\": {\"type\": \"Point\", \"coordinates\": [19.15603057954029, -33.988949310461635]}, \"id\": \"000000000000000005c7\", \"properties\": {\"2018_2023\": 0.003597025643361, \"2023_class\": 10, \"change\": 1, \"class\": 0, \"fid\": 1498, \"group\": 0, \"layer\": \"valid\", \"notes\": \"seasonal w\", \"path\": \"/Users/glennmoncrieff/Documents/qgis/valid.gpkg|layername=valid\"}}, {\"type\": \"Feature\", \"geometry\": {\"type\": \"Point\", \"coordinates\": [19.317039800378108, -33.79746659302456]}, \"id\": \"000000000000000005e5\", \"properties\": {\"2018_2023\": 0.025748214573377, \"2023_class\": 0, \"change\": 1, \"class\": 1, \"fid\": 1528, \"group\": 0, \"layer\": \"valid\", \"notes\": \"\", \"path\": \"/Users/glennmoncrieff/Documents/qgis/valid.gpkg|layername=valid\"}}, {\"type\": \"Feature\", \"geometry\": {\"type\": \"Point\", \"coordinates\": [19.039153081828417, -33.9604957866396]}, \"id\": \"00000000000000000532\", \"properties\": {\"2018_2023\": \"None\", \"2023_class\": 0, \"change\": 1, \"class\": 2, \"fid\": 1349, \"group\": 0, \"layer\": \"valid\", \"notes\": \"\", \"path\": \"/Users/glennmoncrieff/Documents/qgis/valid.gpkg|layername=valid\"}}, {\"type\": \"Feature\", \"geometry\": {\"type\": \"Point\", \"coordinates\": [19.04585511071175, -33.969119688076965]}, \"id\": \"00000000000000000533\", \"properties\": {\"2018_2023\": \"None\", \"2023_class\": 0, \"change\": 1, \"class\": 2, \"fid\": 1, \"group\": 0, \"layer\": \"valid\", \"notes\": \"\", \"path\": \"/Users/glennmoncrieff/Documents/qgis/valid.gpkg|layername=valid\"}}]}))\n",
       "            });\n",
       "        </script>\n",
       "    "
      ],
      "text/plain": [
       "<IPython.core.display.HTML object>"
      ]
     },
     "metadata": {},
     "output_type": "display_data"
    }
   ],
   "source": [
    "# Train Random Forest classifier\n",
    "classifier = ee.Classifier.smileRandomForest(numberOfTrees=20).train(\n",
    "    features=sample,\n",
    "    classProperty=class_property,\n",
    "    inputProperties=bands\n",
    ")\n",
    "\n",
    "# Classify the composite image\n",
    "classified = composite2023.classify(classifier)\n",
    "\n",
    "# Evaluate accuracy on test set\n",
    "\n",
    "# Step 1: Filter out features where 2023_class == 12\n",
    "filtered_pts = pts.filter(ee.Filter.neq('2023_class', 12))\n",
    "\n",
    "# Step 2: Map over features and conditionally update '2023_class'\n",
    "def update_2023_class(f):\n",
    "    change = ee.Number(f.get('change'))\n",
    "    new_class = ee.Algorithms.If(\n",
    "        change.eq(0),\n",
    "        f.get('class'),        # if change == 0 → set to 'class'\n",
    "        f.get('2023_class')    # if change == 1 → leave unchanged\n",
    "    )\n",
    "    return f.set('2023_class', new_class)\n",
    "\n",
    "updated_pts = filtered_pts.map(update_2023_class)\n",
    "eeprint(updated_pts.limit(5))\n",
    "\n",
    "# Sample the classified image using the test points\n",
    "testData = classified.sampleRegions(\n",
    "    collection= updated_pts,\n",
    "    properties=['2023_class'],\n",
    "    scale=10,\n",
    "    geometries=True  # preserve geometry if needed\n",
    ")\n",
    "# eeprint(testData.limit(5))\n"
   ]
  },
  {
   "cell_type": "code",
   "execution_count": 46,
   "metadata": {
    "cellUniqueIdByVincent": "34aaf"
   },
   "outputs": [
    {
     "data": {
      "text/html": [
       "\n",
       "            <style>\n",
       "                .geemap-dark {\n",
       "                    --jp-widgets-color: white;\n",
       "                    --jp-widgets-label-color: white;\n",
       "                    --jp-ui-font-color1: white;\n",
       "                    --jp-layout-color2: #454545;\n",
       "                    background-color: #383838;\n",
       "                }\n",
       "\n",
       "                .geemap-dark .jupyter-button {\n",
       "                    --jp-layout-color3: #383838;\n",
       "                }\n",
       "\n",
       "                .geemap-colab {\n",
       "                    background-color: var(--colab-primary-surface-color, white);\n",
       "                }\n",
       "\n",
       "                .geemap-colab .jupyter-button {\n",
       "                    --jp-layout-color3: var(--colab-primary-surface-color, white);\n",
       "                }\n",
       "            </style>\n",
       "            "
      ],
      "text/plain": [
       "<IPython.core.display.HTML object>"
      ]
     },
     "metadata": {},
     "output_type": "display_data"
    },
    {
     "data": {
      "text/html": [
       "<div id=\"886cccf9-7628-40fa-a15c-d98f5e170c3f\" style=\"height: auto; width:100%;\"></div>"
      ],
      "text/plain": [
       "<IPython.core.display.HTML object>"
      ]
     },
     "metadata": {},
     "output_type": "display_data"
    },
    {
     "data": {
      "text/html": [
       "\n",
       "        <script src=\"/static/components/requirejs/require.js\"></script> <!-- Needed in Colab -->\n",
       "        <script>\n",
       "            require([\"https://rawgit.com/caldwell/renderjson/master/renderjson.js\"], function() {\n",
       "              renderjson.set_show_to_level(1)\n",
       "              document.getElementById('886cccf9-7628-40fa-a15c-d98f5e170c3f').appendChild(renderjson(0.25217391304347825))\n",
       "            });\n",
       "        </script>\n",
       "    "
      ],
      "text/plain": [
       "<IPython.core.display.HTML object>"
      ]
     },
     "metadata": {},
     "output_type": "display_data"
    }
   ],
   "source": [
    "conf_matrix = testData.errorMatrix('2023_class', 'classification')\n",
    "eeprint(conf_matrix.accuracy())"
   ]
  },
  {
   "cell_type": "markdown",
   "metadata": {
    "cellUniqueIdByVincent": "87f1f"
   },
   "source": [
    "### Unnecessary code"
   ]
  },
  {
   "cell_type": "code",
   "execution_count": 25,
   "id": "09830c72",
   "metadata": {
    "cellUniqueIdByVincent": "f85b2"
   },
   "outputs": [
    {
     "data": {
      "text/html": [
       "\n",
       "            <style>\n",
       "                .geemap-dark {\n",
       "                    --jp-widgets-color: white;\n",
       "                    --jp-widgets-label-color: white;\n",
       "                    --jp-ui-font-color1: white;\n",
       "                    --jp-layout-color2: #454545;\n",
       "                    background-color: #383838;\n",
       "                }\n",
       "\n",
       "                .geemap-dark .jupyter-button {\n",
       "                    --jp-layout-color3: #383838;\n",
       "                }\n",
       "\n",
       "                .geemap-colab {\n",
       "                    background-color: var(--colab-primary-surface-color, white);\n",
       "                }\n",
       "\n",
       "                .geemap-colab .jupyter-button {\n",
       "                    --jp-layout-color3: var(--colab-primary-surface-color, white);\n",
       "                }\n",
       "            </style>\n",
       "            "
      ],
      "text/plain": [
       "<IPython.core.display.HTML object>"
      ]
     },
     "metadata": {},
     "output_type": "display_data"
    },
    {
     "data": {
      "text/plain": [
       "{'state': 'READY',\n",
       " 'description': 'stratified_sample_asset',\n",
       " 'priority': 100,\n",
       " 'creation_timestamp_ms': 1752705049062,\n",
       " 'update_timestamp_ms': 1752705049062,\n",
       " 'start_timestamp_ms': 0,\n",
       " 'task_type': 'EXPORT_FEATURES',\n",
       " 'id': 'T6OEYR75XOJZZDZ2TQW2O3XM',\n",
       " 'name': 'projects/ee-gsingh/operations/T6OEYR75XOJZZDZ2TQW2O3XM'}"
      ]
     },
     "execution_count": 25,
     "metadata": {},
     "output_type": "execute_result"
    }
   ],
   "source": [
    "task = ee.batch.Export.table.toAsset(\n",
    "    collection=testData,  # your stratified sample FeatureCollection\n",
    "    description='stratified_sample_asset',\n",
    "    assetId='projects/ee-gsingh/assets/postdoc/iMAD_2023_extracted_nomask'\n",
    ")\n",
    "task.start()\n",
    "task.status()"
   ]
  },
  {
   "cell_type": "code",
   "execution_count": 29,
   "metadata": {
    "cellUniqueIdByVincent": "abbb7"
   },
   "outputs": [
    {
     "data": {
      "text/html": [
       "\n",
       "            <style>\n",
       "                .geemap-dark {\n",
       "                    --jp-widgets-color: white;\n",
       "                    --jp-widgets-label-color: white;\n",
       "                    --jp-ui-font-color1: white;\n",
       "                    --jp-layout-color2: #454545;\n",
       "                    background-color: #383838;\n",
       "                }\n",
       "\n",
       "                .geemap-dark .jupyter-button {\n",
       "                    --jp-layout-color3: #383838;\n",
       "                }\n",
       "\n",
       "                .geemap-colab {\n",
       "                    background-color: var(--colab-primary-surface-color, white);\n",
       "                }\n",
       "\n",
       "                .geemap-colab .jupyter-button {\n",
       "                    --jp-layout-color3: var(--colab-primary-surface-color, white);\n",
       "                }\n",
       "            </style>\n",
       "            "
      ],
      "text/plain": [
       "<IPython.core.display.HTML object>"
      ]
     },
     "metadata": {},
     "output_type": "display_data"
    }
   ],
   "source": [
    "# Create an export classifier task to run.\n",
    "assetId = 'projects/ee-gsingh/assets/postdoc/iMAD_2023_model_nomask'\n",
    "modelTask = ee.batch.Export.classifier.toAsset(\n",
    "  classifier = classifier,\n",
    "  description = 'classifier_export',\n",
    "  assetId = assetId\n",
    ")\n",
    "modelTask.start()"
   ]
  },
  {
   "cell_type": "code",
   "execution_count": 39,
   "metadata": {
    "cellUniqueIdByVincent": "886c8"
   },
   "outputs": [
    {
     "data": {
      "text/html": [
       "\n",
       "            <style>\n",
       "                .geemap-dark {\n",
       "                    --jp-widgets-color: white;\n",
       "                    --jp-widgets-label-color: white;\n",
       "                    --jp-ui-font-color1: white;\n",
       "                    --jp-layout-color2: #454545;\n",
       "                    background-color: #383838;\n",
       "                }\n",
       "\n",
       "                .geemap-dark .jupyter-button {\n",
       "                    --jp-layout-color3: #383838;\n",
       "                }\n",
       "\n",
       "                .geemap-colab {\n",
       "                    background-color: var(--colab-primary-surface-color, white);\n",
       "                }\n",
       "\n",
       "                .geemap-colab .jupyter-button {\n",
       "                    --jp-layout-color3: var(--colab-primary-surface-color, white);\n",
       "                }\n",
       "            </style>\n",
       "            "
      ],
      "text/plain": [
       "<IPython.core.display.HTML object>"
      ]
     },
     "metadata": {},
     "output_type": "display_data"
    },
    {
     "data": {
      "text/html": [
       "<div id=\"9a213fab-6d34-4ca5-94cd-9a211c887252\" style=\"height: auto; width:100%;\"></div>"
      ],
      "text/plain": [
       "<IPython.core.display.HTML object>"
      ]
     },
     "metadata": {},
     "output_type": "display_data"
    },
    {
     "data": {
      "text/html": [
       "\n",
       "        <script src=\"/static/components/requirejs/require.js\"></script> <!-- Needed in Colab -->\n",
       "        <script>\n",
       "            require([\"https://rawgit.com/caldwell/renderjson/master/renderjson.js\"], function() {\n",
       "              renderjson.set_show_to_level(1)\n",
       "              document.getElementById('9a213fab-6d34-4ca5-94cd-9a211c887252').appendChild(renderjson({\"type\": \"FeatureCollection\", \"columns\": {}, \"features\": [{\"type\": \"Feature\", \"geometry\": {\"type\": \"Point\", \"coordinates\": [19.317057636782323, -33.79744875662035]}, \"id\": \"00000000000000000002\", \"properties\": {\"2023_class\": 0, \"B11\": 0.21495, \"B12\": 0.1314, \"B2\": 0.0935, \"B3\": 0.0906, \"B4\": 0.0762, \"B5\": 0.11585, \"B6\": 0.2145, \"B7\": 0.25585, \"B8\": 0.2552, \"classification\": 8}}, {\"type\": \"Feature\", \"geometry\": {\"type\": \"Point\", \"coordinates\": [19.03911740901999, -33.9604957866396]}, \"id\": \"00000000000000000003\", \"properties\": {\"2023_class\": 0, \"B11\": 0.19155, \"B12\": 0.1275, \"B2\": 0.09105, \"B3\": 0.0826, \"B4\": 0.07045, \"B5\": 0.0989, \"B6\": 0.15575, \"B7\": 0.176, \"B8\": 0.17185, \"classification\": 2}}, {\"type\": \"Feature\", \"geometry\": {\"type\": \"Point\", \"coordinates\": [19.04585511071175, -33.969119688076965]}, \"id\": \"00000000000000000004\", \"properties\": {\"2023_class\": 0, \"B11\": 0.2264, \"B12\": 0.1673, \"B2\": 0.1105, \"B3\": 0.1027, \"B4\": 0.102, \"B5\": 0.1198, \"B6\": 0.1589, \"B7\": 0.1859, \"B8\": 0.1942, \"classification\": 4}}, {\"type\": \"Feature\", \"geometry\": {\"type\": \"Point\", \"coordinates\": [19.054122284064835, -33.971273433885784]}, \"id\": \"00000000000000000005\", \"properties\": {\"2023_class\": 0, \"B11\": 0.1959, \"B12\": 0.1395, \"B2\": 0.0986, \"B3\": 0.0894, \"B4\": 0.0805, \"B5\": 0.1101, \"B6\": 0.1519, \"B7\": 0.1651, \"B8\": 0.1587, \"classification\": 4}}, {\"type\": \"Feature\", \"geometry\": {\"type\": \"Point\", \"coordinates\": [19.063910010877144, -33.9535797209057]}, \"id\": \"00000000000000000006\", \"properties\": {\"2023_class\": 0, \"B11\": 0.19375, \"B12\": 0.12425, \"B2\": 0.11015, \"B3\": 0.1066, \"B4\": 0.1004, \"B5\": 0.1358, \"B6\": 0.1897, \"B7\": 0.20855, \"B8\": 0.2015, \"classification\": 3}}]}))\n",
       "            });\n",
       "        </script>\n",
       "    "
      ],
      "text/plain": [
       "<IPython.core.display.HTML object>"
      ]
     },
     "metadata": {},
     "output_type": "display_data"
    }
   ],
   "source": [
    "testData = ee.FeatureCollection(\"projects/ee-gsingh/assets/postdoc/iMAD_2023_extracted_nomask\")\n",
    "# # Load the classifier after the export finishes and visualize.\n",
    "# classifier = ee.Classifier.load(assetId)\n",
    "\n",
    "test = testData.limit(5).classify(classifier)\n",
    "eeprint(test.limit(5))"
   ]
  },
  {
   "cell_type": "code",
   "execution_count": 31,
   "metadata": {
    "cellUniqueIdByVincent": "28010"
   },
   "outputs": [
    {
     "data": {
      "text/html": [
       "\n",
       "            <style>\n",
       "                .geemap-dark {\n",
       "                    --jp-widgets-color: white;\n",
       "                    --jp-widgets-label-color: white;\n",
       "                    --jp-ui-font-color1: white;\n",
       "                    --jp-layout-color2: #454545;\n",
       "                    background-color: #383838;\n",
       "                }\n",
       "\n",
       "                .geemap-dark .jupyter-button {\n",
       "                    --jp-layout-color3: #383838;\n",
       "                }\n",
       "\n",
       "                .geemap-colab {\n",
       "                    background-color: var(--colab-primary-surface-color, white);\n",
       "                }\n",
       "\n",
       "                .geemap-colab .jupyter-button {\n",
       "                    --jp-layout-color3: var(--colab-primary-surface-color, white);\n",
       "                }\n",
       "            </style>\n",
       "            "
      ],
      "text/plain": [
       "<IPython.core.display.HTML object>"
      ]
     },
     "metadata": {},
     "output_type": "display_data"
    },
    {
     "data": {
      "text/plain": [
       "{'state': 'READY',\n",
       " 'description': 'stratified_sample_asset',\n",
       " 'priority': 100,\n",
       " 'creation_timestamp_ms': 1752706122591,\n",
       " 'update_timestamp_ms': 1752706122591,\n",
       " 'start_timestamp_ms': 0,\n",
       " 'task_type': 'EXPORT_FEATURES',\n",
       " 'id': '5D5US34G6XQUKIIYYF4IT7PT',\n",
       " 'name': 'projects/ee-gsingh/operations/5D5US34G6XQUKIIYYF4IT7PT'}"
      ]
     },
     "execution_count": 31,
     "metadata": {},
     "output_type": "execute_result"
    }
   ],
   "source": [
    "task = ee.batch.Export.table.toAsset(\n",
    "    collection=testData.set({'Acc':conf_matrix.accuracy()}),  # your stratified sample FeatureCollection\n",
    "    description='stratified_sample_asset',\n",
    "    assetId='projects/ee-gsingh/assets/postdoc/iMAD_2023_extracted_nomask_wattr'\n",
    ")\n",
    "task.start()\n",
    "task.status()"
   ]
  },
  {
   "cell_type": "code",
   "execution_count": 32,
   "metadata": {
    "cellUniqueIdByVincent": "21cf6"
   },
   "outputs": [
    {
     "data": {
      "text/html": [
       "\n",
       "            <style>\n",
       "                .geemap-dark {\n",
       "                    --jp-widgets-color: white;\n",
       "                    --jp-widgets-label-color: white;\n",
       "                    --jp-ui-font-color1: white;\n",
       "                    --jp-layout-color2: #454545;\n",
       "                    background-color: #383838;\n",
       "                }\n",
       "\n",
       "                .geemap-dark .jupyter-button {\n",
       "                    --jp-layout-color3: #383838;\n",
       "                }\n",
       "\n",
       "                .geemap-colab {\n",
       "                    background-color: var(--colab-primary-surface-color, white);\n",
       "                }\n",
       "\n",
       "                .geemap-colab .jupyter-button {\n",
       "                    --jp-layout-color3: var(--colab-primary-surface-color, white);\n",
       "                }\n",
       "            </style>\n",
       "            "
      ],
      "text/plain": [
       "<IPython.core.display.HTML object>"
      ]
     },
     "metadata": {},
     "output_type": "display_data"
    },
    {
     "data": {
      "text/html": [
       "<div id=\"6dacad63-6330-4e16-9b15-7ab3ea6a72a2\" style=\"height: auto; width:100%;\"></div>"
      ],
      "text/plain": [
       "<IPython.core.display.HTML object>"
      ]
     },
     "metadata": {},
     "output_type": "display_data"
    },
    {
     "data": {
      "text/html": [
       "\n",
       "        <script src=\"/static/components/requirejs/require.js\"></script> <!-- Needed in Colab -->\n",
       "        <script>\n",
       "            require([\"https://rawgit.com/caldwell/renderjson/master/renderjson.js\"], function() {\n",
       "              renderjson.set_show_to_level(1)\n",
       "              document.getElementById('6dacad63-6330-4e16-9b15-7ab3ea6a72a2').appendChild(renderjson(0))\n",
       "            });\n",
       "        </script>\n",
       "    "
      ],
      "text/plain": [
       "<IPython.core.display.HTML object>"
      ]
     },
     "metadata": {},
     "output_type": "display_data"
    }
   ],
   "source": [
    "eeprint(ee.FeatureCollection(\"projects/ee-gsingh/assets/postdoc/iMAD_2023_extracted_nomask_wattr\").get('Acc'))"
   ]
  },
  {
   "cell_type": "markdown",
   "metadata": {
    "cellUniqueIdByVincent": "c8718"
   },
   "source": [
    "### Repeat process after masking"
   ]
  },
  {
   "cell_type": "code",
   "execution_count": null,
   "id": "48735016",
   "metadata": {
    "cellUniqueIdByVincent": "73489"
   },
   "outputs": [
    {
     "data": {
      "text/html": [
       "\n",
       "            <style>\n",
       "                .geemap-dark {\n",
       "                    --jp-widgets-color: white;\n",
       "                    --jp-widgets-label-color: white;\n",
       "                    --jp-ui-font-color1: white;\n",
       "                    --jp-layout-color2: #454545;\n",
       "                    background-color: #383838;\n",
       "                }\n",
       "\n",
       "                .geemap-dark .jupyter-button {\n",
       "                    --jp-layout-color3: #383838;\n",
       "                }\n",
       "\n",
       "                .geemap-colab {\n",
       "                    background-color: var(--colab-primary-surface-color, white);\n",
       "                }\n",
       "\n",
       "                .geemap-colab .jupyter-button {\n",
       "                    --jp-layout-color3: var(--colab-primary-surface-color, white);\n",
       "                }\n",
       "            </style>\n",
       "            "
      ],
      "text/plain": [
       "<IPython.core.display.HTML object>"
      ]
     },
     "metadata": {},
     "output_type": "display_data"
    }
   ],
   "source": [
    "# Add the classification band to composite for stratified sampling\n",
    "composite_with_class = composite2023.addBands(classified.rename('class')).updateMask(im_z.lt(95.811))\n",
    "\n",
    "# Perform stratified sampling\n",
    "sample = composite_with_class.stratifiedSample(\n",
    "    numPoints=0,  # must be 0 if you're using classValues & classPoints\n",
    "    classBand='class',\n",
    "    classValues=list(class_counts.keys()),\n",
    "    classPoints=list(class_counts.values()),\n",
    "    region=region,\n",
    "    scale=10,\n",
    "    geometries=True,  # set to True if you want point geometry\n",
    "    seed=42\n",
    ")\n",
    "\n",
    "# Optional: print sample count\n",
    "sample_size = sample.size()\n",
    "print(f\"Sample size (should be {allocated_total}):\", sample_size.getInfo())"
   ]
  },
  {
   "cell_type": "code",
   "execution_count": 61,
   "metadata": {
    "cellUniqueIdByVincent": "5e26f"
   },
   "outputs": [
    {
     "data": {
      "text/html": [
       "\n",
       "            <style>\n",
       "                .geemap-dark {\n",
       "                    --jp-widgets-color: white;\n",
       "                    --jp-widgets-label-color: white;\n",
       "                    --jp-ui-font-color1: white;\n",
       "                    --jp-layout-color2: #454545;\n",
       "                    background-color: #383838;\n",
       "                }\n",
       "\n",
       "                .geemap-dark .jupyter-button {\n",
       "                    --jp-layout-color3: #383838;\n",
       "                }\n",
       "\n",
       "                .geemap-colab {\n",
       "                    background-color: var(--colab-primary-surface-color, white);\n",
       "                }\n",
       "\n",
       "                .geemap-colab .jupyter-button {\n",
       "                    --jp-layout-color3: var(--colab-primary-surface-color, white);\n",
       "                }\n",
       "            </style>\n",
       "            "
      ],
      "text/plain": [
       "<IPython.core.display.HTML object>"
      ]
     },
     "metadata": {},
     "output_type": "display_data"
    },
    {
     "data": {
      "text/html": [
       "<div id=\"47d0213a-e9ad-4f81-8583-dcbae0ee8622\" style=\"height: auto; width:100%;\"></div>"
      ],
      "text/plain": [
       "<IPython.core.display.HTML object>"
      ]
     },
     "metadata": {},
     "output_type": "display_data"
    },
    {
     "data": {
      "text/html": [
       "\n",
       "        <script src=\"/static/components/requirejs/require.js\"></script> <!-- Needed in Colab -->\n",
       "        <script>\n",
       "            require([\"https://rawgit.com/caldwell/renderjson/master/renderjson.js\"], function() {\n",
       "              renderjson.set_show_to_level(1)\n",
       "              document.getElementById('47d0213a-e9ad-4f81-8583-dcbae0ee8622').appendChild(renderjson({\"type\": \"FeatureCollection\", \"columns\": {\"2018_2023\": \"Float\", \"2023_class\": \"Long\", \"change\": \"Long\", \"class\": \"Long\", \"fid\": \"Long\", \"group\": \"Long\", \"layer\": \"String\", \"notes\": \"String\", \"path\": \"String\", \"system:index\": \"String\"}, \"version\": 1750928796749160.0, \"id\": \"projects/ee-geethensingh/assets/postdoc/aliens_sep2018_bioscape2023\", \"properties\": {\"system:asset_size\": 84232}, \"features\": [{\"type\": \"Feature\", \"geometry\": {\"type\": \"Point\", \"coordinates\": [19.156093006955036, -33.99033609088925]}, \"id\": \"000000000000000005c6\", \"properties\": {\"2018_2023\": 0.002137792789123, \"2023_class\": 10, \"change\": 1, \"class\": 0, \"fid\": 1497, \"group\": 0, \"layer\": \"valid\", \"notes\": \"seasonal w\", \"path\": \"/Users/glennmoncrieff/Documents/qgis/valid.gpkg|layername=valid\"}}, {\"type\": \"Feature\", \"geometry\": {\"type\": \"Point\", \"coordinates\": [19.15603057954029, -33.988949310461635]}, \"id\": \"000000000000000005c7\", \"properties\": {\"2018_2023\": 0.003597025643361, \"2023_class\": 10, \"change\": 1, \"class\": 0, \"fid\": 1498, \"group\": 0, \"layer\": \"valid\", \"notes\": \"seasonal w\", \"path\": \"/Users/glennmoncrieff/Documents/qgis/valid.gpkg|layername=valid\"}}, {\"type\": \"Feature\", \"geometry\": {\"type\": \"Point\", \"coordinates\": [19.317039800378108, -33.79746659302456]}, \"id\": \"000000000000000005e5\", \"properties\": {\"2018_2023\": 0.025748214573377, \"2023_class\": 0, \"change\": 1, \"class\": 1, \"fid\": 1528, \"group\": 0, \"layer\": \"valid\", \"notes\": \"\", \"path\": \"/Users/glennmoncrieff/Documents/qgis/valid.gpkg|layername=valid\"}}, {\"type\": \"Feature\", \"geometry\": {\"type\": \"Point\", \"coordinates\": [19.039153081828417, -33.9604957866396]}, \"id\": \"00000000000000000532\", \"properties\": {\"2018_2023\": \"None\", \"2023_class\": 0, \"change\": 1, \"class\": 2, \"fid\": 1349, \"group\": 0, \"layer\": \"valid\", \"notes\": \"\", \"path\": \"/Users/glennmoncrieff/Documents/qgis/valid.gpkg|layername=valid\"}}, {\"type\": \"Feature\", \"geometry\": {\"type\": \"Point\", \"coordinates\": [19.04585511071175, -33.969119688076965]}, \"id\": \"00000000000000000533\", \"properties\": {\"2018_2023\": \"None\", \"2023_class\": 0, \"change\": 1, \"class\": 2, \"fid\": 1, \"group\": 0, \"layer\": \"valid\", \"notes\": \"\", \"path\": \"/Users/glennmoncrieff/Documents/qgis/valid.gpkg|layername=valid\"}}]}))\n",
       "            });\n",
       "        </script>\n",
       "    "
      ],
      "text/plain": [
       "<IPython.core.display.HTML object>"
      ]
     },
     "metadata": {},
     "output_type": "display_data"
    }
   ],
   "source": [
    "# Train Random Forest classifier\n",
    "classifier = ee.Classifier.smileRandomForest(numberOfTrees=10).train(\n",
    "    features=sample,\n",
    "    classProperty=class_property,\n",
    "    inputProperties=bands\n",
    ")\n",
    "\n",
    "# Classify the composite image\n",
    "classified = composite2023.classify(classifier)\n",
    "\n",
    "# Evaluate accuracy on test set\n",
    "\n",
    "# Step 1: Filter out features where 2023_class == 12\n",
    "filtered_pts = pts.filter(ee.Filter.neq('2023_class', 12))\n",
    "\n",
    "# Step 2: Map over features and conditionally update '2023_class'\n",
    "def update_2023_class(f):\n",
    "    change = ee.Number(f.get('change'))\n",
    "    new_class = ee.Algorithms.If(\n",
    "        change.eq(0),\n",
    "        f.get('class'),        # if change == 0 → set to 'class'\n",
    "        f.get('2023_class')    # if change == 1 → leave unchanged\n",
    "    )\n",
    "    return f.set('2023_class', new_class)\n",
    "\n",
    "updated_pts = filtered_pts.map(update_2023_class)\n",
    "eeprint(updated_pts.limit(5))\n",
    "\n",
    "# Sample the classified image using the test points\n",
    "testData = classified.sampleRegions(\n",
    "    collection= updated_pts,\n",
    "    properties=['2023_class'],\n",
    "    scale=10,\n",
    "    geometries=True  # preserve geometry if needed\n",
    ")\n",
    "# eeprint(testData.limit(5))\n"
   ]
  },
  {
   "cell_type": "code",
   "execution_count": 63,
   "metadata": {
    "cellUniqueIdByVincent": "abeb7"
   },
   "outputs": [
    {
     "data": {
      "text/html": [
       "\n",
       "            <style>\n",
       "                .geemap-dark {\n",
       "                    --jp-widgets-color: white;\n",
       "                    --jp-widgets-label-color: white;\n",
       "                    --jp-ui-font-color1: white;\n",
       "                    --jp-layout-color2: #454545;\n",
       "                    background-color: #383838;\n",
       "                }\n",
       "\n",
       "                .geemap-dark .jupyter-button {\n",
       "                    --jp-layout-color3: #383838;\n",
       "                }\n",
       "\n",
       "                .geemap-colab {\n",
       "                    background-color: var(--colab-primary-surface-color, white);\n",
       "                }\n",
       "\n",
       "                .geemap-colab .jupyter-button {\n",
       "                    --jp-layout-color3: var(--colab-primary-surface-color, white);\n",
       "                }\n",
       "            </style>\n",
       "            "
      ],
      "text/plain": [
       "<IPython.core.display.HTML object>"
      ]
     },
     "metadata": {},
     "output_type": "display_data"
    },
    {
     "data": {
      "text/html": [
       "<div id=\"758f6494-a58c-4d74-a233-3c2fd8b20cf2\" style=\"height: auto; width:100%;\"></div>"
      ],
      "text/plain": [
       "<IPython.core.display.HTML object>"
      ]
     },
     "metadata": {},
     "output_type": "display_data"
    },
    {
     "data": {
      "text/html": [
       "\n",
       "        <script src=\"/static/components/requirejs/require.js\"></script> <!-- Needed in Colab -->\n",
       "        <script>\n",
       "            require([\"https://rawgit.com/caldwell/renderjson/master/renderjson.js\"], function() {\n",
       "              renderjson.set_show_to_level(1)\n",
       "              document.getElementById('758f6494-a58c-4d74-a233-3c2fd8b20cf2').appendChild(renderjson(0.2826086956521739))\n",
       "            });\n",
       "        </script>\n",
       "    "
      ],
      "text/plain": [
       "<IPython.core.display.HTML object>"
      ]
     },
     "metadata": {},
     "output_type": "display_data"
    }
   ],
   "source": [
    "conf_matrix = testData.errorMatrix('2023_class', 'classification')\n",
    "eeprint(conf_matrix.accuracy())"
   ]
  },
  {
   "cell_type": "code",
   "execution_count": 64,
   "metadata": {
    "cellUniqueIdByVincent": "8b696"
   },
   "outputs": [
    {
     "data": {
      "text/html": [
       "\n",
       "            <style>\n",
       "                .geemap-dark {\n",
       "                    --jp-widgets-color: white;\n",
       "                    --jp-widgets-label-color: white;\n",
       "                    --jp-ui-font-color1: white;\n",
       "                    --jp-layout-color2: #454545;\n",
       "                    background-color: #383838;\n",
       "                }\n",
       "\n",
       "                .geemap-dark .jupyter-button {\n",
       "                    --jp-layout-color3: #383838;\n",
       "                }\n",
       "\n",
       "                .geemap-colab {\n",
       "                    background-color: var(--colab-primary-surface-color, white);\n",
       "                }\n",
       "\n",
       "                .geemap-colab .jupyter-button {\n",
       "                    --jp-layout-color3: var(--colab-primary-surface-color, white);\n",
       "                }\n",
       "            </style>\n",
       "            "
      ],
      "text/plain": [
       "<IPython.core.display.HTML object>"
      ]
     },
     "metadata": {},
     "output_type": "display_data"
    },
    {
     "data": {
      "text/plain": [
       "{'state': 'READY',\n",
       " 'description': 'stratified_sample_asset',\n",
       " 'priority': 100,\n",
       " 'creation_timestamp_ms': 1752748983256,\n",
       " 'update_timestamp_ms': 1752748983256,\n",
       " 'start_timestamp_ms': 0,\n",
       " 'task_type': 'EXPORT_FEATURES',\n",
       " 'id': 'T6FYUSLOE777MJ6EF777K4OD',\n",
       " 'name': 'projects/ee-gsingh/operations/T6FYUSLOE777MJ6EF777K4OD'}"
      ]
     },
     "execution_count": 64,
     "metadata": {},
     "output_type": "execute_result"
    }
   ],
   "source": [
    "task = ee.batch.Export.table.toAsset(\n",
    "    collection=testData.set({'Acc':conf_matrix.accuracy()}),  # your stratified sample FeatureCollection\n",
    "    description='stratified_sample_asset',\n",
    "    assetId='projects/ee-gsingh/assets/postdoc/iMAD_2023_extracted_wmask_wattr'\n",
    ")\n",
    "task.start()\n",
    "task.status()"
   ]
  },
  {
   "cell_type": "markdown",
   "metadata": {
    "cellUniqueIdByVincent": "66db7"
   },
   "source": [
    "## Semi-supervised approach"
   ]
  },
  {
   "cell_type": "code",
   "execution_count": 73,
   "id": "1cb99bf5",
   "metadata": {
    "cellUniqueIdByVincent": "7df3f"
   },
   "outputs": [
    {
     "data": {
      "text/html": [
       "\n",
       "            <style>\n",
       "                .geemap-dark {\n",
       "                    --jp-widgets-color: white;\n",
       "                    --jp-widgets-label-color: white;\n",
       "                    --jp-ui-font-color1: white;\n",
       "                    --jp-layout-color2: #454545;\n",
       "                    background-color: #383838;\n",
       "                }\n",
       "\n",
       "                .geemap-dark .jupyter-button {\n",
       "                    --jp-layout-color3: #383838;\n",
       "                }\n",
       "\n",
       "                .geemap-colab {\n",
       "                    background-color: var(--colab-primary-surface-color, white);\n",
       "                }\n",
       "\n",
       "                .geemap-colab .jupyter-button {\n",
       "                    --jp-layout-color3: var(--colab-primary-surface-color, white);\n",
       "                }\n",
       "            </style>\n",
       "            "
      ],
      "text/plain": [
       "<IPython.core.display.HTML object>"
      ]
     },
     "metadata": {},
     "output_type": "display_data"
    },
    {
     "name": "stdout",
     "output_type": "stream",
     "text": [
      "Confusion Matrix:\n",
      " [[12, 0, 1, 9, 11, 0, 1, 0, 2, 0, 1, 0, 0], [1, 3, 0, 2, 0, 1, 2, 0, 2, 0, 0, 0, 0], [1, 2, 31, 13, 6, 2, 3, 0, 1, 0, 0, 0, 0], [0, 0, 6, 69, 10, 0, 4, 0, 13, 0, 0, 0, 0], [1, 0, 2, 13, 63, 0, 0, 4, 6, 2, 0, 0, 0], [0, 4, 5, 2, 2, 18, 4, 0, 3, 0, 0, 0, 0], [0, 5, 2, 2, 0, 2, 21, 0, 6, 0, 0, 0, 0], [0, 1, 0, 4, 22, 0, 0, 31, 1, 2, 0, 0, 0], [0, 0, 3, 6, 6, 2, 1, 0, 36, 0, 0, 0, 0], [0, 0, 0, 0, 0, 0, 0, 0, 0, 0, 0, 0, 0], [0, 0, 0, 0, 0, 0, 0, 0, 0, 0, 20, 0, 0], [0, 0, 0, 0, 0, 0, 0, 0, 0, 0, 0, 0, 0], [0, 0, 3, 6, 5, 2, 1, 0, 5, 0, 0, 0, 0]]\n",
      "Overall Accuracy: 0.5703564727954972\n",
      "Kappa: 0.5057980872790289\n"
     ]
    }
   ],
   "source": [
    "# Using the manual labelled change no change\n",
    "class_property = 'class'  # target column\n",
    "\n",
    "# Extract band names from image\n",
    "bands = composite2018.bandNames()\n",
    "\n",
    "# Sample the image using the training points\n",
    "sampled18 = composite2018.sampleRegions(\n",
    "    collection=pts,\n",
    "    properties=[class_property],\n",
    "    scale=10,\n",
    "    geometries=True  # preserve geometry if needed\n",
    ")\n",
    "\n",
    "# Step 2: Map over features and conditionally update '2023_class'\n",
    "def update_2023_class(f):\n",
    "    change = ee.Number(f.get('change'))\n",
    "    new_class = ee.Algorithms.If(\n",
    "        change.eq(0),\n",
    "        f.get('class'),        # if change == 0 → set to 'class'\n",
    "        f.get('2023_class')    # if change == 1 → leave unchanged\n",
    "    )\n",
    "    return f.set('2023_class', new_class)\n",
    "\n",
    "updated_pts = pts.map(update_2023_class)\n",
    "\n",
    "# Step 1: Filter out features where 2023_class == 12 and select no-change pts\n",
    "filtered_pts = updated_pts.filter(ee.Filter.neq('2023_class', 12)).filter(ee.Filter.eq('change', 0))\n",
    "\n",
    "# Sample the classified image using the test points\n",
    "sampled23 = composite2023.sampleRegions(\n",
    "    collection= filtered_pts,\n",
    "    properties=['class', '2023_class'],\n",
    "    scale=10,\n",
    "    geometries=True  # preserve geometry if needed\n",
    ")\n",
    "\n",
    "# combine sampled points\n",
    "sampled = sampled18.merge(sampled23)\n",
    "\n",
    "# Split into training/testing (70/30 split)\n",
    "withRandom = sampled.randomColumn('random')\n",
    "trainData = withRandom.filter(ee.Filter.lt('random', 0.7))\n",
    "testData = withRandom.filter(ee.Filter.gte('random', 0.7))\n",
    "\n",
    "# Train Random Forest classifier\n",
    "classifier = ee.Classifier.smileRandomForest(numberOfTrees=10).train(\n",
    "    features=trainData,\n",
    "    classProperty=class_property,\n",
    "    inputProperties=bands\n",
    ")\n",
    "\n",
    "# Classify the composite image\n",
    "classified = composite2023.clip(aoi).classify(classifier).rename('class')\n",
    "\n",
    "# Change pts\n",
    "change_pts = updated_pts.filter(ee.Filter.eq('change', 1))\n",
    "\n",
    "# Sample the classified image using the test points\n",
    "sampledchange23 = composite2023.addBands(classified).sampleRegions(\n",
    "    collection= change_pts,\n",
    "    properties=['2023_class'],\n",
    "    scale=10,\n",
    "    geometries=True  # preserve geometry if needed\n",
    ")\n",
    "\n",
    "# Combine pseudo-labelled points with the rest\n",
    "sampled = sampled.merge(sampledchange23)\n",
    "\n",
    "# Split into training/testing (70/30 split)\n",
    "withRandom = sampled.randomColumn('random')\n",
    "trainData = withRandom.filter(ee.Filter.lt('random', 0.7))\n",
    "testData = withRandom.filter(ee.Filter.gte('random', 0.7))\n",
    "\n",
    "# Train Random Forest classifier\n",
    "classifier = ee.Classifier.smileRandomForest(numberOfTrees=10).train(\n",
    "    features=trainData,\n",
    "    classProperty=class_property,\n",
    "    inputProperties=bands\n",
    ")\n",
    "\n",
    "# Evaluate accuracy on test set\n",
    "test = testData.classify(classifier)\n",
    "\n",
    "conf_matrix = test.errorMatrix('2023_class', 'classification')\n",
    "print('Confusion Matrix:\\n', conf_matrix.getInfo())\n",
    "print('Overall Accuracy:', conf_matrix.accuracy().getInfo())\n",
    "print('Kappa:', conf_matrix.kappa().getInfo())\n"
   ]
  },
  {
   "cell_type": "code",
   "execution_count": 74,
   "metadata": {
    "cellUniqueIdByVincent": "f697b"
   },
   "outputs": [
    {
     "data": {
      "text/html": [
       "\n",
       "            <style>\n",
       "                .geemap-dark {\n",
       "                    --jp-widgets-color: white;\n",
       "                    --jp-widgets-label-color: white;\n",
       "                    --jp-ui-font-color1: white;\n",
       "                    --jp-layout-color2: #454545;\n",
       "                    background-color: #383838;\n",
       "                }\n",
       "\n",
       "                .geemap-dark .jupyter-button {\n",
       "                    --jp-layout-color3: #383838;\n",
       "                }\n",
       "\n",
       "                .geemap-colab {\n",
       "                    background-color: var(--colab-primary-surface-color, white);\n",
       "                }\n",
       "\n",
       "                .geemap-colab .jupyter-button {\n",
       "                    --jp-layout-color3: var(--colab-primary-surface-color, white);\n",
       "                }\n",
       "            </style>\n",
       "            "
      ],
      "text/plain": [
       "<IPython.core.display.HTML object>"
      ]
     },
     "metadata": {},
     "output_type": "display_data"
    },
    {
     "data": {
      "text/html": [
       "<div id=\"3bf58ff1-cfda-4351-be6e-2363b7c13c0b\" style=\"height: auto; width:100%;\"></div>"
      ],
      "text/plain": [
       "<IPython.core.display.HTML object>"
      ]
     },
     "metadata": {},
     "output_type": "display_data"
    },
    {
     "data": {
      "text/html": [
       "\n",
       "        <script src=\"/static/components/requirejs/require.js\"></script> <!-- Needed in Colab -->\n",
       "        <script>\n",
       "            require([\"https://rawgit.com/caldwell/renderjson/master/renderjson.js\"], function() {\n",
       "              renderjson.set_show_to_level(1)\n",
       "              document.getElementById('3bf58ff1-cfda-4351-be6e-2363b7c13c0b').appendChild(renderjson({\"type\": \"FeatureCollection\", \"columns\": {}, \"properties\": {\"band_order\": [\"B2\", \"B3\", \"B4\", \"B5\", \"B6\", \"B7\", \"B8\", \"B11\", \"B12\", \"change\"]}, \"features\": [{\"type\": \"Feature\", \"geometry\": {\"geodesic\": false, \"type\": \"Point\", \"coordinates\": [19.072625870547828, -33.80553551927845]}, \"id\": \"000000000000000003fb_0\", \"properties\": {\"2023_class\": 0, \"B11\": 0.27505, \"B12\": 0.1823, \"B2\": 0.15, \"B3\": 0.14865, \"B4\": 0.15835, \"B5\": 0.1681, \"B6\": 0.20965, \"B7\": 0.22755, \"B8\": 0.2634, \"change\": 0, \"class\": 0}}, {\"type\": \"Feature\", \"geometry\": {\"geodesic\": false, \"type\": \"Point\", \"coordinates\": [19.07792593072413, -33.80796097054557]}, \"id\": \"000000000000000003fc_0\", \"properties\": {\"2023_class\": 0, \"B11\": 0.1276, \"B12\": 0.07865, \"B2\": 0.12595, \"B3\": 0.12255, \"B4\": 0.1251, \"B5\": 0.11825, \"B6\": 0.143, \"B7\": 0.1508, \"B8\": 0.1534, \"change\": 0, \"class\": 0}}, {\"type\": \"Feature\", \"geometry\": {\"geodesic\": false, \"type\": \"Point\", \"coordinates\": [19.078195425309367, -33.80823046513081]}, \"id\": \"000000000000000003fd_0\", \"properties\": {\"2023_class\": 0, \"B11\": 0.1014, \"B12\": 0.06245, \"B2\": 0.0961, \"B3\": 0.08235, \"B4\": 0.07385, \"B5\": 0.0903, \"B6\": 0.0967, \"B7\": 0.10565, \"B8\": 0.0831, \"change\": 0, \"class\": 0}}, {\"type\": \"Feature\", \"geometry\": {\"geodesic\": false, \"type\": \"Point\", \"coordinates\": [19.14952165886846, -33.735826253230776]}, \"id\": \"0000000000000000045a_0\", \"properties\": {\"2023_class\": 0, \"B11\": 0.1948, \"B12\": 0.1119, \"B2\": 0.1391, \"B3\": 0.1322, \"B4\": 0.1501, \"B5\": 0.135, \"B6\": 0.182, \"B7\": 0.2132, \"B8\": 0.2412, \"change\": 0, \"class\": 0}}, {\"type\": \"Feature\", \"geometry\": {\"geodesic\": false, \"type\": \"Point\", \"coordinates\": [19.266572140389233, -33.75280441210064]}, \"id\": \"00000000000000000468_0\", \"properties\": {\"2023_class\": 0, \"B11\": 0.29175, \"B12\": 0.2171, \"B2\": 0.142, \"B3\": 0.1354, \"B4\": 0.1458, \"B5\": 0.1626, \"B6\": 0.19265, \"B7\": 0.20745, \"B8\": 0.21005, \"change\": 1, \"class\": 0}}]}))\n",
       "            });\n",
       "        </script>\n",
       "    "
      ],
      "text/plain": [
       "<IPython.core.display.HTML object>"
      ]
     },
     "metadata": {},
     "output_type": "display_data"
    },
    {
     "data": {
      "text/html": [
       "<div id=\"d4da1e6d-66b3-4b38-8077-5747a2072d51\" style=\"height: auto; width:100%;\"></div>"
      ],
      "text/plain": [
       "<IPython.core.display.HTML object>"
      ]
     },
     "metadata": {},
     "output_type": "display_data"
    },
    {
     "data": {
      "text/html": [
       "\n",
       "        <script src=\"/static/components/requirejs/require.js\"></script> <!-- Needed in Colab -->\n",
       "        <script>\n",
       "            require([\"https://rawgit.com/caldwell/renderjson/master/renderjson.js\"], function() {\n",
       "              renderjson.set_show_to_level(1)\n",
       "              document.getElementById('d4da1e6d-66b3-4b38-8077-5747a2072d51').appendChild(renderjson({\"type\": \"FeatureCollection\", \"columns\": {}, \"properties\": {\"band_order\": [\"B2\", \"B3\", \"B4\", \"B5\", \"B6\", \"B7\", \"B8\", \"B11\", \"B12\"]}, \"features\": [{\"type\": \"Feature\", \"geometry\": {\"geodesic\": false, \"type\": \"Point\", \"coordinates\": [19.266572140389233, -33.75280441210064]}, \"id\": \"00000000000000000468_0_0\", \"properties\": {\"2023_class\": 0, \"B11\": 0.2787, \"B12\": 0.2105, \"B2\": 0.1429, \"B3\": 0.1358, \"B4\": 0.1425, \"B5\": 0.1617, \"B6\": 0.1862, \"B7\": 0.203, \"B8\": 0.2034, \"class\": 0}}, {\"type\": \"Feature\", \"geometry\": {\"geodesic\": false, \"type\": \"Point\", \"coordinates\": [19.22749542553003, -33.73663473698648]}, \"id\": \"00000000000000000478_0_0\", \"properties\": {\"2023_class\": 2, \"B11\": 0.12345, \"B12\": 0.07065, \"B2\": 0.0813, \"B3\": 0.06845, \"B4\": 0.0548, \"B5\": 0.0769, \"B6\": 0.15095, \"B7\": 0.18095, \"B8\": 0.17815, \"class\": 2}}, {\"type\": \"Feature\", \"geometry\": {\"geodesic\": false, \"type\": \"Point\", \"coordinates\": [19.22884289845621, -33.736275410872835]}, \"id\": \"00000000000000000479_0_0\", \"properties\": {\"2023_class\": 2, \"B11\": 0.1339, \"B12\": 0.0834, \"B2\": 0.0949, \"B3\": 0.0796, \"B4\": 0.0682, \"B5\": 0.08585, \"B6\": 0.15865, \"B7\": 0.184, \"B8\": 0.1776, \"class\": 2}}, {\"type\": \"Feature\", \"geometry\": {\"geodesic\": false, \"type\": \"Point\", \"coordinates\": [19.222015702296904, -33.73304147585001]}, \"id\": \"0000000000000000047f_0_0\", \"properties\": {\"2023_class\": 2, \"B11\": 0.1855, \"B12\": 0.1253, \"B2\": 0.0955, \"B3\": 0.083, \"B4\": 0.0714, \"B5\": 0.1013, \"B6\": 0.1547, \"B7\": 0.1774, \"B8\": 0.1755, \"class\": 2}}, {\"type\": \"Feature\", \"geometry\": {\"geodesic\": false, \"type\": \"Point\", \"coordinates\": [19.22641744718909, -33.73277198126477]}, \"id\": \"00000000000000000481_0_0\", \"properties\": {\"2023_class\": 2, \"B11\": 0.2021, \"B12\": 0.1416, \"B2\": 0.0991, \"B3\": 0.0874, \"B4\": 0.0803, \"B5\": 0.1002, \"B6\": 0.1517, \"B7\": 0.1731, \"B8\": 0.1674, \"class\": 2}}]}))\n",
       "            });\n",
       "        </script>\n",
       "    "
      ],
      "text/plain": [
       "<IPython.core.display.HTML object>"
      ]
     },
     "metadata": {},
     "output_type": "display_data"
    },
    {
     "name": "stdout",
     "output_type": "stream",
     "text": [
      "Confusion Matrix:\n",
      " [[10, 0, 6, 6, 15, 2, 0, 1, 0, 0, 0, 0, 0], [0, 7, 0, 1, 0, 0, 3, 0, 2, 0, 0, 0, 0], [0, 0, 59, 15, 2, 3, 1, 0, 4, 0, 0, 0, 0], [0, 0, 8, 115, 18, 0, 4, 2, 7, 6, 1, 0, 0], [0, 0, 1, 32, 83, 0, 0, 13, 6, 14, 0, 0, 0], [0, 1, 6, 4, 0, 23, 1, 0, 6, 0, 0, 0, 0], [0, 4, 12, 7, 0, 2, 21, 0, 3, 0, 0, 0, 0], [3, 0, 0, 8, 16, 0, 0, 40, 0, 8, 0, 0, 0], [0, 1, 1, 35, 14, 3, 2, 3, 34, 2, 0, 0, 0], [0, 0, 0, 0, 0, 0, 0, 0, 0, 0, 0, 0, 0], [0, 0, 0, 0, 1, 0, 0, 0, 0, 1, 29, 0, 0], [0, 0, 0, 0, 0, 0, 0, 0, 0, 0, 0, 0, 0], [1, 1, 8, 7, 0, 0, 0, 0, 1, 0, 0, 0, 0]]\n",
      "Overall Accuracy: 0.5568783068783069\n",
      "Kappa: 0.48189305631134693\n"
     ]
    }
   ],
   "source": [
    "# Using the IRMAD binary layer to split change and no-change points\n",
    "class_property = 'class'  # target column\n",
    "\n",
    "# Extract band names from image\n",
    "bands = composite2018.bandNames()\n",
    "\n",
    "# Step 2: Map over features and conditionally update '2023_class'\n",
    "def update_2023_class(f):\n",
    "    change = ee.Number(f.get('change'))\n",
    "    new_class = ee.Algorithms.If(\n",
    "        change.eq(0),\n",
    "        f.get('class'),        # if change == 0 → set to 'class'\n",
    "        f.get('2023_class')    # if change == 1 → leave unchanged\n",
    "    )\n",
    "    return f.set('2023_class', new_class)\n",
    "\n",
    "updated_pts = pts.map(update_2023_class)\n",
    "\n",
    "# Sample the image using the training points\n",
    "sampled18 = composite2018.addBands(im_z.lt(95.811).rename('change')).sampleRegions(\n",
    "    collection= updated_pts,\n",
    "    properties=[class_property, '2023_class'],\n",
    "    scale=10,\n",
    "    geometries=True  # preserve geometry if needed\n",
    ")\n",
    "eeprint(sampled18.limit(5))\n",
    "\n",
    "# Step 1: Filter out features where 2023_class == 12 and select no-change pts\n",
    "filtered_pts = sampled18.select(['change', 'class', '2023_class']).filter(ee.Filter.eq('change', 1))\n",
    "\n",
    "# Sample the classified image using the test points\n",
    "sampled23 = composite2023.sampleRegions(\n",
    "    collection= filtered_pts,\n",
    "    properties=['class', '2023_class'],\n",
    "    scale=10,\n",
    "    geometries=True  # preserve geometry if needed\n",
    ")\n",
    "eeprint(sampled23.limit(5))\n",
    "# combine sampled points\n",
    "sampled = sampled18.merge(sampled23)\n",
    "\n",
    "# Split into training/testing (70/30 split)\n",
    "withRandom = sampled.randomColumn('random')\n",
    "trainData = withRandom.filter(ee.Filter.lt('random', 0.7))\n",
    "testData = withRandom.filter(ee.Filter.gte('random', 0.7))\n",
    "\n",
    "# Train Random Forest classifier\n",
    "classifier = ee.Classifier.smileRandomForest(numberOfTrees=10).train(\n",
    "    features=trainData,\n",
    "    classProperty=class_property,\n",
    "    inputProperties=bands\n",
    ")\n",
    "\n",
    "# Classify the composite image-used for pseudo labels\n",
    "classified = composite2023.clip(aoi).classify(classifier).rename('class')\n",
    "\n",
    "# Change pts\n",
    "change_pts = sampled18.select('change').filter(ee.Filter.eq('change', 0))\n",
    "\n",
    "# Get pseudo labels for change points\n",
    "sampledchange23 = composite2023.addBands(classified).sampleRegions(\n",
    "    collection= change_pts,\n",
    "    properties=['2023_class'],\n",
    "    scale=10,\n",
    "    geometries=True  # preserve geometry if needed\n",
    ")\n",
    "\n",
    "# Combine pseudo-labelled points with the rest\n",
    "sampled = sampled.merge(sampledchange23)\n",
    "\n",
    "# Split into training/testing (70/30 split)\n",
    "withRandom = sampled.randomColumn('random')\n",
    "trainData = withRandom.filter(ee.Filter.lt('random', 0.7))\n",
    "testData = withRandom.filter(ee.Filter.gte('random', 0.7))\n",
    "\n",
    "# Train Random Forest classifier\n",
    "classifier = ee.Classifier.smileRandomForest(numberOfTrees=10).train(\n",
    "    features=trainData,\n",
    "    classProperty=class_property,\n",
    "    inputProperties=bands\n",
    ")\n",
    "\n",
    "# Evaluate accuracy on test set\n",
    "test = testData.classify(classifier)\n",
    "\n",
    "conf_matrix = test.errorMatrix('2023_class', 'classification')\n",
    "print('Confusion Matrix:\\n', conf_matrix.getInfo())\n",
    "print('Overall Accuracy:', conf_matrix.accuracy().getInfo())\n",
    "print('Kappa:', conf_matrix.kappa().getInfo())\n"
   ]
  }
 ],
 "metadata": {
  "kernelspec": {
   "display_name": "erthy",
   "language": "python",
   "name": "python3"
  },
  "language_info": {
   "codemirror_mode": {
    "name": "ipython",
    "version": 3
   },
   "file_extension": ".py",
   "mimetype": "text/x-python",
   "name": "python",
   "nbconvert_exporter": "python",
   "pygments_lexer": "ipython3",
   "version": "3.12.7"
  },
  "vincent": {
   "sessionId": "9ca611947c77ed6a1faffa7a_2025-07-08T15-01-45-974Z"
  }
 },
 "nbformat": 4,
 "nbformat_minor": 5
}
