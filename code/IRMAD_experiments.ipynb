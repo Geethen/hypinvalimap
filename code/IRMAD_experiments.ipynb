{
 "cells": [
  {
   "cell_type": "code",
   "execution_count": 5,
   "metadata": {
    "cellUniqueIdByVincent": "de187"
   },
   "outputs": [],
   "source": [
    "import ee\n",
    "\n",
    "ee.Authenticate(auth_mode='notebook')\n",
    "ee.Initialize(project = 'ee-gsingh')\n",
    "\n",
    "from geeml.utils import eeprint"
   ]
  },
  {
   "cell_type": "code",
   "execution_count": 6,
   "metadata": {
    "cellUniqueIdByVincent": "c76c0"
   },
   "outputs": [],
   "source": [
    "# Enter your own export to assets path name here -----------\n",
    "EXPORT_PATH = 'projects/ee-gsingh/assets/postdoc/'\n",
    "# ------------------------------------------------"
   ]
  },
  {
   "cell_type": "code",
   "execution_count": 7,
   "metadata": {
    "cellUniqueIdByVincent": "aa289"
   },
   "outputs": [],
   "source": [
    "# Import other packages used in the tutorial\n",
    "%matplotlib inline\n",
    "import geemap\n",
    "import numpy as np\n",
    "import random, time\n",
    "import matplotlib.pyplot as plt\n",
    "from scipy.stats import norm, chi2\n",
    "\n",
    "from pprint import pprint "
   ]
  },
  {
   "cell_type": "code",
   "execution_count": 8,
   "metadata": {
    "cellUniqueIdByVincent": "ddef5"
   },
   "outputs": [
    {
     "data": {
      "text/html": [
       "\n",
       "            <style>\n",
       "                .geemap-dark {\n",
       "                    --jp-widgets-color: white;\n",
       "                    --jp-widgets-label-color: white;\n",
       "                    --jp-ui-font-color1: white;\n",
       "                    --jp-layout-color2: #454545;\n",
       "                    background-color: #383838;\n",
       "                }\n",
       "\n",
       "                .geemap-dark .jupyter-button {\n",
       "                    --jp-layout-color3: #383838;\n",
       "                }\n",
       "\n",
       "                .geemap-colab {\n",
       "                    background-color: var(--colab-primary-surface-color, white);\n",
       "                }\n",
       "\n",
       "                .geemap-colab .jupyter-button {\n",
       "                    --jp-layout-color3: var(--colab-primary-surface-color, white);\n",
       "                }\n",
       "            </style>\n",
       "            "
      ],
      "text/plain": [
       "<IPython.core.display.HTML object>"
      ]
     },
     "metadata": {},
     "output_type": "display_data"
    }
   ],
   "source": [
    "#@title Routines from Part 1\n",
    "\n",
    "def trunc(values, dec = 3):\n",
    "    '''Truncate a 1-D array to dec decimal places.'''\n",
    "    return np.trunc(values*10**dec)/(10**dec)\n",
    "\n",
    "# Display an image in a one percent linear stretch.\n",
    "def display_ls(image, map, name, centered = False):\n",
    "    bns = image.bandNames().length().getInfo()\n",
    "    if bns == 3:\n",
    "        image = image.rename('B1', 'B2', 'B3')\n",
    "        pb_99 = ['B1_p99', 'B2_p99', 'B3_p99']\n",
    "        pb_1 = ['B1_p1', 'B2_p1', 'B3_p1']\n",
    "        img = ee.Image.rgb(image.select('B1'), image.select('B2'), image.select('B3'))\n",
    "    else:\n",
    "        image = image.rename('B1')\n",
    "        pb_99 = ['B1_p99']\n",
    "        pb_1 = ['B1_p1']\n",
    "        img = image.select('B1')\n",
    "    percentiles = image.reduceRegion(ee.Reducer.percentile([1, 99]), maxPixels=1e11)\n",
    "    mx = percentiles.values(pb_99)\n",
    "    if centered:\n",
    "        mn = ee.Array(mx).multiply(-1).toList()\n",
    "    else:\n",
    "        mn = percentiles.values(pb_1)\n",
    "    map.addLayer(img, {'min': mn, 'max': mx}, name)\n",
    "\n",
    "def collect(aoi, t1a ,t1b, t2a, t2b):\n",
    "    try:\n",
    "        im1 = ee.Image( ee.ImageCollection(\"COPERNICUS/S2_HARMONIZED\")\n",
    "                               .filterBounds(aoi)\n",
    "                               .filterDate(ee.Date(t1a), ee.Date(t1b))\n",
    "                               .filter(ee.Filter.contains(rightValue=aoi,leftField='.geo'))\n",
    "                               .sort('CLOUDY_PIXEL_PERCENTAGE')\n",
    "                               .first()\n",
    "                               .clip(aoi) )\n",
    "        im2 = ee.Image( ee.ImageCollection(\"COPERNICUS/S2_HARMONIZED\")\n",
    "                               .filterBounds(aoi)\n",
    "                               .filterDate(ee.Date(t2a), ee.Date(t2b))\n",
    "                               .filter(ee.Filter.contains(rightValue=aoi,leftField='.geo'))\n",
    "                               .sort('CLOUDY_PIXEL_PERCENTAGE')\n",
    "                               .first()\n",
    "                               .clip(aoi) )\n",
    "        timestamp = im1.date().format('E MMM dd HH:mm:ss YYYY')\n",
    "        print(timestamp.getInfo())\n",
    "        timestamp = im2.date().format('E MMM dd HH:mm:ss YYYY')\n",
    "        print(timestamp.getInfo())\n",
    "        return (im1, im2)\n",
    "    except Exception as e:\n",
    "        print('Error: %s'%e)\n",
    "\n",
    "def covarw(image, weights=None, scale=20, maxPixels=1e10):\n",
    "    '''Return the centered image and its weighted covariance matrix.'''\n",
    "    try:\n",
    "        geometry = image.geometry()\n",
    "        bandNames = image.bandNames()\n",
    "        N = bandNames.length()\n",
    "        if weights is None:\n",
    "            weights = image.constant(1)\n",
    "        weightsImage = image.multiply(ee.Image.constant(0)).add(weights)\n",
    "        means = image.addBands(weightsImage) \\\n",
    "                    .reduceRegion(ee.Reducer.mean().repeat(N).splitWeights(),\n",
    "                                scale = scale,\n",
    "                                maxPixels = maxPixels) \\\n",
    "                    .toArray() \\\n",
    "                    .project([1])\n",
    "        centered = image.toArray().subtract(means)\n",
    "        B1 = centered.bandNames().get(0)\n",
    "        b1 = weights.bandNames().get(0)\n",
    "        nPixels = ee.Number(centered.reduceRegion(ee.Reducer.count(),\n",
    "                                                scale=scale,\n",
    "                                                maxPixels=maxPixels).get(B1))\n",
    "        sumWeights = ee.Number(weights.reduceRegion(ee.Reducer.sum(),\n",
    "                                                    geometry=geometry,\n",
    "                                                    scale=scale,\n",
    "                                                    maxPixels=maxPixels).get(b1))\n",
    "        covw = centered.multiply(weights.sqrt()) \\\n",
    "                    .toArray() \\\n",
    "                    .reduceRegion(ee.Reducer.centeredCovariance(),\n",
    "                                    geometry=geometry,\n",
    "                                    scale=scale,\n",
    "                                    maxPixels=maxPixels) \\\n",
    "                    .get('array')\n",
    "        covw = ee.Array(covw).multiply(nPixels).divide(sumWeights)\n",
    "        return (centered.arrayFlatten([bandNames]), covw)\n",
    "    except Exception as e:\n",
    "        print('Error: %s'%e)\n",
    "\n",
    "def corr(cov):\n",
    "    '''Transfrom covariance matrix to correlation matrix.'''\n",
    "    # Diagonal matrix of inverse sigmas.\n",
    "    sInv = cov.matrixDiagonal().sqrt().matrixToDiag().matrixInverse()\n",
    "    # Transform.\n",
    "    corr = sInv.matrixMultiply(cov).matrixMultiply(sInv).getInfo()\n",
    "    # Truncate.\n",
    "    return [list(map(trunc, corr[i])) for i in range(len(corr))]\n",
    "\n",
    "def geneiv(C,B):\n",
    "    '''Return the eignvalues and eigenvectors of the generalized eigenproblem\n",
    "       C*X = lambda*B*X'''\n",
    "    try:\n",
    "        C = ee.Array(C)\n",
    "        B = ee.Array(B)\n",
    "        #  Li = choldc(B)^-1\n",
    "        Li = ee.Array(B.matrixCholeskyDecomposition().get('L')).matrixInverse()\n",
    "        # Solve symmetric, ordinary eigenproblem Li*C*Li^T*x = lambda*x\n",
    "        Xa = Li.matrixMultiply(C) \\\n",
    "            .matrixMultiply(Li.matrixTranspose()) \\\n",
    "            .eigen()\n",
    "        # Eigenvalues as a row vector.\n",
    "        lambdas = Xa.slice(1, 0, 1).matrixTranspose()\n",
    "        # Eigenvectors as columns.\n",
    "        X = Xa.slice(1, 1).matrixTranspose()\n",
    "        # Generalized eigenvectors as columns, Li^T*X\n",
    "        eigenvecs = Li.matrixTranspose().matrixMultiply(X)\n",
    "        return (lambdas, eigenvecs)\n",
    "    except Exception as e:\n",
    "        print('Error: %s'%e)\n",
    "\n",
    "def mad_run(image1, image2, scale=20):\n",
    "    '''The MAD transformation of two multiband images.'''\n",
    "    try:\n",
    "        image = image1.addBands(image2)\n",
    "        nBands = image.bandNames().length().divide(2)\n",
    "        centeredImage,covarArray = covarw(image,scale=scale)\n",
    "        bNames = centeredImage.bandNames()\n",
    "        bNames1 = bNames.slice(0,nBands)\n",
    "        bNames2 = bNames.slice(nBands)\n",
    "        centeredImage1 = centeredImage.select(bNames1)\n",
    "        centeredImage2 = centeredImage.select(bNames2)\n",
    "        s11 = covarArray.slice(0, 0, nBands).slice(1, 0, nBands)\n",
    "        s22 = covarArray.slice(0, nBands).slice(1, nBands)\n",
    "        s12 = covarArray.slice(0, 0, nBands).slice(1, nBands)\n",
    "        s21 = covarArray.slice(0, nBands).slice(1, 0, nBands)\n",
    "        c1 = s12.matrixMultiply(s22.matrixInverse()).matrixMultiply(s21)\n",
    "        b1 = s11\n",
    "        c2 = s21.matrixMultiply(s11.matrixInverse()).matrixMultiply(s12)\n",
    "        b2 = s22\n",
    "        # Solution of generalized eigenproblems.\n",
    "        lambdas, A = geneiv(c1, b1)\n",
    "        _,       B = geneiv(c2, b2)\n",
    "        rhos = lambdas.sqrt().project(ee.List([1]))\n",
    "        # MAD variances.\n",
    "        sigma2s = rhos.subtract(1).multiply(-2).toList()\n",
    "        sigma2s = ee.Image.constant(sigma2s)\n",
    "        # Ensure sum of positive correlations between X and U is positive.\n",
    "        tmp = s11.matrixDiagonal().sqrt()\n",
    "        ones = tmp.multiply(0).add(1)\n",
    "        tmp = ones.divide(tmp).matrixToDiag()\n",
    "        s = tmp.matrixMultiply(s11).matrixMultiply(A).reduce(ee.Reducer.sum(),[0]).transpose()\n",
    "        A = A.matrixMultiply(s.divide(s.abs()).matrixToDiag())\n",
    "        # Ensure positive correlation.\n",
    "        tmp = A.transpose().matrixMultiply(s12).matrixMultiply(B).matrixDiagonal()\n",
    "        tmp = tmp.divide(tmp.abs()).matrixToDiag()\n",
    "        B = B.matrixMultiply(tmp)\n",
    "        # Canonical and MAD variates as images.\n",
    "        centeredImage1Array = centeredImage1.toArray().toArray(1)\n",
    "        centeredImage2Array = centeredImage2.toArray().toArray(1)\n",
    "        U = ee.Image(A.transpose()).matrixMultiply(centeredImage1Array) \\\n",
    "                    .arrayProject([0]) \\\n",
    "                    .arrayFlatten([bNames2])\n",
    "        V = ee.Image(B.transpose()).matrixMultiply(centeredImage2Array) \\\n",
    "                    .arrayProject([0]) \\\n",
    "                    .arrayFlatten([bNames2])\n",
    "        MAD = U.subtract(V)\n",
    "        # Chi-square image.\n",
    "        Z = MAD.pow(2) \\\n",
    "               .divide(sigma2s) \\\n",
    "               .reduce(ee.Reducer.sum())\n",
    "        return (U, V, MAD, Z)\n",
    "    except Exception as e:\n",
    "        print('Error: %s'%e)"
   ]
  },
  {
   "cell_type": "code",
   "execution_count": 9,
   "metadata": {
    "cellUniqueIdByVincent": "4e8fb"
   },
   "outputs": [
    {
     "data": {
      "text/html": [
       "\n",
       "            <style>\n",
       "                .geemap-dark {\n",
       "                    --jp-widgets-color: white;\n",
       "                    --jp-widgets-label-color: white;\n",
       "                    --jp-ui-font-color1: white;\n",
       "                    --jp-layout-color2: #454545;\n",
       "                    background-color: #383838;\n",
       "                }\n",
       "\n",
       "                .geemap-dark .jupyter-button {\n",
       "                    --jp-layout-color3: #383838;\n",
       "                }\n",
       "\n",
       "                .geemap-colab {\n",
       "                    background-color: var(--colab-primary-surface-color, white);\n",
       "                }\n",
       "\n",
       "                .geemap-colab .jupyter-button {\n",
       "                    --jp-layout-color3: var(--colab-primary-surface-color, white);\n",
       "                }\n",
       "            </style>\n",
       "            "
      ],
      "text/plain": [
       "<IPython.core.display.HTML object>"
      ]
     },
     "metadata": {},
     "output_type": "display_data"
    }
   ],
   "source": [
    "#@title The iMAD code\n",
    "def chi2cdf(Z,df):\n",
    "    '''Chi-square cumulative distribution function with df degrees of freedom.'''\n",
    "    return ee.Image(Z.divide(2)).gammainc(ee.Number(df).divide(2))\n",
    "\n",
    "def imad(current,prev):\n",
    "    '''Iterator function for iMAD.'''\n",
    "    done =  ee.Number(ee.Dictionary(prev).get('done'))\n",
    "    return ee.Algorithms.If(done, prev, imad1(current, prev))\n",
    "\n",
    "def imad1(current,prev):\n",
    "    '''Iteratively re-weighted MAD.'''\n",
    "    image = ee.Image(ee.Dictionary(prev).get('image'))\n",
    "    Z = ee.Image(ee.Dictionary(prev).get('Z'))\n",
    "    allrhos = ee.List(ee.Dictionary(prev).get('allrhos'))\n",
    "    nBands = image.bandNames().length().divide(2)\n",
    "    weights = chi2cdf(Z,nBands).subtract(1).multiply(-1)\n",
    "    scale = ee.Dictionary(prev).getNumber('scale')\n",
    "    niter = ee.Dictionary(prev).getNumber('niter')\n",
    "    # Weighted stacked image and weighted covariance matrix.\n",
    "    centeredImage, covarArray = covarw(image, weights, scale)\n",
    "    bNames = centeredImage.bandNames()\n",
    "    bNames1 = bNames.slice(0, nBands)\n",
    "    bNames2 = bNames.slice(nBands)\n",
    "    centeredImage1 = centeredImage.select(bNames1)\n",
    "    centeredImage2 = centeredImage.select(bNames2)\n",
    "    s11 = covarArray.slice(0, 0, nBands).slice(1, 0, nBands)\n",
    "    s22 = covarArray.slice(0, nBands).slice(1, nBands)\n",
    "    s12 = covarArray.slice(0, 0, nBands).slice(1, nBands)\n",
    "    s21 = covarArray.slice(0, nBands).slice(1, 0, nBands)\n",
    "    c1 = s12.matrixMultiply(s22.matrixInverse()).matrixMultiply(s21)\n",
    "    b1 = s11\n",
    "    c2 = s21.matrixMultiply(s11.matrixInverse()).matrixMultiply(s12)\n",
    "    b2 = s22\n",
    "    # Solution of generalized eigenproblems.\n",
    "    lambdas, A = geneiv(c1, b1)\n",
    "    _, B       = geneiv(c2, b2)\n",
    "    rhos = lambdas.sqrt().project(ee.List([1]))\n",
    "    # Test for convergence.\n",
    "    lastrhos = ee.Array(allrhos.get(-1))\n",
    "    done = rhos.subtract(lastrhos) \\\n",
    "               .abs() \\\n",
    "               .reduce(ee.Reducer.max(), ee.List([0])) \\\n",
    "               .lt(ee.Number(0.0001)) \\\n",
    "               .toList() \\\n",
    "               .get(0)\n",
    "    allrhos = allrhos.cat([rhos.toList()])\n",
    "    # MAD variances.\n",
    "    sigma2s = rhos.subtract(1).multiply(-2).toList()\n",
    "    sigma2s = ee.Image.constant(sigma2s)\n",
    "    # Ensure sum of positive correlations between X and U is positive.\n",
    "    tmp = s11.matrixDiagonal().sqrt()\n",
    "    ones = tmp.multiply(0).add(1)\n",
    "    tmp = ones.divide(tmp).matrixToDiag()\n",
    "    s = tmp.matrixMultiply(s11).matrixMultiply(A).reduce(ee.Reducer.sum(), [0]).transpose()\n",
    "    A = A.matrixMultiply(s.divide(s.abs()).matrixToDiag())\n",
    "    # Ensure positive correlation.\n",
    "    tmp = A.transpose().matrixMultiply(s12).matrixMultiply(B).matrixDiagonal()\n",
    "    tmp = tmp.divide(tmp.abs()).matrixToDiag()\n",
    "    B = B.matrixMultiply(tmp)\n",
    "    # Canonical and MAD variates.\n",
    "    centeredImage1Array = centeredImage1.toArray().toArray(1)\n",
    "    centeredImage2Array = centeredImage2.toArray().toArray(1)\n",
    "    U = ee.Image(A.transpose()).matrixMultiply(centeredImage1Array) \\\n",
    "                   .arrayProject([0]) \\\n",
    "                   .arrayFlatten([bNames1])\n",
    "    V = ee.Image(B.transpose()).matrixMultiply(centeredImage2Array) \\\n",
    "                   .arrayProject([0]) \\\n",
    "                   .arrayFlatten([bNames2])\n",
    "    iMAD = U.subtract(V)\n",
    "    # Chi-square image.\n",
    "    Z = iMAD.pow(2) \\\n",
    "              .divide(sigma2s) \\\n",
    "              .reduce(ee.Reducer.sum())\n",
    "    return ee.Dictionary({'done': done, 'scale': scale, 'niter': niter.add(1),\n",
    "                          'image': image, 'allrhos': allrhos, 'Z': Z, 'iMAD': iMAD})"
   ]
  },
  {
   "cell_type": "code",
   "execution_count": 10,
   "metadata": {
    "cellUniqueIdByVincent": "ff1ec"
   },
   "outputs": [
    {
     "data": {
      "text/html": [
       "\n",
       "            <style>\n",
       "                .geemap-dark {\n",
       "                    --jp-widgets-color: white;\n",
       "                    --jp-widgets-label-color: white;\n",
       "                    --jp-ui-font-color1: white;\n",
       "                    --jp-layout-color2: #454545;\n",
       "                    background-color: #383838;\n",
       "                }\n",
       "\n",
       "                .geemap-dark .jupyter-button {\n",
       "                    --jp-layout-color3: #383838;\n",
       "                }\n",
       "\n",
       "                .geemap-colab {\n",
       "                    background-color: var(--colab-primary-surface-color, white);\n",
       "                }\n",
       "\n",
       "                .geemap-colab .jupyter-button {\n",
       "                    --jp-layout-color3: var(--colab-primary-surface-color, white);\n",
       "                }\n",
       "            </style>\n",
       "            "
      ],
      "text/plain": [
       "<IPython.core.display.HTML object>"
      ]
     },
     "metadata": {},
     "output_type": "display_data"
    }
   ],
   "source": [
    "#@title Run iMAD algorithm as export task\n",
    "def run_imad(aoi, image1, image2, assetId, scale=20, maxiter=100):\n",
    "    try:\n",
    "        N = image1.bandNames().length().getInfo()\n",
    "        imadnames = ['iMAD'+str(i+1) for i in range(N)]\n",
    "        imadnames.append('Z')\n",
    "        # Maximum iterations.\n",
    "        inputlist = ee.List.sequence(1, maxiter)\n",
    "        first = ee.Dictionary({'done':0,\n",
    "                            'scale': scale,\n",
    "                            'niter': ee.Number(0),\n",
    "                            'image': image1.addBands(image2),\n",
    "                            'allrhos': [ee.List.sequence(1, N)],\n",
    "                            'Z': ee.Image.constant(0),\n",
    "                            'iMAD': ee.Image.constant(0)})\n",
    "        # Iteration.\n",
    "        result = ee.Dictionary(inputlist.iterate(imad, first))\n",
    "        # Retrieve results.\n",
    "        iMAD = ee.Image(result.get('iMAD')).clip(aoi)\n",
    "        rhos = ee.String.encodeJSON(ee.List(result.get('allrhos')).get(-1))\n",
    "        Z = ee.Image(result.get('Z'))\n",
    "        niter = result.getNumber('niter')\n",
    "        # Export iMAD and Z as a single image, including rhos and number of iterations in properties.\n",
    "        iMAD_export = ee.Image.cat(iMAD, Z).rename(imadnames).set('rhos', rhos, 'niter', niter)\n",
    "        assexport = ee.batch.Export.image.toAsset(iMAD_export,\n",
    "                        description='assetExportTask',\n",
    "                        assetId=assetId, scale=scale, maxPixels=1e10)\n",
    "        assexport.start()\n",
    "        print('Exporting iMAD to %s\\n task id: %s'%(assetId, str(assexport.id)))\n",
    "    except Exception as e:\n",
    "        print('Error: %s'%e)"
   ]
  },
  {
   "cell_type": "code",
   "execution_count": 11,
   "metadata": {
    "cellUniqueIdByVincent": "65d19"
   },
   "outputs": [
    {
     "data": {
      "text/html": [
       "\n",
       "            <style>\n",
       "                .geemap-dark {\n",
       "                    --jp-widgets-color: white;\n",
       "                    --jp-widgets-label-color: white;\n",
       "                    --jp-ui-font-color1: white;\n",
       "                    --jp-layout-color2: #454545;\n",
       "                    background-color: #383838;\n",
       "                }\n",
       "\n",
       "                .geemap-dark .jupyter-button {\n",
       "                    --jp-layout-color3: #383838;\n",
       "                }\n",
       "\n",
       "                .geemap-colab {\n",
       "                    background-color: var(--colab-primary-surface-color, white);\n",
       "                }\n",
       "\n",
       "                .geemap-colab .jupyter-button {\n",
       "                    --jp-layout-color3: var(--colab-primary-surface-color, white);\n",
       "                }\n",
       "            </style>\n",
       "            "
      ],
      "text/plain": [
       "<IPython.core.display.HTML object>"
      ]
     },
     "metadata": {},
     "output_type": "display_data"
    }
   ],
   "source": [
    "def createComposite(imageCollection: str, points: ee.Geometry, year: int, period:str):\n",
    "    \"\"\"Creates a composite image of a point over a given year (uses 1 month period for 2018 and 2 months for 2023).\n",
    "    \n",
    "    Args:\n",
    "        imageCollection (str): The collection to use for the composite.\n",
    "        point (ee.Geometry): The point to create the composite for.\n",
    "        year (int): The year to create the composite for.\n",
    "        period (str): Either values of first (Sept-09), second(oct-Nov) or both. \n",
    "    \n",
    "    Returns:\n",
    "        ee.Image: The composite image.\n",
    "    \"\"\"\n",
    "\n",
    "    # Get the image collection\n",
    "    ic = ee.ImageCollection(imageCollection)\n",
    "\n",
    "    if period == 'first':\n",
    "        startDate = f'{year}-09-01'\n",
    "        endDate = f'{year}-10-01'\n",
    "    elif period == 'second':\n",
    "        startDate = f'{year}-10-01'\n",
    "        endDate = f'{year}-12-01'\n",
    "        \n",
    "\n",
    "    # Mask clouds using cloud score+\n",
    "    csPlus = ee.ImageCollection('GOOGLE/CLOUD_SCORE_PLUS/V1/S2_HARMONIZED')\n",
    "\n",
    "    QA_BAND = 'cs_cdf'\n",
    "    CLEAR_THRESHOLD = 0.65\n",
    "    \n",
    "    # Filter the collection to the start and end dates, and point\n",
    "    medianImage = ic.filterDate(startDate, endDate).filterBounds(points).linkCollection(csPlus, [QA_BAND])\\\n",
    "    .map(lambda img: img.updateMask(img.select(QA_BAND).gte(CLEAR_THRESHOLD)))\\\n",
    "    .median()\n",
    "    \n",
    "    return medianImage.divide(10000).select([\"B2\",\"B3\",\"B4\",\"B5\",\"B6\",\"B7\",\"B8\",\"B11\",\"B12\"])"
   ]
  },
  {
   "cell_type": "code",
   "execution_count": 12,
   "id": "34a4199a",
   "metadata": {
    "cellUniqueIdByVincent": "3badb"
   },
   "outputs": [
    {
     "data": {
      "text/html": [
       "\n",
       "            <style>\n",
       "                .geemap-dark {\n",
       "                    --jp-widgets-color: white;\n",
       "                    --jp-widgets-label-color: white;\n",
       "                    --jp-ui-font-color1: white;\n",
       "                    --jp-layout-color2: #454545;\n",
       "                    background-color: #383838;\n",
       "                }\n",
       "\n",
       "                .geemap-dark .jupyter-button {\n",
       "                    --jp-layout-color3: #383838;\n",
       "                }\n",
       "\n",
       "                .geemap-colab {\n",
       "                    background-color: var(--colab-primary-surface-color, white);\n",
       "                }\n",
       "\n",
       "                .geemap-colab .jupyter-button {\n",
       "                    --jp-layout-color3: var(--colab-primary-surface-color, white);\n",
       "                }\n",
       "            </style>\n",
       "            "
      ],
      "text/plain": [
       "<IPython.core.display.HTML object>"
      ]
     },
     "metadata": {},
     "output_type": "display_data"
    },
    {
     "data": {
      "text/html": [
       "<div id=\"e41198ef-f4d5-4486-9f01-d5dbe321af8e\" style=\"height: auto; width:100%;\"></div>"
      ],
      "text/plain": [
       "<IPython.core.display.HTML object>"
      ]
     },
     "metadata": {},
     "output_type": "display_data"
    },
    {
     "data": {
      "text/html": [
       "\n",
       "        <script src=\"/static/components/requirejs/require.js\"></script> <!-- Needed in Colab -->\n",
       "        <script>\n",
       "            require([\"https://rawgit.com/caldwell/renderjson/master/renderjson.js\"], function() {\n",
       "              renderjson.set_show_to_level(1)\n",
       "              document.getElementById('e41198ef-f4d5-4486-9f01-d5dbe321af8e').appendChild(renderjson({\"type\": \"FeatureCollection\", \"columns\": {\"2018_2023\": \"Float\", \"2023_class\": \"Long\", \"change\": \"Long\", \"class\": \"Long\", \"fid\": \"Long\", \"group\": \"Long\", \"layer\": \"String\", \"notes\": \"String\", \"path\": \"String\", \"system:index\": \"String\"}, \"version\": 1750928796749160.0, \"id\": \"projects/ee-geethensingh/assets/postdoc/aliens_sep2018_bioscape2023\", \"properties\": {\"system:asset_size\": 84232}, \"features\": [{\"type\": \"Feature\", \"geometry\": {\"type\": \"Point\", \"coordinates\": [19.07260971703242, -33.805537565931296]}, \"id\": \"000000000000000003fb\", \"properties\": {\"2018_2023\": 0.006702983744329, \"2023_class\": \"None\", \"change\": 0, \"class\": 0, \"fid\": 1028, \"group\": 0, \"layer\": \"valid\", \"notes\": \"\", \"path\": \"/Users/glennmoncrieff/Documents/qgis/valid.gpkg|layername=valid\"}}, {\"type\": \"Feature\", \"geometry\": {\"type\": \"Point\", \"coordinates\": [19.077947260993394, -33.80792318499489]}, \"id\": \"000000000000000003fc\", \"properties\": {\"2018_2023\": 0.012547892265916, \"2023_class\": \"None\", \"change\": 0, \"class\": 0, \"fid\": 1029, \"group\": 0, \"layer\": \"valid\", \"notes\": \"chngg rb\", \"path\": \"/Users/glennmoncrieff/Documents/qgis/valid.gpkg|layername=valid\"}}, {\"type\": \"Feature\", \"geometry\": {\"type\": \"Point\", \"coordinates\": [19.078205888854495, -33.80820856746231]}, \"id\": \"000000000000000003fd\", \"properties\": {\"2018_2023\": 0.021821219977462, \"2023_class\": \"None\", \"change\": 0, \"class\": 0, \"fid\": 1030, \"group\": 0, \"layer\": \"valid\", \"notes\": \"chngg rb\", \"path\": \"/Users/glennmoncrieff/Documents/qgis/valid.gpkg|layername=valid\"}}, {\"type\": \"Feature\", \"geometry\": {\"type\": \"Point\", \"coordinates\": [19.14952475110331, -33.73579722545541]}, \"id\": \"0000000000000000045a\", \"properties\": {\"2018_2023\": 0.021899021606995, \"2023_class\": \"None\", \"change\": 0, \"class\": 0, \"fid\": 1125, \"group\": 0, \"layer\": \"valid\", \"notes\": \"\", \"path\": \"/Users/glennmoncrieff/Documents/qgis/valid.gpkg|layername=valid\"}}, {\"type\": \"Feature\", \"geometry\": {\"type\": \"Point\", \"coordinates\": [19.266571694655205, -33.752777482266936]}, \"id\": \"00000000000000000468\", \"properties\": {\"2018_2023\": 0.003017588595706, \"2023_class\": \"None\", \"change\": 0, \"class\": 0, \"fid\": 1139, \"group\": 0, \"layer\": \"valid\", \"notes\": \"\", \"path\": \"/Users/glennmoncrieff/Documents/qgis/valid.gpkg|layername=valid\"}}]}))\n",
       "            });\n",
       "        </script>\n",
       "    "
      ],
      "text/plain": [
       "<IPython.core.display.HTML object>"
      ]
     },
     "metadata": {},
     "output_type": "display_data"
    },
    {
     "data": {
      "text/html": [
       "<div id=\"98b18ee8-0793-43e9-812c-7d4e984962c3\" style=\"height: auto; width:100%;\"></div>"
      ],
      "text/plain": [
       "<IPython.core.display.HTML object>"
      ]
     },
     "metadata": {},
     "output_type": "display_data"
    },
    {
     "data": {
      "text/html": [
       "\n",
       "        <script src=\"/static/components/requirejs/require.js\"></script> <!-- Needed in Colab -->\n",
       "        <script>\n",
       "            require([\"https://rawgit.com/caldwell/renderjson/master/renderjson.js\"], function() {\n",
       "              renderjson.set_show_to_level(1)\n",
       "              document.getElementById('98b18ee8-0793-43e9-812c-7d4e984962c3').appendChild(renderjson(['B2', 'B3', 'B4', 'B5', 'B6', 'B7', 'B8', 'B11', 'B12']))\n",
       "            });\n",
       "        </script>\n",
       "    "
      ],
      "text/plain": [
       "<IPython.core.display.HTML object>"
      ]
     },
     "metadata": {},
     "output_type": "display_data"
    }
   ],
   "source": [
    "pts = ee.FeatureCollection('projects/ee-geethensingh/assets/postdoc/aliens_sep2018_bioscape2023')\n",
    "eeprint(pts.limit(5))\n",
    "\n",
    "aoi = pts.geometry().bounds()\n",
    "\n",
    "composite2018 = createComposite(imageCollection= ee.ImageCollection(\"COPERNICUS/S2_HARMONIZED\"),\n",
    "                points=pts.geometry(),\n",
    "                year=2018,\n",
    "                period='first').select('B.*')\n",
    "\n",
    "# Create a composite for 2023\n",
    "composite2023 = createComposite(imageCollection= ee.ImageCollection(\"COPERNICUS/S2_HARMONIZED\"),\n",
    "                points=pts.geometry(),\n",
    "                year=2023,\n",
    "                period='second').select('B.*')\n",
    "\n",
    "eeprint(composite2018.bandNames())\n"
   ]
  },
  {
   "cell_type": "code",
   "execution_count": 18,
   "metadata": {
    "cellUniqueIdByVincent": "5569d"
   },
   "outputs": [
    {
     "data": {
      "text/html": [
       "\n",
       "            <style>\n",
       "                .geemap-dark {\n",
       "                    --jp-widgets-color: white;\n",
       "                    --jp-widgets-label-color: white;\n",
       "                    --jp-ui-font-color1: white;\n",
       "                    --jp-layout-color2: #454545;\n",
       "                    background-color: #383838;\n",
       "                }\n",
       "\n",
       "                .geemap-dark .jupyter-button {\n",
       "                    --jp-layout-color3: #383838;\n",
       "                }\n",
       "\n",
       "                .geemap-colab {\n",
       "                    background-color: var(--colab-primary-surface-color, white);\n",
       "                }\n",
       "\n",
       "                .geemap-colab .jupyter-button {\n",
       "                    --jp-layout-color3: var(--colab-primary-surface-color, white);\n",
       "                }\n",
       "            </style>\n",
       "            "
      ],
      "text/plain": [
       "<IPython.core.display.HTML object>"
      ]
     },
     "metadata": {},
     "output_type": "display_data"
    },
    {
     "data": {
      "application/vnd.jupyter.widget-view+json": {
       "model_id": "38a11655b1da4031a00fe6ea5f0360e6",
       "version_major": 2,
       "version_minor": 0
      },
      "text/plain": [
       "Map(center=[-33.86454943040867, 19.250142136823868], controls=(WidgetControl(options=['position', 'transparent…"
      ]
     },
     "execution_count": 18,
     "metadata": {},
     "output_type": "execute_result"
    }
   ],
   "source": [
    "Map = geemap.Map()\n",
    "Map.addLayer(aoi, {}, 'Area of Interest')\n",
    "Map.addLayer(composite2018, {'bands':['B4', 'B3', 'B2'],'min': 0, 'max': 0.3}, 'Composite 2018')\n",
    "Map.addLayer(composite2023, {'bands':['B4', 'B3', 'B2'],'min': 0, 'max': 0.3}, 'Composite 2023')\n",
    "Map.centerObject(aoi, 10)\n",
    "Map"
   ]
  },
  {
   "cell_type": "code",
   "execution_count": 23,
   "metadata": {
    "cellUniqueIdByVincent": "8802f"
   },
   "outputs": [
    {
     "data": {
      "text/html": [
       "\n",
       "            <style>\n",
       "                .geemap-dark {\n",
       "                    --jp-widgets-color: white;\n",
       "                    --jp-widgets-label-color: white;\n",
       "                    --jp-ui-font-color1: white;\n",
       "                    --jp-layout-color2: #454545;\n",
       "                    background-color: #383838;\n",
       "                }\n",
       "\n",
       "                .geemap-dark .jupyter-button {\n",
       "                    --jp-layout-color3: #383838;\n",
       "                }\n",
       "\n",
       "                .geemap-colab {\n",
       "                    background-color: var(--colab-primary-surface-color, white);\n",
       "                }\n",
       "\n",
       "                .geemap-colab .jupyter-button {\n",
       "                    --jp-layout-color3: var(--colab-primary-surface-color, white);\n",
       "                }\n",
       "            </style>\n",
       "            "
      ],
      "text/plain": [
       "<IPython.core.display.HTML object>"
      ]
     },
     "metadata": {},
     "output_type": "display_data"
    },
    {
     "name": "stdout",
     "output_type": "stream",
     "text": [
      "Exporting iMAD to projects/ee-gsingh/assets/postdoc/WC_2018_2023_imad\n",
      " task id: SPO4KKFAWSRYRO7XUP4WIUGI\n"
     ]
    }
   ],
   "source": [
    "asset_path = f'{EXPORT_PATH}WC_2018_2023_imad'\n",
    "bands = [\"B2\",\"B3\",\"B4\",\"B5\",\"B6\",\"B7\",\"B8\",\"B11\",\"B12\"]\n",
    "run_imad(aoi, composite2018.select(bands).clip(aoi), composite2023.select(bands).clip(aoi), asset_path)"
   ]
  },
  {
   "cell_type": "code",
   "execution_count": null,
   "metadata": {
    "cellUniqueIdByVincent": "8c427"
   },
   "outputs": [],
   "source": [
    "M1 = geemap.Map()\n",
    "M1.centerObject(aoi, 11)\n",
    "display_ls(im1.select(visbands), M1, 'im1')\n",
    "display_ls(im2.select(visbands), M1, 'im2')\n",
    "display_ls(im_imad.select('iMAD1', 'iMAD2', 'iMAD3'), M1, 'iMAD123', True)\n",
    "\n",
    "M1"
   ]
  },
  {
   "cell_type": "code",
   "execution_count": 48,
   "metadata": {
    "cellUniqueIdByVincent": "4e437"
   },
   "outputs": [
    {
     "data": {
      "text/html": [
       "\n",
       "            <style>\n",
       "                .geemap-dark {\n",
       "                    --jp-widgets-color: white;\n",
       "                    --jp-widgets-label-color: white;\n",
       "                    --jp-ui-font-color1: white;\n",
       "                    --jp-layout-color2: #454545;\n",
       "                    background-color: #383838;\n",
       "                }\n",
       "\n",
       "                .geemap-dark .jupyter-button {\n",
       "                    --jp-layout-color3: #383838;\n",
       "                }\n",
       "\n",
       "                .geemap-colab {\n",
       "                    background-color: var(--colab-primary-surface-color, white);\n",
       "                }\n",
       "\n",
       "                .geemap-colab .jupyter-button {\n",
       "                    --jp-layout-color3: var(--colab-primary-surface-color, white);\n",
       "                }\n",
       "            </style>\n",
       "            "
      ],
      "text/plain": [
       "<IPython.core.display.HTML object>"
      ]
     },
     "metadata": {},
     "output_type": "display_data"
    },
    {
     "data": {
      "text/html": [
       "<div id=\"86b55222-cba8-4096-9a54-a4827f517584\" style=\"height: auto; width:100%;\"></div>"
      ],
      "text/plain": [
       "<IPython.core.display.HTML object>"
      ]
     },
     "metadata": {},
     "output_type": "display_data"
    },
    {
     "data": {
      "text/html": [
       "\n",
       "        <script src=\"/static/components/requirejs/require.js\"></script> <!-- Needed in Colab -->\n",
       "        <script>\n",
       "            require([\"https://rawgit.com/caldwell/renderjson/master/renderjson.js\"], function() {\n",
       "              renderjson.set_show_to_level(1)\n",
       "              document.getElementById('86b55222-cba8-4096-9a54-a4827f517584').appendChild(renderjson(['iMAD1', 'iMAD2', 'iMAD3', 'iMAD4', 'iMAD5', 'iMAD6', 'iMAD7', 'iMAD8', 'iMAD9', 'Z']))\n",
       "            });\n",
       "        </script>\n",
       "    "
      ],
      "text/plain": [
       "<IPython.core.display.HTML object>"
      ]
     },
     "metadata": {},
     "output_type": "display_data"
    }
   ],
   "source": [
    "image = ee.Image(\"projects/ee-gsingh/assets/postdoc/WC_2018_2023_imad\")\n",
    "eeprint(image.bandNames())"
   ]
  },
  {
   "cell_type": "code",
   "execution_count": 51,
   "metadata": {
    "cellUniqueIdByVincent": "75b8e"
   },
   "outputs": [
    {
     "data": {
      "text/html": [
       "\n",
       "            <style>\n",
       "                .geemap-dark {\n",
       "                    --jp-widgets-color: white;\n",
       "                    --jp-widgets-label-color: white;\n",
       "                    --jp-ui-font-color1: white;\n",
       "                    --jp-layout-color2: #454545;\n",
       "                    background-color: #383838;\n",
       "                }\n",
       "\n",
       "                .geemap-dark .jupyter-button {\n",
       "                    --jp-layout-color3: #383838;\n",
       "                }\n",
       "\n",
       "                .geemap-colab {\n",
       "                    background-color: var(--colab-primary-surface-color, white);\n",
       "                }\n",
       "\n",
       "                .geemap-colab .jupyter-button {\n",
       "                    --jp-layout-color3: var(--colab-primary-surface-color, white);\n",
       "                }\n",
       "            </style>\n",
       "            "
      ],
      "text/plain": [
       "<IPython.core.display.HTML object>"
      ]
     },
     "metadata": {},
     "output_type": "display_data"
    }
   ],
   "source": [
    "# Select chi square statistic band\n",
    "im_z = image.select('Z')\n",
    "# p-values image.\n",
    "pval = chi2cdf(image.select('Z'), 9).subtract(1).multiply(-1).rename('pval')\n",
    "# No-change mask (use p-values greater than 0.1).\n",
    "noChangeMask = pval.gt(0.1)"
   ]
  },
  {
   "cell_type": "code",
   "execution_count": 52,
   "metadata": {
    "cellUniqueIdByVincent": "3285c"
   },
   "outputs": [
    {
     "data": {
      "text/html": [
       "\n",
       "            <style>\n",
       "                .geemap-dark {\n",
       "                    --jp-widgets-color: white;\n",
       "                    --jp-widgets-label-color: white;\n",
       "                    --jp-ui-font-color1: white;\n",
       "                    --jp-layout-color2: #454545;\n",
       "                    background-color: #383838;\n",
       "                }\n",
       "\n",
       "                .geemap-dark .jupyter-button {\n",
       "                    --jp-layout-color3: #383838;\n",
       "                }\n",
       "\n",
       "                .geemap-colab {\n",
       "                    background-color: var(--colab-primary-surface-color, white);\n",
       "                }\n",
       "\n",
       "                .geemap-colab .jupyter-button {\n",
       "                    --jp-layout-color3: var(--colab-primary-surface-color, white);\n",
       "                }\n",
       "            </style>\n",
       "            "
      ],
      "text/plain": [
       "<IPython.core.display.HTML object>"
      ]
     },
     "metadata": {},
     "output_type": "display_data"
    },
    {
     "data": {
      "application/vnd.jupyter.widget-view+json": {
       "model_id": "42808afe036e4282920eba652480916a",
       "version_major": 2,
       "version_minor": 0
      },
      "text/plain": [
       "Map(center=[-33.8645494304087, 19.250142136824007], controls=(WidgetControl(options=['position', 'transparent_…"
      ]
     },
     "execution_count": 52,
     "metadata": {},
     "output_type": "execute_result"
    }
   ],
   "source": [
    "M1 = geemap.Map()\n",
    "M1.centerObject(aoi, 11)\n",
    "display_ls(pval, M1, 'im1')\n",
    "display_ls(noChangeMask, M1, 'im2')\n",
    "display_ls(image.select('iMAD1', 'iMAD2', 'iMAD3'), M1, 'iMAD123', True)\n",
    "M1.addLayer(composite2018, {'bands':['B4', 'B3', 'B2'],'min': 0, 'max': 0.3}, 'Composite 2018')\n",
    "M1.addLayer(composite2023, {'bands':['B4', 'B3', 'B2'],'min': 0, 'max': 0.3}, 'Composite 2023')\n",
    "M1.addLayer(im_z.lt(95.811), {}, 'chsq thresholded')\n",
    "# Style by 'change' attribute: 0 → blue, 1 → red\n",
    "styled_fc = pts.map(lambda f: f.set('style', {\n",
    "    'color': ee.Algorithms.If(f.get('change'), 'red', 'blue'),\n",
    "    'pointSize': 3,\n",
    "    'pointShape': 'circle'\n",
    "}))\n",
    "M1.addLayer(styled_fc.style(**{'styleProperty': 'style'}), {}, 'Change Points')\n",
    "M1"
   ]
  },
  {
   "cell_type": "code",
   "execution_count": 53,
   "metadata": {
    "cellUniqueIdByVincent": "10a8b"
   },
   "outputs": [
    {
     "data": {
      "text/html": [
       "\n",
       "            <style>\n",
       "                .geemap-dark {\n",
       "                    --jp-widgets-color: white;\n",
       "                    --jp-widgets-label-color: white;\n",
       "                    --jp-ui-font-color1: white;\n",
       "                    --jp-layout-color2: #454545;\n",
       "                    background-color: #383838;\n",
       "                }\n",
       "\n",
       "                .geemap-dark .jupyter-button {\n",
       "                    --jp-layout-color3: #383838;\n",
       "                }\n",
       "\n",
       "                .geemap-colab {\n",
       "                    background-color: var(--colab-primary-surface-color, white);\n",
       "                }\n",
       "\n",
       "                .geemap-colab .jupyter-button {\n",
       "                    --jp-layout-color3: var(--colab-primary-surface-color, white);\n",
       "                }\n",
       "            </style>\n",
       "            "
      ],
      "text/plain": [
       "<IPython.core.display.HTML object>"
      ]
     },
     "metadata": {},
     "output_type": "display_data"
    },
    {
     "data": {
      "application/vnd.jupyter.widget-view+json": {
       "model_id": "5a5016b9bbe243169180f6500a1747e6",
       "version_major": 2,
       "version_minor": 0
      },
      "text/plain": [
       "VBox(children=(Figure(axes=[Axis(orientation='vertical', scale=LinearScale()), Axis(scale=LinearScale())], fig…"
      ]
     },
     "metadata": {},
     "output_type": "display_data"
    }
   ],
   "source": [
    "import geemap.chart as chart\n",
    "\n",
    "my_sample = image.select('Z').sample(aoi, 1000)\n",
    "property = \"Z\"\n",
    "options = {\n",
    "    \"title\": \"Dstribution of Z scores\",\n",
    "    \"xlabel\": \"X2 statistic\",\n",
    "    \"ylabel\": \"Pixel count\",\n",
    "    \"colors\": [\"#4b1d99\"],\n",
    "}\n",
    "# Generate histogram with default number of bins:\n",
    "\n",
    "chart.feature_histogram(my_sample, property, minBucketWidth=500, **options)"
   ]
  },
  {
   "cell_type": "code",
   "execution_count": null,
   "metadata": {
    "cellUniqueIdByVincent": "ea99f"
   },
   "outputs": [
    {
     "data": {
      "text/html": [
       "\n",
       "            <style>\n",
       "                .geemap-dark {\n",
       "                    --jp-widgets-color: white;\n",
       "                    --jp-widgets-label-color: white;\n",
       "                    --jp-ui-font-color1: white;\n",
       "                    --jp-layout-color2: #454545;\n",
       "                    background-color: #383838;\n",
       "                }\n",
       "\n",
       "                .geemap-dark .jupyter-button {\n",
       "                    --jp-layout-color3: #383838;\n",
       "                }\n",
       "\n",
       "                .geemap-colab {\n",
       "                    background-color: var(--colab-primary-surface-color, white);\n",
       "                }\n",
       "\n",
       "                .geemap-colab .jupyter-button {\n",
       "                    --jp-layout-color3: var(--colab-primary-surface-color, white);\n",
       "                }\n",
       "            </style>\n",
       "            "
      ],
      "text/plain": [
       "<IPython.core.display.HTML object>"
      ]
     },
     "metadata": {},
     "output_type": "display_data"
    },
    {
     "data": {
      "image/png": "[encoded data removed]",
      "text/plain": [
       "<Figure size 640x480 with 1 Axes>"
      ]
     },
     "metadata": {},
     "output_type": "display_data"
    }
   ],
   "source": [
    "scale = 10\n",
    "# p-values image.\n",
    "pval = chi2cdf(im_z, 9).subtract(1).multiply(-1).rename('pval')\n",
    "# No-change mask (use p-values greater than 0.1).\n",
    "noChangeMask = pval.gt(0.1)\n",
    "hist = im_z.updateMask(noChangeMask).reduceRegion(ee.Reducer \\\n",
    "           .fixedHistogram(0, 50, 500), aoi, scale=scale, maxPixels=1e11) \\\n",
    "           .get('Z').getInfo()\n",
    "a = np.array(hist)\n",
    "x = a[:, 0]                 # array of bucket edge positions\n",
    "y = a[:, 1]/np.sum(a[:, 1]) # normalized array of bucket contents\n",
    "plt.plot(x, y, '.', label = 'data')\n",
    "plt.plot(x, chi2.pdf(x, 9)/10, '-r', label='chi2(9)')\n",
    "plt.legend()\n",
    "plt.show()"
   ]
  },
  {
   "cell_type": "code",
   "execution_count": 44,
   "metadata": {
    "cellUniqueIdByVincent": "efefd"
   },
   "outputs": [
    {
     "data": {
      "text/html": [
       "\n",
       "            <style>\n",
       "                .geemap-dark {\n",
       "                    --jp-widgets-color: white;\n",
       "                    --jp-widgets-label-color: white;\n",
       "                    --jp-ui-font-color1: white;\n",
       "                    --jp-layout-color2: #454545;\n",
       "                    background-color: #383838;\n",
       "                }\n",
       "\n",
       "                .geemap-dark .jupyter-button {\n",
       "                    --jp-layout-color3: #383838;\n",
       "                }\n",
       "\n",
       "                .geemap-colab {\n",
       "                    background-color: var(--colab-primary-surface-color, white);\n",
       "                }\n",
       "\n",
       "                .geemap-colab .jupyter-button {\n",
       "                    --jp-layout-color3: var(--colab-primary-surface-color, white);\n",
       "                }\n",
       "            </style>\n",
       "            "
      ],
      "text/plain": [
       "<IPython.core.display.HTML object>"
      ]
     },
     "metadata": {},
     "output_type": "display_data"
    }
   ],
   "source": [
    "zScores = im_z.reduceRegions(\n",
    "    collection=pts.select(['change']),\n",
    "    reducer=ee.Reducer.mean(),\n",
    "    scale=10\n",
    ")\n",
    "\n",
    "Zdf = ee.data.computeFeatures({\n",
    "    'expression': zScores,\n",
    "    'fileFormat': 'PANDAS_DATAFRAME'\n",
    "})\n",
    "\n",
    "result = Zdf[['change', 'mean']].dropna(axis=0, how='any')"
   ]
  },
  {
   "cell_type": "code",
   "execution_count": 45,
   "metadata": {
    "cellUniqueIdByVincent": "37b93"
   },
   "outputs": [
    {
     "data": {
      "text/html": [
       "\n",
       "            <style>\n",
       "                .geemap-dark {\n",
       "                    --jp-widgets-color: white;\n",
       "                    --jp-widgets-label-color: white;\n",
       "                    --jp-ui-font-color1: white;\n",
       "                    --jp-layout-color2: #454545;\n",
       "                    background-color: #383838;\n",
       "                }\n",
       "\n",
       "                .geemap-dark .jupyter-button {\n",
       "                    --jp-layout-color3: #383838;\n",
       "                }\n",
       "\n",
       "                .geemap-colab {\n",
       "                    background-color: var(--colab-primary-surface-color, white);\n",
       "                }\n",
       "\n",
       "                .geemap-colab .jupyter-button {\n",
       "                    --jp-layout-color3: var(--colab-primary-surface-color, white);\n",
       "                }\n",
       "            </style>\n",
       "            "
      ],
      "text/plain": [
       "<IPython.core.display.HTML object>"
      ]
     },
     "metadata": {},
     "output_type": "display_data"
    },
    {
     "data": {
      "application/vnd.microsoft.datawrangler.viewer.v0+json": {
       "columns": [
        {
         "name": "index",
         "rawType": "int64",
         "type": "integer"
        },
        {
         "name": "change",
         "rawType": "int64",
         "type": "integer"
        },
        {
         "name": "mean",
         "rawType": "float64",
         "type": "float"
        }
       ],
       "ref": "77038261-56fb-42a8-84a9-4cd6f58288f9",
       "rows": [
        [
         "0",
         "0",
         "225.5223883034305"
        ],
        [
         "1",
         "0",
         "839.411226227086"
        ],
        [
         "2",
         "0",
         "550.9287058580044"
        ],
        [
         "3",
         "0",
         "246.96369770826345"
        ],
        [
         "4",
         "0",
         "45.54672170038239"
        ],
        [
         "5",
         "0",
         "292.8529260470683"
        ],
        [
         "6",
         "0",
         "393.1863728757117"
        ],
        [
         "7",
         "0",
         "776.1838083910388"
        ],
        [
         "8",
         "0",
         "6907.542534915623"
        ],
        [
         "9",
         "0",
         "2385.1822558958042"
        ],
        [
         "10",
         "0",
         "601.0806984815089"
        ],
        [
         "11",
         "0",
         "1372.9909052813414"
        ],
        [
         "12",
         "0",
         "2783.4516089240947"
        ],
        [
         "13",
         "1",
         "1993.0465442786817"
        ],
        [
         "14",
         "1",
         "1099.239045042959"
        ],
        [
         "15",
         "1",
         "1458.8896768229067"
        ],
        [
         "16",
         "0",
         "733.0823429631455"
        ],
        [
         "17",
         "0",
         "128.63809115399883"
        ],
        [
         "18",
         "0",
         "515.3850144278906"
        ],
        [
         "19",
         "0",
         "403.33604770504405"
        ],
        [
         "20",
         "0",
         "286.0984030283066"
        ],
        [
         "21",
         "0",
         "255.82723728376536"
        ],
        [
         "22",
         "0",
         "1044.5674139116516"
        ],
        [
         "23",
         "0",
         "377.7633680532534"
        ],
        [
         "24",
         "0",
         "165.82757172857018"
        ],
        [
         "25",
         "0",
         "277.2780082481107"
        ],
        [
         "26",
         "0",
         "591.178422700015"
        ],
        [
         "27",
         "0",
         "203.51973753470833"
        ],
        [
         "28",
         "0",
         "393.6590324418244"
        ],
        [
         "29",
         "0",
         "900.7700531344493"
        ],
        [
         "30",
         "0",
         "318.36120187447005"
        ],
        [
         "31",
         "1",
         "182.65022217917348"
        ],
        [
         "32",
         "1",
         "270.5165558315949"
        ],
        [
         "33",
         "0",
         "60.111338440645"
        ],
        [
         "34",
         "0",
         "85.09138494743283"
        ],
        [
         "35",
         "0",
         "107.82962894069128"
        ],
        [
         "36",
         "0",
         "130.7759153006818"
        ],
        [
         "37",
         "0",
         "70.71624433986686"
        ],
        [
         "38",
         "0",
         "40.23368267165617"
        ],
        [
         "39",
         "0",
         "34.68062181247543"
        ],
        [
         "40",
         "0",
         "35.02494976034495"
        ],
        [
         "41",
         "0",
         "16.869203567580183"
        ],
        [
         "42",
         "0",
         "21.142326601010748"
        ],
        [
         "43",
         "0",
         "37.749458385100546"
        ],
        [
         "44",
         "0",
         "659.6999441236604"
        ],
        [
         "45",
         "0",
         "570.4999565109874"
        ],
        [
         "46",
         "0",
         "26.51825127518681"
        ],
        [
         "47",
         "0",
         "106.08622459711879"
        ],
        [
         "48",
         "0",
         "110.27029941517368"
        ],
        [
         "49",
         "0",
         "244.82563886737418"
        ]
       ],
       "shape": {
        "columns": 2,
        "rows": 1688
       }
      },
      "text/html": [
       "<div>\n",
       "<style scoped>\n",
       "    .dataframe tbody tr th:only-of-type {\n",
       "        vertical-align: middle;\n",
       "    }\n",
       "\n",
       "    .dataframe tbody tr th {\n",
       "        vertical-align: top;\n",
       "    }\n",
       "\n",
       "    .dataframe thead th {\n",
       "        text-align: right;\n",
       "    }\n",
       "</style>\n",
       "<table border=\"1\" class=\"dataframe\">\n",
       "  <thead>\n",
       "    <tr style=\"text-align: right;\">\n",
       "      <th></th>\n",
       "      <th>change</th>\n",
       "      <th>mean</th>\n",
       "    </tr>\n",
       "  </thead>\n",
       "  <tbody>\n",
       "    <tr>\n",
       "      <th>0</th>\n",
       "      <td>0</td>\n",
       "      <td>225.522388</td>\n",
       "    </tr>\n",
       "    <tr>\n",
       "      <th>1</th>\n",
       "      <td>0</td>\n",
       "      <td>839.411226</td>\n",
       "    </tr>\n",
       "    <tr>\n",
       "      <th>2</th>\n",
       "      <td>0</td>\n",
       "      <td>550.928706</td>\n",
       "    </tr>\n",
       "    <tr>\n",
       "      <th>3</th>\n",
       "      <td>0</td>\n",
       "      <td>246.963698</td>\n",
       "    </tr>\n",
       "    <tr>\n",
       "      <th>4</th>\n",
       "      <td>0</td>\n",
       "      <td>45.546722</td>\n",
       "    </tr>\n",
       "    <tr>\n",
       "      <th>...</th>\n",
       "      <td>...</td>\n",
       "      <td>...</td>\n",
       "    </tr>\n",
       "    <tr>\n",
       "      <th>1683</th>\n",
       "      <td>0</td>\n",
       "      <td>13.532661</td>\n",
       "    </tr>\n",
       "    <tr>\n",
       "      <th>1684</th>\n",
       "      <td>0</td>\n",
       "      <td>3.827668</td>\n",
       "    </tr>\n",
       "    <tr>\n",
       "      <th>1685</th>\n",
       "      <td>0</td>\n",
       "      <td>156.091464</td>\n",
       "    </tr>\n",
       "    <tr>\n",
       "      <th>1686</th>\n",
       "      <td>0</td>\n",
       "      <td>27.728519</td>\n",
       "    </tr>\n",
       "    <tr>\n",
       "      <th>1687</th>\n",
       "      <td>1</td>\n",
       "      <td>95.811777</td>\n",
       "    </tr>\n",
       "  </tbody>\n",
       "</table>\n",
       "<p>1688 rows × 2 columns</p>\n",
       "</div>"
      ],
      "text/plain": [
       "      change        mean\n",
       "0          0  225.522388\n",
       "1          0  839.411226\n",
       "2          0  550.928706\n",
       "3          0  246.963698\n",
       "4          0   45.546722\n",
       "...      ...         ...\n",
       "1683       0   13.532661\n",
       "1684       0    3.827668\n",
       "1685       0  156.091464\n",
       "1686       0   27.728519\n",
       "1687       1   95.811777\n",
       "\n",
       "[1688 rows x 2 columns]"
      ]
     },
     "execution_count": 45,
     "metadata": {},
     "output_type": "execute_result"
    }
   ],
   "source": [
    "result"
   ]
  },
  {
   "cell_type": "code",
   "execution_count": 47,
   "metadata": {
    "cellUniqueIdByVincent": "493ab"
   },
   "outputs": [
    {
     "data": {
      "text/html": [
       "\n",
       "            <style>\n",
       "                .geemap-dark {\n",
       "                    --jp-widgets-color: white;\n",
       "                    --jp-widgets-label-color: white;\n",
       "                    --jp-ui-font-color1: white;\n",
       "                    --jp-layout-color2: #454545;\n",
       "                    background-color: #383838;\n",
       "                }\n",
       "\n",
       "                .geemap-dark .jupyter-button {\n",
       "                    --jp-layout-color3: #383838;\n",
       "                }\n",
       "\n",
       "                .geemap-colab {\n",
       "                    background-color: var(--colab-primary-surface-color, white);\n",
       "                }\n",
       "\n",
       "                .geemap-colab .jupyter-button {\n",
       "                    --jp-layout-color3: var(--colab-primary-surface-color, white);\n",
       "                }\n",
       "            </style>\n",
       "            "
      ],
      "text/plain": [
       "<IPython.core.display.HTML object>"
      ]
     },
     "metadata": {},
     "output_type": "display_data"
    },
    {
     "data": {
      "text/plain": [
       "np.float64(95.811777130597)"
      ]
     },
     "execution_count": 47,
     "metadata": {},
     "output_type": "execute_result"
    }
   ],
   "source": [
    "from sklearn.metrics import precision_recall_curve, f1_score\n",
    "\n",
    "# chi2_vals: your test statistic (higher = more likely change)\n",
    "# true_labels: 1 for change, 0 for no-change\n",
    "prec, rec, thresholds = precision_recall_curve(result['change'], result['mean'])\n",
    "\n",
    "# Compute F1 scores at each threshold\n",
    "f1_scores = 2 * (prec * rec) / (prec + rec + 1e-6)  # avoid div by 0\n",
    "best_idx = f1_scores.argmax()\n",
    "optimal_threshold = thresholds[best_idx]\n",
    "optimal_threshold\n"
   ]
  },
  {
   "cell_type": "code",
   "execution_count": 50,
   "metadata": {
    "cellUniqueIdByVincent": "993be"
   },
   "outputs": [
    {
     "data": {
      "text/html": [
       "\n",
       "            <style>\n",
       "                .geemap-dark {\n",
       "                    --jp-widgets-color: white;\n",
       "                    --jp-widgets-label-color: white;\n",
       "                    --jp-ui-font-color1: white;\n",
       "                    --jp-layout-color2: #454545;\n",
       "                    background-color: #383838;\n",
       "                }\n",
       "\n",
       "                .geemap-dark .jupyter-button {\n",
       "                    --jp-layout-color3: #383838;\n",
       "                }\n",
       "\n",
       "                .geemap-colab {\n",
       "                    background-color: var(--colab-primary-surface-color, white);\n",
       "                }\n",
       "\n",
       "                .geemap-colab .jupyter-button {\n",
       "                    --jp-layout-color3: var(--colab-primary-surface-color, white);\n",
       "                }\n",
       "            </style>\n",
       "            "
      ],
      "text/plain": [
       "<IPython.core.display.HTML object>"
      ]
     },
     "metadata": {},
     "output_type": "display_data"
    }
   ],
   "source": [
    "rhos = ee.List(image.get('rhos')).getInfo()\n",
    "\n",
    "# Standardize to no change sigmas.\n",
    "sigma2s = ee.Image.constant([2*(1-x) for x in eval(rhos)])\n",
    "im_imadstd = image.select('iMAD.*').divide(sigma2s.sqrt())\n",
    "# Collect training data.\n",
    "training = im_imadstd.sample(region=aoi, scale=10, numPixels=50000)\n",
    "# Train the clusterer.\n",
    "clusterer = ee.Clusterer.wekaKMeans(4).train(training)\n",
    "# Classify the standardized imad image.\n",
    "result = im_imadstd.cluster(clusterer)"
   ]
  },
  {
   "cell_type": "code",
   "execution_count": 51,
   "metadata": {
    "cellUniqueIdByVincent": "5da02"
   },
   "outputs": [
    {
     "data": {
      "text/html": [
       "\n",
       "            <style>\n",
       "                .geemap-dark {\n",
       "                    --jp-widgets-color: white;\n",
       "                    --jp-widgets-label-color: white;\n",
       "                    --jp-ui-font-color1: white;\n",
       "                    --jp-layout-color2: #454545;\n",
       "                    background-color: #383838;\n",
       "                }\n",
       "\n",
       "                .geemap-dark .jupyter-button {\n",
       "                    --jp-layout-color3: #383838;\n",
       "                }\n",
       "\n",
       "                .geemap-colab {\n",
       "                    background-color: var(--colab-primary-surface-color, white);\n",
       "                }\n",
       "\n",
       "                .geemap-colab .jupyter-button {\n",
       "                    --jp-layout-color3: var(--colab-primary-surface-color, white);\n",
       "                }\n",
       "            </style>\n",
       "            "
      ],
      "text/plain": [
       "<IPython.core.display.HTML object>"
      ]
     },
     "metadata": {},
     "output_type": "display_data"
    }
   ],
   "source": [
    "M1.addLayer(result.randomVisualizer(), {}, 'Clustered iMAD')"
   ]
  },
  {
   "cell_type": "code",
   "execution_count": 14,
   "metadata": {
    "cellUniqueIdByVincent": "de868"
   },
   "outputs": [
    {
     "data": {
      "text/html": [
       "\n",
       "            <style>\n",
       "                .geemap-dark {\n",
       "                    --jp-widgets-color: white;\n",
       "                    --jp-widgets-label-color: white;\n",
       "                    --jp-ui-font-color1: white;\n",
       "                    --jp-layout-color2: #454545;\n",
       "                    background-color: #383838;\n",
       "                }\n",
       "\n",
       "                .geemap-dark .jupyter-button {\n",
       "                    --jp-layout-color3: #383838;\n",
       "                }\n",
       "\n",
       "                .geemap-colab {\n",
       "                    background-color: var(--colab-primary-surface-color, white);\n",
       "                }\n",
       "\n",
       "                .geemap-colab .jupyter-button {\n",
       "                    --jp-layout-color3: var(--colab-primary-surface-color, white);\n",
       "                }\n",
       "            </style>\n",
       "            "
      ],
      "text/plain": [
       "<IPython.core.display.HTML object>"
      ]
     },
     "metadata": {},
     "output_type": "display_data"
    },
    {
     "name": "stdout",
     "output_type": "stream",
     "text": [
      "Area of the area of interest in km2: 1495.0742915824985\n",
      "Proportion of KZN area sampled in Wessels: 0.010749185667752443\n",
      "Number of required samples: 160708.31147303732\n",
      "Number of minimum samples per class: 1608\n"
     ]
    }
   ],
   "source": [
    "# Proportion of KZN area samppled in Wessels\n",
    "prop = ((1100000*900)/1000000)/92100\n",
    "area = aoi.area(5).divide(1e6).getInfo()  # Area of aoi in km2\n",
    "print('Area of the area of interest in km2: %s'%area)\n",
    "print('Proportion of KZN area sampled in Wessels: %s'%prop)\n",
    "# number of required samples\n",
    "nSamples = (area*prop)*1000000/100\n",
    "print('Number of required samples: %s'%nSamples)\n",
    "# number of min classes (at least 1% of sample size)\n",
    "print('Number of minimum samples per class: %s'%int(nSamples*0.01+1))\n",
    "# Colditz, R.R., 2015. An evaluation of different training sample allocation schemes for discrete and continuous land cover classification using decision tree-based algorithms. Remote Sensing, 7(8), pp.9655-9681."
   ]
  },
  {
   "cell_type": "markdown",
   "metadata": {
    "cellUniqueIdByVincent": "79d67"
   },
   "source": [
    "# RF modelling"
   ]
  },
  {
   "cell_type": "code",
   "execution_count": null,
   "id": "31808125",
   "metadata": {
    "cellUniqueIdByVincent": "5094e"
   },
   "outputs": [],
   "source": [
    "# create s2 classification based on 2018 reference data and composite imagery\n",
    "# Calculate area proportions for each class\n",
    "# Calculate number of samples per class\n",
    "# perform stratfied sample of 2023 composite with 2018 classified image (do not apply no-change mask)\n",
    "\n",
    "# Apply change mask\n",
    "# Calculate area proportions for each class\n",
    "# Calculate number of samples per class\n",
    "# perform stratified sample of 2023 composite with 2018 classified image\n"
   ]
  },
  {
   "cell_type": "code",
   "execution_count": null,
   "metadata": {
    "cellUniqueIdByVincent": "ad364"
   },
   "outputs": [
    {
     "data": {
      "text/html": [
       "\n",
       "            <style>\n",
       "                .geemap-dark {\n",
       "                    --jp-widgets-color: white;\n",
       "                    --jp-widgets-label-color: white;\n",
       "                    --jp-ui-font-color1: white;\n",
       "                    --jp-layout-color2: #454545;\n",
       "                    background-color: #383838;\n",
       "                }\n",
       "\n",
       "                .geemap-dark .jupyter-button {\n",
       "                    --jp-layout-color3: #383838;\n",
       "                }\n",
       "\n",
       "                .geemap-colab {\n",
       "                    background-color: var(--colab-primary-surface-color, white);\n",
       "                }\n",
       "\n",
       "                .geemap-colab .jupyter-button {\n",
       "                    --jp-layout-color3: var(--colab-primary-surface-color, white);\n",
       "                }\n",
       "            </style>\n",
       "            "
      ],
      "text/plain": [
       "<IPython.core.display.HTML object>"
      ]
     },
     "metadata": {},
     "output_type": "display_data"
    },
    {
     "name": "stdout",
     "output_type": "stream",
     "text": [
      "Confusion Matrix:\n",
      " [[16, 0, 0, 0, 4, 0, 0, 0, 0, 2, 0], [1, 7, 3, 3, 0, 1, 2, 0, 0, 0, 0], [0, 0, 52, 10, 1, 1, 4, 0, 0, 0, 0], [0, 1, 7, 68, 10, 1, 0, 0, 10, 2, 1], [2, 0, 0, 10, 44, 0, 0, 8, 4, 4, 0], [0, 0, 12, 2, 0, 10, 3, 0, 5, 0, 0], [0, 1, 8, 7, 1, 4, 17, 0, 1, 0, 0], [0, 0, 0, 1, 4, 0, 0, 19, 0, 3, 1], [0, 0, 3, 12, 7, 1, 2, 0, 30, 0, 0], [1, 0, 0, 4, 8, 0, 0, 5, 1, 17, 1], [0, 0, 0, 1, 0, 0, 0, 0, 0, 0, 25]]\n",
      "Overall Accuracy: 0.6149193548387096\n",
      "Kappa: 0.5594125252299764\n"
     ]
    }
   ],
   "source": [
    "# train and predict for 2018\n",
    "class_property = 'class'  # target column\n",
    "\n",
    "# Extract band names from image\n",
    "bands = composite2018.bandNames()\n",
    "\n",
    "# Sample the image using the training points\n",
    "sampled = composite2018.sampleRegions(\n",
    "    collection=pts,\n",
    "    properties=[class_property],\n",
    "    scale=10,\n",
    "    geometries=True  # preserve geometry if needed\n",
    ")\n",
    "\n",
    "# Split into training/testing (70/30 split)\n",
    "withRandom = sampled.randomColumn('random')\n",
    "trainData = withRandom.filter(ee.Filter.lt('random', 0.7))\n",
    "testData = withRandom.filter(ee.Filter.gte('random', 0.7))\n",
    "\n",
    "# Train Random Forest classifier\n",
    "classifier = ee.Classifier.smileRandomForest(numberOfTrees=100).train(\n",
    "    features=trainData,\n",
    "    classProperty=class_property,\n",
    "    inputProperties=bands\n",
    ")\n",
    "\n",
    "# Classify the composite image\n",
    "classified = composite2018.clip(aoi).classify(classifier)\n",
    "\n",
    "# Evaluate accuracy on test set\n",
    "test = testData.classify(classifier)\n",
    "\n",
    "conf_matrix = test.errorMatrix(class_property, 'classification')\n",
    "print('Confusion Matrix:\\n', conf_matrix.getInfo())\n",
    "print('Overall Accuracy:', conf_matrix.accuracy().getInfo())\n",
    "print('Kappa:', conf_matrix.kappa().getInfo())\n"
   ]
  },
  {
   "cell_type": "code",
   "execution_count": 77,
   "metadata": {
    "cellUniqueIdByVincent": "a73b3"
   },
   "outputs": [
    {
     "data": {
      "text/html": [
       "\n",
       "            <style>\n",
       "                .geemap-dark {\n",
       "                    --jp-widgets-color: white;\n",
       "                    --jp-widgets-label-color: white;\n",
       "                    --jp-ui-font-color1: white;\n",
       "                    --jp-layout-color2: #454545;\n",
       "                    background-color: #383838;\n",
       "                }\n",
       "\n",
       "                .geemap-dark .jupyter-button {\n",
       "                    --jp-layout-color3: #383838;\n",
       "                }\n",
       "\n",
       "                .geemap-colab {\n",
       "                    background-color: var(--colab-primary-surface-color, white);\n",
       "                }\n",
       "\n",
       "                .geemap-colab .jupyter-button {\n",
       "                    --jp-layout-color3: var(--colab-primary-surface-color, white);\n",
       "                }\n",
       "            </style>\n",
       "            "
      ],
      "text/plain": [
       "<IPython.core.display.HTML object>"
      ]
     },
     "metadata": {},
     "output_type": "display_data"
    },
    {
     "data": {
      "text/html": [
       "<div id=\"31627a07-9596-4d59-ac47-e3554d490c7d\" style=\"height: auto; width:100%;\"></div>"
      ],
      "text/plain": [
       "<IPython.core.display.HTML object>"
      ]
     },
     "metadata": {},
     "output_type": "display_data"
    },
    {
     "data": {
      "text/html": [
       "\n",
       "        <script src=\"/static/components/requirejs/require.js\"></script> <!-- Needed in Colab -->\n",
       "        <script>\n",
       "            require([\"https://rawgit.com/caldwell/renderjson/master/renderjson.js\"], function() {\n",
       "              renderjson.set_show_to_level(1)\n",
       "              document.getElementById('31627a07-9596-4d59-ac47-e3554d490c7d').appendChild(renderjson({\"type\": \"FeatureCollection\", \"columns\": {}, \"properties\": {\"band_order\": [\"B2\", \"B3\", \"B4\", \"B5\", \"B6\", \"B7\", \"B8\", \"B11\", \"B12\"]}, \"features\": [{\"type\": \"Feature\", \"geometry\": {\"geodesic\": false, \"type\": \"Point\", \"coordinates\": [19.072625870547828, -33.80553551927845]}, \"id\": \"000000000000000003fb_0\", \"properties\": {\"2023_class\": 0, \"B11\": 0.3663, \"B12\": 0.2733, \"B2\": 0.1629, \"B3\": 0.174, \"B4\": 0.1985, \"B5\": 0.2294, \"B6\": 0.2709, \"B7\": 0.2896, \"B8\": 0.2893}}, {\"type\": \"Feature\", \"geometry\": {\"geodesic\": false, \"type\": \"Point\", \"coordinates\": [19.07792593072413, -33.80796097054557]}, \"id\": \"000000000000000003fc_0\", \"properties\": {\"2023_class\": 0, \"B11\": 0.0381, \"B12\": 0.0236, \"B2\": 0.0883, \"B3\": 0.0786, \"B4\": 0.0741, \"B5\": 0.0667, \"B6\": 0.0537, \"B7\": 0.061, \"B8\": 0.0425}}, {\"type\": \"Feature\", \"geometry\": {\"geodesic\": false, \"type\": \"Point\", \"coordinates\": [19.078195425309367, -33.80823046513081]}, \"id\": \"000000000000000003fd_0\", \"properties\": {\"2023_class\": 0, \"B11\": 0.0224, \"B12\": 0.0127, \"B2\": 0.0946, \"B3\": 0.0905, \"B4\": 0.0723, \"B5\": 0.0605, \"B6\": 0.0349, \"B7\": 0.0355, \"B8\": 0.0323}}, {\"type\": \"Feature\", \"geometry\": {\"geodesic\": false, \"type\": \"Point\", \"coordinates\": [19.14952165886846, -33.735826253230776]}, \"id\": \"0000000000000000045a_0\", \"properties\": {\"2023_class\": 0, \"B11\": 0.26125, \"B12\": 0.17635, \"B2\": 0.18115, \"B3\": 0.17685, \"B4\": 0.1839, \"B5\": 0.18, \"B6\": 0.2216, \"B7\": 0.2559, \"B8\": 0.28535}}, {\"type\": \"Feature\", \"geometry\": {\"geodesic\": false, \"type\": \"Point\", \"coordinates\": [19.266572140389233, -33.75280441210064]}, \"id\": \"00000000000000000468_0\", \"properties\": {\"2023_class\": 0, \"B11\": 0.2787, \"B12\": 0.2105, \"B2\": 0.1429, \"B3\": 0.1358, \"B4\": 0.1425, \"B5\": 0.1617, \"B6\": 0.1862, \"B7\": 0.203, \"B8\": 0.2034}}]}))\n",
       "            });\n",
       "        </script>\n",
       "    "
      ],
      "text/plain": [
       "<IPython.core.display.HTML object>"
      ]
     },
     "metadata": {},
     "output_type": "display_data"
    },
    {
     "name": "stdout",
     "output_type": "stream",
     "text": [
      "Confusion Matrix:\n",
      " [[22, 0, 2, 1, 6, 0, 0, 3, 3, 0, 4], [0, 0, 2, 2, 0, 1, 4, 0, 3, 0, 0], [1, 0, 27, 17, 4, 2, 2, 2, 2, 0, 0], [3, 0, 6, 56, 15, 2, 5, 0, 8, 0, 0], [9, 0, 0, 3, 62, 0, 0, 12, 4, 0, 0], [2, 0, 5, 2, 2, 8, 6, 0, 0, 0, 0], [0, 0, 4, 1, 1, 1, 22, 0, 4, 0, 0], [1, 1, 0, 0, 12, 0, 0, 38, 1, 0, 3], [0, 0, 1, 11, 13, 1, 2, 0, 29, 0, 0], [0, 0, 0, 0, 0, 0, 0, 0, 0, 0, 0], [0, 0, 0, 1, 0, 0, 1, 0, 0, 0, 21]]\n",
      "Overall Accuracy: 0.5828220858895705\n",
      "Kappa: 0.5181544614522603\n"
     ]
    }
   ],
   "source": [
    "# train and predict for 2023\n",
    "class_property = '2023_class'  # target column\n",
    "\n",
    "# Extract band names from image\n",
    "bands = composite2023.bandNames()\n",
    "\n",
    "# Step 2: Map over features and conditionally update '2023_class'\n",
    "def update_2023_class(f):\n",
    "    change = ee.Number(f.get('change'))\n",
    "    new_class = ee.Algorithms.If(\n",
    "        change.eq(0),\n",
    "        f.get('class'),        # if change == 0 → set to 'class'\n",
    "        f.get('2023_class')    # if change == 1 → leave unchanged\n",
    "    )\n",
    "    return f.set('2023_class', new_class)\n",
    "\n",
    "updated_pts = pts.map(update_2023_class)\n",
    "\n",
    "# Sample the image using the training points\n",
    "sampled = composite2023.sampleRegions(\n",
    "    collection=updated_pts.filter(ee.Filter.lt('2023_class', 12)),\n",
    "    properties=[class_property],\n",
    "    scale=10,\n",
    "    geometries=True  # preserve geometry if needed\n",
    ")\n",
    "eeprint(sampled.limit(5))\n",
    "# Split into training/testing (70/30 split)\n",
    "withRandom = sampled.randomColumn('random')\n",
    "trainData = withRandom.filter(ee.Filter.lt('random', 0.7))\n",
    "testData = withRandom.filter(ee.Filter.gte('random', 0.7))\n",
    "\n",
    "# Train Random Forest classifier\n",
    "classifier = ee.Classifier.smileRandomForest(numberOfTrees=100).train(\n",
    "    features=trainData,\n",
    "    classProperty=class_property,\n",
    "    inputProperties=bands\n",
    ")\n",
    "\n",
    "# Classify the composite image\n",
    "classified = composite2023.clip(aoi).classify(classifier)\n",
    "\n",
    "# Evaluate accuracy on test set\n",
    "test = testData.classify(classifier)\n",
    "\n",
    "conf_matrix = test.errorMatrix(class_property, 'classification')\n",
    "print('Confusion Matrix:\\n', conf_matrix.getInfo())\n",
    "print('Overall Accuracy:', conf_matrix.accuracy().getInfo())\n",
    "print('Kappa:', conf_matrix.kappa().getInfo())\n"
   ]
  },
  {
   "cell_type": "code",
   "execution_count": 84,
   "id": "33a6662f",
   "metadata": {
    "cellUniqueIdByVincent": "65289"
   },
   "outputs": [
    {
     "data": {
      "text/html": [
       "\n",
       "            <style>\n",
       "                .geemap-dark {\n",
       "                    --jp-widgets-color: white;\n",
       "                    --jp-widgets-label-color: white;\n",
       "                    --jp-ui-font-color1: white;\n",
       "                    --jp-layout-color2: #454545;\n",
       "                    background-color: #383838;\n",
       "                }\n",
       "\n",
       "                .geemap-dark .jupyter-button {\n",
       "                    --jp-layout-color3: #383838;\n",
       "                }\n",
       "\n",
       "                .geemap-colab {\n",
       "                    background-color: var(--colab-primary-surface-color, white);\n",
       "                }\n",
       "\n",
       "                .geemap-colab .jupyter-button {\n",
       "                    --jp-layout-color3: var(--colab-primary-surface-color, white);\n",
       "                }\n",
       "            </style>\n",
       "            "
      ],
      "text/plain": [
       "<IPython.core.display.HTML object>"
      ]
     },
     "metadata": {},
     "output_type": "display_data"
    },
    {
     "data": {
      "application/vnd.jupyter.widget-view+json": {
       "model_id": "8d2c815face341bea4e557a36e4f3526",
       "version_major": 2,
       "version_minor": 0
      },
      "text/plain": [
       "Map(center=[-25, 30], controls=(WidgetControl(options=['position', 'transparent_bg'], widget=SearchDataGUI(chi…"
      ]
     },
     "execution_count": 84,
     "metadata": {},
     "output_type": "execute_result"
    }
   ],
   "source": [
    "Map = geemap.Map(center=[-25, 30], zoom=8)\n",
    "Map.addLayer(composite2018, {'bands': ['B4', 'B3', 'B2'], 'min': 0, 'max': 3000}, 'Composite 2018')\n",
    "Map.addLayer(classified, {'min': 0, 'max': 11, 'palette': ['blue', 'red']}, 'RF Classification')\n",
    "Map.addLayer(pts, {}, 'Training Points')\n",
    "Map\n"
   ]
  },
  {
   "cell_type": "code",
   "execution_count": null,
   "metadata": {
    "cellUniqueIdByVincent": "44b3d"
   },
   "outputs": [
    {
     "data": {
      "text/html": [
       "\n",
       "            <style>\n",
       "                .geemap-dark {\n",
       "                    --jp-widgets-color: white;\n",
       "                    --jp-widgets-label-color: white;\n",
       "                    --jp-ui-font-color1: white;\n",
       "                    --jp-layout-color2: #454545;\n",
       "                    background-color: #383838;\n",
       "                }\n",
       "\n",
       "                .geemap-dark .jupyter-button {\n",
       "                    --jp-layout-color3: #383838;\n",
       "                }\n",
       "\n",
       "                .geemap-colab {\n",
       "                    background-color: var(--colab-primary-surface-color, white);\n",
       "                }\n",
       "\n",
       "                .geemap-colab .jupyter-button {\n",
       "                    --jp-layout-color3: var(--colab-primary-surface-color, white);\n",
       "                }\n",
       "            </style>\n",
       "            "
      ],
      "text/plain": [
       "<IPython.core.display.HTML object>"
      ]
     },
     "metadata": {},
     "output_type": "display_data"
    },
    {
     "name": "stdout",
     "output_type": "stream",
     "text": [
      "Area per class (km²): [{'area_km2': 49.763436156211725, 'classification': 0, 'sum': 49763436.15621173}, {'area_km2': 2.3976928792760215, 'classification': 1, 'sum': 2397692.8792760214}, {'area_km2': 48.42941656133851, 'classification': 2, 'sum': 48429416.561338514}, {'area_km2': 350.57874586727974, 'classification': 3, 'sum': 350578745.8672797}, {'area_km2': 597.0805697931426, 'classification': 4, 'sum': 597080569.7931426}, {'area_km2': 6.632127336324265, 'classification': 5, 'sum': 6632127.336324265}, {'area_km2': 38.74716733688444, 'classification': 6, 'sum': 38747167.33688444}, {'area_km2': 106.20925897727857, 'classification': 7, 'sum': 106209258.97727856}, {'area_km2': 176.569034822652, 'classification': 8, 'sum': 176569034.82265198}, {'area_km2': 69.93270930873375, 'classification': 9, 'sum': 69932709.30873375}, {'area_km2': 48.27113515890887, 'classification': 10, 'sum': 48271135.15890887}]\n"
     ]
    }
   ],
   "source": [
    "# Define region and scale\n",
    "region = aoi\n",
    "scale = 10  # in meters\n",
    "\n",
    "# Compute per-class area in m²\n",
    "area_image = ee.Image.pixelArea().addBands(classified)\n",
    "\n",
    "# Reduce to total area per class\n",
    "areas = area_image.reduceRegion(\n",
    "    reducer=ee.Reducer.sum().group(\n",
    "        groupField=1,\n",
    "        groupName='classification'\n",
    "    ),\n",
    "    geometry=region,\n",
    "    scale=scale,\n",
    "    maxPixels=1e13\n",
    ")\n",
    "\n",
    "# Convert m² to km²\n",
    "area_km2 = ee.List(areas.get('groups')).map(lambda g:\n",
    "    ee.Dictionary(g).set(\n",
    "        'area_km2',\n",
    "        ee.Number(ee.Dictionary(g).get('sum')).divide(1e6)\n",
    "    )\n",
    ")\n",
    "area_km2 = area_km2.getInfo()\n",
    "print('Area per class (km²):', area_km2)\n"
   ]
  },
  {
   "cell_type": "code",
   "execution_count": null,
   "metadata": {
    "cellUniqueIdByVincent": "ead09"
   },
   "outputs": [
    {
     "name": "stdout",
     "output_type": "stream",
     "text": [
      "Total allocated: 162949\n",
      "Class  0: 5350 samples\n",
      "Class  1: 1608 samples\n",
      "Class  2: 5207 samples\n",
      "Class  3: 37695 samples\n",
      "Class  4: 64201 samples\n",
      "Class  5: 1608 samples\n",
      "Class  6: 4166 samples\n",
      "Class  7: 11420 samples\n",
      "Class  8: 18985 samples\n",
      "Class  9: 7519 samples\n",
      "Class 10: 5190 samples\n"
     ]
    }
   ],
   "source": [
    "import math\n",
    "\n",
    "# Input: list of dicts from GEE\n",
    "# Reformat the data to match the 'area_stats' structure\n",
    "area_stats = [\n",
    "    {'area_km2': item['area_km2'], 'classification': item['classification']}\n",
    "    for item in area_km2\n",
    "]\n",
    "\n",
    "# Parameters\n",
    "total_samples = 160_708\n",
    "min_samples_per_class = 1_608\n",
    "\n",
    "# Step 1: compute total area\n",
    "total_area = sum(c['area_km2'] for c in area_stats)\n",
    "\n",
    "# Step 2: compute proportional sample allocation\n",
    "sample_alloc = []\n",
    "for c in area_stats:\n",
    "    weight = c['area_km2'] / total_area\n",
    "    n = math.floor(weight * total_samples)\n",
    "    n = max(n, min_samples_per_class)\n",
    "    sample_alloc.append({'class': c['classification'], 'samples': n})\n",
    "\n",
    "# Step 3: (optional) normalize if over-allocated\n",
    "allocated_total = sum(c['samples'] for c in sample_alloc)\n",
    "print(\"Total allocated:\", allocated_total)\n",
    "\n",
    "# Display result\n",
    "for row in sample_alloc:\n",
    "    print(f\"Class {row['class']:>2}: {row['samples']} samples\")\n"
   ]
  },
  {
   "cell_type": "code",
   "execution_count": 19,
   "metadata": {
    "cellUniqueIdByVincent": "66151"
   },
   "outputs": [
    {
     "data": {
      "text/html": [
       "\n",
       "            <style>\n",
       "                .geemap-dark {\n",
       "                    --jp-widgets-color: white;\n",
       "                    --jp-widgets-label-color: white;\n",
       "                    --jp-ui-font-color1: white;\n",
       "                    --jp-layout-color2: #454545;\n",
       "                    background-color: #383838;\n",
       "                }\n",
       "\n",
       "                .geemap-dark .jupyter-button {\n",
       "                    --jp-layout-color3: #383838;\n",
       "                }\n",
       "\n",
       "                .geemap-colab {\n",
       "                    background-color: var(--colab-primary-surface-color, white);\n",
       "                }\n",
       "\n",
       "                .geemap-colab .jupyter-button {\n",
       "                    --jp-layout-color3: var(--colab-primary-surface-color, white);\n",
       "                }\n",
       "            </style>\n",
       "            "
      ],
      "text/plain": [
       "<IPython.core.display.HTML object>"
      ]
     },
     "metadata": {},
     "output_type": "display_data"
    },
    {
     "name": "stdout",
     "output_type": "stream",
     "text": [
      "Sample size (should be 162949): 162949\n"
     ]
    }
   ],
   "source": [
    "# Class-wise sample sizes\n",
    "class_counts = {\n",
    "    item['class']: item['samples']\n",
    "    for item in sample_alloc\n",
    "}\n",
    "\n",
    "# Convert the dictionary to an ee.Dictionary\n",
    "class_counts_ee = ee.Dictionary(class_counts)\n",
    "\n",
    "# Add the classification band to composite for stratified sampling\n",
    "composite_with_class = composite2023.addBands(classified.rename('class'))\n",
    "\n",
    "# Perform stratified sampling\n",
    "sample = composite_with_class.stratifiedSample(\n",
    "    numPoints=0,  # must be 0 if you're using classValues & classPoints\n",
    "    classBand='class',\n",
    "    classValues=list(class_counts.keys()),\n",
    "    classPoints=list(class_counts.values()),\n",
    "    region=region,\n",
    "    scale=10,\n",
    "    geometries=True,  # set to True if you want point geometry\n",
    "    seed=42\n",
    ")\n",
    "\n",
    "# Optional: print sample count\n",
    "sample_size = sample.size()\n",
    "print(f\"Sample size (should be {allocated_total}):\", sample_size.getInfo())\n"
   ]
  },
  {
   "cell_type": "code",
   "execution_count": null,
   "metadata": {
    "cellUniqueIdByVincent": "520b1"
   },
   "outputs": [],
   "source": [
    "task = ee.batch.Export.table.toAsset(\n",
    "    collection=sample,  # your stratified sample FeatureCollection\n",
    "    description='stratified_sample_asset',\n",
    "    assetId='users/your_username/stratified_sample_2018'\n",
    ")\n",
    "task.start()\n"
   ]
  },
  {
   "cell_type": "code",
   "execution_count": 45,
   "metadata": {
    "cellUniqueIdByVincent": "1609f"
   },
   "outputs": [
    {
     "data": {
      "text/html": [
       "\n",
       "            <style>\n",
       "                .geemap-dark {\n",
       "                    --jp-widgets-color: white;\n",
       "                    --jp-widgets-label-color: white;\n",
       "                    --jp-ui-font-color1: white;\n",
       "                    --jp-layout-color2: #454545;\n",
       "                    background-color: #383838;\n",
       "                }\n",
       "\n",
       "                .geemap-dark .jupyter-button {\n",
       "                    --jp-layout-color3: #383838;\n",
       "                }\n",
       "\n",
       "                .geemap-colab {\n",
       "                    background-color: var(--colab-primary-surface-color, white);\n",
       "                }\n",
       "\n",
       "                .geemap-colab .jupyter-button {\n",
       "                    --jp-layout-color3: var(--colab-primary-surface-color, white);\n",
       "                }\n",
       "            </style>\n",
       "            "
      ],
      "text/plain": [
       "<IPython.core.display.HTML object>"
      ]
     },
     "metadata": {},
     "output_type": "display_data"
    },
    {
     "data": {
      "text/html": [
       "<div id=\"7a8f437e-5b18-448e-9375-2ebe1c89a256\" style=\"height: auto; width:100%;\"></div>"
      ],
      "text/plain": [
       "<IPython.core.display.HTML object>"
      ]
     },
     "metadata": {},
     "output_type": "display_data"
    },
    {
     "data": {
      "text/html": [
       "\n",
       "        <script src=\"/static/components/requirejs/require.js\"></script> <!-- Needed in Colab -->\n",
       "        <script>\n",
       "            require([\"https://rawgit.com/caldwell/renderjson/master/renderjson.js\"], function() {\n",
       "              renderjson.set_show_to_level(1)\n",
       "              document.getElementById('7a8f437e-5b18-448e-9375-2ebe1c89a256').appendChild(renderjson({\"type\": \"FeatureCollection\", \"columns\": {\"2018_2023\": \"Float\", \"2023_class\": \"Long\", \"change\": \"Long\", \"class\": \"Long\", \"fid\": \"Long\", \"group\": \"Long\", \"layer\": \"String\", \"notes\": \"String\", \"path\": \"String\", \"system:index\": \"String\"}, \"version\": 1750928796749160.0, \"id\": \"projects/ee-geethensingh/assets/postdoc/aliens_sep2018_bioscape2023\", \"properties\": {\"system:asset_size\": 84232}, \"features\": [{\"type\": \"Feature\", \"geometry\": {\"type\": \"Point\", \"coordinates\": [19.156093006955036, -33.99033609088925]}, \"id\": \"000000000000000005c6\", \"properties\": {\"2018_2023\": 0.002137792789123, \"2023_class\": 10, \"change\": 1, \"class\": 0, \"fid\": 1497, \"group\": 0, \"layer\": \"valid\", \"notes\": \"seasonal w\", \"path\": \"/Users/glennmoncrieff/Documents/qgis/valid.gpkg|layername=valid\"}}, {\"type\": \"Feature\", \"geometry\": {\"type\": \"Point\", \"coordinates\": [19.15603057954029, -33.988949310461635]}, \"id\": \"000000000000000005c7\", \"properties\": {\"2018_2023\": 0.003597025643361, \"2023_class\": 10, \"change\": 1, \"class\": 0, \"fid\": 1498, \"group\": 0, \"layer\": \"valid\", \"notes\": \"seasonal w\", \"path\": \"/Users/glennmoncrieff/Documents/qgis/valid.gpkg|layername=valid\"}}, {\"type\": \"Feature\", \"geometry\": {\"type\": \"Point\", \"coordinates\": [19.317039800378108, -33.79746659302456]}, \"id\": \"000000000000000005e5\", \"properties\": {\"2018_2023\": 0.025748214573377, \"2023_class\": 0, \"change\": 1, \"class\": 1, \"fid\": 1528, \"group\": 0, \"layer\": \"valid\", \"notes\": \"\", \"path\": \"/Users/glennmoncrieff/Documents/qgis/valid.gpkg|layername=valid\"}}, {\"type\": \"Feature\", \"geometry\": {\"type\": \"Point\", \"coordinates\": [19.039153081828417, -33.9604957866396]}, \"id\": \"00000000000000000532\", \"properties\": {\"2018_2023\": \"None\", \"2023_class\": 0, \"change\": 1, \"class\": 2, \"fid\": 1349, \"group\": 0, \"layer\": \"valid\", \"notes\": \"\", \"path\": \"/Users/glennmoncrieff/Documents/qgis/valid.gpkg|layername=valid\"}}, {\"type\": \"Feature\", \"geometry\": {\"type\": \"Point\", \"coordinates\": [19.04585511071175, -33.969119688076965]}, \"id\": \"00000000000000000533\", \"properties\": {\"2018_2023\": \"None\", \"2023_class\": 0, \"change\": 1, \"class\": 2, \"fid\": 1, \"group\": 0, \"layer\": \"valid\", \"notes\": \"\", \"path\": \"/Users/glennmoncrieff/Documents/qgis/valid.gpkg|layername=valid\"}}]}))\n",
       "            });\n",
       "        </script>\n",
       "    "
      ],
      "text/plain": [
       "<IPython.core.display.HTML object>"
      ]
     },
     "metadata": {},
     "output_type": "display_data"
    }
   ],
   "source": [
    "# Train Random Forest classifier\n",
    "classifier = ee.Classifier.smileRandomForest(numberOfTrees=20).train(\n",
    "    features=sample,\n",
    "    classProperty=class_property,\n",
    "    inputProperties=bands\n",
    ")\n",
    "\n",
    "# Classify the composite image\n",
    "classified = composite2023.classify(classifier)\n",
    "\n",
    "# Evaluate accuracy on test set\n",
    "\n",
    "# Step 1: Filter out features where 2023_class == 12\n",
    "filtered_pts = pts.filter(ee.Filter.neq('2023_class', 12))\n",
    "\n",
    "# Step 2: Map over features and conditionally update '2023_class'\n",
    "def update_2023_class(f):\n",
    "    change = ee.Number(f.get('change'))\n",
    "    new_class = ee.Algorithms.If(\n",
    "        change.eq(0),\n",
    "        f.get('class'),        # if change == 0 → set to 'class'\n",
    "        f.get('2023_class')    # if change == 1 → leave unchanged\n",
    "    )\n",
    "    return f.set('2023_class', new_class)\n",
    "\n",
    "updated_pts = filtered_pts.map(update_2023_class)\n",
    "eeprint(updated_pts.limit(5))\n",
    "\n",
    "# Sample the classified image using the test points\n",
    "testData = classified.sampleRegions(\n",
    "    collection= updated_pts,\n",
    "    properties=['2023_class'],\n",
    "    scale=10,\n",
    "    geometries=True  # preserve geometry if needed\n",
    ")\n",
    "# eeprint(testData.limit(5))\n"
   ]
  },
  {
   "cell_type": "code",
   "execution_count": 46,
   "metadata": {
    "cellUniqueIdByVincent": "34aaf"
   },
   "outputs": [
    {
     "data": {
      "text/html": [
       "\n",
       "            <style>\n",
       "                .geemap-dark {\n",
       "                    --jp-widgets-color: white;\n",
       "                    --jp-widgets-label-color: white;\n",
       "                    --jp-ui-font-color1: white;\n",
       "                    --jp-layout-color2: #454545;\n",
       "                    background-color: #383838;\n",
       "                }\n",
       "\n",
       "                .geemap-dark .jupyter-button {\n",
       "                    --jp-layout-color3: #383838;\n",
       "                }\n",
       "\n",
       "                .geemap-colab {\n",
       "                    background-color: var(--colab-primary-surface-color, white);\n",
       "                }\n",
       "\n",
       "                .geemap-colab .jupyter-button {\n",
       "                    --jp-layout-color3: var(--colab-primary-surface-color, white);\n",
       "                }\n",
       "            </style>\n",
       "            "
      ],
      "text/plain": [
       "<IPython.core.display.HTML object>"
      ]
     },
     "metadata": {},
     "output_type": "display_data"
    },
    {
     "data": {
      "text/html": [
       "<div id=\"886cccf9-7628-40fa-a15c-d98f5e170c3f\" style=\"height: auto; width:100%;\"></div>"
      ],
      "text/plain": [
       "<IPython.core.display.HTML object>"
      ]
     },
     "metadata": {},
     "output_type": "display_data"
    },
    {
     "data": {
      "text/html": [
       "\n",
       "        <script src=\"/static/components/requirejs/require.js\"></script> <!-- Needed in Colab -->\n",
       "        <script>\n",
       "            require([\"https://rawgit.com/caldwell/renderjson/master/renderjson.js\"], function() {\n",
       "              renderjson.set_show_to_level(1)\n",
       "              document.getElementById('886cccf9-7628-40fa-a15c-d98f5e170c3f').appendChild(renderjson(0.25217391304347825))\n",
       "            });\n",
       "        </script>\n",
       "    "
      ],
      "text/plain": [
       "<IPython.core.display.HTML object>"
      ]
     },
     "metadata": {},
     "output_type": "display_data"
    }
   ],
   "source": [
    "conf_matrix = testData.errorMatrix('2023_class', 'classification')\n",
    "eeprint(conf_matrix.accuracy())"
   ]
  },
  {
   "cell_type": "markdown",
   "metadata": {
    "cellUniqueIdByVincent": "87f1f"
   },
   "source": [
    "### Unnecessary code"
   ]
  },
  {
   "cell_type": "code",
   "execution_count": 25,
   "id": "09830c72",
   "metadata": {
    "cellUniqueIdByVincent": "f85b2"
   },
   "outputs": [
    {
     "data": {
      "text/html": [
       "\n",
       "            <style>\n",
       "                .geemap-dark {\n",
       "                    --jp-widgets-color: white;\n",
       "                    --jp-widgets-label-color: white;\n",
       "                    --jp-ui-font-color1: white;\n",
       "                    --jp-layout-color2: #454545;\n",
       "                    background-color: #383838;\n",
       "                }\n",
       "\n",
       "                .geemap-dark .jupyter-button {\n",
       "                    --jp-layout-color3: #383838;\n",
       "                }\n",
       "\n",
       "                .geemap-colab {\n",
       "                    background-color: var(--colab-primary-surface-color, white);\n",
       "                }\n",
       "\n",
       "                .geemap-colab .jupyter-button {\n",
       "                    --jp-layout-color3: var(--colab-primary-surface-color, white);\n",
       "                }\n",
       "            </style>\n",
       "            "
      ],
      "text/plain": [
       "<IPython.core.display.HTML object>"
      ]
     },
     "metadata": {},
     "output_type": "display_data"
    },
    {
     "data": {
      "text/plain": [
       "{'state': 'READY',\n",
       " 'description': 'stratified_sample_asset',\n",
       " 'priority': 100,\n",
       " 'creation_timestamp_ms': 1752705049062,\n",
       " 'update_timestamp_ms': 1752705049062,\n",
       " 'start_timestamp_ms': 0,\n",
       " 'task_type': 'EXPORT_FEATURES',\n",
       " 'id': 'T6OEYR75XOJZZDZ2TQW2O3XM',\n",
       " 'name': 'projects/ee-gsingh/operations/T6OEYR75XOJZZDZ2TQW2O3XM'}"
      ]
     },
     "execution_count": 25,
     "metadata": {},
     "output_type": "execute_result"
    }
   ],
   "source": [
    "task = ee.batch.Export.table.toAsset(\n",
    "    collection=testData,  # your stratified sample FeatureCollection\n",
    "    description='stratified_sample_asset',\n",
    "    assetId='projects/ee-gsingh/assets/postdoc/iMAD_2023_extracted_nomask'\n",
    ")\n",
    "task.start()\n",
    "task.status()"
   ]
  },
  {
   "cell_type": "code",
   "execution_count": 29,
   "metadata": {
    "cellUniqueIdByVincent": "abbb7"
   },
   "outputs": [
    {
     "data": {
      "text/html": [
       "\n",
       "            <style>\n",
       "                .geemap-dark {\n",
       "                    --jp-widgets-color: white;\n",
       "                    --jp-widgets-label-color: white;\n",
       "                    --jp-ui-font-color1: white;\n",
       "                    --jp-layout-color2: #454545;\n",
       "                    background-color: #383838;\n",
       "                }\n",
       "\n",
       "                .geemap-dark .jupyter-button {\n",
       "                    --jp-layout-color3: #383838;\n",
       "                }\n",
       "\n",
       "                .geemap-colab {\n",
       "                    background-color: var(--colab-primary-surface-color, white);\n",
       "                }\n",
       "\n",
       "                .geemap-colab .jupyter-button {\n",
       "                    --jp-layout-color3: var(--colab-primary-surface-color, white);\n",
       "                }\n",
       "            </style>\n",
       "            "
      ],
      "text/plain": [
       "<IPython.core.display.HTML object>"
      ]
     },
     "metadata": {},
     "output_type": "display_data"
    }
   ],
   "source": [
    "# Create an export classifier task to run.\n",
    "assetId = 'projects/ee-gsingh/assets/postdoc/iMAD_2023_model_nomask'\n",
    "modelTask = ee.batch.Export.classifier.toAsset(\n",
    "  classifier = classifier,\n",
    "  description = 'classifier_export',\n",
    "  assetId = assetId\n",
    ")\n",
    "modelTask.start()"
   ]
  },
  {
   "cell_type": "code",
   "execution_count": 39,
   "metadata": {
    "cellUniqueIdByVincent": "886c8"
   },
   "outputs": [
    {
     "data": {
      "text/html": [
       "\n",
       "            <style>\n",
       "                .geemap-dark {\n",
       "                    --jp-widgets-color: white;\n",
       "                    --jp-widgets-label-color: white;\n",
       "                    --jp-ui-font-color1: white;\n",
       "                    --jp-layout-color2: #454545;\n",
       "                    background-color: #383838;\n",
       "                }\n",
       "\n",
       "                .geemap-dark .jupyter-button {\n",
       "                    --jp-layout-color3: #383838;\n",
       "                }\n",
       "\n",
       "                .geemap-colab {\n",
       "                    background-color: var(--colab-primary-surface-color, white);\n",
       "                }\n",
       "\n",
       "                .geemap-colab .jupyter-button {\n",
       "                    --jp-layout-color3: var(--colab-primary-surface-color, white);\n",
       "                }\n",
       "            </style>\n",
       "            "
      ],
      "text/plain": [
       "<IPython.core.display.HTML object>"
      ]
     },
     "metadata": {},
     "output_type": "display_data"
    },
    {
     "data": {
      "text/html": [
       "<div id=\"9a213fab-6d34-4ca5-94cd-9a211c887252\" style=\"height: auto; width:100%;\"></div>"
      ],
      "text/plain": [
       "<IPython.core.display.HTML object>"
      ]
     },
     "metadata": {},
     "output_type": "display_data"
    },
    {
     "data": {
      "text/html": [
       "\n",
       "        <script src=\"/static/components/requirejs/require.js\"></script> <!-- Needed in Colab -->\n",
       "        <script>\n",
       "            require([\"https://rawgit.com/caldwell/renderjson/master/renderjson.js\"], function() {\n",
       "              renderjson.set_show_to_level(1)\n",
       "              document.getElementById('9a213fab-6d34-4ca5-94cd-9a211c887252').appendChild(renderjson({\"type\": \"FeatureCollection\", \"columns\": {}, \"features\": [{\"type\": \"Feature\", \"geometry\": {\"type\": \"Point\", \"coordinates\": [19.317057636782323, -33.79744875662035]}, \"id\": \"00000000000000000002\", \"properties\": {\"2023_class\": 0, \"B11\": 0.21495, \"B12\": 0.1314, \"B2\": 0.0935, \"B3\": 0.0906, \"B4\": 0.0762, \"B5\": 0.11585, \"B6\": 0.2145, \"B7\": 0.25585, \"B8\": 0.2552, \"classification\": 8}}, {\"type\": \"Feature\", \"geometry\": {\"type\": \"Point\", \"coordinates\": [19.03911740901999, -33.9604957866396]}, \"id\": \"00000000000000000003\", \"properties\": {\"2023_class\": 0, \"B11\": 0.19155, \"B12\": 0.1275, \"B2\": 0.09105, \"B3\": 0.0826, \"B4\": 0.07045, \"B5\": 0.0989, \"B6\": 0.15575, \"B7\": 0.176, \"B8\": 0.17185, \"classification\": 2}}, {\"type\": \"Feature\", \"geometry\": {\"type\": \"Point\", \"coordinates\": [19.04585511071175, -33.969119688076965]}, \"id\": \"00000000000000000004\", \"properties\": {\"2023_class\": 0, \"B11\": 0.2264, \"B12\": 0.1673, \"B2\": 0.1105, \"B3\": 0.1027, \"B4\": 0.102, \"B5\": 0.1198, \"B6\": 0.1589, \"B7\": 0.1859, \"B8\": 0.1942, \"classification\": 4}}, {\"type\": \"Feature\", \"geometry\": {\"type\": \"Point\", \"coordinates\": [19.054122284064835, -33.971273433885784]}, \"id\": \"00000000000000000005\", \"properties\": {\"2023_class\": 0, \"B11\": 0.1959, \"B12\": 0.1395, \"B2\": 0.0986, \"B3\": 0.0894, \"B4\": 0.0805, \"B5\": 0.1101, \"B6\": 0.1519, \"B7\": 0.1651, \"B8\": 0.1587, \"classification\": 4}}, {\"type\": \"Feature\", \"geometry\": {\"type\": \"Point\", \"coordinates\": [19.063910010877144, -33.9535797209057]}, \"id\": \"00000000000000000006\", \"properties\": {\"2023_class\": 0, \"B11\": 0.19375, \"B12\": 0.12425, \"B2\": 0.11015, \"B3\": 0.1066, \"B4\": 0.1004, \"B5\": 0.1358, \"B6\": 0.1897, \"B7\": 0.20855, \"B8\": 0.2015, \"classification\": 3}}]}))\n",
       "            });\n",
       "        </script>\n",
       "    "
      ],
      "text/plain": [
       "<IPython.core.display.HTML object>"
      ]
     },
     "metadata": {},
     "output_type": "display_data"
    }
   ],
   "source": [
    "testData = ee.FeatureCollection(\"projects/ee-gsingh/assets/postdoc/iMAD_2023_extracted_nomask\")\n",
    "# # Load the classifier after the export finishes and visualize.\n",
    "# classifier = ee.Classifier.load(assetId)\n",
    "\n",
    "test = testData.limit(5).classify(classifier)\n",
    "eeprint(test.limit(5))"
   ]
  },
  {
   "cell_type": "code",
   "execution_count": 31,
   "metadata": {
    "cellUniqueIdByVincent": "28010"
   },
   "outputs": [
    {
     "data": {
      "text/html": [
       "\n",
       "            <style>\n",
       "                .geemap-dark {\n",
       "                    --jp-widgets-color: white;\n",
       "                    --jp-widgets-label-color: white;\n",
       "                    --jp-ui-font-color1: white;\n",
       "                    --jp-layout-color2: #454545;\n",
       "                    background-color: #383838;\n",
       "                }\n",
       "\n",
       "                .geemap-dark .jupyter-button {\n",
       "                    --jp-layout-color3: #383838;\n",
       "                }\n",
       "\n",
       "                .geemap-colab {\n",
       "                    background-color: var(--colab-primary-surface-color, white);\n",
       "                }\n",
       "\n",
       "                .geemap-colab .jupyter-button {\n",
       "                    --jp-layout-color3: var(--colab-primary-surface-color, white);\n",
       "                }\n",
       "            </style>\n",
       "            "
      ],
      "text/plain": [
       "<IPython.core.display.HTML object>"
      ]
     },
     "metadata": {},
     "output_type": "display_data"
    },
    {
     "data": {
      "text/plain": [
       "{'state': 'READY',\n",
       " 'description': 'stratified_sample_asset',\n",
       " 'priority': 100,\n",
       " 'creation_timestamp_ms': 1752706122591,\n",
       " 'update_timestamp_ms': 1752706122591,\n",
       " 'start_timestamp_ms': 0,\n",
       " 'task_type': 'EXPORT_FEATURES',\n",
       " 'id': '5D5US34G6XQUKIIYYF4IT7PT',\n",
       " 'name': 'projects/ee-gsingh/operations/5D5US34G6XQUKIIYYF4IT7PT'}"
      ]
     },
     "execution_count": 31,
     "metadata": {},
     "output_type": "execute_result"
    }
   ],
   "source": [
    "task = ee.batch.Export.table.toAsset(\n",
    "    collection=testData.set({'Acc':conf_matrix.accuracy()}),  # your stratified sample FeatureCollection\n",
    "    description='stratified_sample_asset',\n",
    "    assetId='projects/ee-gsingh/assets/postdoc/iMAD_2023_extracted_nomask_wattr'\n",
    ")\n",
    "task.start()\n",
    "task.status()"
   ]
  },
  {
   "cell_type": "code",
   "execution_count": 32,
   "metadata": {
    "cellUniqueIdByVincent": "21cf6"
   },
   "outputs": [
    {
     "data": {
      "text/html": [
       "\n",
       "            <style>\n",
       "                .geemap-dark {\n",
       "                    --jp-widgets-color: white;\n",
       "                    --jp-widgets-label-color: white;\n",
       "                    --jp-ui-font-color1: white;\n",
       "                    --jp-layout-color2: #454545;\n",
       "                    background-color: #383838;\n",
       "                }\n",
       "\n",
       "                .geemap-dark .jupyter-button {\n",
       "                    --jp-layout-color3: #383838;\n",
       "                }\n",
       "\n",
       "                .geemap-colab {\n",
       "                    background-color: var(--colab-primary-surface-color, white);\n",
       "                }\n",
       "\n",
       "                .geemap-colab .jupyter-button {\n",
       "                    --jp-layout-color3: var(--colab-primary-surface-color, white);\n",
       "                }\n",
       "            </style>\n",
       "            "
      ],
      "text/plain": [
       "<IPython.core.display.HTML object>"
      ]
     },
     "metadata": {},
     "output_type": "display_data"
    },
    {
     "data": {
      "text/html": [
       "<div id=\"6dacad63-6330-4e16-9b15-7ab3ea6a72a2\" style=\"height: auto; width:100%;\"></div>"
      ],
      "text/plain": [
       "<IPython.core.display.HTML object>"
      ]
     },
     "metadata": {},
     "output_type": "display_data"
    },
    {
     "data": {
      "text/html": [
       "\n",
       "        <script src=\"/static/components/requirejs/require.js\"></script> <!-- Needed in Colab -->\n",
       "        <script>\n",
       "            require([\"https://rawgit.com/caldwell/renderjson/master/renderjson.js\"], function() {\n",
       "              renderjson.set_show_to_level(1)\n",
       "              document.getElementById('6dacad63-6330-4e16-9b15-7ab3ea6a72a2').appendChild(renderjson(0))\n",
       "            });\n",
       "        </script>\n",
       "    "
      ],
      "text/plain": [
       "<IPython.core.display.HTML object>"
      ]
     },
     "metadata": {},
     "output_type": "display_data"
    }
   ],
   "source": [
    "eeprint(ee.FeatureCollection(\"projects/ee-gsingh/assets/postdoc/iMAD_2023_extracted_nomask_wattr\").get('Acc'))"
   ]
  },
  {
   "cell_type": "markdown",
   "metadata": {
    "cellUniqueIdByVincent": "c8718"
   },
   "source": [
    "### Repeat process after masking"
   ]
  },
  {
   "cell_type": "code",
   "execution_count": null,
   "id": "48735016",
   "metadata": {
    "cellUniqueIdByVincent": "73489"
   },
   "outputs": [
    {
     "data": {
      "text/html": [
       "\n",
       "            <style>\n",
       "                .geemap-dark {\n",
       "                    --jp-widgets-color: white;\n",
       "                    --jp-widgets-label-color: white;\n",
       "                    --jp-ui-font-color1: white;\n",
       "                    --jp-layout-color2: #454545;\n",
       "                    background-color: #383838;\n",
       "                }\n",
       "\n",
       "                .geemap-dark .jupyter-button {\n",
       "                    --jp-layout-color3: #383838;\n",
       "                }\n",
       "\n",
       "                .geemap-colab {\n",
       "                    background-color: var(--colab-primary-surface-color, white);\n",
       "                }\n",
       "\n",
       "                .geemap-colab .jupyter-button {\n",
       "                    --jp-layout-color3: var(--colab-primary-surface-color, white);\n",
       "                }\n",
       "            </style>\n",
       "            "
      ],
      "text/plain": [
       "<IPython.core.display.HTML object>"
      ]
     },
     "metadata": {},
     "output_type": "display_data"
    }
   ],
   "source": [
    "# Add the classification band to composite for stratified sampling\n",
    "composite_with_class = composite2023.addBands(classified.rename('class')).updateMask(im_z.lt(95.811))\n",
    "\n",
    "# Perform stratified sampling\n",
    "sample = composite_with_class.stratifiedSample(\n",
    "    numPoints=0,  # must be 0 if you're using classValues & classPoints\n",
    "    classBand='class',\n",
    "    classValues=list(class_counts.keys()),\n",
    "    classPoints=list(class_counts.values()),\n",
    "    region=region,\n",
    "    scale=10,\n",
    "    geometries=True,  # set to True if you want point geometry\n",
    "    seed=42\n",
    ")\n",
    "\n",
    "# Optional: print sample count\n",
    "sample_size = sample.size()\n",
    "print(f\"Sample size (should be {allocated_total}):\", sample_size.getInfo())"
   ]
  },
  {
   "cell_type": "code",
   "execution_count": 61,
   "metadata": {
    "cellUniqueIdByVincent": "5e26f"
   },
   "outputs": [
    {
     "data": {
      "text/html": [
       "\n",
       "            <style>\n",
       "                .geemap-dark {\n",
       "                    --jp-widgets-color: white;\n",
       "                    --jp-widgets-label-color: white;\n",
       "                    --jp-ui-font-color1: white;\n",
       "                    --jp-layout-color2: #454545;\n",
       "                    background-color: #383838;\n",
       "                }\n",
       "\n",
       "                .geemap-dark .jupyter-button {\n",
       "                    --jp-layout-color3: #383838;\n",
       "                }\n",
       "\n",
       "                .geemap-colab {\n",
       "                    background-color: var(--colab-primary-surface-color, white);\n",
       "                }\n",
       "\n",
       "                .geemap-colab .jupyter-button {\n",
       "                    --jp-layout-color3: var(--colab-primary-surface-color, white);\n",
       "                }\n",
       "            </style>\n",
       "            "
      ],
      "text/plain": [
       "<IPython.core.display.HTML object>"
      ]
     },
     "metadata": {},
     "output_type": "display_data"
    },
    {
     "data": {
      "text/html": [
       "<div id=\"47d0213a-e9ad-4f81-8583-dcbae0ee8622\" style=\"height: auto; width:100%;\"></div>"
      ],
      "text/plain": [
       "<IPython.core.display.HTML object>"
      ]
     },
     "metadata": {},
     "output_type": "display_data"
    },
    {
     "data": {
      "text/html": [
       "\n",
       "        <script src=\"/static/components/requirejs/require.js\"></script> <!-- Needed in Colab -->\n",
       "        <script>\n",
       "            require([\"https://rawgit.com/caldwell/renderjson/master/renderjson.js\"], function() {\n",
       "              renderjson.set_show_to_level(1)\n",
       "              document.getElementById('47d0213a-e9ad-4f81-8583-dcbae0ee8622').appendChild(renderjson({\"type\": \"FeatureCollection\", \"columns\": {\"2018_2023\": \"Float\", \"2023_class\": \"Long\", \"change\": \"Long\", \"class\": \"Long\", \"fid\": \"Long\", \"group\": \"Long\", \"layer\": \"String\", \"notes\": \"String\", \"path\": \"String\", \"system:index\": \"String\"}, \"version\": 1750928796749160.0, \"id\": \"projects/ee-geethensingh/assets/postdoc/aliens_sep2018_bioscape2023\", \"properties\": {\"system:asset_size\": 84232}, \"features\": [{\"type\": \"Feature\", \"geometry\": {\"type\": \"Point\", \"coordinates\": [19.156093006955036, -33.99033609088925]}, \"id\": \"000000000000000005c6\", \"properties\": {\"2018_2023\": 0.002137792789123, \"2023_class\": 10, \"change\": 1, \"class\": 0, \"fid\": 1497, \"group\": 0, \"layer\": \"valid\", \"notes\": \"seasonal w\", \"path\": \"/Users/glennmoncrieff/Documents/qgis/valid.gpkg|layername=valid\"}}, {\"type\": \"Feature\", \"geometry\": {\"type\": \"Point\", \"coordinates\": [19.15603057954029, -33.988949310461635]}, \"id\": \"000000000000000005c7\", \"properties\": {\"2018_2023\": 0.003597025643361, \"2023_class\": 10, \"change\": 1, \"class\": 0, \"fid\": 1498, \"group\": 0, \"layer\": \"valid\", \"notes\": \"seasonal w\", \"path\": \"/Users/glennmoncrieff/Documents/qgis/valid.gpkg|layername=valid\"}}, {\"type\": \"Feature\", \"geometry\": {\"type\": \"Point\", \"coordinates\": [19.317039800378108, -33.79746659302456]}, \"id\": \"000000000000000005e5\", \"properties\": {\"2018_2023\": 0.025748214573377, \"2023_class\": 0, \"change\": 1, \"class\": 1, \"fid\": 1528, \"group\": 0, \"layer\": \"valid\", \"notes\": \"\", \"path\": \"/Users/glennmoncrieff/Documents/qgis/valid.gpkg|layername=valid\"}}, {\"type\": \"Feature\", \"geometry\": {\"type\": \"Point\", \"coordinates\": [19.039153081828417, -33.9604957866396]}, \"id\": \"00000000000000000532\", \"properties\": {\"2018_2023\": \"None\", \"2023_class\": 0, \"change\": 1, \"class\": 2, \"fid\": 1349, \"group\": 0, \"layer\": \"valid\", \"notes\": \"\", \"path\": \"/Users/glennmoncrieff/Documents/qgis/valid.gpkg|layername=valid\"}}, {\"type\": \"Feature\", \"geometry\": {\"type\": \"Point\", \"coordinates\": [19.04585511071175, -33.969119688076965]}, \"id\": \"00000000000000000533\", \"properties\": {\"2018_2023\": \"None\", \"2023_class\": 0, \"change\": 1, \"class\": 2, \"fid\": 1, \"group\": 0, \"layer\": \"valid\", \"notes\": \"\", \"path\": \"/Users/glennmoncrieff/Documents/qgis/valid.gpkg|layername=valid\"}}]}))\n",
       "            });\n",
       "        </script>\n",
       "    "
      ],
      "text/plain": [
       "<IPython.core.display.HTML object>"
      ]
     },
     "metadata": {},
     "output_type": "display_data"
    }
   ],
   "source": [
    "# Train Random Forest classifier\n",
    "classifier = ee.Classifier.smileRandomForest(numberOfTrees=10).train(\n",
    "    features=sample,\n",
    "    classProperty=class_property,\n",
    "    inputProperties=bands\n",
    ")\n",
    "\n",
    "# Classify the composite image\n",
    "classified = composite2023.classify(classifier)\n",
    "\n",
    "# Evaluate accuracy on test set\n",
    "\n",
    "# Step 1: Filter out features where 2023_class == 12\n",
    "filtered_pts = pts.filter(ee.Filter.neq('2023_class', 12))\n",
    "\n",
    "# Step 2: Map over features and conditionally update '2023_class'\n",
    "def update_2023_class(f):\n",
    "    change = ee.Number(f.get('change'))\n",
    "    new_class = ee.Algorithms.If(\n",
    "        change.eq(0),\n",
    "        f.get('class'),        # if change == 0 → set to 'class'\n",
    "        f.get('2023_class')    # if change == 1 → leave unchanged\n",
    "    )\n",
    "    return f.set('2023_class', new_class)\n",
    "\n",
    "updated_pts = filtered_pts.map(update_2023_class)\n",
    "eeprint(updated_pts.limit(5))\n",
    "\n",
    "# Sample the classified image using the test points\n",
    "testData = classified.sampleRegions(\n",
    "    collection= updated_pts,\n",
    "    properties=['2023_class'],\n",
    "    scale=10,\n",
    "    geometries=True  # preserve geometry if needed\n",
    ")\n",
    "# eeprint(testData.limit(5))\n"
   ]
  },
  {
   "cell_type": "code",
   "execution_count": 63,
   "metadata": {
    "cellUniqueIdByVincent": "abeb7"
   },
   "outputs": [
    {
     "data": {
      "text/html": [
       "\n",
       "            <style>\n",
       "                .geemap-dark {\n",
       "                    --jp-widgets-color: white;\n",
       "                    --jp-widgets-label-color: white;\n",
       "                    --jp-ui-font-color1: white;\n",
       "                    --jp-layout-color2: #454545;\n",
       "                    background-color: #383838;\n",
       "                }\n",
       "\n",
       "                .geemap-dark .jupyter-button {\n",
       "                    --jp-layout-color3: #383838;\n",
       "                }\n",
       "\n",
       "                .geemap-colab {\n",
       "                    background-color: var(--colab-primary-surface-color, white);\n",
       "                }\n",
       "\n",
       "                .geemap-colab .jupyter-button {\n",
       "                    --jp-layout-color3: var(--colab-primary-surface-color, white);\n",
       "                }\n",
       "            </style>\n",
       "            "
      ],
      "text/plain": [
       "<IPython.core.display.HTML object>"
      ]
     },
     "metadata": {},
     "output_type": "display_data"
    },
    {
     "data": {
      "text/html": [
       "<div id=\"758f6494-a58c-4d74-a233-3c2fd8b20cf2\" style=\"height: auto; width:100%;\"></div>"
      ],
      "text/plain": [
       "<IPython.core.display.HTML object>"
      ]
     },
     "metadata": {},
     "output_type": "display_data"
    },
    {
     "data": {
      "text/html": [
       "\n",
       "        <script src=\"/static/components/requirejs/require.js\"></script> <!-- Needed in Colab -->\n",
       "        <script>\n",
       "            require([\"https://rawgit.com/caldwell/renderjson/master/renderjson.js\"], function() {\n",
       "              renderjson.set_show_to_level(1)\n",
       "              document.getElementById('758f6494-a58c-4d74-a233-3c2fd8b20cf2').appendChild(renderjson(0.2826086956521739))\n",
       "            });\n",
       "        </script>\n",
       "    "
      ],
      "text/plain": [
       "<IPython.core.display.HTML object>"
      ]
     },
     "metadata": {},
     "output_type": "display_data"
    }
   ],
   "source": [
    "conf_matrix = testData.errorMatrix('2023_class', 'classification')\n",
    "eeprint(conf_matrix.accuracy())"
   ]
  },
  {
   "cell_type": "code",
   "execution_count": 64,
   "metadata": {
    "cellUniqueIdByVincent": "8b696"
   },
   "outputs": [
    {
     "data": {
      "text/html": [
       "\n",
       "            <style>\n",
       "                .geemap-dark {\n",
       "                    --jp-widgets-color: white;\n",
       "                    --jp-widgets-label-color: white;\n",
       "                    --jp-ui-font-color1: white;\n",
       "                    --jp-layout-color2: #454545;\n",
       "                    background-color: #383838;\n",
       "                }\n",
       "\n",
       "                .geemap-dark .jupyter-button {\n",
       "                    --jp-layout-color3: #383838;\n",
       "                }\n",
       "\n",
       "                .geemap-colab {\n",
       "                    background-color: var(--colab-primary-surface-color, white);\n",
       "                }\n",
       "\n",
       "                .geemap-colab .jupyter-button {\n",
       "                    --jp-layout-color3: var(--colab-primary-surface-color, white);\n",
       "                }\n",
       "            </style>\n",
       "            "
      ],
      "text/plain": [
       "<IPython.core.display.HTML object>"
      ]
     },
     "metadata": {},
     "output_type": "display_data"
    },
    {
     "data": {
      "text/plain": [
       "{'state': 'READY',\n",
       " 'description': 'stratified_sample_asset',\n",
       " 'priority': 100,\n",
       " 'creation_timestamp_ms': 1752748983256,\n",
       " 'update_timestamp_ms': 1752748983256,\n",
       " 'start_timestamp_ms': 0,\n",
       " 'task_type': 'EXPORT_FEATURES',\n",
       " 'id': 'T6FYUSLOE777MJ6EF777K4OD',\n",
       " 'name': 'projects/ee-gsingh/operations/T6FYUSLOE777MJ6EF777K4OD'}"
      ]
     },
     "execution_count": 64,
     "metadata": {},
     "output_type": "execute_result"
    }
   ],
   "source": [
    "task = ee.batch.Export.table.toAsset(\n",
    "    collection=testData.set({'Acc':conf_matrix.accuracy()}),  # your stratified sample FeatureCollection\n",
    "    description='stratified_sample_asset',\n",
    "    assetId='projects/ee-gsingh/assets/postdoc/iMAD_2023_extracted_wmask_wattr'\n",
    ")\n",
    "task.start()\n",
    "task.status()"
   ]
  },
  {
   "cell_type": "markdown",
   "metadata": {
    "cellUniqueIdByVincent": "66db7"
   },
   "source": [
    "## Semi-supervised approach"
   ]
  },
  {
   "cell_type": "code",
   "execution_count": 73,
   "id": "1cb99bf5",
   "metadata": {
    "cellUniqueIdByVincent": "7df3f"
   },
   "outputs": [
    {
     "data": {
      "text/html": [
       "\n",
       "            <style>\n",
       "                .geemap-dark {\n",
       "                    --jp-widgets-color: white;\n",
       "                    --jp-widgets-label-color: white;\n",
       "                    --jp-ui-font-color1: white;\n",
       "                    --jp-layout-color2: #454545;\n",
       "                    background-color: #383838;\n",
       "                }\n",
       "\n",
       "                .geemap-dark .jupyter-button {\n",
       "                    --jp-layout-color3: #383838;\n",
       "                }\n",
       "\n",
       "                .geemap-colab {\n",
       "                    background-color: var(--colab-primary-surface-color, white);\n",
       "                }\n",
       "\n",
       "                .geemap-colab .jupyter-button {\n",
       "                    --jp-layout-color3: var(--colab-primary-surface-color, white);\n",
       "                }\n",
       "            </style>\n",
       "            "
      ],
      "text/plain": [
       "<IPython.core.display.HTML object>"
      ]
     },
     "metadata": {},
     "output_type": "display_data"
    },
    {
     "name": "stdout",
     "output_type": "stream",
     "text": [
      "Confusion Matrix:\n",
      " [[12, 0, 1, 9, 11, 0, 1, 0, 2, 0, 1, 0, 0], [1, 3, 0, 2, 0, 1, 2, 0, 2, 0, 0, 0, 0], [1, 2, 31, 13, 6, 2, 3, 0, 1, 0, 0, 0, 0], [0, 0, 6, 69, 10, 0, 4, 0, 13, 0, 0, 0, 0], [1, 0, 2, 13, 63, 0, 0, 4, 6, 2, 0, 0, 0], [0, 4, 5, 2, 2, 18, 4, 0, 3, 0, 0, 0, 0], [0, 5, 2, 2, 0, 2, 21, 0, 6, 0, 0, 0, 0], [0, 1, 0, 4, 22, 0, 0, 31, 1, 2, 0, 0, 0], [0, 0, 3, 6, 6, 2, 1, 0, 36, 0, 0, 0, 0], [0, 0, 0, 0, 0, 0, 0, 0, 0, 0, 0, 0, 0], [0, 0, 0, 0, 0, 0, 0, 0, 0, 0, 20, 0, 0], [0, 0, 0, 0, 0, 0, 0, 0, 0, 0, 0, 0, 0], [0, 0, 3, 6, 5, 2, 1, 0, 5, 0, 0, 0, 0]]\n",
      "Overall Accuracy: 0.5703564727954972\n",
      "Kappa: 0.5057980872790289\n"
     ]
    }
   ],
   "source": [
    "# Using the manual labelled change no change\n",
    "class_property = 'class'  # target column\n",
    "\n",
    "# Extract band names from image\n",
    "bands = composite2018.bandNames()\n",
    "\n",
    "# Sample the image using the training points\n",
    "sampled18 = composite2018.sampleRegions(\n",
    "    collection=pts,\n",
    "    properties=[class_property],\n",
    "    scale=10,\n",
    "    geometries=True  # preserve geometry if needed\n",
    ")\n",
    "\n",
    "# Step 2: Map over features and conditionally update '2023_class'\n",
    "def update_2023_class(f):\n",
    "    change = ee.Number(f.get('change'))\n",
    "    new_class = ee.Algorithms.If(\n",
    "        change.eq(0),\n",
    "        f.get('class'),        # if change == 0 → set to 'class'\n",
    "        f.get('2023_class')    # if change == 1 → leave unchanged\n",
    "    )\n",
    "    return f.set('2023_class', new_class)\n",
    "\n",
    "updated_pts = pts.map(update_2023_class)\n",
    "\n",
    "# Step 1: Filter out features where 2023_class == 12 and select no-change pts\n",
    "filtered_pts = updated_pts.filter(ee.Filter.neq('2023_class', 12)).filter(ee.Filter.eq('change', 0))\n",
    "\n",
    "# Sample the classified image using the test points\n",
    "sampled23 = composite2023.sampleRegions(\n",
    "    collection= filtered_pts,\n",
    "    properties=['class', '2023_class'],\n",
    "    scale=10,\n",
    "    geometries=True  # preserve geometry if needed\n",
    ")\n",
    "\n",
    "# combine sampled points\n",
    "sampled = sampled18.merge(sampled23)\n",
    "\n",
    "# Split into training/testing (70/30 split)\n",
    "withRandom = sampled.randomColumn('random')\n",
    "trainData = withRandom.filter(ee.Filter.lt('random', 0.7))\n",
    "testData = withRandom.filter(ee.Filter.gte('random', 0.7))\n",
    "\n",
    "# Train Random Forest classifier\n",
    "classifier = ee.Classifier.smileRandomForest(numberOfTrees=10).train(\n",
    "    features=trainData,\n",
    "    classProperty=class_property,\n",
    "    inputProperties=bands\n",
    ")\n",
    "\n",
    "# Classify the composite image\n",
    "classified = composite2023.clip(aoi).classify(classifier).rename('class')\n",
    "\n",
    "# Change pts\n",
    "change_pts = updated_pts.filter(ee.Filter.eq('change', 1))\n",
    "\n",
    "# Sample the classified image using the test points\n",
    "sampledchange23 = composite2023.addBands(classified).sampleRegions(\n",
    "    collection= change_pts,\n",
    "    properties=['2023_class'],\n",
    "    scale=10,\n",
    "    geometries=True  # preserve geometry if needed\n",
    ")\n",
    "\n",
    "# Combine pseudo-labelled points with the rest\n",
    "sampled = sampled.merge(sampledchange23)\n",
    "\n",
    "# Split into training/testing (70/30 split)\n",
    "withRandom = sampled.randomColumn('random')\n",
    "trainData = withRandom.filter(ee.Filter.lt('random', 0.7))\n",
    "testData = withRandom.filter(ee.Filter.gte('random', 0.7))\n",
    "\n",
    "# Train Random Forest classifier\n",
    "classifier = ee.Classifier.smileRandomForest(numberOfTrees=10).train(\n",
    "    features=trainData,\n",
    "    classProperty=class_property,\n",
    "    inputProperties=bands\n",
    ")\n",
    "\n",
    "# Evaluate accuracy on test set\n",
    "test = testData.classify(classifier)\n",
    "\n",
    "conf_matrix = test.errorMatrix('2023_class', 'classification')\n",
    "print('Confusion Matrix:\\n', conf_matrix.getInfo())\n",
    "print('Overall Accuracy:', conf_matrix.accuracy().getInfo())\n",
    "print('Kappa:', conf_matrix.kappa().getInfo())\n"
   ]
  },
  {
   "cell_type": "code",
   "execution_count": 74,
   "metadata": {
    "cellUniqueIdByVincent": "f697b"
   },
   "outputs": [
    {
     "data": {
      "text/html": [
       "\n",
       "            <style>\n",
       "                .geemap-dark {\n",
       "                    --jp-widgets-color: white;\n",
       "                    --jp-widgets-label-color: white;\n",
       "                    --jp-ui-font-color1: white;\n",
       "                    --jp-layout-color2: #454545;\n",
       "                    background-color: #383838;\n",
       "                }\n",
       "\n",
       "                .geemap-dark .jupyter-button {\n",
       "                    --jp-layout-color3: #383838;\n",
       "                }\n",
       "\n",
       "                .geemap-colab {\n",
       "                    background-color: var(--colab-primary-surface-color, white);\n",
       "                }\n",
       "\n",
       "                .geemap-colab .jupyter-button {\n",
       "                    --jp-layout-color3: var(--colab-primary-surface-color, white);\n",
       "                }\n",
       "            </style>\n",
       "            "
      ],
      "text/plain": [
       "<IPython.core.display.HTML object>"
      ]
     },
     "metadata": {},
     "output_type": "display_data"
    },
    {
     "data": {
      "text/html": [
       "<div id=\"3bf58ff1-cfda-4351-be6e-2363b7c13c0b\" style=\"height: auto; width:100%;\"></div>"
      ],
      "text/plain": [
       "<IPython.core.display.HTML object>"
      ]
     },
     "metadata": {},
     "output_type": "display_data"
    },
    {
     "data": {
      "text/html": [
       "\n",
       "        <script src=\"/static/components/requirejs/require.js\"></script> <!-- Needed in Colab -->\n",
       "        <script>\n",
       "            require([\"https://rawgit.com/caldwell/renderjson/master/renderjson.js\"], function() {\n",
       "              renderjson.set_show_to_level(1)\n",
       "              document.getElementById('3bf58ff1-cfda-4351-be6e-2363b7c13c0b').appendChild(renderjson({\"type\": \"FeatureCollection\", \"columns\": {}, \"properties\": {\"band_order\": [\"B2\", \"B3\", \"B4\", \"B5\", \"B6\", \"B7\", \"B8\", \"B11\", \"B12\", \"change\"]}, \"features\": [{\"type\": \"Feature\", \"geometry\": {\"geodesic\": false, \"type\": \"Point\", \"coordinates\": [19.072625870547828, -33.80553551927845]}, \"id\": \"000000000000000003fb_0\", \"properties\": {\"2023_class\": 0, \"B11\": 0.27505, \"B12\": 0.1823, \"B2\": 0.15, \"B3\": 0.14865, \"B4\": 0.15835, \"B5\": 0.1681, \"B6\": 0.20965, \"B7\": 0.22755, \"B8\": 0.2634, \"change\": 0, \"class\": 0}}, {\"type\": \"Feature\", \"geometry\": {\"geodesic\": false, \"type\": \"Point\", \"coordinates\": [19.07792593072413, -33.80796097054557]}, \"id\": \"000000000000000003fc_0\", \"properties\": {\"2023_class\": 0, \"B11\": 0.1276, \"B12\": 0.07865, \"B2\": 0.12595, \"B3\": 0.12255, \"B4\": 0.1251, \"B5\": 0.11825, \"B6\": 0.143, \"B7\": 0.1508, \"B8\": 0.1534, \"change\": 0, \"class\": 0}}, {\"type\": \"Feature\", \"geometry\": {\"geodesic\": false, \"type\": \"Point\", \"coordinates\": [19.078195425309367, -33.80823046513081]}, \"id\": \"000000000000000003fd_0\", \"properties\": {\"2023_class\": 0, \"B11\": 0.1014, \"B12\": 0.06245, \"B2\": 0.0961, \"B3\": 0.08235, \"B4\": 0.07385, \"B5\": 0.0903, \"B6\": 0.0967, \"B7\": 0.10565, \"B8\": 0.0831, \"change\": 0, \"class\": 0}}, {\"type\": \"Feature\", \"geometry\": {\"geodesic\": false, \"type\": \"Point\", \"coordinates\": [19.14952165886846, -33.735826253230776]}, \"id\": \"0000000000000000045a_0\", \"properties\": {\"2023_class\": 0, \"B11\": 0.1948, \"B12\": 0.1119, \"B2\": 0.1391, \"B3\": 0.1322, \"B4\": 0.1501, \"B5\": 0.135, \"B6\": 0.182, \"B7\": 0.2132, \"B8\": 0.2412, \"change\": 0, \"class\": 0}}, {\"type\": \"Feature\", \"geometry\": {\"geodesic\": false, \"type\": \"Point\", \"coordinates\": [19.266572140389233, -33.75280441210064]}, \"id\": \"00000000000000000468_0\", \"properties\": {\"2023_class\": 0, \"B11\": 0.29175, \"B12\": 0.2171, \"B2\": 0.142, \"B3\": 0.1354, \"B4\": 0.1458, \"B5\": 0.1626, \"B6\": 0.19265, \"B7\": 0.20745, \"B8\": 0.21005, \"change\": 1, \"class\": 0}}]}))\n",
       "            });\n",
       "        </script>\n",
       "    "
      ],
      "text/plain": [
       "<IPython.core.display.HTML object>"
      ]
     },
     "metadata": {},
     "output_type": "display_data"
    },
    {
     "data": {
      "text/html": [
       "<div id=\"d4da1e6d-66b3-4b38-8077-5747a2072d51\" style=\"height: auto; width:100%;\"></div>"
      ],
      "text/plain": [
       "<IPython.core.display.HTML object>"
      ]
     },
     "metadata": {},
     "output_type": "display_data"
    },
    {
     "data": {
      "text/html": [
       "\n",
       "        <script src=\"/static/components/requirejs/require.js\"></script> <!-- Needed in Colab -->\n",
       "        <script>\n",
       "            require([\"https://rawgit.com/caldwell/renderjson/master/renderjson.js\"], function() {\n",
       "              renderjson.set_show_to_level(1)\n",
       "              document.getElementById('d4da1e6d-66b3-4b38-8077-5747a2072d51').appendChild(renderjson({\"type\": \"FeatureCollection\", \"columns\": {}, \"properties\": {\"band_order\": [\"B2\", \"B3\", \"B4\", \"B5\", \"B6\", \"B7\", \"B8\", \"B11\", \"B12\"]}, \"features\": [{\"type\": \"Feature\", \"geometry\": {\"geodesic\": false, \"type\": \"Point\", \"coordinates\": [19.266572140389233, -33.75280441210064]}, \"id\": \"00000000000000000468_0_0\", \"properties\": {\"2023_class\": 0, \"B11\": 0.2787, \"B12\": 0.2105, \"B2\": 0.1429, \"B3\": 0.1358, \"B4\": 0.1425, \"B5\": 0.1617, \"B6\": 0.1862, \"B7\": 0.203, \"B8\": 0.2034, \"class\": 0}}, {\"type\": \"Feature\", \"geometry\": {\"geodesic\": false, \"type\": \"Point\", \"coordinates\": [19.22749542553003, -33.73663473698648]}, \"id\": \"00000000000000000478_0_0\", \"properties\": {\"2023_class\": 2, \"B11\": 0.12345, \"B12\": 0.07065, \"B2\": 0.0813, \"B3\": 0.06845, \"B4\": 0.0548, \"B5\": 0.0769, \"B6\": 0.15095, \"B7\": 0.18095, \"B8\": 0.17815, \"class\": 2}}, {\"type\": \"Feature\", \"geometry\": {\"geodesic\": false, \"type\": \"Point\", \"coordinates\": [19.22884289845621, -33.736275410872835]}, \"id\": \"00000000000000000479_0_0\", \"properties\": {\"2023_class\": 2, \"B11\": 0.1339, \"B12\": 0.0834, \"B2\": 0.0949, \"B3\": 0.0796, \"B4\": 0.0682, \"B5\": 0.08585, \"B6\": 0.15865, \"B7\": 0.184, \"B8\": 0.1776, \"class\": 2}}, {\"type\": \"Feature\", \"geometry\": {\"geodesic\": false, \"type\": \"Point\", \"coordinates\": [19.222015702296904, -33.73304147585001]}, \"id\": \"0000000000000000047f_0_0\", \"properties\": {\"2023_class\": 2, \"B11\": 0.1855, \"B12\": 0.1253, \"B2\": 0.0955, \"B3\": 0.083, \"B4\": 0.0714, \"B5\": 0.1013, \"B6\": 0.1547, \"B7\": 0.1774, \"B8\": 0.1755, \"class\": 2}}, {\"type\": \"Feature\", \"geometry\": {\"geodesic\": false, \"type\": \"Point\", \"coordinates\": [19.22641744718909, -33.73277198126477]}, \"id\": \"00000000000000000481_0_0\", \"properties\": {\"2023_class\": 2, \"B11\": 0.2021, \"B12\": 0.1416, \"B2\": 0.0991, \"B3\": 0.0874, \"B4\": 0.0803, \"B5\": 0.1002, \"B6\": 0.1517, \"B7\": 0.1731, \"B8\": 0.1674, \"class\": 2}}]}))\n",
       "            });\n",
       "        </script>\n",
       "    "
      ],
      "text/plain": [
       "<IPython.core.display.HTML object>"
      ]
     },
     "metadata": {},
     "output_type": "display_data"
    },
    {
     "name": "stdout",
     "output_type": "stream",
     "text": [
      "Confusion Matrix:\n",
      " [[10, 0, 6, 6, 15, 2, 0, 1, 0, 0, 0, 0, 0], [0, 7, 0, 1, 0, 0, 3, 0, 2, 0, 0, 0, 0], [0, 0, 59, 15, 2, 3, 1, 0, 4, 0, 0, 0, 0], [0, 0, 8, 115, 18, 0, 4, 2, 7, 6, 1, 0, 0], [0, 0, 1, 32, 83, 0, 0, 13, 6, 14, 0, 0, 0], [0, 1, 6, 4, 0, 23, 1, 0, 6, 0, 0, 0, 0], [0, 4, 12, 7, 0, 2, 21, 0, 3, 0, 0, 0, 0], [3, 0, 0, 8, 16, 0, 0, 40, 0, 8, 0, 0, 0], [0, 1, 1, 35, 14, 3, 2, 3, 34, 2, 0, 0, 0], [0, 0, 0, 0, 0, 0, 0, 0, 0, 0, 0, 0, 0], [0, 0, 0, 0, 1, 0, 0, 0, 0, 1, 29, 0, 0], [0, 0, 0, 0, 0, 0, 0, 0, 0, 0, 0, 0, 0], [1, 1, 8, 7, 0, 0, 0, 0, 1, 0, 0, 0, 0]]\n",
      "Overall Accuracy: 0.5568783068783069\n",
      "Kappa: 0.48189305631134693\n"
     ]
    }
   ],
   "source": [
    "# Using the IRMAD binary layer to split change and no-change points\n",
    "class_property = 'class'  # target column\n",
    "\n",
    "# Extract band names from image\n",
    "bands = composite2018.bandNames()\n",
    "\n",
    "# Step 2: Map over features and conditionally update '2023_class'\n",
    "def update_2023_class(f):\n",
    "    change = ee.Number(f.get('change'))\n",
    "    new_class = ee.Algorithms.If(\n",
    "        change.eq(0),\n",
    "        f.get('class'),        # if change == 0 → set to 'class'\n",
    "        f.get('2023_class')    # if change == 1 → leave unchanged\n",
    "    )\n",
    "    return f.set('2023_class', new_class)\n",
    "\n",
    "updated_pts = pts.map(update_2023_class)\n",
    "\n",
    "# Sample the image using the training points\n",
    "sampled18 = composite2018.addBands(im_z.lt(95.811).rename('change')).sampleRegions(\n",
    "    collection= updated_pts,\n",
    "    properties=[class_property, '2023_class'],\n",
    "    scale=10,\n",
    "    geometries=True  # preserve geometry if needed\n",
    ")\n",
    "eeprint(sampled18.limit(5))\n",
    "\n",
    "# Step 1: Filter out features where 2023_class == 12 and select no-change pts\n",
    "filtered_pts = sampled18.select(['change', 'class', '2023_class']).filter(ee.Filter.eq('change', 1))\n",
    "\n",
    "# Sample the classified image using the test points\n",
    "sampled23 = composite2023.sampleRegions(\n",
    "    collection= filtered_pts,\n",
    "    properties=['class', '2023_class'],\n",
    "    scale=10,\n",
    "    geometries=True  # preserve geometry if needed\n",
    ")\n",
    "eeprint(sampled23.limit(5))\n",
    "# combine sampled points\n",
    "sampled = sampled18.merge(sampled23)\n",
    "\n",
    "# Split into training/testing (70/30 split)\n",
    "withRandom = sampled.randomColumn('random')\n",
    "trainData = withRandom.filter(ee.Filter.lt('random', 0.7))\n",
    "testData = withRandom.filter(ee.Filter.gte('random', 0.7))\n",
    "\n",
    "# Train Random Forest classifier\n",
    "classifier = ee.Classifier.smileRandomForest(numberOfTrees=10).train(\n",
    "    features=trainData,\n",
    "    classProperty=class_property,\n",
    "    inputProperties=bands\n",
    ")\n",
    "\n",
    "# Classify the composite image-used for pseudo labels\n",
    "classified = composite2023.clip(aoi).classify(classifier).rename('class')\n",
    "\n",
    "# Change pts\n",
    "change_pts = sampled18.select('change').filter(ee.Filter.eq('change', 0))\n",
    "\n",
    "# Get pseudo labels for change points\n",
    "sampledchange23 = composite2023.addBands(classified).sampleRegions(\n",
    "    collection= change_pts,\n",
    "    properties=['2023_class'],\n",
    "    scale=10,\n",
    "    geometries=True  # preserve geometry if needed\n",
    ")\n",
    "\n",
    "# Combine pseudo-labelled points with the rest\n",
    "sampled = sampled.merge(sampledchange23)\n",
    "\n",
    "# Split into training/testing (70/30 split)\n",
    "withRandom = sampled.randomColumn('random')\n",
    "trainData = withRandom.filter(ee.Filter.lt('random', 0.7))\n",
    "testData = withRandom.filter(ee.Filter.gte('random', 0.7))\n",
    "\n",
    "# Train Random Forest classifier\n",
    "classifier = ee.Classifier.smileRandomForest(numberOfTrees=10).train(\n",
    "    features=trainData,\n",
    "    classProperty=class_property,\n",
    "    inputProperties=bands\n",
    ")\n",
    "\n",
    "# Evaluate accuracy on test set\n",
    "test = testData.classify(classifier)\n",
    "\n",
    "conf_matrix = test.errorMatrix('2023_class', 'classification')\n",
    "print('Confusion Matrix:\\n', conf_matrix.getInfo())\n",
    "print('Overall Accuracy:', conf_matrix.accuracy().getInfo())\n",
    "print('Kappa:', conf_matrix.kappa().getInfo())\n"
   ]
  }
 ],
 "metadata": {
  "kernelspec": {
   "display_name": "erthy",
   "language": "python",
   "name": "python3"
  },
  "language_info": {
   "codemirror_mode": {
    "name": "ipython",
    "version": 3
   },
   "file_extension": ".py",
   "mimetype": "text/x-python",
   "name": "python",
   "nbconvert_exporter": "python",
   "pygments_lexer": "ipython3",
   "version": "3.12.7"
  },
  "vincent": {
   "sessionId": "9ca611947c77ed6a1faffa7a_2025-07-08T15-01-45-974Z"
  }
 },
 "nbformat": 4,
 "nbformat_minor": 5
}
