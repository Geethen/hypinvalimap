{
  "cells": [
    {
      "cell_type": "markdown",
      "metadata": {
        "cellUniqueIdByVincent": "75e2b",
        "colab_type": "text",
        "id": "view-in-github"
      },
      "source": [
        "<a href=\"https://colab.research.google.com/github/Geethen/Invasive_Species_Mapping/blob/main/example_usuage/end_to_end_example.ipynb\" target=\"_parent\"><img src=\"https://colab.research.google.com/assets/colab-badge.svg\" alt=\"Open In Colab\"/></a>"
      ]
    },
    {
      "cell_type": "markdown",
      "id": "0b4899cf-61c6-4e20-90e9-c56d28055a43",
      "metadata": {
        "cellUniqueIdByVincent": "bec4e",
        "id": "0b4899cf-61c6-4e20-90e9-c56d28055a43"
      },
      "source": [
        "## This notebook demonstrates the 8 steps to create and export an invasive tree species image\n",
        "> #### Input: Reference points (GEE FeatureCollection) containing the classes of interest as a property.\n",
        "> #### Arguments: A start and end data, cloud threshold, area of interest, image composite interval\n",
        "> #### Output: Invasive Tree species map\n",
        "\n",
        "**Step 1**: Install and load modules  \n",
        "**Step 2**: Prepare time series composite and additional covariates  \n",
        "**Step 3**: Prepare dataset for model training and evaluation  \n",
        "**Step 4**: Export data (optional)  \n",
        "**Step 5**: Fit model  \n",
        "**Step 6**: Model evaluation  \n",
        "**Step 7**: Visualize classified image  \n",
        "**Step 8**: Export classified image  "
      ]
    },
    {
      "cell_type": "markdown",
      "id": "39321781-e6a0-464e-b44b-bd836b6bf868",
      "metadata": {
        "cellUniqueIdByVincent": "ae957",
        "id": "39321781-e6a0-464e-b44b-bd836b6bf868"
      },
      "source": [
        "## Step 1: Install and load modules"
      ]
    },
    {
      "cell_type": "code",
      "execution_count": 1,
      "id": "j5D_3ZoGy4O0",
      "metadata": {
        "cellUniqueIdByVincent": "a3c67",
        "colab": {
          "base_uri": "https://localhost:8080/"
        },
        "id": "j5D_3ZoGy4O0",
        "outputId": "9db3a7cf-9c62-46f8-acc9-d4e5311eadcb"
      },
      "outputs": [
        {
          "name": "stdout",
          "output_type": "stream",
          "text": [
            "Note: you may need to restart the kernel to use updated packages.\n"
          ]
        }
      ],
      "source": [
        "%uv pip install watermark geemap geeml -q\n",
        "# !git clone https://github.com/Geethen/Invasive_Species_Mapping.git\n",
        "# import sys\n",
        "# sys.path.insert(0,'/content/Invasive_Species_Mapping/code')"
      ]
    },
    {
      "cell_type": "code",
      "execution_count": 1,
      "id": "d53a5572-9404-4250-8eac-bc406bb8b17f",
      "metadata": {
        "cellUniqueIdByVincent": "04038",
        "colab": {
          "base_uri": "https://localhost:8080/"
        },
        "id": "d53a5572-9404-4250-8eac-bc406bb8b17f",
        "outputId": "1efd4997-e64f-47bd-8489-363c43c8435e"
      },
      "outputs": [],
      "source": [
        "%load_ext watermark"
      ]
    },
    {
      "cell_type": "code",
      "execution_count": 2,
      "id": "448dab3e-099a-42b1-a713-746c116939a9",
      "metadata": {
        "cellUniqueIdByVincent": "4c24e",
        "id": "448dab3e-099a-42b1-a713-746c116939a9",
        "tags": []
      },
      "outputs": [],
      "source": [
        "import ee\n",
        "try:\n",
        "    ee.Authenticate(auth_mode='notebook')\n",
        "    ee.Initialize(project = 'ee-gsingh')\n",
        "except: \n",
        "    ee.Authenticate()\n",
        "    ee.Initialize()\n",
        "import geemap\n",
        "\n",
        "# Add module to environment varibles\n",
        "import sys\n",
        "MODULE_FULL_PATH = r'C:\\Users\\coach\\myfiles\\postdoc\\code\\Invasive_Species_Mapping\\code'\n",
        "sys.path.insert(1, MODULE_FULL_PATH)\n",
        "\n",
        "# Load python modules with preprocessing functions. \n",
        "from timeSeriesFunctions import prepareTS\n",
        "from covariateFunctions import prepareCovariates\n",
        "from trainDataFunctions import prepareTrainingData\n",
        "from modelFitFunctions import prepareModel\n",
        "from metricFunctions import prepareMetrics\n",
        "from geeml.utils import eeprint"
      ]
    },
    {
      "cell_type": "code",
      "execution_count": 3,
      "id": "04481f99-f9a7-4975-a193-8a494c3379b0",
      "metadata": {
        "cellUniqueIdByVincent": "147f5",
        "colab": {
          "base_uri": "https://localhost:8080/"
        },
        "id": "04481f99-f9a7-4975-a193-8a494c3379b0",
        "outputId": "bd070667-5d7c-484f-fc8c-d67d190a16b5"
      },
      "outputs": [
        {
          "data": {
            "text/html": [
              "\n",
              "            <style>\n",
              "                .geemap-dark {\n",
              "                    --jp-widgets-color: white;\n",
              "                    --jp-widgets-label-color: white;\n",
              "                    --jp-ui-font-color1: white;\n",
              "                    --jp-layout-color2: #454545;\n",
              "                    background-color: #383838;\n",
              "                }\n",
              "\n",
              "                .geemap-dark .jupyter-button {\n",
              "                    --jp-layout-color3: #383838;\n",
              "                }\n",
              "\n",
              "                .geemap-colab {\n",
              "                    background-color: var(--colab-primary-surface-color, white);\n",
              "                }\n",
              "\n",
              "                .geemap-colab .jupyter-button {\n",
              "                    --jp-layout-color3: var(--colab-primary-surface-color, white);\n",
              "                }\n",
              "            </style>\n",
              "            "
            ],
            "text/plain": [
              "<IPython.core.display.HTML object>"
            ]
          },
          "metadata": {},
          "output_type": "display_data"
        },
        {
          "name": "stdout",
          "output_type": "stream",
          "text": [
            "Python implementation: CPython\n",
            "Python version       : 3.12.7\n",
            "IPython version      : 9.4.0\n",
            "\n",
            "Compiler    : MSC v.1929 64 bit (AMD64)\n",
            "OS          : Windows\n",
            "Release     : 11\n",
            "Machine     : AMD64\n",
            "Processor   : Intel64 Family 6 Model 165 Stepping 2, GenuineIntel\n",
            "CPU cores   : 12\n",
            "Architecture: 64bit\n",
            "\n",
            "sys   : 3.12.7 | packaged by Anaconda, Inc. | (main, Oct  4 2024, 13:17:27) [MSC v.1929 64 bit (AMD64)]\n",
            "geeml : 0.0.7\n",
            "ee    : 1.5.24\n",
            "geemap: 0.35.3\n",
            "\n"
          ]
        }
      ],
      "source": [
        "%watermark -v -m --iversions"
      ]
    },
    {
      "cell_type": "code",
      "execution_count": 4,
      "id": "c9f17116-f174-41cf-bc8f-4265baff6ebd",
      "metadata": {
        "cellUniqueIdByVincent": "f79bd",
        "colab": {
          "base_uri": "https://localhost:8080/",
          "height": 621,
          "referenced_widgets": [
            "5a05a9280c4a438da657c35486c23d7e",
            "5c3840a811f54f32b8c5616a032a8ebe",
            "c7e05e8d7b28460d8e5368e24001c0ea",
            "7911dd383c53456b8a66adac456a0e95",
            "99953ebdf8b443e5a295c8d947298e16",
            "b30257624a31438098763680d13d099a",
            "0a59b46e8ce245b783b65541e5520a61",
            "3deba392c64945e79d845687d08b9b0c",
            "4c765673b23b4098ae7189707efeb2e8",
            "96f4457a3e644ec89126314fdfdd140c",
            "488bd15f5a6a47a994f377757fc09472",
            "14b9d37b50c5458c9355d93b9b43f769",
            "975cfcb600a04d13bc4918e36c407676",
            "5efe48de5ac042d48c82fc966d56ed96",
            "fcf27285929f45c58e1faaa508d9c1c8",
            "6475d0c218a74a56af07a935057c545a",
            "00efed53d75e40a1b4b8e985cde783f8",
            "dbcd98777a724f1f8647b7a25c58a02a",
            "daccdfbf68994e01a4d4fd22b47916f9",
            "be8faec93dc84a5da5d686410bc90fb1",
            "f2caa8e3644340c390a543a537f655b1",
            "b787dafe07f9425b9d92981f3180db06",
            "7cc4f24a72c44ad5a410165daabdf839",
            "dada2a9f8ed74a53ae14860a127d4eb8",
            "9fa284af5e9e491cb159763a13977e8f",
            "3e7d3e4db8b54c58b053e8938d55ba97"
          ]
        },
        "id": "c9f17116-f174-41cf-bc8f-4265baff6ebd",
        "outputId": "abb517b5-5806-4a6d-8444-75517a3ed2bb"
      },
      "outputs": [
        {
          "data": {
            "text/html": [
              "\n",
              "            <style>\n",
              "                .geemap-dark {\n",
              "                    --jp-widgets-color: white;\n",
              "                    --jp-widgets-label-color: white;\n",
              "                    --jp-ui-font-color1: white;\n",
              "                    --jp-layout-color2: #454545;\n",
              "                    background-color: #383838;\n",
              "                }\n",
              "\n",
              "                .geemap-dark .jupyter-button {\n",
              "                    --jp-layout-color3: #383838;\n",
              "                }\n",
              "\n",
              "                .geemap-colab {\n",
              "                    background-color: var(--colab-primary-surface-color, white);\n",
              "                }\n",
              "\n",
              "                .geemap-colab .jupyter-button {\n",
              "                    --jp-layout-color3: var(--colab-primary-surface-color, white);\n",
              "                }\n",
              "            </style>\n",
              "            "
            ],
            "text/plain": [
              "<IPython.core.display.HTML object>"
            ]
          },
          "metadata": {},
          "output_type": "display_data"
        },
        {
          "data": {
            "application/vnd.jupyter.widget-view+json": {
              "model_id": "b5fa5e7a3a36443c8620decc3852e919",
              "version_major": 2,
              "version_minor": 0
            },
            "text/plain": [
              "Map(center=[0, 0], controls=(WidgetControl(options=['position', 'transparent_bg'], widget=SearchDataGUI(childr…"
            ]
          },
          "execution_count": 4,
          "metadata": {},
          "output_type": "execute_result"
        }
      ],
      "source": [
        "Map = geemap.Map()\n",
        "Map"
      ]
    },
    {
      "cell_type": "markdown",
      "id": "4e8dad9c-3373-47a8-a4d7-ae9f8a728d53",
      "metadata": {
        "cellUniqueIdByVincent": "84052",
        "id": "4e8dad9c-3373-47a8-a4d7-ae9f8a728d53"
      },
      "source": [
        "## Step 2: Prepare time series composite\n",
        "\n",
        "### Prepare Sentinel-2 Data"
      ]
    },
    {
      "cell_type": "code",
      "execution_count": 5,
      "metadata": {
        "cellUniqueIdByVincent": "f29ad"
      },
      "outputs": [
        {
          "data": {
            "text/html": [
              "\n",
              "            <style>\n",
              "                .geemap-dark {\n",
              "                    --jp-widgets-color: white;\n",
              "                    --jp-widgets-label-color: white;\n",
              "                    --jp-ui-font-color1: white;\n",
              "                    --jp-layout-color2: #454545;\n",
              "                    background-color: #383838;\n",
              "                }\n",
              "\n",
              "                .geemap-dark .jupyter-button {\n",
              "                    --jp-layout-color3: #383838;\n",
              "                }\n",
              "\n",
              "                .geemap-colab {\n",
              "                    background-color: var(--colab-primary-surface-color, white);\n",
              "                }\n",
              "\n",
              "                .geemap-colab .jupyter-button {\n",
              "                    --jp-layout-color3: var(--colab-primary-surface-color, white);\n",
              "                }\n",
              "            </style>\n",
              "            "
            ],
            "text/plain": [
              "<IPython.core.display.HTML object>"
            ]
          },
          "metadata": {},
          "output_type": "display_data"
        }
      ],
      "source": [
        "points = ee.FeatureCollection('projects/ee-geethensingh/assets/postdoc/aliens_sep2018_bioscape2023')\n",
        "aoi = points.geometry().bounds().centroid()\n",
        "study_area1 = points.geometry().bounds()"
      ]
    },
    {
      "cell_type": "code",
      "execution_count": 12,
      "id": "f1d4f76d-6be9-47aa-8b1c-8f4f378b4d62",
      "metadata": {
        "cellUniqueIdByVincent": "a37de",
        "colab": {
          "base_uri": "https://localhost:8080/",
          "height": 68
        },
        "id": "f1d4f76d-6be9-47aa-8b1c-8f4f378b4d62",
        "outputId": "967713bf-6bc8-4ddb-a0d1-1120e2b69897",
        "tags": []
      },
      "outputs": [
        {
          "data": {
            "text/html": [
              "\n",
              "            <style>\n",
              "                .geemap-dark {\n",
              "                    --jp-widgets-color: white;\n",
              "                    --jp-widgets-label-color: white;\n",
              "                    --jp-ui-font-color1: white;\n",
              "                    --jp-layout-color2: #454545;\n",
              "                    background-color: #383838;\n",
              "                }\n",
              "\n",
              "                .geemap-dark .jupyter-button {\n",
              "                    --jp-layout-color3: #383838;\n",
              "                }\n",
              "\n",
              "                .geemap-colab {\n",
              "                    background-color: var(--colab-primary-surface-color, white);\n",
              "                }\n",
              "\n",
              "                .geemap-colab .jupyter-button {\n",
              "                    --jp-layout-color3: var(--colab-primary-surface-color, white);\n",
              "                }\n",
              "            </style>\n",
              "            "
            ],
            "text/plain": [
              "<IPython.core.display.HTML object>"
            ]
          },
          "metadata": {},
          "output_type": "display_data"
        },
        {
          "data": {
            "text/html": [
              "<div><style>:root {\n",
              "  --font-color-primary: var(--jp-content-font-color0, rgba(0, 0, 0, 1));\n",
              "  --font-color-secondary: var(--jp-content-font-color2, rgba(0, 0, 0, 0.7));\n",
              "  --font-color-accent: rgba(123, 31, 162, 1);\n",
              "  --border-color: var(--jp-border-color2, #e0e0e0);\n",
              "  --background-color: var(--jp-layout-color0, white);\n",
              "  --background-color-row-even: var(--jp-layout-color1, white);\n",
              "  --background-color-row-odd: var(--jp-layout-color2, #eeeeee);\n",
              "}\n",
              "\n",
              "html[theme=\"dark\"],\n",
              "body[data-theme=\"dark\"],\n",
              "body.vscode-dark {\n",
              "  --font-color-primary: rgba(255, 255, 255, 1);\n",
              "  --font-color-secondary: rgba(255, 255, 255, 0.7);\n",
              "  --font-color-accent: rgb(173, 132, 190);\n",
              "  --border-color: #2e2e2e;\n",
              "  --background-color: #111111;\n",
              "  --background-color-row-even: #111111;\n",
              "  --background-color-row-odd: #313131;\n",
              "}\n",
              "\n",
              ".eerepr {\n",
              "  padding: 1em;\n",
              "  line-height: 1.5em;\n",
              "  min-width: 300px;\n",
              "  max-width: 1200px;\n",
              "  overflow-y: scroll;\n",
              "  max-height: 600px;\n",
              "  border: 1px solid var(--border-color);\n",
              "  font-family: monospace;\n",
              "  font-size: 14px;\n",
              "}\n",
              "\n",
              ".eerepr li {\n",
              "  list-style-type: none;\n",
              "  margin: 0;\n",
              "}\n",
              "\n",
              ".eerepr ul {\n",
              "  padding-left: 1.5em !important;\n",
              "  margin: 0;\n",
              "}\n",
              "\n",
              ".eerepr > ul {\n",
              "  padding-left: 0 !important;\n",
              "}\n",
              "\n",
              ".eerepr summary {\n",
              "  color: var(--font-color-secondary);\n",
              "  cursor: pointer;\n",
              "  margin: 0;\n",
              "}\n",
              "\n",
              ".eerepr summary:hover {\n",
              "  color: var(--font-color-primary);\n",
              "  background-color: var(--background-color-row-odd)\n",
              "}\n",
              "\n",
              ".ee-k {\n",
              "  color: var(--font-color-accent);\n",
              "  margin-right: 6px;\n",
              "}\n",
              "\n",
              ".ee-v {\n",
              "  color: var(--font-color-primary);\n",
              "}\n",
              "\n",
              ".eerepr details > summary::before {\n",
              "  content: '▼';\n",
              "  display: inline-block;\n",
              "  margin-right: 6px;\n",
              "  transition: transform 0.2s;\n",
              "  transform: rotate(-90deg);\n",
              "}\n",
              "\n",
              ".eerepr details[open] > summary::before {\n",
              "  transform: rotate(0deg);\n",
              "}\n",
              "\n",
              ".eerepr details summary::-webkit-details-marker {\n",
              "  display:none;\n",
              "}\n",
              "\n",
              ".eerepr details summary {\n",
              "  list-style-type: none;\n",
              "}\n",
              "</style><div class='eerepr'><ul><li><details><summary>List (235 elements)</summary><ul><li><span class='ee-k'>0:</span><span class='ee-v'>imageT0_B1</span></li><li><span class='ee-k'>1:</span><span class='ee-v'>imageT0_B2</span></li><li><span class='ee-k'>2:</span><span class='ee-v'>imageT0_B3</span></li><li><span class='ee-k'>3:</span><span class='ee-v'>imageT0_B4</span></li><li><span class='ee-k'>4:</span><span class='ee-v'>imageT0_B5</span></li><li><span class='ee-k'>5:</span><span class='ee-v'>imageT0_B6</span></li><li><span class='ee-k'>6:</span><span class='ee-v'>imageT0_B7</span></li><li><span class='ee-k'>7:</span><span class='ee-v'>imageT0_B8</span></li><li><span class='ee-k'>8:</span><span class='ee-v'>imageT0_B8A</span></li><li><span class='ee-k'>9:</span><span class='ee-v'>imageT0_B9</span></li><li><span class='ee-k'>10:</span><span class='ee-v'>imageT0_B11</span></li><li><span class='ee-k'>11:</span><span class='ee-v'>imageT0_B12</span></li><li><span class='ee-k'>12:</span><span class='ee-v'>imageT0_ndvi</span></li><li><span class='ee-k'>13:</span><span class='ee-v'>imageT0_ndwi</span></li><li><span class='ee-k'>14:</span><span class='ee-v'>imageT0_ndre</span></li><li><span class='ee-k'>15:</span><span class='ee-v'>imageT0_nbr</span></li><li><span class='ee-k'>16:</span><span class='ee-v'>imageT0_evi</span></li><li><span class='ee-k'>17:</span><span class='ee-v'>imageT1_B1</span></li><li><span class='ee-k'>18:</span><span class='ee-v'>imageT1_B2</span></li><li><span class='ee-k'>19:</span><span class='ee-v'>imageT1_B3</span></li><li><span class='ee-k'>20:</span><span class='ee-v'>imageT1_B4</span></li><li><span class='ee-k'>21:</span><span class='ee-v'>imageT1_B5</span></li><li><span class='ee-k'>22:</span><span class='ee-v'>imageT1_B6</span></li><li><span class='ee-k'>23:</span><span class='ee-v'>imageT1_B7</span></li><li><span class='ee-k'>24:</span><span class='ee-v'>imageT1_B8</span></li><li><span class='ee-k'>25:</span><span class='ee-v'>imageT1_B8A</span></li><li><span class='ee-k'>26:</span><span class='ee-v'>imageT1_B9</span></li><li><span class='ee-k'>27:</span><span class='ee-v'>imageT1_B11</span></li><li><span class='ee-k'>28:</span><span class='ee-v'>imageT1_B12</span></li><li><span class='ee-k'>29:</span><span class='ee-v'>imageT1_ndvi</span></li><li><span class='ee-k'>30:</span><span class='ee-v'>imageT1_ndwi</span></li><li><span class='ee-k'>31:</span><span class='ee-v'>imageT1_ndre</span></li><li><span class='ee-k'>32:</span><span class='ee-v'>imageT1_nbr</span></li><li><span class='ee-k'>33:</span><span class='ee-v'>imageT1_evi</span></li><li><span class='ee-k'>34:</span><span class='ee-v'>imageT2_B1</span></li><li><span class='ee-k'>35:</span><span class='ee-v'>imageT2_B2</span></li><li><span class='ee-k'>36:</span><span class='ee-v'>imageT2_B3</span></li><li><span class='ee-k'>37:</span><span class='ee-v'>imageT2_B4</span></li><li><span class='ee-k'>38:</span><span class='ee-v'>imageT2_B5</span></li><li><span class='ee-k'>39:</span><span class='ee-v'>imageT2_B6</span></li><li><span class='ee-k'>40:</span><span class='ee-v'>imageT2_B7</span></li><li><span class='ee-k'>41:</span><span class='ee-v'>imageT2_B8</span></li><li><span class='ee-k'>42:</span><span class='ee-v'>imageT2_B8A</span></li><li><span class='ee-k'>43:</span><span class='ee-v'>imageT2_B9</span></li><li><span class='ee-k'>44:</span><span class='ee-v'>imageT2_B11</span></li><li><span class='ee-k'>45:</span><span class='ee-v'>imageT2_B12</span></li><li><span class='ee-k'>46:</span><span class='ee-v'>imageT2_ndvi</span></li><li><span class='ee-k'>47:</span><span class='ee-v'>imageT2_ndwi</span></li><li><span class='ee-k'>48:</span><span class='ee-v'>imageT2_ndre</span></li><li><span class='ee-k'>49:</span><span class='ee-v'>imageT2_nbr</span></li><li><span class='ee-k'>50:</span><span class='ee-v'>imageT2_evi</span></li><li><span class='ee-k'>51:</span><span class='ee-v'>imageT3_B1</span></li><li><span class='ee-k'>52:</span><span class='ee-v'>imageT3_B2</span></li><li><span class='ee-k'>53:</span><span class='ee-v'>imageT3_B3</span></li><li><span class='ee-k'>54:</span><span class='ee-v'>imageT3_B4</span></li><li><span class='ee-k'>55:</span><span class='ee-v'>imageT3_B5</span></li><li><span class='ee-k'>56:</span><span class='ee-v'>imageT3_B6</span></li><li><span class='ee-k'>57:</span><span class='ee-v'>imageT3_B7</span></li><li><span class='ee-k'>58:</span><span class='ee-v'>imageT3_B8</span></li><li><span class='ee-k'>59:</span><span class='ee-v'>imageT3_B8A</span></li><li><span class='ee-k'>60:</span><span class='ee-v'>imageT3_B9</span></li><li><span class='ee-k'>61:</span><span class='ee-v'>imageT3_B11</span></li><li><span class='ee-k'>62:</span><span class='ee-v'>imageT3_B12</span></li><li><span class='ee-k'>63:</span><span class='ee-v'>imageT3_ndvi</span></li><li><span class='ee-k'>64:</span><span class='ee-v'>imageT3_ndwi</span></li><li><span class='ee-k'>65:</span><span class='ee-v'>imageT3_ndre</span></li><li><span class='ee-k'>66:</span><span class='ee-v'>imageT3_nbr</span></li><li><span class='ee-k'>67:</span><span class='ee-v'>imageT3_evi</span></li><li><span class='ee-k'>68:</span><span class='ee-v'>imageT4_B1</span></li><li><span class='ee-k'>69:</span><span class='ee-v'>imageT4_B2</span></li><li><span class='ee-k'>70:</span><span class='ee-v'>imageT4_B3</span></li><li><span class='ee-k'>71:</span><span class='ee-v'>imageT4_B4</span></li><li><span class='ee-k'>72:</span><span class='ee-v'>imageT4_B5</span></li><li><span class='ee-k'>73:</span><span class='ee-v'>imageT4_B6</span></li><li><span class='ee-k'>74:</span><span class='ee-v'>imageT4_B7</span></li><li><span class='ee-k'>75:</span><span class='ee-v'>imageT4_B8</span></li><li><span class='ee-k'>76:</span><span class='ee-v'>imageT4_B8A</span></li><li><span class='ee-k'>77:</span><span class='ee-v'>imageT4_B9</span></li><li><span class='ee-k'>78:</span><span class='ee-v'>imageT4_B11</span></li><li><span class='ee-k'>79:</span><span class='ee-v'>imageT4_B12</span></li><li><span class='ee-k'>80:</span><span class='ee-v'>imageT4_ndvi</span></li><li><span class='ee-k'>81:</span><span class='ee-v'>imageT4_ndwi</span></li><li><span class='ee-k'>82:</span><span class='ee-v'>imageT4_ndre</span></li><li><span class='ee-k'>83:</span><span class='ee-v'>imageT4_nbr</span></li><li><span class='ee-k'>84:</span><span class='ee-v'>imageT4_evi</span></li><li><span class='ee-k'>85:</span><span class='ee-v'>imageT5_B1</span></li><li><span class='ee-k'>86:</span><span class='ee-v'>imageT5_B2</span></li><li><span class='ee-k'>87:</span><span class='ee-v'>imageT5_B3</span></li><li><span class='ee-k'>88:</span><span class='ee-v'>imageT5_B4</span></li><li><span class='ee-k'>89:</span><span class='ee-v'>imageT5_B5</span></li><li><span class='ee-k'>90:</span><span class='ee-v'>imageT5_B6</span></li><li><span class='ee-k'>91:</span><span class='ee-v'>imageT5_B7</span></li><li><span class='ee-k'>92:</span><span class='ee-v'>imageT5_B8</span></li><li><span class='ee-k'>93:</span><span class='ee-v'>imageT5_B8A</span></li><li><span class='ee-k'>94:</span><span class='ee-v'>imageT5_B9</span></li><li><span class='ee-k'>95:</span><span class='ee-v'>imageT5_B11</span></li><li><span class='ee-k'>96:</span><span class='ee-v'>imageT5_B12</span></li><li><span class='ee-k'>97:</span><span class='ee-v'>imageT5_ndvi</span></li><li><span class='ee-k'>98:</span><span class='ee-v'>imageT5_ndwi</span></li><li><span class='ee-k'>99:</span><span class='ee-v'>imageT5_ndre</span></li><li><span class='ee-k'>100:</span><span class='ee-v'>imageT5_nbr</span></li><li><span class='ee-k'>101:</span><span class='ee-v'>imageT5_evi</span></li><li><span class='ee-k'>102:</span><span class='ee-v'>imageT6_B1</span></li><li><span class='ee-k'>103:</span><span class='ee-v'>imageT6_B2</span></li><li><span class='ee-k'>104:</span><span class='ee-v'>imageT6_B3</span></li><li><span class='ee-k'>105:</span><span class='ee-v'>imageT6_B4</span></li><li><span class='ee-k'>106:</span><span class='ee-v'>imageT6_B5</span></li><li><span class='ee-k'>107:</span><span class='ee-v'>imageT6_B6</span></li><li><span class='ee-k'>108:</span><span class='ee-v'>imageT6_B7</span></li><li><span class='ee-k'>109:</span><span class='ee-v'>imageT6_B8</span></li><li><span class='ee-k'>110:</span><span class='ee-v'>imageT6_B8A</span></li><li><span class='ee-k'>111:</span><span class='ee-v'>imageT6_B9</span></li><li><span class='ee-k'>112:</span><span class='ee-v'>imageT6_B11</span></li><li><span class='ee-k'>113:</span><span class='ee-v'>imageT6_B12</span></li><li><span class='ee-k'>114:</span><span class='ee-v'>imageT6_ndvi</span></li><li><span class='ee-k'>115:</span><span class='ee-v'>imageT6_ndwi</span></li><li><span class='ee-k'>116:</span><span class='ee-v'>imageT6_ndre</span></li><li><span class='ee-k'>117:</span><span class='ee-v'>imageT6_nbr</span></li><li><span class='ee-k'>118:</span><span class='ee-v'>imageT6_evi</span></li><li><span class='ee-k'>119:</span><span class='ee-v'>imageT7_B1</span></li><li><span class='ee-k'>120:</span><span class='ee-v'>imageT7_B2</span></li><li><span class='ee-k'>121:</span><span class='ee-v'>imageT7_B3</span></li><li><span class='ee-k'>122:</span><span class='ee-v'>imageT7_B4</span></li><li><span class='ee-k'>123:</span><span class='ee-v'>imageT7_B5</span></li><li><span class='ee-k'>124:</span><span class='ee-v'>imageT7_B6</span></li><li><span class='ee-k'>125:</span><span class='ee-v'>imageT7_B7</span></li><li><span class='ee-k'>126:</span><span class='ee-v'>imageT7_B8</span></li><li><span class='ee-k'>127:</span><span class='ee-v'>imageT7_B8A</span></li><li><span class='ee-k'>128:</span><span class='ee-v'>imageT7_B9</span></li><li><span class='ee-k'>129:</span><span class='ee-v'>imageT7_B11</span></li><li><span class='ee-k'>130:</span><span class='ee-v'>imageT7_B12</span></li><li><span class='ee-k'>131:</span><span class='ee-v'>imageT7_ndvi</span></li><li><span class='ee-k'>132:</span><span class='ee-v'>imageT7_ndwi</span></li><li><span class='ee-k'>133:</span><span class='ee-v'>imageT7_ndre</span></li><li><span class='ee-k'>134:</span><span class='ee-v'>imageT7_nbr</span></li><li><span class='ee-k'>135:</span><span class='ee-v'>imageT7_evi</span></li><li><span class='ee-k'>136:</span><span class='ee-v'>imageT8_B1</span></li><li><span class='ee-k'>137:</span><span class='ee-v'>imageT8_B2</span></li><li><span class='ee-k'>138:</span><span class='ee-v'>imageT8_B3</span></li><li><span class='ee-k'>139:</span><span class='ee-v'>imageT8_B4</span></li><li><span class='ee-k'>140:</span><span class='ee-v'>imageT8_B5</span></li><li><span class='ee-k'>141:</span><span class='ee-v'>imageT8_B6</span></li><li><span class='ee-k'>142:</span><span class='ee-v'>imageT8_B7</span></li><li><span class='ee-k'>143:</span><span class='ee-v'>imageT8_B8</span></li><li><span class='ee-k'>144:</span><span class='ee-v'>imageT8_B8A</span></li><li><span class='ee-k'>145:</span><span class='ee-v'>imageT8_B9</span></li><li><span class='ee-k'>146:</span><span class='ee-v'>imageT8_B11</span></li><li><span class='ee-k'>147:</span><span class='ee-v'>imageT8_B12</span></li><li><span class='ee-k'>148:</span><span class='ee-v'>imageT8_ndvi</span></li><li><span class='ee-k'>149:</span><span class='ee-v'>imageT8_ndwi</span></li><li><span class='ee-k'>150:</span><span class='ee-v'>imageT8_ndre</span></li><li><span class='ee-k'>151:</span><span class='ee-v'>imageT8_nbr</span></li><li><span class='ee-k'>152:</span><span class='ee-v'>imageT8_evi</span></li><li><span class='ee-k'>153:</span><span class='ee-v'>imageT9_B1</span></li><li><span class='ee-k'>154:</span><span class='ee-v'>imageT9_B2</span></li><li><span class='ee-k'>155:</span><span class='ee-v'>imageT9_B3</span></li><li><span class='ee-k'>156:</span><span class='ee-v'>imageT9_B4</span></li><li><span class='ee-k'>157:</span><span class='ee-v'>imageT9_B5</span></li><li><span class='ee-k'>158:</span><span class='ee-v'>imageT9_B6</span></li><li><span class='ee-k'>159:</span><span class='ee-v'>imageT9_B7</span></li><li><span class='ee-k'>160:</span><span class='ee-v'>imageT9_B8</span></li><li><span class='ee-k'>161:</span><span class='ee-v'>imageT9_B8A</span></li><li><span class='ee-k'>162:</span><span class='ee-v'>imageT9_B9</span></li><li><span class='ee-k'>163:</span><span class='ee-v'>imageT9_B11</span></li><li><span class='ee-k'>164:</span><span class='ee-v'>imageT9_B12</span></li><li><span class='ee-k'>165:</span><span class='ee-v'>imageT9_ndvi</span></li><li><span class='ee-k'>166:</span><span class='ee-v'>imageT9_ndwi</span></li><li><span class='ee-k'>167:</span><span class='ee-v'>imageT9_ndre</span></li><li><span class='ee-k'>168:</span><span class='ee-v'>imageT9_nbr</span></li><li><span class='ee-k'>169:</span><span class='ee-v'>imageT9_evi</span></li><li><span class='ee-k'>170:</span><span class='ee-v'>imageT10_B1</span></li><li><span class='ee-k'>171:</span><span class='ee-v'>imageT10_B2</span></li><li><span class='ee-k'>172:</span><span class='ee-v'>imageT10_B3</span></li><li><span class='ee-k'>173:</span><span class='ee-v'>imageT10_B4</span></li><li><span class='ee-k'>174:</span><span class='ee-v'>imageT10_B5</span></li><li><span class='ee-k'>175:</span><span class='ee-v'>imageT10_B6</span></li><li><span class='ee-k'>176:</span><span class='ee-v'>imageT10_B7</span></li><li><span class='ee-k'>177:</span><span class='ee-v'>imageT10_B8</span></li><li><span class='ee-k'>178:</span><span class='ee-v'>imageT10_B8A</span></li><li><span class='ee-k'>179:</span><span class='ee-v'>imageT10_B9</span></li><li><span class='ee-k'>180:</span><span class='ee-v'>imageT10_B11</span></li><li><span class='ee-k'>181:</span><span class='ee-v'>imageT10_B12</span></li><li><span class='ee-k'>182:</span><span class='ee-v'>imageT10_ndvi</span></li><li><span class='ee-k'>183:</span><span class='ee-v'>imageT10_ndwi</span></li><li><span class='ee-k'>184:</span><span class='ee-v'>imageT10_ndre</span></li><li><span class='ee-k'>185:</span><span class='ee-v'>imageT10_nbr</span></li><li><span class='ee-k'>186:</span><span class='ee-v'>imageT10_evi</span></li><li><span class='ee-k'>187:</span><span class='ee-v'>imageT11_B1</span></li><li><span class='ee-k'>188:</span><span class='ee-v'>imageT11_B2</span></li><li><span class='ee-k'>189:</span><span class='ee-v'>imageT11_B3</span></li><li><span class='ee-k'>190:</span><span class='ee-v'>imageT11_B4</span></li><li><span class='ee-k'>191:</span><span class='ee-v'>imageT11_B5</span></li><li><span class='ee-k'>192:</span><span class='ee-v'>imageT11_B6</span></li><li><span class='ee-k'>193:</span><span class='ee-v'>imageT11_B7</span></li><li><span class='ee-k'>194:</span><span class='ee-v'>imageT11_B8</span></li><li><span class='ee-k'>195:</span><span class='ee-v'>imageT11_B8A</span></li><li><span class='ee-k'>196:</span><span class='ee-v'>imageT11_B9</span></li><li><span class='ee-k'>197:</span><span class='ee-v'>imageT11_B11</span></li><li><span class='ee-k'>198:</span><span class='ee-v'>imageT11_B12</span></li><li><span class='ee-k'>199:</span><span class='ee-v'>imageT11_ndvi</span></li><li><span class='ee-k'>200:</span><span class='ee-v'>imageT11_ndwi</span></li><li><span class='ee-k'>201:</span><span class='ee-v'>imageT11_ndre</span></li><li><span class='ee-k'>202:</span><span class='ee-v'>imageT11_nbr</span></li><li><span class='ee-k'>203:</span><span class='ee-v'>imageT11_evi</span></li><li><span class='ee-k'>204:</span><span class='ee-v'>imageT12_B1</span></li><li><span class='ee-k'>205:</span><span class='ee-v'>imageT12_B2</span></li><li><span class='ee-k'>206:</span><span class='ee-v'>imageT12_B3</span></li><li><span class='ee-k'>207:</span><span class='ee-v'>imageT12_B4</span></li><li><span class='ee-k'>208:</span><span class='ee-v'>imageT12_B5</span></li><li><span class='ee-k'>209:</span><span class='ee-v'>imageT12_B6</span></li><li><span class='ee-k'>210:</span><span class='ee-v'>imageT12_B7</span></li><li><span class='ee-k'>211:</span><span class='ee-v'>imageT12_B8</span></li><li><span class='ee-k'>212:</span><span class='ee-v'>imageT12_B8A</span></li><li><span class='ee-k'>213:</span><span class='ee-v'>imageT12_B9</span></li><li><span class='ee-k'>214:</span><span class='ee-v'>imageT12_B11</span></li><li><span class='ee-k'>215:</span><span class='ee-v'>imageT12_B12</span></li><li><span class='ee-k'>216:</span><span class='ee-v'>imageT12_ndvi</span></li><li><span class='ee-k'>217:</span><span class='ee-v'>imageT12_ndwi</span></li><li><span class='ee-k'>218:</span><span class='ee-v'>imageT12_ndre</span></li><li><span class='ee-k'>219:</span><span class='ee-v'>imageT12_nbr</span></li><li><span class='ee-k'>220:</span><span class='ee-v'>imageT12_evi</span></li><li><span class='ee-k'>221:</span><span class='ee-v'>band0_y</span></li><li><span class='ee-k'>222:</span><span class='ee-v'>band1_y</span></li><li><span class='ee-k'>223:</span><span class='ee-v'>band2_y</span></li><li><span class='ee-k'>224:</span><span class='ee-v'>band3_y</span></li><li><span class='ee-k'>225:</span><span class='ee-v'>band4_y</span></li><li><span class='ee-k'>226:</span><span class='ee-v'>band5_y</span></li><li><span class='ee-k'>227:</span><span class='ee-v'>band6_y</span></li><li><span class='ee-k'>228:</span><span class='ee-v'>band7_y</span></li><li><span class='ee-k'>229:</span><span class='ee-v'>band8_y</span></li><li><span class='ee-k'>230:</span><span class='ee-v'>bandelevation</span></li><li><span class='ee-k'>231:</span><span class='ee-v'>bandchili</span></li><li><span class='ee-k'>232:</span><span class='ee-v'>bandtpi</span></li><li><span class='ee-k'>233:</span><span class='ee-v'>bandslope</span></li><li><span class='ee-k'>234:</span><span class='ee-v'>bandaspect</span></li></ul></details></li></ul></div></div>"
            ],
            "text/plain": [
              "<ee.ee_list.List at 0x210a570acc0>"
            ]
          },
          "execution_count": 12,
          "metadata": {},
          "output_type": "execute_result"
        }
      ],
      "source": [
        "# start and end dates for time series\n",
        "Date_Start = ee.Date('2018-01-01')\n",
        "Date_End = ee.Date('2018-12-31')\n",
        "\n",
        "# how many days to summarise in each image e.g 30 days = 12 images per year\n",
        "day_int = 30 #step size\n",
        "\n",
        "# cloud probabillity threshold\n",
        "CLOUD_THRESH=30\n",
        "\n",
        "# which bands to keep\n",
        "BANDS = ['B1', 'B2', 'B3', 'B4', 'B5', 'B6','B7', 'B8', 'B8A', 'B9', 'B11','B12', 'ndvi','ndwi','ndre','nbr','evi']\n",
        "\n",
        "# aoi = ee.Geometry.Point([25.181, -28.490])\n",
        "# # define your study area\n",
        "# study_area1 = ee.Geometry.Polygon([[[30.555572509765607, -24.407014032416797],\n",
        "#           [31.065750122070295, -24.40888986482876],\n",
        "#           [31.065750122070295, -24.40888986482876],\n",
        "#           [31.049957275390607, -25.121539326337704],\n",
        "#           [30.560379028320295, -25.133972597740186],\n",
        "#           [30.555572509765607, -24.407014032416797]]], None, False)\n",
        "\n",
        "# flatten imagecollection to image - each image becomes a band\n",
        "s2TS = prepareTS(Date_Start,Date_End,day_int,study_area1,CLOUD_THRESH,BANDS)\\\n",
        ".timeSeries(satellite = 'S2', s2_level = 1)\n",
        "\n",
        "# Add additional terrain related covariates\n",
        "X = prepareCovariates(proj = 'EPSG:32726', covariates = s2TS, nAngles = 10).addCovariates(rotatedCoords = True, topoBands =True)\n",
        "X.bandNames()"
      ]
    },
    {
      "cell_type": "code",
      "execution_count": 7,
      "id": "7dee6b61-c21d-4523-b1ef-ce098df509af",
      "metadata": {
        "cellUniqueIdByVincent": "7af7d",
        "id": "7dee6b61-c21d-4523-b1ef-ce098df509af"
      },
      "outputs": [
        {
          "data": {
            "text/html": [
              "\n",
              "            <style>\n",
              "                .geemap-dark {\n",
              "                    --jp-widgets-color: white;\n",
              "                    --jp-widgets-label-color: white;\n",
              "                    --jp-ui-font-color1: white;\n",
              "                    --jp-layout-color2: #454545;\n",
              "                    background-color: #383838;\n",
              "                }\n",
              "\n",
              "                .geemap-dark .jupyter-button {\n",
              "                    --jp-layout-color3: #383838;\n",
              "                }\n",
              "\n",
              "                .geemap-colab {\n",
              "                    background-color: var(--colab-primary-surface-color, white);\n",
              "                }\n",
              "\n",
              "                .geemap-colab .jupyter-button {\n",
              "                    --jp-layout-color3: var(--colab-primary-surface-color, white);\n",
              "                }\n",
              "            </style>\n",
              "            "
            ],
            "text/plain": [
              "<IPython.core.display.HTML object>"
            ]
          },
          "metadata": {},
          "output_type": "display_data"
        }
      ],
      "source": [
        "Map.addLayer(study_area1)\n",
        "Map.centerObject(study_area1, 8)"
      ]
    },
    {
      "cell_type": "markdown",
      "id": "481ca6d4-cc8f-4c58-b6ea-7e65aa2bb995",
      "metadata": {
        "cellUniqueIdByVincent": "cbde2",
        "id": "481ca6d4-cc8f-4c58-b6ea-7e65aa2bb995"
      },
      "source": [
        "## Step 3: Prepare dataset for model training and evaluation\n",
        "\n",
        "### Add additional covariates and extract covariates to points.\n",
        "\n",
        "In this notebook, the reference points (shapefile) is already uploaded to Google Earth Engine (GEE). However, if you need to upload your shapefile to GEE you could either [manually upload it](https://developers.google.com/earth-engine/guides/table_upload) or you could upload it by using the geeup package. An example can be found [here](https://github.com/Geethen/Invasive_Species_Mapping/blob/main/example_usuage/geeup_Simple_CLI_for_Earth_Engine_Uploads.ipynb)."
      ]
    },
    {
      "cell_type": "markdown",
      "id": "cb24455d-54ff-4daf-a0aa-037fe1d7f604",
      "metadata": {
        "cellUniqueIdByVincent": "c331e",
        "id": "cb24455d-54ff-4daf-a0aa-037fe1d7f604"
      },
      "source": [
        "#### Load training data"
      ]
    },
    {
      "cell_type": "code",
      "execution_count": 13,
      "id": "a089be1d-c533-4c0a-8673-ed1f462b0e22",
      "metadata": {
        "cellUniqueIdByVincent": "d6943",
        "colab": {
          "base_uri": "https://localhost:8080/",
          "height": 68
        },
        "id": "a089be1d-c533-4c0a-8673-ed1f462b0e22",
        "outputId": "9675779a-f1ab-4912-e541-edd59f0ba714"
      },
      "outputs": [
        {
          "data": {
            "text/html": [
              "\n",
              "            <style>\n",
              "                .geemap-dark {\n",
              "                    --jp-widgets-color: white;\n",
              "                    --jp-widgets-label-color: white;\n",
              "                    --jp-ui-font-color1: white;\n",
              "                    --jp-layout-color2: #454545;\n",
              "                    background-color: #383838;\n",
              "                }\n",
              "\n",
              "                .geemap-dark .jupyter-button {\n",
              "                    --jp-layout-color3: #383838;\n",
              "                }\n",
              "\n",
              "                .geemap-colab {\n",
              "                    background-color: var(--colab-primary-surface-color, white);\n",
              "                }\n",
              "\n",
              "                .geemap-colab .jupyter-button {\n",
              "                    --jp-layout-color3: var(--colab-primary-surface-color, white);\n",
              "                }\n",
              "            </style>\n",
              "            "
            ],
            "text/plain": [
              "<IPython.core.display.HTML object>"
            ]
          },
          "metadata": {},
          "output_type": "display_data"
        },
        {
          "data": {
            "text/html": [
              "<div><style>:root {\n",
              "  --font-color-primary: var(--jp-content-font-color0, rgba(0, 0, 0, 1));\n",
              "  --font-color-secondary: var(--jp-content-font-color2, rgba(0, 0, 0, 0.7));\n",
              "  --font-color-accent: rgba(123, 31, 162, 1);\n",
              "  --border-color: var(--jp-border-color2, #e0e0e0);\n",
              "  --background-color: var(--jp-layout-color0, white);\n",
              "  --background-color-row-even: var(--jp-layout-color1, white);\n",
              "  --background-color-row-odd: var(--jp-layout-color2, #eeeeee);\n",
              "}\n",
              "\n",
              "html[theme=\"dark\"],\n",
              "body[data-theme=\"dark\"],\n",
              "body.vscode-dark {\n",
              "  --font-color-primary: rgba(255, 255, 255, 1);\n",
              "  --font-color-secondary: rgba(255, 255, 255, 0.7);\n",
              "  --font-color-accent: rgb(173, 132, 190);\n",
              "  --border-color: #2e2e2e;\n",
              "  --background-color: #111111;\n",
              "  --background-color-row-even: #111111;\n",
              "  --background-color-row-odd: #313131;\n",
              "}\n",
              "\n",
              ".eerepr {\n",
              "  padding: 1em;\n",
              "  line-height: 1.5em;\n",
              "  min-width: 300px;\n",
              "  max-width: 1200px;\n",
              "  overflow-y: scroll;\n",
              "  max-height: 600px;\n",
              "  border: 1px solid var(--border-color);\n",
              "  font-family: monospace;\n",
              "  font-size: 14px;\n",
              "}\n",
              "\n",
              ".eerepr li {\n",
              "  list-style-type: none;\n",
              "  margin: 0;\n",
              "}\n",
              "\n",
              ".eerepr ul {\n",
              "  padding-left: 1.5em !important;\n",
              "  margin: 0;\n",
              "}\n",
              "\n",
              ".eerepr > ul {\n",
              "  padding-left: 0 !important;\n",
              "}\n",
              "\n",
              ".eerepr summary {\n",
              "  color: var(--font-color-secondary);\n",
              "  cursor: pointer;\n",
              "  margin: 0;\n",
              "}\n",
              "\n",
              ".eerepr summary:hover {\n",
              "  color: var(--font-color-primary);\n",
              "  background-color: var(--background-color-row-odd)\n",
              "}\n",
              "\n",
              ".ee-k {\n",
              "  color: var(--font-color-accent);\n",
              "  margin-right: 6px;\n",
              "}\n",
              "\n",
              ".ee-v {\n",
              "  color: var(--font-color-primary);\n",
              "}\n",
              "\n",
              ".eerepr details > summary::before {\n",
              "  content: '▼';\n",
              "  display: inline-block;\n",
              "  margin-right: 6px;\n",
              "  transition: transform 0.2s;\n",
              "  transform: rotate(-90deg);\n",
              "}\n",
              "\n",
              ".eerepr details[open] > summary::before {\n",
              "  transform: rotate(0deg);\n",
              "}\n",
              "\n",
              ".eerepr details summary::-webkit-details-marker {\n",
              "  display:none;\n",
              "}\n",
              "\n",
              ".eerepr details summary {\n",
              "  list-style-type: none;\n",
              "}\n",
              "</style><div class='eerepr'><ul><li><details><summary>FeatureCollection (2 elements, 248 columns)</summary><ul><li><span class='ee-k'>type:</span><span class='ee-v'>FeatureCollection</span></li><li><details><summary>columns: Object (248 properties)</summary><ul><li><span class='ee-k'>2018_2023:</span><span class='ee-v'>Float</span></li><li><span class='ee-k'>2023_class:</span><span class='ee-v'>Long</span></li><li><span class='ee-k'>band0_y:</span><span class='ee-v'>Float</span></li><li><span class='ee-k'>band1_y:</span><span class='ee-v'>Float</span></li><li><span class='ee-k'>band2_y:</span><span class='ee-v'>Float</span></li><li><span class='ee-k'>band3_y:</span><span class='ee-v'>Float</span></li><li><span class='ee-k'>band4_y:</span><span class='ee-v'>Float</span></li><li><span class='ee-k'>band5_y:</span><span class='ee-v'>Float</span></li><li><span class='ee-k'>band6_y:</span><span class='ee-v'>Float</span></li><li><span class='ee-k'>band7_y:</span><span class='ee-v'>Float</span></li><li><span class='ee-k'>band8_y:</span><span class='ee-v'>Float</span></li><li><span class='ee-k'>bandaspect:</span><span class='ee-v'>Float&lt;0.0, 360.0&gt;</span></li><li><span class='ee-k'>bandchili:</span><span class='ee-v'>Short&lt;0, 255&gt;</span></li><li><span class='ee-k'>bandelevation:</span><span class='ee-v'>Short</span></li><li><span class='ee-k'>bandslope:</span><span class='ee-v'>Float&lt;0.0, 90.0&gt;</span></li><li><span class='ee-k'>bandtpi:</span><span class='ee-v'>Integer</span></li><li><span class='ee-k'>change:</span><span class='ee-v'>Long</span></li><li><span class='ee-k'>class:</span><span class='ee-v'>Long</span></li><li><span class='ee-k'>cluster:</span><span class='ee-v'>&lt;any&gt;</span></li><li><span class='ee-k'>fid:</span><span class='ee-v'>Long</span></li><li><span class='ee-k'>group:</span><span class='ee-v'>Long</span></li><li><span class='ee-k'>imageT0_B1:</span><span class='ee-v'>Float&lt;0.0, 6.553500175476074&gt;</span></li><li><span class='ee-k'>imageT0_B11:</span><span class='ee-v'>Float&lt;0.0, 6.553500175476074&gt;</span></li><li><span class='ee-k'>imageT0_B12:</span><span class='ee-v'>Float&lt;0.0, 6.553500175476074&gt;</span></li><li><span class='ee-k'>imageT0_B2:</span><span class='ee-v'>Float&lt;0.0, 6.553500175476074&gt;</span></li><li><span class='ee-k'>imageT0_B3:</span><span class='ee-v'>Float&lt;0.0, 6.553500175476074&gt;</span></li><li><span class='ee-k'>imageT0_B4:</span><span class='ee-v'>Float&lt;0.0, 6.553500175476074&gt;</span></li><li><span class='ee-k'>imageT0_B5:</span><span class='ee-v'>Float&lt;0.0, 6.553500175476074&gt;</span></li><li><span class='ee-k'>imageT0_B6:</span><span class='ee-v'>Float&lt;0.0, 6.553500175476074&gt;</span></li><li><span class='ee-k'>imageT0_B7:</span><span class='ee-v'>Float&lt;0.0, 6.553500175476074&gt;</span></li><li><span class='ee-k'>imageT0_B8:</span><span class='ee-v'>Float&lt;0.0, 6.553500175476074&gt;</span></li><li><span class='ee-k'>imageT0_B8A:</span><span class='ee-v'>Float&lt;0.0, 6.553500175476074&gt;</span></li><li><span class='ee-k'>imageT0_B9:</span><span class='ee-v'>Float&lt;0.0, 6.553500175476074&gt;</span></li><li><span class='ee-k'>imageT0_evi:</span><span class='ee-v'>Float</span></li><li><span class='ee-k'>imageT0_nbr:</span><span class='ee-v'>Float&lt;-1.0, 1.0&gt;</span></li><li><span class='ee-k'>imageT0_ndre:</span><span class='ee-v'>Float&lt;-1.0, 1.0&gt;</span></li><li><span class='ee-k'>imageT0_ndvi:</span><span class='ee-v'>Float&lt;-1.0, 1.0&gt;</span></li><li><span class='ee-k'>imageT0_ndwi:</span><span class='ee-v'>Float&lt;-1.0, 1.0&gt;</span></li><li><span class='ee-k'>imageT10_B1:</span><span class='ee-v'>Float&lt;0.0, 6.553500175476074&gt;</span></li><li><span class='ee-k'>imageT10_B11:</span><span class='ee-v'>Float&lt;0.0, 6.553500175476074&gt;</span></li><li><span class='ee-k'>imageT10_B12:</span><span class='ee-v'>Float&lt;0.0, 6.553500175476074&gt;</span></li><li><span class='ee-k'>imageT10_B2:</span><span class='ee-v'>Float&lt;0.0, 6.553500175476074&gt;</span></li><li><span class='ee-k'>imageT10_B3:</span><span class='ee-v'>Float&lt;0.0, 6.553500175476074&gt;</span></li><li><span class='ee-k'>imageT10_B4:</span><span class='ee-v'>Float&lt;0.0, 6.553500175476074&gt;</span></li><li><span class='ee-k'>imageT10_B5:</span><span class='ee-v'>Float&lt;0.0, 6.553500175476074&gt;</span></li><li><span class='ee-k'>imageT10_B6:</span><span class='ee-v'>Float&lt;0.0, 6.553500175476074&gt;</span></li><li><span class='ee-k'>imageT10_B7:</span><span class='ee-v'>Float&lt;0.0, 6.553500175476074&gt;</span></li><li><span class='ee-k'>imageT10_B8:</span><span class='ee-v'>Float&lt;0.0, 6.553500175476074&gt;</span></li><li><span class='ee-k'>imageT10_B8A:</span><span class='ee-v'>Float&lt;0.0, 6.553500175476074&gt;</span></li><li><span class='ee-k'>imageT10_B9:</span><span class='ee-v'>Float&lt;0.0, 6.553500175476074&gt;</span></li><li><span class='ee-k'>imageT10_evi:</span><span class='ee-v'>Float</span></li><li><span class='ee-k'>imageT10_nbr:</span><span class='ee-v'>Float&lt;-1.0, 1.0&gt;</span></li><li><span class='ee-k'>imageT10_ndre:</span><span class='ee-v'>Float&lt;-1.0, 1.0&gt;</span></li><li><span class='ee-k'>imageT10_ndvi:</span><span class='ee-v'>Float&lt;-1.0, 1.0&gt;</span></li><li><span class='ee-k'>imageT10_ndwi:</span><span class='ee-v'>Float&lt;-1.0, 1.0&gt;</span></li><li><span class='ee-k'>imageT11_B1:</span><span class='ee-v'>Float&lt;0.0, 6.553500175476074&gt;</span></li><li><span class='ee-k'>imageT11_B11:</span><span class='ee-v'>Float&lt;0.0, 6.553500175476074&gt;</span></li><li><span class='ee-k'>imageT11_B12:</span><span class='ee-v'>Float&lt;0.0, 6.553500175476074&gt;</span></li><li><span class='ee-k'>imageT11_B2:</span><span class='ee-v'>Float&lt;0.0, 6.553500175476074&gt;</span></li><li><span class='ee-k'>imageT11_B3:</span><span class='ee-v'>Float&lt;0.0, 6.553500175476074&gt;</span></li><li><span class='ee-k'>imageT11_B4:</span><span class='ee-v'>Float&lt;0.0, 6.553500175476074&gt;</span></li><li><span class='ee-k'>imageT11_B5:</span><span class='ee-v'>Float&lt;0.0, 6.553500175476074&gt;</span></li><li><span class='ee-k'>imageT11_B6:</span><span class='ee-v'>Float&lt;0.0, 6.553500175476074&gt;</span></li><li><span class='ee-k'>imageT11_B7:</span><span class='ee-v'>Float&lt;0.0, 6.553500175476074&gt;</span></li><li><span class='ee-k'>imageT11_B8:</span><span class='ee-v'>Float&lt;0.0, 6.553500175476074&gt;</span></li><li><span class='ee-k'>imageT11_B8A:</span><span class='ee-v'>Float&lt;0.0, 6.553500175476074&gt;</span></li><li><span class='ee-k'>imageT11_B9:</span><span class='ee-v'>Float&lt;0.0, 6.553500175476074&gt;</span></li><li><span class='ee-k'>imageT11_evi:</span><span class='ee-v'>Float</span></li><li><span class='ee-k'>imageT11_nbr:</span><span class='ee-v'>Float&lt;-1.0, 1.0&gt;</span></li><li><span class='ee-k'>imageT11_ndre:</span><span class='ee-v'>Float&lt;-1.0, 1.0&gt;</span></li><li><span class='ee-k'>imageT11_ndvi:</span><span class='ee-v'>Float&lt;-1.0, 1.0&gt;</span></li><li><span class='ee-k'>imageT11_ndwi:</span><span class='ee-v'>Float&lt;-1.0, 1.0&gt;</span></li><li><span class='ee-k'>imageT12_B1:</span><span class='ee-v'>Float&lt;0.0, 6.553500175476074&gt;</span></li><li><span class='ee-k'>imageT12_B11:</span><span class='ee-v'>Float&lt;0.0, 6.553500175476074&gt;</span></li><li><span class='ee-k'>imageT12_B12:</span><span class='ee-v'>Float&lt;0.0, 6.553500175476074&gt;</span></li><li><span class='ee-k'>imageT12_B2:</span><span class='ee-v'>Float&lt;0.0, 6.553500175476074&gt;</span></li><li><span class='ee-k'>imageT12_B3:</span><span class='ee-v'>Float&lt;0.0, 6.553500175476074&gt;</span></li><li><span class='ee-k'>imageT12_B4:</span><span class='ee-v'>Float&lt;0.0, 6.553500175476074&gt;</span></li><li><span class='ee-k'>imageT12_B5:</span><span class='ee-v'>Float&lt;0.0, 6.553500175476074&gt;</span></li><li><span class='ee-k'>imageT12_B6:</span><span class='ee-v'>Float&lt;0.0, 6.553500175476074&gt;</span></li><li><span class='ee-k'>imageT12_B7:</span><span class='ee-v'>Float&lt;0.0, 6.553500175476074&gt;</span></li><li><span class='ee-k'>imageT12_B8:</span><span class='ee-v'>Float&lt;0.0, 6.553500175476074&gt;</span></li><li><span class='ee-k'>imageT12_B8A:</span><span class='ee-v'>Float&lt;0.0, 6.553500175476074&gt;</span></li><li><span class='ee-k'>imageT12_B9:</span><span class='ee-v'>Float&lt;0.0, 6.553500175476074&gt;</span></li><li><span class='ee-k'>imageT12_evi:</span><span class='ee-v'>Float</span></li><li><span class='ee-k'>imageT12_nbr:</span><span class='ee-v'>Float&lt;-1.0, 1.0&gt;</span></li><li><span class='ee-k'>imageT12_ndre:</span><span class='ee-v'>Float&lt;-1.0, 1.0&gt;</span></li><li><span class='ee-k'>imageT12_ndvi:</span><span class='ee-v'>Float&lt;-1.0, 1.0&gt;</span></li><li><span class='ee-k'>imageT12_ndwi:</span><span class='ee-v'>Float&lt;-1.0, 1.0&gt;</span></li><li><span class='ee-k'>imageT1_B1:</span><span class='ee-v'>Float&lt;0.0, 6.553500175476074&gt;</span></li><li><span class='ee-k'>imageT1_B11:</span><span class='ee-v'>Float&lt;0.0, 6.553500175476074&gt;</span></li><li><span class='ee-k'>imageT1_B12:</span><span class='ee-v'>Float&lt;0.0, 6.553500175476074&gt;</span></li><li><span class='ee-k'>imageT1_B2:</span><span class='ee-v'>Float&lt;0.0, 6.553500175476074&gt;</span></li><li><span class='ee-k'>imageT1_B3:</span><span class='ee-v'>Float&lt;0.0, 6.553500175476074&gt;</span></li><li><span class='ee-k'>imageT1_B4:</span><span class='ee-v'>Float&lt;0.0, 6.553500175476074&gt;</span></li><li><span class='ee-k'>imageT1_B5:</span><span class='ee-v'>Float&lt;0.0, 6.553500175476074&gt;</span></li><li><span class='ee-k'>imageT1_B6:</span><span class='ee-v'>Float&lt;0.0, 6.553500175476074&gt;</span></li><li><span class='ee-k'>imageT1_B7:</span><span class='ee-v'>Float&lt;0.0, 6.553500175476074&gt;</span></li><li><span class='ee-k'>imageT1_B8:</span><span class='ee-v'>Float&lt;0.0, 6.553500175476074&gt;</span></li><li><span class='ee-k'>imageT1_B8A:</span><span class='ee-v'>Float&lt;0.0, 6.553500175476074&gt;</span></li><li><span class='ee-k'>imageT1_B9:</span><span class='ee-v'>Float&lt;0.0, 6.553500175476074&gt;</span></li><li><span class='ee-k'>imageT1_evi:</span><span class='ee-v'>Float</span></li><li><span class='ee-k'>imageT1_nbr:</span><span class='ee-v'>Float&lt;-1.0, 1.0&gt;</span></li><li><span class='ee-k'>imageT1_ndre:</span><span class='ee-v'>Float&lt;-1.0, 1.0&gt;</span></li><li><span class='ee-k'>imageT1_ndvi:</span><span class='ee-v'>Float&lt;-1.0, 1.0&gt;</span></li><li><span class='ee-k'>imageT1_ndwi:</span><span class='ee-v'>Float&lt;-1.0, 1.0&gt;</span></li><li><span class='ee-k'>imageT2_B1:</span><span class='ee-v'>Float&lt;0.0, 6.553500175476074&gt;</span></li><li><span class='ee-k'>imageT2_B11:</span><span class='ee-v'>Float&lt;0.0, 6.553500175476074&gt;</span></li><li><span class='ee-k'>imageT2_B12:</span><span class='ee-v'>Float&lt;0.0, 6.553500175476074&gt;</span></li><li><span class='ee-k'>imageT2_B2:</span><span class='ee-v'>Float&lt;0.0, 6.553500175476074&gt;</span></li><li><span class='ee-k'>imageT2_B3:</span><span class='ee-v'>Float&lt;0.0, 6.553500175476074&gt;</span></li><li><span class='ee-k'>imageT2_B4:</span><span class='ee-v'>Float&lt;0.0, 6.553500175476074&gt;</span></li><li><span class='ee-k'>imageT2_B5:</span><span class='ee-v'>Float&lt;0.0, 6.553500175476074&gt;</span></li><li><span class='ee-k'>imageT2_B6:</span><span class='ee-v'>Float&lt;0.0, 6.553500175476074&gt;</span></li><li><span class='ee-k'>imageT2_B7:</span><span class='ee-v'>Float&lt;0.0, 6.553500175476074&gt;</span></li><li><span class='ee-k'>imageT2_B8:</span><span class='ee-v'>Float&lt;0.0, 6.553500175476074&gt;</span></li><li><span class='ee-k'>imageT2_B8A:</span><span class='ee-v'>Float&lt;0.0, 6.553500175476074&gt;</span></li><li><span class='ee-k'>imageT2_B9:</span><span class='ee-v'>Float&lt;0.0, 6.553500175476074&gt;</span></li><li><span class='ee-k'>imageT2_evi:</span><span class='ee-v'>Float</span></li><li><span class='ee-k'>imageT2_nbr:</span><span class='ee-v'>Float&lt;-1.0, 1.0&gt;</span></li><li><span class='ee-k'>imageT2_ndre:</span><span class='ee-v'>Float&lt;-1.0, 1.0&gt;</span></li><li><span class='ee-k'>imageT2_ndvi:</span><span class='ee-v'>Float&lt;-1.0, 1.0&gt;</span></li><li><span class='ee-k'>imageT2_ndwi:</span><span class='ee-v'>Float&lt;-1.0, 1.0&gt;</span></li><li><span class='ee-k'>imageT3_B1:</span><span class='ee-v'>Float&lt;0.0, 6.553500175476074&gt;</span></li><li><span class='ee-k'>imageT3_B11:</span><span class='ee-v'>Float&lt;0.0, 6.553500175476074&gt;</span></li><li><span class='ee-k'>imageT3_B12:</span><span class='ee-v'>Float&lt;0.0, 6.553500175476074&gt;</span></li><li><span class='ee-k'>imageT3_B2:</span><span class='ee-v'>Float&lt;0.0, 6.553500175476074&gt;</span></li><li><span class='ee-k'>imageT3_B3:</span><span class='ee-v'>Float&lt;0.0, 6.553500175476074&gt;</span></li><li><span class='ee-k'>imageT3_B4:</span><span class='ee-v'>Float&lt;0.0, 6.553500175476074&gt;</span></li><li><span class='ee-k'>imageT3_B5:</span><span class='ee-v'>Float&lt;0.0, 6.553500175476074&gt;</span></li><li><span class='ee-k'>imageT3_B6:</span><span class='ee-v'>Float&lt;0.0, 6.553500175476074&gt;</span></li><li><span class='ee-k'>imageT3_B7:</span><span class='ee-v'>Float&lt;0.0, 6.553500175476074&gt;</span></li><li><span class='ee-k'>imageT3_B8:</span><span class='ee-v'>Float&lt;0.0, 6.553500175476074&gt;</span></li><li><span class='ee-k'>imageT3_B8A:</span><span class='ee-v'>Float&lt;0.0, 6.553500175476074&gt;</span></li><li><span class='ee-k'>imageT3_B9:</span><span class='ee-v'>Float&lt;0.0, 6.553500175476074&gt;</span></li><li><span class='ee-k'>imageT3_evi:</span><span class='ee-v'>Float</span></li><li><span class='ee-k'>imageT3_nbr:</span><span class='ee-v'>Float&lt;-1.0, 1.0&gt;</span></li><li><span class='ee-k'>imageT3_ndre:</span><span class='ee-v'>Float&lt;-1.0, 1.0&gt;</span></li><li><span class='ee-k'>imageT3_ndvi:</span><span class='ee-v'>Float&lt;-1.0, 1.0&gt;</span></li><li><span class='ee-k'>imageT3_ndwi:</span><span class='ee-v'>Float&lt;-1.0, 1.0&gt;</span></li><li><span class='ee-k'>imageT4_B1:</span><span class='ee-v'>Float&lt;0.0, 6.553500175476074&gt;</span></li><li><span class='ee-k'>imageT4_B11:</span><span class='ee-v'>Float&lt;0.0, 6.553500175476074&gt;</span></li><li><span class='ee-k'>imageT4_B12:</span><span class='ee-v'>Float&lt;0.0, 6.553500175476074&gt;</span></li><li><span class='ee-k'>imageT4_B2:</span><span class='ee-v'>Float&lt;0.0, 6.553500175476074&gt;</span></li><li><span class='ee-k'>imageT4_B3:</span><span class='ee-v'>Float&lt;0.0, 6.553500175476074&gt;</span></li><li><span class='ee-k'>imageT4_B4:</span><span class='ee-v'>Float&lt;0.0, 6.553500175476074&gt;</span></li><li><span class='ee-k'>imageT4_B5:</span><span class='ee-v'>Float&lt;0.0, 6.553500175476074&gt;</span></li><li><span class='ee-k'>imageT4_B6:</span><span class='ee-v'>Float&lt;0.0, 6.553500175476074&gt;</span></li><li><span class='ee-k'>imageT4_B7:</span><span class='ee-v'>Float&lt;0.0, 6.553500175476074&gt;</span></li><li><span class='ee-k'>imageT4_B8:</span><span class='ee-v'>Float&lt;0.0, 6.553500175476074&gt;</span></li><li><span class='ee-k'>imageT4_B8A:</span><span class='ee-v'>Float&lt;0.0, 6.553500175476074&gt;</span></li><li><span class='ee-k'>imageT4_B9:</span><span class='ee-v'>Float&lt;0.0, 6.553500175476074&gt;</span></li><li><span class='ee-k'>imageT4_evi:</span><span class='ee-v'>Float</span></li><li><span class='ee-k'>imageT4_nbr:</span><span class='ee-v'>Float&lt;-1.0, 1.0&gt;</span></li><li><span class='ee-k'>imageT4_ndre:</span><span class='ee-v'>Float&lt;-1.0, 1.0&gt;</span></li><li><span class='ee-k'>imageT4_ndvi:</span><span class='ee-v'>Float&lt;-1.0, 1.0&gt;</span></li><li><span class='ee-k'>imageT4_ndwi:</span><span class='ee-v'>Float&lt;-1.0, 1.0&gt;</span></li><li><span class='ee-k'>imageT5_B1:</span><span class='ee-v'>Float&lt;0.0, 6.553500175476074&gt;</span></li><li><span class='ee-k'>imageT5_B11:</span><span class='ee-v'>Float&lt;0.0, 6.553500175476074&gt;</span></li><li><span class='ee-k'>imageT5_B12:</span><span class='ee-v'>Float&lt;0.0, 6.553500175476074&gt;</span></li><li><span class='ee-k'>imageT5_B2:</span><span class='ee-v'>Float&lt;0.0, 6.553500175476074&gt;</span></li><li><span class='ee-k'>imageT5_B3:</span><span class='ee-v'>Float&lt;0.0, 6.553500175476074&gt;</span></li><li><span class='ee-k'>imageT5_B4:</span><span class='ee-v'>Float&lt;0.0, 6.553500175476074&gt;</span></li><li><span class='ee-k'>imageT5_B5:</span><span class='ee-v'>Float&lt;0.0, 6.553500175476074&gt;</span></li><li><span class='ee-k'>imageT5_B6:</span><span class='ee-v'>Float&lt;0.0, 6.553500175476074&gt;</span></li><li><span class='ee-k'>imageT5_B7:</span><span class='ee-v'>Float&lt;0.0, 6.553500175476074&gt;</span></li><li><span class='ee-k'>imageT5_B8:</span><span class='ee-v'>Float&lt;0.0, 6.553500175476074&gt;</span></li><li><span class='ee-k'>imageT5_B8A:</span><span class='ee-v'>Float&lt;0.0, 6.553500175476074&gt;</span></li><li><span class='ee-k'>imageT5_B9:</span><span class='ee-v'>Float&lt;0.0, 6.553500175476074&gt;</span></li><li><span class='ee-k'>imageT5_evi:</span><span class='ee-v'>Float</span></li><li><span class='ee-k'>imageT5_nbr:</span><span class='ee-v'>Float&lt;-1.0, 1.0&gt;</span></li><li><span class='ee-k'>imageT5_ndre:</span><span class='ee-v'>Float&lt;-1.0, 1.0&gt;</span></li><li><span class='ee-k'>imageT5_ndvi:</span><span class='ee-v'>Float&lt;-1.0, 1.0&gt;</span></li><li><span class='ee-k'>imageT5_ndwi:</span><span class='ee-v'>Float&lt;-1.0, 1.0&gt;</span></li><li><span class='ee-k'>imageT6_B1:</span><span class='ee-v'>Float&lt;0.0, 6.553500175476074&gt;</span></li><li><span class='ee-k'>imageT6_B11:</span><span class='ee-v'>Float&lt;0.0, 6.553500175476074&gt;</span></li><li><span class='ee-k'>imageT6_B12:</span><span class='ee-v'>Float&lt;0.0, 6.553500175476074&gt;</span></li><li><span class='ee-k'>imageT6_B2:</span><span class='ee-v'>Float&lt;0.0, 6.553500175476074&gt;</span></li><li><span class='ee-k'>imageT6_B3:</span><span class='ee-v'>Float&lt;0.0, 6.553500175476074&gt;</span></li><li><span class='ee-k'>imageT6_B4:</span><span class='ee-v'>Float&lt;0.0, 6.553500175476074&gt;</span></li><li><span class='ee-k'>imageT6_B5:</span><span class='ee-v'>Float&lt;0.0, 6.553500175476074&gt;</span></li><li><span class='ee-k'>imageT6_B6:</span><span class='ee-v'>Float&lt;0.0, 6.553500175476074&gt;</span></li><li><span class='ee-k'>imageT6_B7:</span><span class='ee-v'>Float&lt;0.0, 6.553500175476074&gt;</span></li><li><span class='ee-k'>imageT6_B8:</span><span class='ee-v'>Float&lt;0.0, 6.553500175476074&gt;</span></li><li><span class='ee-k'>imageT6_B8A:</span><span class='ee-v'>Float&lt;0.0, 6.553500175476074&gt;</span></li><li><span class='ee-k'>imageT6_B9:</span><span class='ee-v'>Float&lt;0.0, 6.553500175476074&gt;</span></li><li><span class='ee-k'>imageT6_evi:</span><span class='ee-v'>Float</span></li><li><span class='ee-k'>imageT6_nbr:</span><span class='ee-v'>Float&lt;-1.0, 1.0&gt;</span></li><li><span class='ee-k'>imageT6_ndre:</span><span class='ee-v'>Float&lt;-1.0, 1.0&gt;</span></li><li><span class='ee-k'>imageT6_ndvi:</span><span class='ee-v'>Float&lt;-1.0, 1.0&gt;</span></li><li><span class='ee-k'>imageT6_ndwi:</span><span class='ee-v'>Float&lt;-1.0, 1.0&gt;</span></li><li><span class='ee-k'>imageT7_B1:</span><span class='ee-v'>Float&lt;0.0, 6.553500175476074&gt;</span></li><li><span class='ee-k'>imageT7_B11:</span><span class='ee-v'>Float&lt;0.0, 6.553500175476074&gt;</span></li><li><span class='ee-k'>imageT7_B12:</span><span class='ee-v'>Float&lt;0.0, 6.553500175476074&gt;</span></li><li><span class='ee-k'>imageT7_B2:</span><span class='ee-v'>Float&lt;0.0, 6.553500175476074&gt;</span></li><li><span class='ee-k'>imageT7_B3:</span><span class='ee-v'>Float&lt;0.0, 6.553500175476074&gt;</span></li><li><span class='ee-k'>imageT7_B4:</span><span class='ee-v'>Float&lt;0.0, 6.553500175476074&gt;</span></li><li><span class='ee-k'>imageT7_B5:</span><span class='ee-v'>Float&lt;0.0, 6.553500175476074&gt;</span></li><li><span class='ee-k'>imageT7_B6:</span><span class='ee-v'>Float&lt;0.0, 6.553500175476074&gt;</span></li><li><span class='ee-k'>imageT7_B7:</span><span class='ee-v'>Float&lt;0.0, 6.553500175476074&gt;</span></li><li><span class='ee-k'>imageT7_B8:</span><span class='ee-v'>Float&lt;0.0, 6.553500175476074&gt;</span></li><li><span class='ee-k'>imageT7_B8A:</span><span class='ee-v'>Float&lt;0.0, 6.553500175476074&gt;</span></li><li><span class='ee-k'>imageT7_B9:</span><span class='ee-v'>Float&lt;0.0, 6.553500175476074&gt;</span></li><li><span class='ee-k'>imageT7_evi:</span><span class='ee-v'>Float</span></li><li><span class='ee-k'>imageT7_nbr:</span><span class='ee-v'>Float&lt;-1.0, 1.0&gt;</span></li><li><span class='ee-k'>imageT7_ndre:</span><span class='ee-v'>Float&lt;-1.0, 1.0&gt;</span></li><li><span class='ee-k'>imageT7_ndvi:</span><span class='ee-v'>Float&lt;-1.0, 1.0&gt;</span></li><li><span class='ee-k'>imageT7_ndwi:</span><span class='ee-v'>Float&lt;-1.0, 1.0&gt;</span></li><li><span class='ee-k'>imageT8_B1:</span><span class='ee-v'>Float&lt;0.0, 6.553500175476074&gt;</span></li><li><span class='ee-k'>imageT8_B11:</span><span class='ee-v'>Float&lt;0.0, 6.553500175476074&gt;</span></li><li><span class='ee-k'>imageT8_B12:</span><span class='ee-v'>Float&lt;0.0, 6.553500175476074&gt;</span></li><li><span class='ee-k'>imageT8_B2:</span><span class='ee-v'>Float&lt;0.0, 6.553500175476074&gt;</span></li><li><span class='ee-k'>imageT8_B3:</span><span class='ee-v'>Float&lt;0.0, 6.553500175476074&gt;</span></li><li><span class='ee-k'>imageT8_B4:</span><span class='ee-v'>Float&lt;0.0, 6.553500175476074&gt;</span></li><li><span class='ee-k'>imageT8_B5:</span><span class='ee-v'>Float&lt;0.0, 6.553500175476074&gt;</span></li><li><span class='ee-k'>imageT8_B6:</span><span class='ee-v'>Float&lt;0.0, 6.553500175476074&gt;</span></li><li><span class='ee-k'>imageT8_B7:</span><span class='ee-v'>Float&lt;0.0, 6.553500175476074&gt;</span></li><li><span class='ee-k'>imageT8_B8:</span><span class='ee-v'>Float&lt;0.0, 6.553500175476074&gt;</span></li><li><span class='ee-k'>imageT8_B8A:</span><span class='ee-v'>Float&lt;0.0, 6.553500175476074&gt;</span></li><li><span class='ee-k'>imageT8_B9:</span><span class='ee-v'>Float&lt;0.0, 6.553500175476074&gt;</span></li><li><span class='ee-k'>imageT8_evi:</span><span class='ee-v'>Float</span></li><li><span class='ee-k'>imageT8_nbr:</span><span class='ee-v'>Float&lt;-1.0, 1.0&gt;</span></li><li><span class='ee-k'>imageT8_ndre:</span><span class='ee-v'>Float&lt;-1.0, 1.0&gt;</span></li><li><span class='ee-k'>imageT8_ndvi:</span><span class='ee-v'>Float&lt;-1.0, 1.0&gt;</span></li><li><span class='ee-k'>imageT8_ndwi:</span><span class='ee-v'>Float&lt;-1.0, 1.0&gt;</span></li><li><span class='ee-k'>imageT9_B1:</span><span class='ee-v'>Float&lt;0.0, 6.553500175476074&gt;</span></li><li><span class='ee-k'>imageT9_B11:</span><span class='ee-v'>Float&lt;0.0, 6.553500175476074&gt;</span></li><li><span class='ee-k'>imageT9_B12:</span><span class='ee-v'>Float&lt;0.0, 6.553500175476074&gt;</span></li><li><span class='ee-k'>imageT9_B2:</span><span class='ee-v'>Float&lt;0.0, 6.553500175476074&gt;</span></li><li><span class='ee-k'>imageT9_B3:</span><span class='ee-v'>Float&lt;0.0, 6.553500175476074&gt;</span></li><li><span class='ee-k'>imageT9_B4:</span><span class='ee-v'>Float&lt;0.0, 6.553500175476074&gt;</span></li><li><span class='ee-k'>imageT9_B5:</span><span class='ee-v'>Float&lt;0.0, 6.553500175476074&gt;</span></li><li><span class='ee-k'>imageT9_B6:</span><span class='ee-v'>Float&lt;0.0, 6.553500175476074&gt;</span></li><li><span class='ee-k'>imageT9_B7:</span><span class='ee-v'>Float&lt;0.0, 6.553500175476074&gt;</span></li><li><span class='ee-k'>imageT9_B8:</span><span class='ee-v'>Float&lt;0.0, 6.553500175476074&gt;</span></li><li><span class='ee-k'>imageT9_B8A:</span><span class='ee-v'>Float&lt;0.0, 6.553500175476074&gt;</span></li><li><span class='ee-k'>imageT9_B9:</span><span class='ee-v'>Float&lt;0.0, 6.553500175476074&gt;</span></li><li><span class='ee-k'>imageT9_evi:</span><span class='ee-v'>Float</span></li><li><span class='ee-k'>imageT9_nbr:</span><span class='ee-v'>Float&lt;-1.0, 1.0&gt;</span></li><li><span class='ee-k'>imageT9_ndre:</span><span class='ee-v'>Float&lt;-1.0, 1.0&gt;</span></li><li><span class='ee-k'>imageT9_ndvi:</span><span class='ee-v'>Float&lt;-1.0, 1.0&gt;</span></li><li><span class='ee-k'>imageT9_ndwi:</span><span class='ee-v'>Float&lt;-1.0, 1.0&gt;</span></li><li><span class='ee-k'>layer:</span><span class='ee-v'>String</span></li><li><span class='ee-k'>notes:</span><span class='ee-v'>String</span></li><li><span class='ee-k'>path:</span><span class='ee-v'>String</span></li><li><span class='ee-k'>system:index:</span><span class='ee-v'>String</span></li><li><span class='ee-k'>x:</span><span class='ee-v'>Number</span></li><li><span class='ee-k'>y:</span><span class='ee-v'>Number</span></li></ul></details></li><li><details><summary>features: List (2 elements)</summary><ul><li><details><summary>0: Feature (Point, 246 properties)</summary><ul><li><span class='ee-k'>type:</span><span class='ee-v'>Feature</span></li><li><span class='ee-k'>id:</span><span class='ee-v'>000000000000000003fb</span></li><li><details><summary>geometry: Point (19.07, -33.81)</summary><ul><li><span class='ee-k'>type:</span><span class='ee-v'>Point</span></li><li><details><summary>coordinates: [19.07260971703242, -33.805537565931296]</summary><ul><li><span class='ee-k'>0:</span><span class='ee-v'>19.07260971703242</span></li><li><span class='ee-k'>1:</span><span class='ee-v'>-33.805537565931296</span></li></ul></details></li></ul></details></li><li><details><summary>properties: Object (246 properties)</summary><ul><li><span class='ee-k'>2018_2023:</span><span class='ee-v'>0.006702983744329</span></li><li><span class='ee-k'>band0_y:</span><span class='ee-v'>4911306.910858917</span></li><li><span class='ee-k'>band1_y:</span><span class='ee-v'>6367338.082695561</span></li><li><span class='ee-k'>band2_y:</span><span class='ee-v'>7055374.30985731</span></li><li><span class='ee-k'>band3_y:</span><span class='ee-v'>6892428.26901521</span></li><li><span class='ee-k'>band4_y:</span><span class='ee-v'>5898153.657522259</span></li><li><span class='ee-k'>band5_y:</span><span class='ee-v'>4192474.6674549542</span></li><li><span class='ee-k'>band6_y:</span><span class='ee-v'>1981121.3581562955</span></li><li><span class='ee-k'>band7_y:</span><span class='ee-v'>-469184.4251733013</span></li><li><span class='ee-k'>band8_y:</span><span class='ee-v'>-2862899.6424023546</span></li><li><span class='ee-k'>bandaspect:</span><span class='ee-v'>38.03449148315442</span></li><li><span class='ee-k'>bandchili:</span><span class='ee-v'>212</span></li><li><span class='ee-k'>bandelevation:</span><span class='ee-v'>367</span></li><li><span class='ee-k'>bandslope:</span><span class='ee-v'>22.344863919942526</span></li><li><span class='ee-k'>bandtpi:</span><span class='ee-v'>-106</span></li><li><span class='ee-k'>change:</span><span class='ee-v'>0</span></li><li><span class='ee-k'>class:</span><span class='ee-v'>0</span></li><li><span class='ee-k'>cluster:</span><span class='ee-v'>3</span></li><li><span class='ee-k'>fid:</span><span class='ee-v'>1028</span></li><li><span class='ee-k'>group:</span><span class='ee-v'>0</span></li><li><span class='ee-k'>imageT0_B1:</span><span class='ee-v'>0.15039999783039093</span></li><li><span class='ee-k'>imageT0_B11:</span><span class='ee-v'>0.3528999984264374</span></li><li><span class='ee-k'>imageT0_B12:</span><span class='ee-v'>0.26460000872612</span></li><li><span class='ee-k'>imageT0_B2:</span><span class='ee-v'>0.1615000069141388</span></li><li><span class='ee-k'>imageT0_B3:</span><span class='ee-v'>0.16990000009536743</span></li><li><span class='ee-k'>imageT0_B4:</span><span class='ee-v'>0.19259999692440033</span></li><li><span class='ee-k'>imageT0_B5:</span><span class='ee-v'>0.20669999718666077</span></li><li><span class='ee-k'>imageT0_B6:</span><span class='ee-v'>0.23989999294281006</span></li><li><span class='ee-k'>imageT0_B7:</span><span class='ee-v'>0.2653000056743622</span></li><li><span class='ee-k'>imageT0_B8:</span><span class='ee-v'>0.2745000123977661</span></li><li><span class='ee-k'>imageT0_B8A:</span><span class='ee-v'>0.28519999980926514</span></li><li><span class='ee-k'>imageT0_B9:</span><span class='ee-v'>0.0869000032544136</span></li><li><span class='ee-k'>imageT0_evi:</span><span class='ee-v'>0.16798624908783766</span></li><li><span class='ee-k'>imageT0_nbr:</span><span class='ee-v'>0.018363961949944496</span></li><li><span class='ee-k'>imageT0_ndre:</span><span class='ee-v'>0.14089778065681458</span></li><li><span class='ee-k'>imageT0_ndvi:</span><span class='ee-v'>0.17533721029758453</span></li><li><span class='ee-k'>imageT0_ndwi:</span><span class='ee-v'>-0.12496013194322586</span></li><li><span class='ee-k'>imageT10_B1:</span><span class='ee-v'>0.1428000032901764</span></li><li><span class='ee-k'>imageT10_B11:</span><span class='ee-v'>0.3440999984741211</span></li><li><span class='ee-k'>imageT10_B12:</span><span class='ee-v'>0.26409998536109924</span></li><li><span class='ee-k'>imageT10_B2:</span><span class='ee-v'>0.14669999480247498</span></li><li><span class='ee-k'>imageT10_B3:</span><span class='ee-v'>0.1535000056028366</span></li><li><span class='ee-k'>imageT10_B4:</span><span class='ee-v'>0.1728000044822693</span></li><li><span class='ee-k'>imageT10_B5:</span><span class='ee-v'>0.20069999992847443</span></li><li><span class='ee-k'>imageT10_B6:</span><span class='ee-v'>0.23919999599456787</span></li><li><span class='ee-k'>imageT10_B7:</span><span class='ee-v'>0.2572000026702881</span></li><li><span class='ee-k'>imageT10_B8:</span><span class='ee-v'>0.26840001344680786</span></li><li><span class='ee-k'>imageT10_B8A:</span><span class='ee-v'>0.2903999984264374</span></li><li><span class='ee-k'>imageT10_B9:</span><span class='ee-v'>0.13449999690055847</span></li><li><span class='ee-k'>imageT10_evi:</span><span class='ee-v'>0.19834849114891429</span></li><li><span class='ee-k'>imageT10_nbr:</span><span class='ee-v'>0.008075142279267311</span></li><li><span class='ee-k'>imageT10_ndre:</span><span class='ee-v'>0.14431893825531006</span></li><li><span class='ee-k'>imageT10_ndvi:</span><span class='ee-v'>0.21668179333209991</span></li><li><span class='ee-k'>imageT10_ndwi:</span><span class='ee-v'>-0.12359181046485901</span></li><li><span class='ee-k'>imageT11_B1:</span><span class='ee-v'>0.16120000183582306</span></li><li><span class='ee-k'>imageT11_B11:</span><span class='ee-v'>0.3718000054359436</span></li><li><span class='ee-k'>imageT11_B12:</span><span class='ee-v'>0.26809999346733093</span></li><li><span class='ee-k'>imageT11_B2:</span><span class='ee-v'>0.17350000143051147</span></li><li><span class='ee-k'>imageT11_B3:</span><span class='ee-v'>0.18529999256134033</span></li><li><span class='ee-k'>imageT11_B4:</span><span class='ee-v'>0.21289999783039093</span></li><li><span class='ee-k'>imageT11_B5:</span><span class='ee-v'>0.21619999408721924</span></li><li><span class='ee-k'>imageT11_B6:</span><span class='ee-v'>0.2563000023365021</span></li><li><span class='ee-k'>imageT11_B7:</span><span class='ee-v'>0.28380000591278076</span></li><li><span class='ee-k'>imageT11_B8:</span><span class='ee-v'>0.30140000581741333</span></li><li><span class='ee-k'>imageT11_B8A:</span><span class='ee-v'>0.314300000667572</span></li><li><span class='ee-k'>imageT11_B9:</span><span class='ee-v'>0.08269999921321869</span></li><li><span class='ee-k'>imageT11_evi:</span><span class='ee-v'>0.17318306227898383</span></li><li><span class='ee-k'>imageT11_nbr:</span><span class='ee-v'>0.05847235396504402</span></li><li><span class='ee-k'>imageT11_ndre:</span><span class='ee-v'>0.16460588574409485</span></li><li><span class='ee-k'>imageT11_ndvi:</span><span class='ee-v'>0.17207856476306915</span></li><li><span class='ee-k'>imageT11_ndwi:</span><span class='ee-v'>-0.10457515716552734</span></li><li><span class='ee-k'>imageT12_B1:</span><span class='ee-v'>0.16660000383853912</span></li><li><span class='ee-k'>imageT12_B11:</span><span class='ee-v'>0.29319998621940613</span></li><li><span class='ee-k'>imageT12_B12:</span><span class='ee-v'>0.19419999420642853</span></li><li><span class='ee-k'>imageT12_B2:</span><span class='ee-v'>0.15459999442100525</span></li><li><span class='ee-k'>imageT12_B3:</span><span class='ee-v'>0.1509000062942505</span></li><li><span class='ee-k'>imageT12_B4:</span><span class='ee-v'>0.16169999539852142</span></li><li><span class='ee-k'>imageT12_B5:</span><span class='ee-v'>0.19509999454021454</span></li><li><span class='ee-k'>imageT12_B6:</span><span class='ee-v'>0.2281000018119812</span></li><li><span class='ee-k'>imageT12_B7:</span><span class='ee-v'>0.25600001215934753</span></li><li><span class='ee-k'>imageT12_B8:</span><span class='ee-v'>0.24799999594688416</span></li><li><span class='ee-k'>imageT12_B8A:</span><span class='ee-v'>0.27900001406669617</span></li><li><span class='ee-k'>imageT12_B9:</span><span class='ee-v'>0.07850000262260437</span></li><li><span class='ee-k'>imageT12_evi:</span><span class='ee-v'>0.20378767150583688</span></li><li><span class='ee-k'>imageT12_nbr:</span><span class='ee-v'>0.12166439741849899</span></li><li><span class='ee-k'>imageT12_ndre:</span><span class='ee-v'>0.11938613653182983</span></li><li><span class='ee-k'>imageT12_ndvi:</span><span class='ee-v'>0.21064193546772003</span></li><li><span class='ee-k'>imageT12_ndwi:</span><span class='ee-v'>-0.0835181176662445</span></li><li><span class='ee-k'>imageT1_B1:</span><span class='ee-v'>0.14569999277591705</span></li><li><span class='ee-k'>imageT1_B11:</span><span class='ee-v'>0.3582000136375427</span></li><li><span class='ee-k'>imageT1_B12:</span><span class='ee-v'>0.26600000262260437</span></li><li><span class='ee-k'>imageT1_B2:</span><span class='ee-v'>0.1662999987602234</span></li><li><span class='ee-k'>imageT1_B3:</span><span class='ee-v'>0.17759999632835388</span></li><li><span class='ee-k'>imageT1_B4:</span><span class='ee-v'>0.2071000039577484</span></li><li><span class='ee-k'>imageT1_B5:</span><span class='ee-v'>0.22380000352859497</span></li><li><span class='ee-k'>imageT1_B6:</span><span class='ee-v'>0.24889999628067017</span></li><li><span class='ee-k'>imageT1_B7:</span><span class='ee-v'>0.27889999747276306</span></li><li><span class='ee-k'>imageT1_B8:</span><span class='ee-v'>0.29170000553131104</span></li><li><span class='ee-k'>imageT1_B8A:</span><span class='ee-v'>0.30230000615119934</span></li><li><span class='ee-k'>imageT1_B9:</span><span class='ee-v'>0.11029999703168869</span></li><li><span class='ee-k'>imageT1_evi:</span><span class='ee-v'>0.16432927945511558</span></li><li><span class='ee-k'>imageT1_nbr:</span><span class='ee-v'>0.04608213156461716</span></li><li><span class='ee-k'>imageT1_ndre:</span><span class='ee-v'>0.131716787815094</span></li><li><span class='ee-k'>imageT1_ndvi:</span><span class='ee-v'>0.16960705816745758</span></li><li><span class='ee-k'>imageT1_ndwi:</span><span class='ee-v'>-0.10232342779636383</span></li><li><span class='ee-k'>imageT2_B1:</span><span class='ee-v'>0.14800000190734863</span></li><li><span class='ee-k'>imageT2_B11:</span><span class='ee-v'>0.3612000048160553</span></li><li><span class='ee-k'>imageT2_B12:</span><span class='ee-v'>0.2702000141143799</span></li><li><span class='ee-k'>imageT2_B2:</span><span class='ee-v'>0.16329999268054962</span></li><li><span class='ee-k'>imageT2_B3:</span><span class='ee-v'>0.17000000178813934</span></li><li><span class='ee-k'>imageT2_B4:</span><span class='ee-v'>0.2011999934911728</span></li><li><span class='ee-k'>imageT2_B5:</span><span class='ee-v'>0.22619999945163727</span></li><li><span class='ee-k'>imageT2_B6:</span><span class='ee-v'>0.260699987411499</span></li><li><span class='ee-k'>imageT2_B7:</span><span class='ee-v'>0.2791000008583069</span></li><li><span class='ee-k'>imageT2_B8:</span><span class='ee-v'>0.28610000014305115</span></li><li><span class='ee-k'>imageT2_B8A:</span><span class='ee-v'>0.3066999912261963</span></li><li><span class='ee-k'>imageT2_B9:</span><span class='ee-v'>0.10670000314712524</span></li><li><span class='ee-k'>imageT2_evi:</span><span class='ee-v'>0.16731703373141535</span></li><li><span class='ee-k'>imageT2_nbr:</span><span class='ee-v'>0.02858170121908188</span></li><li><span class='ee-k'>imageT2_ndre:</span><span class='ee-v'>0.11692367494106293</span></li><li><span class='ee-k'>imageT2_ndvi:</span><span class='ee-v'>0.1742253452539444</span></li><li><span class='ee-k'>imageT2_ndwi:</span><span class='ee-v'>-0.11602038890123367</span></li><li><span class='ee-k'>imageT3_B1:</span><span class='ee-v'>0.14710000157356262</span></li><li><span class='ee-k'>imageT3_B11:</span><span class='ee-v'>0.33309999108314514</span></li><li><span class='ee-k'>imageT3_B12:</span><span class='ee-v'>0.23569999635219574</span></li><li><span class='ee-k'>imageT3_B2:</span><span class='ee-v'>0.15279999375343323</span></li><li><span class='ee-k'>imageT3_B3:</span><span class='ee-v'>0.15970000624656677</span></li><li><span class='ee-k'>imageT3_B4:</span><span class='ee-v'>0.18050000071525574</span></li><li><span class='ee-k'>imageT3_B5:</span><span class='ee-v'>0.18619999289512634</span></li><li><span class='ee-k'>imageT3_B6:</span><span class='ee-v'>0.22669999301433563</span></li><li><span class='ee-k'>imageT3_B7:</span><span class='ee-v'>0.2531000077724457</span></li><li><span class='ee-k'>imageT3_B8:</span><span class='ee-v'>0.2705000042915344</span></li><li><span class='ee-k'>imageT3_B8A:</span><span class='ee-v'>0.2847999930381775</span></li><li><span class='ee-k'>imageT3_B9:</span><span class='ee-v'>0.0771000012755394</span></li><li><span class='ee-k'>imageT3_evi:</span><span class='ee-v'>0.18633540980651514</span></li><li><span class='ee-k'>imageT3_nbr:</span><span class='ee-v'>0.06874753534793854</span></li><li><span class='ee-k'>imageT3_ndre:</span><span class='ee-v'>0.1845850795507431</span></li><li><span class='ee-k'>imageT3_ndvi:</span><span class='ee-v'>0.19955654442310333</span></li><li><span class='ee-k'>imageT3_ndwi:</span><span class='ee-v'>-0.10371106117963791</span></li><li><span class='ee-k'>imageT4_B1:</span><span class='ee-v'>0.14890000224113464</span></li><li><span class='ee-k'>imageT4_B11:</span><span class='ee-v'>0.295199990272522</span></li><li><span class='ee-k'>imageT4_B12:</span><span class='ee-v'>0.19189999997615814</span></li><li><span class='ee-k'>imageT4_B2:</span><span class='ee-v'>0.15039999783039093</span></li><li><span class='ee-k'>imageT4_B3:</span><span class='ee-v'>0.14419999718666077</span></li><li><span class='ee-k'>imageT4_B4:</span><span class='ee-v'>0.16009999811649323</span></li><li><span class='ee-k'>imageT4_B5:</span><span class='ee-v'>0.17239999771118164</span></li><li><span class='ee-k'>imageT4_B6:</span><span class='ee-v'>0.2151000052690506</span></li><li><span class='ee-k'>imageT4_B7:</span><span class='ee-v'>0.23579999804496765</span></li><li><span class='ee-k'>imageT4_B8:</span><span class='ee-v'>0.26589998602867126</span></li><li><span class='ee-k'>imageT4_B8A:</span><span class='ee-v'>0.2667999863624573</span></li><li><span class='ee-k'>imageT4_B9:</span><span class='ee-v'>0.08320000022649765</span></li><li><span class='ee-k'>imageT4_evi:</span><span class='ee-v'>0.2407828637829755</span></li><li><span class='ee-k'>imageT4_nbr:</span><span class='ee-v'>0.16164261102676392</span></li><li><span class='ee-k'>imageT4_ndre:</span><span class='ee-v'>0.2133241891860962</span></li><li><span class='ee-k'>imageT4_ndvi:</span><span class='ee-v'>0.24835678935050964</span></li><li><span class='ee-k'>imageT4_ndwi:</span><span class='ee-v'>-0.052218880504369736</span></li><li><span class='ee-k'>imageT5_B1:</span><span class='ee-v'>0.1517000049352646</span></li><li><span class='ee-k'>imageT5_B11:</span><span class='ee-v'>0.26489999890327454</span></li><li><span class='ee-k'>imageT5_B12:</span><span class='ee-v'>0.15309999883174896</span></li><li><span class='ee-k'>imageT5_B2:</span><span class='ee-v'>0.14229999482631683</span></li><li><span class='ee-k'>imageT5_B3:</span><span class='ee-v'>0.13910000026226044</span></li><li><span class='ee-k'>imageT5_B4:</span><span class='ee-v'>0.148499995470047</span></li><li><span class='ee-k'>imageT5_B5:</span><span class='ee-v'>0.15469999611377716</span></li><li><span class='ee-k'>imageT5_B6:</span><span class='ee-v'>0.2087000012397766</span></li><li><span class='ee-k'>imageT5_B7:</span><span class='ee-v'>0.2328999936580658</span></li><li><span class='ee-k'>imageT5_B8:</span><span class='ee-v'>0.2648000121116638</span></li><li><span class='ee-k'>imageT5_B8A:</span><span class='ee-v'>0.25519999861717224</span></li><li><span class='ee-k'>imageT5_B9:</span><span class='ee-v'>0.07559999823570251</span></li><li><span class='ee-k'>imageT5_evi:</span><span class='ee-v'>0.26709847561315175</span></li><li><span class='ee-k'>imageT5_nbr:</span><span class='ee-v'>0.26728883385658264</span></li><li><span class='ee-k'>imageT5_ndre:</span><span class='ee-v'>0.2624553143978119</span></li><li><span class='ee-k'>imageT5_ndvi:</span><span class='ee-v'>0.28139370679855347</span></li><li><span class='ee-k'>imageT5_ndwi:</span><span class='ee-v'>-0.0001887632388388738</span></li><li><span class='ee-k'>imageT6_B1:</span><span class='ee-v'>0.15279999375343323</span></li><li><span class='ee-k'>imageT6_B11:</span><span class='ee-v'>0.3012999892234802</span></li><li><span class='ee-k'>imageT6_B12:</span><span class='ee-v'>0.20669999718666077</span></li><li><span class='ee-k'>imageT6_B2:</span><span class='ee-v'>0.1460999995470047</span></li><li><span class='ee-k'>imageT6_B3:</span><span class='ee-v'>0.14380000531673431</span></li><li><span class='ee-k'>imageT6_B4:</span><span class='ee-v'>0.15389999747276306</span></li><li><span class='ee-k'>imageT6_B5:</span><span class='ee-v'>0.1793999969959259</span></li><li><span class='ee-k'>imageT6_B6:</span><span class='ee-v'>0.23399999737739563</span></li><li><span class='ee-k'>imageT6_B7:</span><span class='ee-v'>0.24609999358654022</span></li><li><span class='ee-k'>imageT6_B8:</span><span class='ee-v'>0.2809999883174896</span></li><li><span class='ee-k'>imageT6_B8A:</span><span class='ee-v'>0.2809999883174896</span></li><li><span class='ee-k'>imageT6_B9:</span><span class='ee-v'>0.12309999763965607</span></li><li><span class='ee-k'>imageT6_evi:</span><span class='ee-v'>0.2866098270925218</span></li><li><span class='ee-k'>imageT6_nbr:</span><span class='ee-v'>0.15234772861003876</span></li><li><span class='ee-k'>imageT6_ndre:</span><span class='ee-v'>0.22067765891551971</span></li><li><span class='ee-k'>imageT6_ndvi:</span><span class='ee-v'>0.2922510802745819</span></li><li><span class='ee-k'>imageT6_ndwi:</span><span class='ee-v'>-0.03486177697777748</span></li><li><span class='ee-k'>imageT7_B1:</span><span class='ee-v'>0.14499999582767487</span></li><li><span class='ee-k'>imageT7_B11:</span><span class='ee-v'>0.2971000075340271</span></li><li><span class='ee-k'>imageT7_B12:</span><span class='ee-v'>0.19820000231266022</span></li><li><span class='ee-k'>imageT7_B2:</span><span class='ee-v'>0.14239999651908875</span></li><li><span class='ee-k'>imageT7_B3:</span><span class='ee-v'>0.14059999585151672</span></li><li><span class='ee-k'>imageT7_B4:</span><span class='ee-v'>0.15309999883174896</span></li><li><span class='ee-k'>imageT7_B5:</span><span class='ee-v'>0.17479999363422394</span></li><li><span class='ee-k'>imageT7_B6:</span><span class='ee-v'>0.22130000591278076</span></li><li><span class='ee-k'>imageT7_B7:</span><span class='ee-v'>0.24560000002384186</span></li><li><span class='ee-k'>imageT7_B8:</span><span class='ee-v'>0.26739999651908875</span></li><li><span class='ee-k'>imageT7_B8A:</span><span class='ee-v'>0.2728999853134155</span></li><li><span class='ee-k'>imageT7_B9:</span><span class='ee-v'>0.10019999742507935</span></li><li><span class='ee-k'>imageT7_evi:</span><span class='ee-v'>0.255590337119498</span></li><li><span class='ee-k'>imageT7_nbr:</span><span class='ee-v'>0.1486254185438156</span></li><li><span class='ee-k'>imageT7_ndre:</span><span class='ee-v'>0.2094075083732605</span></li><li><span class='ee-k'>imageT7_ndvi:</span><span class='ee-v'>0.27181926369667053</span></li><li><span class='ee-k'>imageT7_ndwi:</span><span class='ee-v'>-0.05261293798685074</span></li><li><span class='ee-k'>imageT8_B1:</span><span class='ee-v'>0.14470000565052032</span></li><li><span class='ee-k'>imageT8_B11:</span><span class='ee-v'>0.28929999470710754</span></li><li><span class='ee-k'>imageT8_B12:</span><span class='ee-v'>0.19470000267028809</span></li><li><span class='ee-k'>imageT8_B2:</span><span class='ee-v'>0.14100000262260437</span></li><li><span class='ee-k'>imageT8_B3:</span><span class='ee-v'>0.14169999957084656</span></li><li><span class='ee-k'>imageT8_B4:</span><span class='ee-v'>0.15150000154972076</span></li><li><span class='ee-k'>imageT8_B5:</span><span class='ee-v'>0.17149999737739563</span></li><li><span class='ee-k'>imageT8_B6:</span><span class='ee-v'>0.21359999477863312</span></li><li><span class='ee-k'>imageT8_B7:</span><span class='ee-v'>0.2363000065088272</span></li><li><span class='ee-k'>imageT8_B8:</span><span class='ee-v'>0.25609999895095825</span></li><li><span class='ee-k'>imageT8_B8A:</span><span class='ee-v'>0.265500009059906</span></li><li><span class='ee-k'>imageT8_B9:</span><span class='ee-v'>0.0803999975323677</span></li><li><span class='ee-k'>imageT8_evi:</span><span class='ee-v'>0.23609605593668342</span></li><li><span class='ee-k'>imageT8_nbr:</span><span class='ee-v'>0.13620230555534363</span></li><li><span class='ee-k'>imageT8_ndre:</span><span class='ee-v'>0.19784845411777496</span></li><li><span class='ee-k'>imageT8_ndvi:</span><span class='ee-v'>0.25662413239479065</span></li><li><span class='ee-k'>imageT8_ndwi:</span><span class='ee-v'>-0.06087275594472885</span></li><li><span class='ee-k'>imageT9_B1:</span><span class='ee-v'>0.16179999709129333</span></li><li><span class='ee-k'>imageT9_B11:</span><span class='ee-v'>0.29319998621940613</span></li><li><span class='ee-k'>imageT9_B12:</span><span class='ee-v'>0.19660000503063202</span></li><li><span class='ee-k'>imageT9_B2:</span><span class='ee-v'>0.15320000052452087</span></li><li><span class='ee-k'>imageT9_B3:</span><span class='ee-v'>0.1469999998807907</span></li><li><span class='ee-k'>imageT9_B4:</span><span class='ee-v'>0.15809999406337738</span></li><li><span class='ee-k'>imageT9_B5:</span><span class='ee-v'>0.17520000040531158</span></li><li><span class='ee-k'>imageT9_B6:</span><span class='ee-v'>0.22050000727176666</span></li><li><span class='ee-k'>imageT9_B7:</span><span class='ee-v'>0.24250000715255737</span></li><li><span class='ee-k'>imageT9_B8:</span><span class='ee-v'>0.2603999972343445</span></li><li><span class='ee-k'>imageT9_B8A:</span><span class='ee-v'>0.2745000123977661</span></li><li><span class='ee-k'>imageT9_B9:</span><span class='ee-v'>0.09160000085830688</span></li><li><span class='ee-k'>imageT9_evi:</span><span class='ee-v'>0.2412736011215088</span></li><li><span class='ee-k'>imageT9_nbr:</span><span class='ee-v'>0.13960611820220947</span></li><li><span class='ee-k'>imageT9_ndre:</span><span class='ee-v'>0.19559228420257568</span></li><li><span class='ee-k'>imageT9_ndvi:</span><span class='ee-v'>0.24444445967674255</span></li><li><span class='ee-k'>imageT9_ndwi:</span><span class='ee-v'>-0.059248559176921844</span></li><li><span class='ee-k'>layer:</span><span class='ee-v'>valid</span></li><li><span class='ee-k'>notes:</span><span class='ee-v'></span></li><li><span class='ee-k'>path:</span><span class='ee-v'>/Users/glennmoncrieff/Documents/qgis/valid.gpkg|layername=valid</span></li><li><span class='ee-k'>x:</span><span class='ee-v'>4911305.145719815</span></li><li><span class='ee-k'>y:</span><span class='ee-v'>5123146.959003927</span></li></ul></details></li></ul></details></li><li><details><summary>1: Feature (Point, 246 properties)</summary><ul><li><span class='ee-k'>type:</span><span class='ee-v'>Feature</span></li><li><span class='ee-k'>id:</span><span class='ee-v'>000000000000000003fc</span></li><li><details><summary>geometry: Point (19.08, -33.81)</summary><ul><li><span class='ee-k'>type:</span><span class='ee-v'>Point</span></li><li><details><summary>coordinates: [19.077947260993394, -33.80792318499489]</summary><ul><li><span class='ee-k'>0:</span><span class='ee-v'>19.077947260993394</span></li><li><span class='ee-k'>1:</span><span class='ee-v'>-33.80792318499489</span></li></ul></details></li></ul></details></li><li><details><summary>properties: Object (246 properties)</summary><ul><li><span class='ee-k'>2018_2023:</span><span class='ee-v'>0.012547892265916</span></li><li><span class='ee-k'>band0_y:</span><span class='ee-v'>4911670.499207976</span></li><li><span class='ee-k'>band1_y:</span><span class='ee-v'>6367474.970667702</span></li><li><span class='ee-k'>band2_y:</span><span class='ee-v'>7055267.986742838</span></li><li><span class='ee-k'>band3_y:</span><span class='ee-v'>6892091.558950894</span></li><li><span class='ee-k'>band4_y:</span><span class='ee-v'>5897627.172711166</span></li><li><span class='ee-k'>band5_y:</span><span class='ee-v'>4191821.9097353914</span></li><li><span class='ee-k'>band6_y:</span><span class='ee-v'>1980421.0597429182</span></li><li><span class='ee-k'>band7_y:</span><span class='ee-v'>-469847.79795653484</span></li><li><span class='ee-k'>band8_y:</span><span class='ee-v'>-2863446.0770074464</span></li><li><span class='ee-k'>bandaspect:</span><span class='ee-v'>121.9303207397461</span></li><li><span class='ee-k'>bandchili:</span><span class='ee-v'>196</span></li><li><span class='ee-k'>bandelevation:</span><span class='ee-v'>301</span></li><li><span class='ee-k'>bandslope:</span><span class='ee-v'>5.246280193328857</span></li><li><span class='ee-k'>bandtpi:</span><span class='ee-v'>-106</span></li><li><span class='ee-k'>change:</span><span class='ee-v'>0</span></li><li><span class='ee-k'>class:</span><span class='ee-v'>0</span></li><li><span class='ee-k'>cluster:</span><span class='ee-v'>3</span></li><li><span class='ee-k'>fid:</span><span class='ee-v'>1029</span></li><li><span class='ee-k'>group:</span><span class='ee-v'>0</span></li><li><span class='ee-k'>imageT0_B1:</span><span class='ee-v'>0.14339999854564667</span></li><li><span class='ee-k'>imageT0_B11:</span><span class='ee-v'>0.30169999599456787</span></li><li><span class='ee-k'>imageT0_B12:</span><span class='ee-v'>0.20509999990463257</span></li><li><span class='ee-k'>imageT0_B2:</span><span class='ee-v'>0.17419999837875366</span></li><li><span class='ee-k'>imageT0_B3:</span><span class='ee-v'>0.19089999794960022</span></li><li><span class='ee-k'>imageT0_B4:</span><span class='ee-v'>0.2085999995470047</span></li><li><span class='ee-k'>imageT0_B5:</span><span class='ee-v'>0.2020999938249588</span></li><li><span class='ee-k'>imageT0_B6:</span><span class='ee-v'>0.24130000174045563</span></li><li><span class='ee-k'>imageT0_B7:</span><span class='ee-v'>0.2793999910354614</span></li><li><span class='ee-k'>imageT0_B8:</span><span class='ee-v'>0.28769999742507935</span></li><li><span class='ee-k'>imageT0_B8A:</span><span class='ee-v'>0.2768999934196472</span></li><li><span class='ee-k'>imageT0_B9:</span><span class='ee-v'>0.08309999853372574</span></li><li><span class='ee-k'>imageT0_evi:</span><span class='ee-v'>0.16040719950049048</span></li><li><span class='ee-k'>imageT0_nbr:</span><span class='ee-v'>0.16761362552642822</span></li><li><span class='ee-k'>imageT0_ndre:</span><span class='ee-v'>0.1747651994228363</span></li><li><span class='ee-k'>imageT0_ndvi:</span><span class='ee-v'>0.15937940776348114</span></li><li><span class='ee-k'>imageT0_ndwi:</span><span class='ee-v'>-0.023752974346280098</span></li><li><span class='ee-k'>imageT10_B1:</span><span class='ee-v'>0.12080000340938568</span></li><li><span class='ee-k'>imageT10_B11:</span><span class='ee-v'>0.28630000352859497</span></li><li><span class='ee-k'>imageT10_B12:</span><span class='ee-v'>0.19660000503063202</span></li><li><span class='ee-k'>imageT10_B2:</span><span class='ee-v'>0.14800000190734863</span></li><li><span class='ee-k'>imageT10_B3:</span><span class='ee-v'>0.1492999941110611</span></li><li><span class='ee-k'>imageT10_B4:</span><span class='ee-v'>0.16590000689029694</span></li><li><span class='ee-k'>imageT10_B5:</span><span class='ee-v'>0.18150000274181366</span></li><li><span class='ee-k'>imageT10_B6:</span><span class='ee-v'>0.21709999442100525</span></li><li><span class='ee-k'>imageT10_B7:</span><span class='ee-v'>0.23469999432563782</span></li><li><span class='ee-k'>imageT10_B8:</span><span class='ee-v'>0.2467000037431717</span></li><li><span class='ee-k'>imageT10_B8A:</span><span class='ee-v'>0.2689000070095062</span></li><li><span class='ee-k'>imageT10_B9:</span><span class='ee-v'>0.11299999803304672</span></li><li><span class='ee-k'>imageT10_evi:</span><span class='ee-v'>0.17842945330598295</span></li><li><span class='ee-k'>imageT10_nbr:</span><span class='ee-v'>0.1130160242319107</span></li><li><span class='ee-k'>imageT10_ndre:</span><span class='ee-v'>0.15226531028747559</span></li><li><span class='ee-k'>imageT10_ndvi:</span><span class='ee-v'>0.195831298828125</span></li><li><span class='ee-k'>imageT10_ndwi:</span><span class='ee-v'>-0.07429642975330353</span></li><li><span class='ee-k'>imageT11_B1:</span><span class='ee-v'>0.14399999380111694</span></li><li><span class='ee-k'>imageT11_B11:</span><span class='ee-v'>0.29330000281333923</span></li><li><span class='ee-k'>imageT11_B12:</span><span class='ee-v'>0.1867000013589859</span></li><li><span class='ee-k'>imageT11_B2:</span><span class='ee-v'>0.155799999833107</span></li><li><span class='ee-k'>imageT11_B3:</span><span class='ee-v'>0.17249999940395355</span></li><li><span class='ee-k'>imageT11_B4:</span><span class='ee-v'>0.18930000066757202</span></li><li><span class='ee-k'>imageT11_B5:</span><span class='ee-v'>0.17800000309944153</span></li><li><span class='ee-k'>imageT11_B6:</span><span class='ee-v'>0.23649999499320984</span></li><li><span class='ee-k'>imageT11_B7:</span><span class='ee-v'>0.27469998598098755</span></li><li><span class='ee-k'>imageT11_B8:</span><span class='ee-v'>0.25540000200271606</span></li><li><span class='ee-k'>imageT11_B8A:</span><span class='ee-v'>0.29789999127388</span></li><li><span class='ee-k'>imageT11_B9:</span><span class='ee-v'>0.05559999868273735</span></li><li><span class='ee-k'>imageT11_evi:</span><span class='ee-v'>0.13515171548691302</span></li><li><span class='ee-k'>imageT11_nbr:</span><span class='ee-v'>0.15539471805095673</span></li><li><span class='ee-k'>imageT11_ndre:</span><span class='ee-v'>0.1785879135131836</span></li><li><span class='ee-k'>imageT11_ndvi:</span><span class='ee-v'>0.1486395299434662</span></li><li><span class='ee-k'>imageT11_ndwi:</span><span class='ee-v'>-0.06907235085964203</span></li><li><span class='ee-k'>imageT12_B1:</span><span class='ee-v'>0.15549999475479126</span></li><li><span class='ee-k'>imageT12_B11:</span><span class='ee-v'>0.25220000743865967</span></li><li><span class='ee-k'>imageT12_B12:</span><span class='ee-v'>0.17100000381469727</span></li><li><span class='ee-k'>imageT12_B2:</span><span class='ee-v'>0.15049999952316284</span></li><li><span class='ee-k'>imageT12_B3:</span><span class='ee-v'>0.14429999887943268</span></li><li><span class='ee-k'>imageT12_B4:</span><span class='ee-v'>0.1501999944448471</span></li><li><span class='ee-k'>imageT12_B5:</span><span class='ee-v'>0.19629999995231628</span></li><li><span class='ee-k'>imageT12_B6:</span><span class='ee-v'>0.2281000018119812</span></li><li><span class='ee-k'>imageT12_B7:</span><span class='ee-v'>0.26510000228881836</span></li><li><span class='ee-k'>imageT12_B8:</span><span class='ee-v'>0.2563999891281128</span></li><li><span class='ee-k'>imageT12_B8A:</span><span class='ee-v'>0.288100004196167</span></li><li><span class='ee-k'>imageT12_B9:</span><span class='ee-v'>0.0731000006198883</span></li><li><span class='ee-k'>imageT12_evi:</span><span class='ee-v'>0.258055108242138</span></li><li><span class='ee-k'>imageT12_nbr:</span><span class='ee-v'>0.19981279969215393</span></li><li><span class='ee-k'>imageT12_ndre:</span><span class='ee-v'>0.1327589750289917</span></li><li><span class='ee-k'>imageT12_ndvi:</span><span class='ee-v'>0.26119035482406616</span></li><li><span class='ee-k'>imageT12_ndwi:</span><span class='ee-v'>0.008257942274212837</span></li><li><span class='ee-k'>imageT1_B1:</span><span class='ee-v'>0.13169999420642853</span></li><li><span class='ee-k'>imageT1_B11:</span><span class='ee-v'>0.2919999957084656</span></li><li><span class='ee-k'>imageT1_B12:</span><span class='ee-v'>0.20000000298023224</span></li><li><span class='ee-k'>imageT1_B2:</span><span class='ee-v'>0.17900000512599945</span></li><li><span class='ee-k'>imageT1_B3:</span><span class='ee-v'>0.19619999825954437</span></li><li><span class='ee-k'>imageT1_B4:</span><span class='ee-v'>0.22010000050067902</span></li><li><span class='ee-k'>imageT1_B5:</span><span class='ee-v'>0.18379999697208405</span></li><li><span class='ee-k'>imageT1_B6:</span><span class='ee-v'>0.23180000483989716</span></li><li><span class='ee-k'>imageT1_B7:</span><span class='ee-v'>0.260699987411499</span></li><li><span class='ee-k'>imageT1_B8:</span><span class='ee-v'>0.28349998593330383</span></li><li><span class='ee-k'>imageT1_B8A:</span><span class='ee-v'>0.29440000653266907</span></li><li><span class='ee-k'>imageT1_B9:</span><span class='ee-v'>0.0625</span></li><li><span class='ee-k'>imageT1_evi:</span><span class='ee-v'>0.12563408764378922</span></li><li><span class='ee-k'>imageT1_nbr:</span><span class='ee-v'>0.17269904911518097</span></li><li><span class='ee-k'>imageT1_ndre:</span><span class='ee-v'>0.21335327625274658</span></li><li><span class='ee-k'>imageT1_ndvi:</span><span class='ee-v'>0.12589354813098907</span></li><li><span class='ee-k'>imageT1_ndwi:</span><span class='ee-v'>-0.014769789762794971</span></li><li><span class='ee-k'>imageT2_B1:</span><span class='ee-v'>0.13439999520778656</span></li><li><span class='ee-k'>imageT2_B11:</span><span class='ee-v'>0.2599000036716461</span></li><li><span class='ee-k'>imageT2_B12:</span><span class='ee-v'>0.16830000281333923</span></li><li><span class='ee-k'>imageT2_B2:</span><span class='ee-v'>0.14579999446868896</span></li><li><span class='ee-k'>imageT2_B3:</span><span class='ee-v'>0.15199999511241913</span></li><li><span class='ee-k'>imageT2_B4:</span><span class='ee-v'>0.15600000321865082</span></li><li><span class='ee-k'>imageT2_B5:</span><span class='ee-v'>0.20309999585151672</span></li><li><span class='ee-k'>imageT2_B6:</span><span class='ee-v'>0.2524000108242035</span></li><li><span class='ee-k'>imageT2_B7:</span><span class='ee-v'>0.25029999017715454</span></li><li><span class='ee-k'>imageT2_B8:</span><span class='ee-v'>0.24979999661445618</span></li><li><span class='ee-k'>imageT2_B8A:</span><span class='ee-v'>0.2754000127315521</span></li><li><span class='ee-k'>imageT2_B9:</span><span class='ee-v'>0.08950000256299973</span></li><li><span class='ee-k'>imageT2_evi:</span><span class='ee-v'>0.21468459220943797</span></li><li><span class='ee-k'>imageT2_nbr:</span><span class='ee-v'>0.19492943584918976</span></li><li><span class='ee-k'>imageT2_ndre:</span><span class='ee-v'>0.10311326384544373</span></li><li><span class='ee-k'>imageT2_ndvi:</span><span class='ee-v'>0.23114833235740662</span></li><li><span class='ee-k'>imageT2_ndwi:</span><span class='ee-v'>-0.019815584644675255</span></li><li><span class='ee-k'>imageT3_B1:</span><span class='ee-v'>0.12839999794960022</span></li><li><span class='ee-k'>imageT3_B11:</span><span class='ee-v'>0.24529999494552612</span></li><li><span class='ee-k'>imageT3_B12:</span><span class='ee-v'>0.15850000083446503</span></li><li><span class='ee-k'>imageT3_B2:</span><span class='ee-v'>0.14730000495910645</span></li><li><span class='ee-k'>imageT3_B3:</span><span class='ee-v'>0.156700000166893</span></li><li><span class='ee-k'>imageT3_B4:</span><span class='ee-v'>0.16949999332427979</span></li><li><span class='ee-k'>imageT3_B5:</span><span class='ee-v'>0.18440000712871552</span></li><li><span class='ee-k'>imageT3_B6:</span><span class='ee-v'>0.2289000004529953</span></li><li><span class='ee-k'>imageT3_B7:</span><span class='ee-v'>0.24979999661445618</span></li><li><span class='ee-k'>imageT3_B8:</span><span class='ee-v'>0.24230000376701355</span></li><li><span class='ee-k'>imageT3_B8A:</span><span class='ee-v'>0.24940000474452972</span></li><li><span class='ee-k'>imageT3_B9:</span><span class='ee-v'>0.05550000071525574</span></li><li><span class='ee-k'>imageT3_evi:</span><span class='ee-v'>0.15763720222343258</span></li><li><span class='ee-k'>imageT3_nbr:</span><span class='ee-v'>0.20908184349536896</span></li><li><span class='ee-k'>imageT3_ndre:</span><span class='ee-v'>0.1356925368309021</span></li><li><span class='ee-k'>imageT3_ndvi:</span><span class='ee-v'>0.17678487300872803</span></li><li><span class='ee-k'>imageT3_ndwi:</span><span class='ee-v'>-0.0061525763012468815</span></li><li><span class='ee-k'>imageT4_B1:</span><span class='ee-v'>0.13539999723434448</span></li><li><span class='ee-k'>imageT4_B11:</span><span class='ee-v'>0.21199999749660492</span></li><li><span class='ee-k'>imageT4_B12:</span><span class='ee-v'>0.1331000030040741</span></li><li><span class='ee-k'>imageT4_B2:</span><span class='ee-v'>0.1535000056028366</span></li><li><span class='ee-k'>imageT4_B3:</span><span class='ee-v'>0.1429000049829483</span></li><li><span class='ee-k'>imageT4_B4:</span><span class='ee-v'>0.15950000286102295</span></li><li><span class='ee-k'>imageT4_B5:</span><span class='ee-v'>0.14970000088214874</span></li><li><span class='ee-k'>imageT4_B6:</span><span class='ee-v'>0.1972000002861023</span></li><li><span class='ee-k'>imageT4_B7:</span><span class='ee-v'>0.22220000624656677</span></li><li><span class='ee-k'>imageT4_B8:</span><span class='ee-v'>0.22939999401569366</span></li><li><span class='ee-k'>imageT4_B8A:</span><span class='ee-v'>0.2395000010728836</span></li><li><span class='ee-k'>imageT4_B9:</span><span class='ee-v'>0.0689999982714653</span></li><li><span class='ee-k'>imageT4_evi:</span><span class='ee-v'>0.16881609042071558</span></li><li><span class='ee-k'>imageT4_nbr:</span><span class='ee-v'>0.26565515995025635</span></li><li><span class='ee-k'>imageT4_ndre:</span><span class='ee-v'>0.21023476123809814</span></li><li><span class='ee-k'>imageT4_ndvi:</span><span class='ee-v'>0.17973770201206207</span></li><li><span class='ee-k'>imageT4_ndwi:</span><span class='ee-v'>0.03942001238465309</span></li><li><span class='ee-k'>imageT5_B1:</span><span class='ee-v'>0.1446000039577484</span></li><li><span class='ee-k'>imageT5_B11:</span><span class='ee-v'>0.14890000224113464</span></li><li><span class='ee-k'>imageT5_B12:</span><span class='ee-v'>0.0812000036239624</span></li><li><span class='ee-k'>imageT5_B2:</span><span class='ee-v'>0.12970000505447388</span></li><li><span class='ee-k'>imageT5_B3:</span><span class='ee-v'>0.12460000067949295</span></li><li><span class='ee-k'>imageT5_B4:</span><span class='ee-v'>0.12240000069141388</span></li><li><span class='ee-k'>imageT5_B5:</span><span class='ee-v'>0.12800000607967377</span></li><li><span class='ee-k'>imageT5_B6:</span><span class='ee-v'>0.1678999960422516</span></li><li><span class='ee-k'>imageT5_B7:</span><span class='ee-v'>0.18960000574588776</span></li><li><span class='ee-k'>imageT5_B8:</span><span class='ee-v'>0.1679999977350235</span></li><li><span class='ee-k'>imageT5_B8A:</span><span class='ee-v'>0.19089999794960022</span></li><li><span class='ee-k'>imageT5_B9:</span><span class='ee-v'>0.054999999701976776</span></li><li><span class='ee-k'>imageT5_evi:</span><span class='ee-v'>0.12262678683166317</span></li><li><span class='ee-k'>imageT5_nbr:</span><span class='ee-v'>0.3483146131038666</span></li><li><span class='ee-k'>imageT5_ndre:</span><span class='ee-v'>0.13513512909412384</span></li><li><span class='ee-k'>imageT5_ndvi:</span><span class='ee-v'>0.1570247858762741</span></li><li><span class='ee-k'>imageT5_ndwi:</span><span class='ee-v'>0.06027137115597725</span></li><li><span class='ee-k'>imageT6_B1:</span><span class='ee-v'>0.13660000264644623</span></li><li><span class='ee-k'>imageT6_B11:</span><span class='ee-v'>0.15790000557899475</span></li><li><span class='ee-k'>imageT6_B12:</span><span class='ee-v'>0.10339999943971634</span></li><li><span class='ee-k'>imageT6_B2:</span><span class='ee-v'>0.12060000002384186</span></li><li><span class='ee-k'>imageT6_B3:</span><span class='ee-v'>0.11339999735355377</span></li><li><span class='ee-k'>imageT6_B4:</span><span class='ee-v'>0.11100000143051147</span></li><li><span class='ee-k'>imageT6_B5:</span><span class='ee-v'>0.1468999981880188</span></li><li><span class='ee-k'>imageT6_B6:</span><span class='ee-v'>0.1784999966621399</span></li><li><span class='ee-k'>imageT6_B7:</span><span class='ee-v'>0.18700000643730164</span></li><li><span class='ee-k'>imageT6_B8:</span><span class='ee-v'>0.1695999950170517</span></li><li><span class='ee-k'>imageT6_B8A:</span><span class='ee-v'>0.2021999955177307</span></li><li><span class='ee-k'>imageT6_B9:</span><span class='ee-v'>0.08980000019073486</span></li><li><span class='ee-k'>imageT6_evi:</span><span class='ee-v'>0.15734076189443114</span></li><li><span class='ee-k'>imageT6_nbr:</span><span class='ee-v'>0.24249082803726196</span></li><li><span class='ee-k'>imageT6_ndre:</span><span class='ee-v'>0.07172194123268127</span></li><li><span class='ee-k'>imageT6_ndvi:</span><span class='ee-v'>0.20883817970752716</span></li><li><span class='ee-k'>imageT6_ndwi:</span><span class='ee-v'>0.035725176334381104</span></li><li><span class='ee-k'>imageT7_B1:</span><span class='ee-v'>0.13179999589920044</span></li><li><span class='ee-k'>imageT7_B11:</span><span class='ee-v'>0.211899995803833</span></li><li><span class='ee-k'>imageT7_B12:</span><span class='ee-v'>0.1306000053882599</span></li><li><span class='ee-k'>imageT7_B2:</span><span class='ee-v'>0.1347000002861023</span></li><li><span class='ee-k'>imageT7_B3:</span><span class='ee-v'>0.12620000541210175</span></li><li><span class='ee-k'>imageT7_B4:</span><span class='ee-v'>0.1444000005722046</span></li><li><span class='ee-k'>imageT7_B5:</span><span class='ee-v'>0.1534000039100647</span></li><li><span class='ee-k'>imageT7_B6:</span><span class='ee-v'>0.19609999656677246</span></li><li><span class='ee-k'>imageT7_B7:</span><span class='ee-v'>0.21950000524520874</span></li><li><span class='ee-k'>imageT7_B8:</span><span class='ee-v'>0.21330000460147858</span></li><li><span class='ee-k'>imageT7_B8A:</span><span class='ee-v'>0.24570000171661377</span></li><li><span class='ee-k'>imageT7_B9:</span><span class='ee-v'>0.08500000089406967</span></li><li><span class='ee-k'>imageT7_evi:</span><span class='ee-v'>0.16106410657728942</span></li><li><span class='ee-k'>imageT7_nbr:</span><span class='ee-v'>0.24047689139842987</span></li><li><span class='ee-k'>imageT7_ndre:</span><span class='ee-v'>0.16334879398345947</span></li><li><span class='ee-k'>imageT7_ndvi:</span><span class='ee-v'>0.19261951744556427</span></li><li><span class='ee-k'>imageT7_ndwi:</span><span class='ee-v'>0.0032925789710134268</span></li><li><span class='ee-k'>imageT8_B1:</span><span class='ee-v'>0.14219999313354492</span></li><li><span class='ee-k'>imageT8_B11:</span><span class='ee-v'>0.1712999939918518</span></li><li><span class='ee-k'>imageT8_B12:</span><span class='ee-v'>0.10719999670982361</span></li><li><span class='ee-k'>imageT8_B2:</span><span class='ee-v'>0.1273999959230423</span></li><li><span class='ee-k'>imageT8_B3:</span><span class='ee-v'>0.12129999697208405</span></li><li><span class='ee-k'>imageT8_B4:</span><span class='ee-v'>0.12189999967813492</span></li><li><span class='ee-k'>imageT8_B5:</span><span class='ee-v'>0.14190000295639038</span></li><li><span class='ee-k'>imageT8_B6:</span><span class='ee-v'>0.17499999701976776</span></li><li><span class='ee-k'>imageT8_B7:</span><span class='ee-v'>0.19370000064373016</span></li><li><span class='ee-k'>imageT8_B8:</span><span class='ee-v'>0.16920000314712524</span></li><li><span class='ee-k'>imageT8_B8A:</span><span class='ee-v'>0.20090000331401825</span></li><li><span class='ee-k'>imageT8_B9:</span><span class='ee-v'>0.07540000230073929</span></li><li><span class='ee-k'>imageT8_evi:</span><span class='ee-v'>0.12511904403802693</span></li><li><span class='ee-k'>imageT8_nbr:</span><span class='ee-v'>0.22431260347366333</span></li><li><span class='ee-k'>imageT8_ndre:</span><span class='ee-v'>0.08775314688682556</span></li><li><span class='ee-k'>imageT8_ndvi:</span><span class='ee-v'>0.16248713433742523</span></li><li><span class='ee-k'>imageT8_ndwi:</span><span class='ee-v'>-0.0061673917807638645</span></li><li><span class='ee-k'>imageT9_B1:</span><span class='ee-v'>0.12460000067949295</span></li><li><span class='ee-k'>imageT9_B11:</span><span class='ee-v'>0.23589999973773956</span></li><li><span class='ee-k'>imageT9_B12:</span><span class='ee-v'>0.1492999941110611</span></li><li><span class='ee-k'>imageT9_B2:</span><span class='ee-v'>0.14180000126361847</span></li><li><span class='ee-k'>imageT9_B3:</span><span class='ee-v'>0.15369999408721924</span></li><li><span class='ee-k'>imageT9_B4:</span><span class='ee-v'>0.17080000042915344</span></li><li><span class='ee-k'>imageT9_B5:</span><span class='ee-v'>0.1485999971628189</span></li><li><span class='ee-k'>imageT9_B6:</span><span class='ee-v'>0.1875</span></li><li><span class='ee-k'>imageT9_B7:</span><span class='ee-v'>0.21719999611377716</span></li><li><span class='ee-k'>imageT9_B8:</span><span class='ee-v'>0.2290000021457672</span></li><li><span class='ee-k'>imageT9_B8A:</span><span class='ee-v'>0.24060000479221344</span></li><li><span class='ee-k'>imageT9_B9:</span><span class='ee-v'>0.04129999876022339</span></li><li><span class='ee-k'>imageT9_evi:</span><span class='ee-v'>0.12223809435813371</span></li><li><span class='ee-k'>imageT9_nbr:</span><span class='ee-v'>0.21067935228347778</span></li><li><span class='ee-k'>imageT9_ndre:</span><span class='ee-v'>0.21292373538017273</span></li><li><span class='ee-k'>imageT9_ndvi:</span><span class='ee-v'>0.14557279646396637</span></li><li><span class='ee-k'>imageT9_ndwi:</span><span class='ee-v'>-0.014841896481812</span></li><li><span class='ee-k'>layer:</span><span class='ee-v'>valid</span></li><li><span class='ee-k'>notes:</span><span class='ee-v'>chngg rb</span></li><li><span class='ee-k'>path:</span><span class='ee-v'>/Users/glennmoncrieff/Documents/qgis/valid.gpkg|layername=valid</span></li><li><span class='ee-k'>x:</span><span class='ee-v'>4911675.272066377</span></li><li><span class='ee-k'>y:</span><span class='ee-v'>5122550.839194583</span></li></ul></details></li></ul></details></li></ul></details></li></ul></details></li></ul></div></div>"
            ],
            "text/plain": [
              "<ee.featurecollection.FeatureCollection at 0x210a571a900>"
            ]
          },
          "execution_count": 13,
          "metadata": {},
          "output_type": "execute_result"
        }
      ],
      "source": [
        "# Import reference points\n",
        "# points = ee.FeatureCollection(\"users/moilwekk/merged_classes\")\n",
        "points = ee.FeatureCollection('projects/ee-geethensingh/assets/postdoc/aliens_sep2018_bioscape2023')\n",
        "\n",
        "# name of the label property\n",
        "label = 'class'\n",
        "\n",
        "# number of folds for kfold\n",
        "FOLDS = 10       \n",
        "\n",
        "# Extract covariate image values to points\n",
        "pTrainData = prepareTrainingData(covariates = X, points = points, targetProperty = label, nFolds = FOLDS, proj =  'EPSG:32726')\n",
        "train = pTrainData.covariatesToPoints()\n",
        "train.limit(2)"
      ]
    },
    {
      "cell_type": "markdown",
      "id": "71e32661-a828-491e-8891-288ad8ecc4b1",
      "metadata": {
        "cellUniqueIdByVincent": "f8a23",
        "id": "71e32661-a828-491e-8891-288ad8ecc4b1"
      },
      "source": [
        "## Step 4: Export data (Optional)\n",
        "\n",
        "### Export training data and image to run inference on"
      ]
    },
    {
      "cell_type": "code",
      "execution_count": null,
      "id": "501d3059-2a27-4553-87da-bfb766950339",
      "metadata": {
        "cellUniqueIdByVincent": "84294",
        "id": "501d3059-2a27-4553-87da-bfb766950339"
      },
      "outputs": [],
      "source": [
        "# export training data and image to classify\n",
        "# Define the export parameters\n",
        "export_params1 = {\n",
        "    'collection': train,\n",
        "    'description': 'export_trainData',\n",
        "    'assetId': 'users/geethensingh/trainData'\n",
        "}\n",
        "\n",
        "export_params2 = {\n",
        "    'image': X,\n",
        "    'description': 'export_inferenceImage',\n",
        "    'assetId': 'users/geethensingh/inferenceImage',\n",
        "    'scale': 10,\n",
        "    'region': study_area1\n",
        "}\n",
        "\n",
        "# Export the data to the Earth Engine asset\n",
        "ee.batch.Export.table.toAsset(**export_params1).start()\n",
        "ee.batch.Export.image.toAsset(**export_params2).start()"
      ]
    },
    {
      "cell_type": "markdown",
      "id": "88939264-a138-43f7-b197-7e5aafab9be7",
      "metadata": {
        "cellUniqueIdByVincent": "83545",
        "id": "88939264-a138-43f7-b197-7e5aafab9be7"
      },
      "source": [
        "## Step 5: Fit model\n",
        "\n",
        "### Fit a random forest model using Kfold cross validation. Each fold is one spatial cluster (clustering on x and y coordinates)"
      ]
    },
    {
      "cell_type": "code",
      "execution_count": 14,
      "id": "f5b854c2-30dc-4caf-80b1-4bb54e60e734",
      "metadata": {
        "cellUniqueIdByVincent": "1378f",
        "id": "f5b854c2-30dc-4caf-80b1-4bb54e60e734"
      },
      "outputs": [
        {
          "data": {
            "text/html": [
              "\n",
              "            <style>\n",
              "                .geemap-dark {\n",
              "                    --jp-widgets-color: white;\n",
              "                    --jp-widgets-label-color: white;\n",
              "                    --jp-ui-font-color1: white;\n",
              "                    --jp-layout-color2: #454545;\n",
              "                    background-color: #383838;\n",
              "                }\n",
              "\n",
              "                .geemap-dark .jupyter-button {\n",
              "                    --jp-layout-color3: #383838;\n",
              "                }\n",
              "\n",
              "                .geemap-colab {\n",
              "                    background-color: var(--colab-primary-surface-color, white);\n",
              "                }\n",
              "\n",
              "                .geemap-colab .jupyter-button {\n",
              "                    --jp-layout-color3: var(--colab-primary-surface-color, white);\n",
              "                }\n",
              "            </style>\n",
              "            "
            ],
            "text/plain": [
              "<IPython.core.display.HTML object>"
            ]
          },
          "metadata": {},
          "output_type": "display_data"
        }
      ],
      "source": [
        "# load DATA (if exported earlier)\n",
        "# train = ee.FeatureCollection('users/geethensingh/trainData')\n",
        "# X = ee.Image('users/geethensingh/inferenceImage')\n",
        "\n",
        "bandnames = X.bandNames()\n",
        "# number of classes\n",
        "NCLASS = train.aggregate_histogram(label).size()"
      ]
    },
    {
      "cell_type": "code",
      "execution_count": 15,
      "id": "35e01f19-7b18-44e8-a91f-21a5c142e3f9",
      "metadata": {
        "cellUniqueIdByVincent": "5c275",
        "colab": {
          "base_uri": "https://localhost:8080/",
          "height": 68
        },
        "id": "35e01f19-7b18-44e8-a91f-21a5c142e3f9",
        "outputId": "5593f8be-9a8c-46f5-caaa-a767ac60c937"
      },
      "outputs": [
        {
          "data": {
            "text/html": [
              "\n",
              "            <style>\n",
              "                .geemap-dark {\n",
              "                    --jp-widgets-color: white;\n",
              "                    --jp-widgets-label-color: white;\n",
              "                    --jp-ui-font-color1: white;\n",
              "                    --jp-layout-color2: #454545;\n",
              "                    background-color: #383838;\n",
              "                }\n",
              "\n",
              "                .geemap-dark .jupyter-button {\n",
              "                    --jp-layout-color3: #383838;\n",
              "                }\n",
              "\n",
              "                .geemap-colab {\n",
              "                    background-color: var(--colab-primary-surface-color, white);\n",
              "                }\n",
              "\n",
              "                .geemap-colab .jupyter-button {\n",
              "                    --jp-layout-color3: var(--colab-primary-surface-color, white);\n",
              "                }\n",
              "            </style>\n",
              "            "
            ],
            "text/plain": [
              "<IPython.core.display.HTML object>"
            ]
          },
          "metadata": {},
          "output_type": "display_data"
        },
        {
          "data": {
            "text/html": [
              "<div id=\"b8b07d8b-46c3-45ca-b3d5-35b2a370a10d\" style=\"height: auto; width:100%;\"></div>"
            ],
            "text/plain": [
              "<IPython.core.display.HTML object>"
            ]
          },
          "metadata": {},
          "output_type": "display_data"
        },
        {
          "data": {
            "text/html": [
              "\n",
              "        <script src=\"/static/components/requirejs/require.js\"></script> <!-- Needed in Colab -->\n",
              "        <script>\n",
              "            require([\"https://rawgit.com/caldwell/renderjson/master/renderjson.js\"], function() {\n",
              "              renderjson.set_show_to_level(1)\n",
              "              document.getElementById('b8b07d8b-46c3-45ca-b3d5-35b2a370a10d').appendChild(renderjson({\"type\": \"ImageCollection\", \"bands\": [], \"features\": [{\"type\": \"Image\", \"bands\": [{\"id\": \"classification\", \"data_type\": {\"type\": \"PixelType\", \"precision\": \"int\", \"min\": -2147483648, \"max\": 2147483647}, \"dimensions\": [362, 118], \"origin\": [-181, -57], \"crs\": \"EPSG:4326\", \"crs_transform\": [1, 0, 0, 0, 1, 0]}], \"properties\": {\"acc\": 0.6701030927835051, \"num\": 97, \"raw\": [[2, 0, 0, 0, 0, 1, 0, 0, 0, 0, 0], [0, 0, 0, 0, 0, 0, 0, 0, 0, 0, 0], [0, 0, 3, 0, 1, 1, 0, 0, 0, 1, 0], [0, 0, 0, 5, 2, 0, 0, 0, 0, 0, 0], [0, 0, 0, 0, 20, 3, 1, 0, 0, 8, 0], [0, 0, 0, 0, 1, 5, 0, 0, 0, 1, 0], [0, 0, 0, 0, 2, 0, 16, 1, 0, 0, 0], [0, 0, 0, 0, 0, 0, 0, 2, 0, 0, 0], [0, 0, 0, 0, 0, 5, 0, 0, 6, 0, 0], [0, 0, 0, 0, 2, 1, 0, 1, 0, 6, 0], [0, 0, 0, 0, 0, 0, 0, 0, 0, 0, 0]], \"system:index\": \"0\"}}, {\"type\": \"Image\", \"bands\": [{\"id\": \"classification\", \"data_type\": {\"type\": \"PixelType\", \"precision\": \"int\", \"min\": -2147483648, \"max\": 2147483647}, \"dimensions\": [362, 118], \"origin\": [-181, -57], \"crs\": \"EPSG:4326\", \"crs_transform\": [1, 0, 0, 0, 1, 0]}], \"properties\": {\"acc\": 0.6912442396313364, \"num\": 217, \"raw\": [[0, 0, 0, 0, 0, 0, 0, 0, 1, 0, 0], [0, 0, 0, 0, 0, 0, 0, 0, 0, 0, 0], [0, 0, 0, 0, 0, 0, 0, 0, 0, 0, 0], [0, 0, 0, 4, 6, 5, 0, 0, 0, 2, 0], [0, 0, 0, 0, 32, 5, 0, 0, 0, 2, 0], [0, 0, 0, 0, 1, 22, 0, 0, 4, 0, 1], [0, 0, 0, 0, 0, 0, 0, 0, 0, 0, 0], [0, 2, 5, 4, 1, 0, 0, 11, 0, 2, 0], [0, 0, 0, 0, 0, 5, 0, 0, 22, 0, 1], [0, 0, 0, 1, 0, 4, 0, 0, 0, 19, 1], [1, 0, 0, 0, 1, 8, 0, 0, 4, 0, 40]], \"system:index\": \"1\"}}, {\"type\": \"Image\", \"bands\": [{\"id\": \"classification\", \"data_type\": {\"type\": \"PixelType\", \"precision\": \"int\", \"min\": -2147483648, \"max\": 2147483647}, \"dimensions\": [362, 118], \"origin\": [-181, -57], \"crs\": \"EPSG:4326\", \"crs_transform\": [1, 0, 0, 0, 1, 0]}], \"properties\": {\"acc\": 0.6450381679389313, \"num\": 262, \"raw\": [[0, 0, 0, 0, 0, 0, 0, 0, 0, 0, 0], [0, 0, 0, 0, 0, 0, 0, 0, 0, 0, 0], [0, 0, 6, 0, 0, 0, 0, 0, 0, 0, 0], [0, 0, 0, 7, 3, 3, 0, 0, 0, 1, 0], [0, 0, 0, 11, 55, 4, 0, 4, 0, 4, 0], [0, 0, 0, 0, 1, 14, 0, 0, 4, 4, 2], [0, 0, 0, 0, 0, 0, 3, 0, 0, 0, 0], [0, 0, 0, 0, 1, 0, 0, 23, 0, 1, 0], [0, 0, 0, 2, 0, 3, 0, 0, 11, 0, 2], [0, 0, 1, 1, 8, 9, 0, 1, 1, 15, 5], [0, 0, 1, 0, 2, 10, 0, 1, 3, 0, 35]], \"system:index\": \"2\"}}, {\"type\": \"Image\", \"bands\": [{\"id\": \"classification\", \"data_type\": {\"type\": \"PixelType\", \"precision\": \"int\", \"min\": -2147483648, \"max\": 2147483647}, \"dimensions\": [362, 118], \"origin\": [-181, -57], \"crs\": \"EPSG:4326\", \"crs_transform\": [1, 0, 0, 0, 1, 0]}], \"properties\": {\"acc\": 0.6666666666666666, \"num\": 240, \"raw\": [[9, 0, 0, 0, 0, 3, 0, 0, 0, 0, 0], [0, 0, 0, 0, 0, 0, 0, 0, 0, 0, 0], [0, 0, 2, 0, 0, 0, 0, 0, 0, 0, 0], [0, 0, 0, 7, 2, 2, 0, 0, 0, 3, 0], [0, 0, 0, 0, 18, 1, 0, 3, 0, 4, 0], [1, 0, 0, 1, 11, 39, 0, 0, 0, 0, 0], [0, 0, 0, 2, 1, 0, 27, 1, 0, 3, 0], [0, 0, 0, 4, 2, 0, 1, 13, 0, 3, 0], [0, 0, 0, 0, 1, 6, 0, 0, 15, 0, 0], [0, 0, 0, 1, 12, 9, 0, 3, 0, 30, 0], [0, 0, 0, 0, 0, 0, 0, 0, 0, 0, 0]], \"system:index\": \"3\"}}, {\"type\": \"Image\", \"bands\": [{\"id\": \"classification\", \"data_type\": {\"type\": \"PixelType\", \"precision\": \"int\", \"min\": -2147483648, \"max\": 2147483647}, \"dimensions\": [362, 118], \"origin\": [-181, -57], \"crs\": \"EPSG:4326\", \"crs_transform\": [1, 0, 0, 0, 1, 0]}], \"properties\": {\"acc\": 0.6411764705882353, \"num\": 170, \"raw\": [[7, 0, 0, 0, 0, 0, 0, 0, 0, 0, 0], [0, 0, 0, 0, 2, 0, 3, 16, 0, 3, 0], [0, 0, 11, 0, 1, 0, 0, 0, 0, 0, 0], [0, 0, 0, 36, 4, 0, 0, 0, 0, 0, 0], [0, 0, 0, 1, 15, 4, 0, 0, 1, 2, 0], [7, 0, 0, 0, 2, 15, 0, 0, 4, 0, 0], [0, 0, 0, 0, 0, 0, 0, 0, 0, 0, 0], [0, 0, 0, 0, 2, 1, 0, 9, 0, 4, 0], [0, 0, 0, 0, 0, 0, 0, 0, 4, 0, 0], [0, 0, 0, 0, 3, 0, 0, 1, 0, 3, 0], [0, 0, 0, 0, 0, 0, 0, 0, 0, 0, 9]], \"system:index\": \"4\"}}, {\"type\": \"Image\", \"bands\": [{\"id\": \"classification\", \"data_type\": {\"type\": \"PixelType\", \"precision\": \"int\", \"min\": -2147483648, \"max\": 2147483647}, \"dimensions\": [362, 118], \"origin\": [-181, -57], \"crs\": \"EPSG:4326\", \"crs_transform\": [1, 0, 0, 0, 1, 0]}], \"properties\": {\"acc\": 0.8379888268156425, \"num\": 179, \"raw\": [[0, 0, 0, 0, 0, 0, 0, 0, 0, 0, 0], [0, 0, 0, 0, 0, 0, 0, 0, 0, 0, 0], [0, 0, 8, 0, 0, 0, 0, 0, 0, 0, 0], [0, 0, 0, 68, 0, 0, 1, 2, 0, 0, 0], [0, 0, 0, 3, 8, 3, 0, 0, 0, 1, 0], [0, 0, 0, 0, 3, 23, 0, 0, 1, 0, 0], [0, 0, 0, 8, 0, 0, 17, 0, 0, 0, 0], [0, 0, 0, 2, 0, 0, 0, 16, 0, 1, 0], [0, 0, 0, 0, 0, 0, 0, 0, 2, 0, 0], [0, 0, 0, 0, 4, 0, 0, 0, 0, 8, 0], [0, 0, 0, 0, 0, 0, 0, 0, 0, 0, 0]], \"system:index\": \"5\"}}, {\"type\": \"Image\", \"bands\": [{\"id\": \"classification\", \"data_type\": {\"type\": \"PixelType\", \"precision\": \"int\", \"min\": -2147483648, \"max\": 2147483647}, \"dimensions\": [362, 118], \"origin\": [-181, -57], \"crs\": \"EPSG:4326\", \"crs_transform\": [1, 0, 0, 0, 1, 0]}], \"properties\": {\"acc\": 0.8, \"num\": 90, \"raw\": [[6, 0, 0, 0, 0, 0, 0, 0, 0, 0, 0], [0, 0, 0, 0, 0, 0, 0, 0, 0, 0, 0], [0, 0, 5, 0, 0, 0, 0, 0, 0, 0, 0], [0, 0, 0, 11, 1, 0, 1, 0, 0, 0, 0], [0, 0, 0, 2, 17, 4, 0, 0, 0, 0, 0], [0, 0, 0, 0, 0, 18, 0, 0, 2, 0, 0], [0, 0, 0, 0, 0, 0, 0, 0, 0, 0, 0], [0, 1, 0, 0, 0, 0, 0, 3, 0, 0, 0], [1, 0, 0, 0, 0, 3, 0, 0, 8, 0, 0], [0, 1, 0, 0, 1, 0, 0, 1, 0, 4, 0], [0, 0, 0, 0, 0, 0, 0, 0, 0, 0, 0]], \"system:index\": \"6\"}}, {\"type\": \"Image\", \"bands\": [{\"id\": \"classification\", \"data_type\": {\"type\": \"PixelType\", \"precision\": \"int\", \"min\": -2147483648, \"max\": 2147483647}, \"dimensions\": [362, 118], \"origin\": [-181, -57], \"crs\": \"EPSG:4326\", \"crs_transform\": [1, 0, 0, 0, 1, 0]}], \"properties\": {\"acc\": 0.6744186046511628, \"num\": 129, \"raw\": [[22, 0, 0, 0, 0, 0, 0, 0, 0, 0, 0], [0, 0, 0, 0, 0, 0, 0, 0, 0, 0, 0], [0, 0, 22, 0, 0, 0, 0, 0, 0, 0, 0], [0, 0, 0, 0, 0, 0, 0, 0, 0, 0, 0], [0, 0, 0, 0, 13, 31, 0, 0, 0, 0, 0], [1, 0, 0, 0, 1, 20, 0, 0, 3, 0, 0], [0, 0, 0, 0, 0, 0, 3, 0, 0, 0, 0], [0, 0, 0, 0, 0, 0, 0, 1, 0, 0, 0], [0, 0, 0, 0, 0, 5, 0, 0, 4, 0, 0], [0, 1, 0, 0, 0, 0, 0, 0, 0, 2, 0], [0, 0, 0, 0, 0, 0, 0, 0, 0, 0, 0]], \"system:index\": \"7\"}}, {\"type\": \"Image\", \"bands\": [{\"id\": \"classification\", \"data_type\": {\"type\": \"PixelType\", \"precision\": \"int\", \"min\": -2147483648, \"max\": 2147483647}, \"dimensions\": [362, 118], \"origin\": [-181, -57], \"crs\": \"EPSG:4326\", \"crs_transform\": [1, 0, 0, 0, 1, 0]}], \"properties\": {\"acc\": 0.6271186440677966, \"num\": 118, \"raw\": [[3, 0, 0, 0, 0, 4, 0, 0, 1, 0, 0], [0, 2, 0, 1, 1, 0, 5, 3, 1, 6, 0], [0, 0, 10, 0, 0, 0, 0, 0, 0, 0, 0], [0, 0, 0, 0, 3, 1, 0, 0, 0, 0, 0], [0, 0, 0, 0, 35, 0, 0, 0, 0, 0, 0], [2, 0, 0, 0, 1, 15, 0, 0, 0, 0, 0], [0, 0, 0, 5, 4, 0, 2, 0, 0, 3, 0], [0, 0, 0, 0, 0, 0, 0, 2, 0, 1, 0], [0, 0, 0, 0, 0, 2, 0, 0, 2, 0, 0], [0, 0, 0, 0, 0, 0, 0, 0, 0, 3, 0], [0, 0, 0, 0, 0, 0, 0, 0, 0, 0, 0]], \"system:index\": \"8\"}}, {\"type\": \"Image\", \"bands\": [{\"id\": \"classification\", \"data_type\": {\"type\": \"PixelType\", \"precision\": \"int\", \"min\": -2147483648, \"max\": 2147483647}, \"dimensions\": [362, 118], \"origin\": [-181, -57], \"crs\": \"EPSG:4326\", \"crs_transform\": [1, 0, 0, 0, 1, 0]}], \"properties\": {\"acc\": 0.7634408602150538, \"num\": 186, \"raw\": [[9, 0, 0, 0, 0, 6, 0, 0, 0, 0, 0], [0, 0, 0, 0, 0, 0, 0, 0, 0, 0, 0], [0, 0, 6, 0, 0, 0, 0, 0, 0, 0, 0], [0, 0, 0, 80, 6, 0, 0, 2, 0, 0, 0], [0, 0, 0, 0, 12, 0, 0, 0, 0, 0, 0], [0, 0, 0, 0, 12, 9, 0, 0, 0, 1, 0], [0, 0, 0, 1, 2, 0, 2, 0, 0, 0, 0], [0, 0, 0, 0, 0, 0, 0, 1, 0, 0, 0], [0, 0, 0, 0, 0, 0, 0, 0, 1, 0, 2], [0, 0, 0, 1, 8, 0, 2, 1, 0, 22, 0], [0, 0, 0, 0, 0, 0, 0, 0, 0, 0, 0]], \"system:index\": \"9\"}}]}))\n",
              "            });\n",
              "        </script>\n",
              "    "
            ],
            "text/plain": [
              "<IPython.core.display.HTML object>"
            ]
          },
          "metadata": {},
          "output_type": "display_data"
        }
      ],
      "source": [
        "# fit k-fold classifiers\n",
        "# apply function and train kfold classifiers\n",
        "result = prepareModel(dataset = train, responseCol = label, inferenceImage = X, bandNames = bandnames).kFoldCV(10)\n",
        "eeprint(result)"
      ]
    },
    {
      "cell_type": "markdown",
      "id": "fb3804b8-88c1-4e4d-987d-4c612e75e8a8",
      "metadata": {
        "cellUniqueIdByVincent": "87427",
        "id": "fb3804b8-88c1-4e4d-987d-4c612e75e8a8"
      },
      "source": [
        "## Step 6: Model evaluation\n",
        "\n",
        "### Compute average accuracy and summed confusion matrix for all folds"
      ]
    },
    {
      "cell_type": "code",
      "execution_count": 16,
      "id": "d13a5cfc-8a8a-4744-ae6d-40fccc4574e3",
      "metadata": {
        "cellUniqueIdByVincent": "da529",
        "colab": {
          "base_uri": "https://localhost:8080/",
          "height": 85
        },
        "id": "d13a5cfc-8a8a-4744-ae6d-40fccc4574e3",
        "outputId": "73fea94e-d2f9-4330-fe1a-6eebd74a77d3"
      },
      "outputs": [
        {
          "data": {
            "text/html": [
              "\n",
              "            <style>\n",
              "                .geemap-dark {\n",
              "                    --jp-widgets-color: white;\n",
              "                    --jp-widgets-label-color: white;\n",
              "                    --jp-ui-font-color1: white;\n",
              "                    --jp-layout-color2: #454545;\n",
              "                    background-color: #383838;\n",
              "                }\n",
              "\n",
              "                .geemap-dark .jupyter-button {\n",
              "                    --jp-layout-color3: #383838;\n",
              "                }\n",
              "\n",
              "                .geemap-colab {\n",
              "                    background-color: var(--colab-primary-surface-color, white);\n",
              "                }\n",
              "\n",
              "                .geemap-colab .jupyter-button {\n",
              "                    --jp-layout-color3: var(--colab-primary-surface-color, white);\n",
              "                }\n",
              "            </style>\n",
              "            "
            ],
            "text/plain": [
              "<IPython.core.display.HTML object>"
            ]
          },
          "metadata": {},
          "output_type": "display_data"
        },
        {
          "name": "stdout",
          "output_type": "stream",
          "text": [
            "The average weighted accuracy is [0.6978672985781991] across 10 folds\n"
          ]
        },
        {
          "data": {
            "text/html": [
              "<div><style>:root {\n",
              "  --font-color-primary: var(--jp-content-font-color0, rgba(0, 0, 0, 1));\n",
              "  --font-color-secondary: var(--jp-content-font-color2, rgba(0, 0, 0, 0.7));\n",
              "  --font-color-accent: rgba(123, 31, 162, 1);\n",
              "  --border-color: var(--jp-border-color2, #e0e0e0);\n",
              "  --background-color: var(--jp-layout-color0, white);\n",
              "  --background-color-row-even: var(--jp-layout-color1, white);\n",
              "  --background-color-row-odd: var(--jp-layout-color2, #eeeeee);\n",
              "}\n",
              "\n",
              "html[theme=\"dark\"],\n",
              "body[data-theme=\"dark\"],\n",
              "body.vscode-dark {\n",
              "  --font-color-primary: rgba(255, 255, 255, 1);\n",
              "  --font-color-secondary: rgba(255, 255, 255, 0.7);\n",
              "  --font-color-accent: rgb(173, 132, 190);\n",
              "  --border-color: #2e2e2e;\n",
              "  --background-color: #111111;\n",
              "  --background-color-row-even: #111111;\n",
              "  --background-color-row-odd: #313131;\n",
              "}\n",
              "\n",
              ".eerepr {\n",
              "  padding: 1em;\n",
              "  line-height: 1.5em;\n",
              "  min-width: 300px;\n",
              "  max-width: 1200px;\n",
              "  overflow-y: scroll;\n",
              "  max-height: 600px;\n",
              "  border: 1px solid var(--border-color);\n",
              "  font-family: monospace;\n",
              "  font-size: 14px;\n",
              "}\n",
              "\n",
              ".eerepr li {\n",
              "  list-style-type: none;\n",
              "  margin: 0;\n",
              "}\n",
              "\n",
              ".eerepr ul {\n",
              "  padding-left: 1.5em !important;\n",
              "  margin: 0;\n",
              "}\n",
              "\n",
              ".eerepr > ul {\n",
              "  padding-left: 0 !important;\n",
              "}\n",
              "\n",
              ".eerepr summary {\n",
              "  color: var(--font-color-secondary);\n",
              "  cursor: pointer;\n",
              "  margin: 0;\n",
              "}\n",
              "\n",
              ".eerepr summary:hover {\n",
              "  color: var(--font-color-primary);\n",
              "  background-color: var(--background-color-row-odd)\n",
              "}\n",
              "\n",
              ".ee-k {\n",
              "  color: var(--font-color-accent);\n",
              "  margin-right: 6px;\n",
              "}\n",
              "\n",
              ".ee-v {\n",
              "  color: var(--font-color-primary);\n",
              "}\n",
              "\n",
              ".eerepr details > summary::before {\n",
              "  content: '▼';\n",
              "  display: inline-block;\n",
              "  margin-right: 6px;\n",
              "  transition: transform 0.2s;\n",
              "  transform: rotate(-90deg);\n",
              "}\n",
              "\n",
              ".eerepr details[open] > summary::before {\n",
              "  transform: rotate(0deg);\n",
              "}\n",
              "\n",
              ".eerepr details summary::-webkit-details-marker {\n",
              "  display:none;\n",
              "}\n",
              "\n",
              ".eerepr details summary {\n",
              "  list-style-type: none;\n",
              "}\n",
              "</style><div class='eerepr'><ul><li><details><summary>Image (1 band)</summary><ul><li><span class='ee-k'>type:</span><span class='ee-v'>Image</span></li><li><details><summary>bands: List (1 element)</summary><ul><li><details><summary>0: \"classification\", signed int32, EPSG:4326</summary><ul><li><span class='ee-k'>id:</span><span class='ee-v'>classification</span></li><li><span class='ee-k'>crs:</span><span class='ee-v'>EPSG:4326</span></li><li><details><summary>crs_transform: [1, 0, 0, 0, 1, 0]</summary><ul><li><span class='ee-k'>0:</span><span class='ee-v'>1</span></li><li><span class='ee-k'>1:</span><span class='ee-v'>0</span></li><li><span class='ee-k'>2:</span><span class='ee-v'>0</span></li><li><span class='ee-k'>3:</span><span class='ee-v'>0</span></li><li><span class='ee-k'>4:</span><span class='ee-v'>1</span></li><li><span class='ee-k'>5:</span><span class='ee-v'>0</span></li></ul></details></li><li><details><summary>data_type: signed int32</summary><ul><li><span class='ee-k'>type:</span><span class='ee-v'>PixelType</span></li><li><span class='ee-k'>max:</span><span class='ee-v'>2147483647</span></li><li><span class='ee-k'>min:</span><span class='ee-v'>-2147483648</span></li><li><span class='ee-k'>precision:</span><span class='ee-v'>int</span></li></ul></details></li></ul></details></li></ul></details></li><li><details><summary>properties: Object (4 properties)</summary><ul><li><details><summary>acc: [0.6978672985781991]</summary><ul><li><span class='ee-k'>0:</span><span class='ee-v'>0.6978672985781991</span></li></ul></details></li><li><details><summary>ca: List (1 element)</summary><ul><li><details><summary>0: List (11 elements)</summary><ul><li><span class='ee-k'>0:</span><span class='ee-v'>0.8169014084507042</span></li><li><span class='ee-k'>1:</span><span class='ee-v'>0.2857142857142857</span></li><li><span class='ee-k'>2:</span><span class='ee-v'>0.9125</span></li><li><span class='ee-k'>3:</span><span class='ee-v'>0.8104089219330854</span></li><li><span class='ee-k'>4:</span><span class='ee-v'>0.6484149855907781</span></li><li><span class='ee-k'>5:</span><span class='ee-v'>0.5421686746987951</span></li><li><span class='ee-k'>6:</span><span class='ee-v'>0.8333333333333334</span></li><li><span class='ee-k'>7:</span><span class='ee-v'>0.6639344262295082</span></li><li><span class='ee-k'>8:</span><span class='ee-v'>0.7142857142857143</span></li><li><span class='ee-k'>9:</span><span class='ee-v'>0.6473988439306358</span></li><li><span class='ee-k'>10:</span><span class='ee-v'>0.8571428571428571</span></li></ul></details></li></ul></details></li><li><details><summary>confusion: List (11 elements)</summary><ul><li><details><summary>0: [58, 0, 0, 0, 0, 14, 0, 0, 2, 0, 0]</summary><ul><li><span class='ee-k'>0:</span><span class='ee-v'>58</span></li><li><span class='ee-k'>1:</span><span class='ee-v'>0</span></li><li><span class='ee-k'>2:</span><span class='ee-v'>0</span></li><li><span class='ee-k'>3:</span><span class='ee-v'>0</span></li><li><span class='ee-k'>4:</span><span class='ee-v'>0</span></li><li><span class='ee-k'>5:</span><span class='ee-v'>14</span></li><li><span class='ee-k'>6:</span><span class='ee-v'>0</span></li><li><span class='ee-k'>7:</span><span class='ee-v'>0</span></li><li><span class='ee-k'>8:</span><span class='ee-v'>2</span></li><li><span class='ee-k'>9:</span><span class='ee-v'>0</span></li><li><span class='ee-k'>10:</span><span class='ee-v'>0</span></li></ul></details></li><li><details><summary>1: [0, 2, 0, 1, 3, 0, 8, 19, 1, 9, 0]</summary><ul><li><span class='ee-k'>0:</span><span class='ee-v'>0</span></li><li><span class='ee-k'>1:</span><span class='ee-v'>2</span></li><li><span class='ee-k'>2:</span><span class='ee-v'>0</span></li><li><span class='ee-k'>3:</span><span class='ee-v'>1</span></li><li><span class='ee-k'>4:</span><span class='ee-v'>3</span></li><li><span class='ee-k'>5:</span><span class='ee-v'>0</span></li><li><span class='ee-k'>6:</span><span class='ee-v'>8</span></li><li><span class='ee-k'>7:</span><span class='ee-v'>19</span></li><li><span class='ee-k'>8:</span><span class='ee-v'>1</span></li><li><span class='ee-k'>9:</span><span class='ee-v'>9</span></li><li><span class='ee-k'>10:</span><span class='ee-v'>0</span></li></ul></details></li><li><details><summary>2: [0, 0, 73, 0, 2, 1, 0, 0, 0, 1, 0]</summary><ul><li><span class='ee-k'>0:</span><span class='ee-v'>0</span></li><li><span class='ee-k'>1:</span><span class='ee-v'>0</span></li><li><span class='ee-k'>2:</span><span class='ee-v'>73</span></li><li><span class='ee-k'>3:</span><span class='ee-v'>0</span></li><li><span class='ee-k'>4:</span><span class='ee-v'>2</span></li><li><span class='ee-k'>5:</span><span class='ee-v'>1</span></li><li><span class='ee-k'>6:</span><span class='ee-v'>0</span></li><li><span class='ee-k'>7:</span><span class='ee-v'>0</span></li><li><span class='ee-k'>8:</span><span class='ee-v'>0</span></li><li><span class='ee-k'>9:</span><span class='ee-v'>1</span></li><li><span class='ee-k'>10:</span><span class='ee-v'>0</span></li></ul></details></li><li><details><summary>3: [0, 0, 0, 218, 27, 11, 2, 4, 0, 6, 0]</summary><ul><li><span class='ee-k'>0:</span><span class='ee-v'>0</span></li><li><span class='ee-k'>1:</span><span class='ee-v'>0</span></li><li><span class='ee-k'>2:</span><span class='ee-v'>0</span></li><li><span class='ee-k'>3:</span><span class='ee-v'>218</span></li><li><span class='ee-k'>4:</span><span class='ee-v'>27</span></li><li><span class='ee-k'>5:</span><span class='ee-v'>11</span></li><li><span class='ee-k'>6:</span><span class='ee-v'>2</span></li><li><span class='ee-k'>7:</span><span class='ee-v'>4</span></li><li><span class='ee-k'>8:</span><span class='ee-v'>0</span></li><li><span class='ee-k'>9:</span><span class='ee-v'>6</span></li><li><span class='ee-k'>10:</span><span class='ee-v'>0</span></li></ul></details></li><li><details><summary>4: [0, 0, 0, 17, 225, 55, 1, 7, 1, 21, 0]</summary><ul><li><span class='ee-k'>0:</span><span class='ee-v'>0</span></li><li><span class='ee-k'>1:</span><span class='ee-v'>0</span></li><li><span class='ee-k'>2:</span><span class='ee-v'>0</span></li><li><span class='ee-k'>3:</span><span class='ee-v'>17</span></li><li><span class='ee-k'>4:</span><span class='ee-v'>225</span></li><li><span class='ee-k'>5:</span><span class='ee-v'>55</span></li><li><span class='ee-k'>6:</span><span class='ee-v'>1</span></li><li><span class='ee-k'>7:</span><span class='ee-v'>7</span></li><li><span class='ee-k'>8:</span><span class='ee-v'>1</span></li><li><span class='ee-k'>9:</span><span class='ee-v'>21</span></li><li><span class='ee-k'>10:</span><span class='ee-v'>0</span></li></ul></details></li><li><details><summary>5: [11, 0, 0, 1, 33, 180, 0, 0, 18, 6, 3]</summary><ul><li><span class='ee-k'>0:</span><span class='ee-v'>11</span></li><li><span class='ee-k'>1:</span><span class='ee-v'>0</span></li><li><span class='ee-k'>2:</span><span class='ee-v'>0</span></li><li><span class='ee-k'>3:</span><span class='ee-v'>1</span></li><li><span class='ee-k'>4:</span><span class='ee-v'>33</span></li><li><span class='ee-k'>5:</span><span class='ee-v'>180</span></li><li><span class='ee-k'>6:</span><span class='ee-v'>0</span></li><li><span class='ee-k'>7:</span><span class='ee-v'>0</span></li><li><span class='ee-k'>8:</span><span class='ee-v'>18</span></li><li><span class='ee-k'>9:</span><span class='ee-v'>6</span></li><li><span class='ee-k'>10:</span><span class='ee-v'>3</span></li></ul></details></li><li><details><summary>6: [0, 0, 0, 16, 9, 0, 70, 2, 0, 6, 0]</summary><ul><li><span class='ee-k'>0:</span><span class='ee-v'>0</span></li><li><span class='ee-k'>1:</span><span class='ee-v'>0</span></li><li><span class='ee-k'>2:</span><span class='ee-v'>0</span></li><li><span class='ee-k'>3:</span><span class='ee-v'>16</span></li><li><span class='ee-k'>4:</span><span class='ee-v'>9</span></li><li><span class='ee-k'>5:</span><span class='ee-v'>0</span></li><li><span class='ee-k'>6:</span><span class='ee-v'>70</span></li><li><span class='ee-k'>7:</span><span class='ee-v'>2</span></li><li><span class='ee-k'>8:</span><span class='ee-v'>0</span></li><li><span class='ee-k'>9:</span><span class='ee-v'>6</span></li><li><span class='ee-k'>10:</span><span class='ee-v'>0</span></li></ul></details></li><li><details><summary>7: [0, 3, 5, 10, 6, 1, 1, 81, 0, 12, 0]</summary><ul><li><span class='ee-k'>0:</span><span class='ee-v'>0</span></li><li><span class='ee-k'>1:</span><span class='ee-v'>3</span></li><li><span class='ee-k'>2:</span><span class='ee-v'>5</span></li><li><span class='ee-k'>3:</span><span class='ee-v'>10</span></li><li><span class='ee-k'>4:</span><span class='ee-v'>6</span></li><li><span class='ee-k'>5:</span><span class='ee-v'>1</span></li><li><span class='ee-k'>6:</span><span class='ee-v'>1</span></li><li><span class='ee-k'>7:</span><span class='ee-v'>81</span></li><li><span class='ee-k'>8:</span><span class='ee-v'>0</span></li><li><span class='ee-k'>9:</span><span class='ee-v'>12</span></li><li><span class='ee-k'>10:</span><span class='ee-v'>0</span></li></ul></details></li><li><details><summary>8: [1, 0, 0, 2, 1, 29, 0, 0, 75, 0, 5]</summary><ul><li><span class='ee-k'>0:</span><span class='ee-v'>1</span></li><li><span class='ee-k'>1:</span><span class='ee-v'>0</span></li><li><span class='ee-k'>2:</span><span class='ee-v'>0</span></li><li><span class='ee-k'>3:</span><span class='ee-v'>2</span></li><li><span class='ee-k'>4:</span><span class='ee-v'>1</span></li><li><span class='ee-k'>5:</span><span class='ee-v'>29</span></li><li><span class='ee-k'>6:</span><span class='ee-v'>0</span></li><li><span class='ee-k'>7:</span><span class='ee-v'>0</span></li><li><span class='ee-k'>8:</span><span class='ee-v'>75</span></li><li><span class='ee-k'>9:</span><span class='ee-v'>0</span></li><li><span class='ee-k'>10:</span><span class='ee-v'>5</span></li></ul></details></li><li><details><summary>9: [0, 2, 1, 4, 38, 23, 2, 8, 1, 112, 6]</summary><ul><li><span class='ee-k'>0:</span><span class='ee-v'>0</span></li><li><span class='ee-k'>1:</span><span class='ee-v'>2</span></li><li><span class='ee-k'>2:</span><span class='ee-v'>1</span></li><li><span class='ee-k'>3:</span><span class='ee-v'>4</span></li><li><span class='ee-k'>4:</span><span class='ee-v'>38</span></li><li><span class='ee-k'>5:</span><span class='ee-v'>23</span></li><li><span class='ee-k'>6:</span><span class='ee-v'>2</span></li><li><span class='ee-k'>7:</span><span class='ee-v'>8</span></li><li><span class='ee-k'>8:</span><span class='ee-v'>1</span></li><li><span class='ee-k'>9:</span><span class='ee-v'>112</span></li><li><span class='ee-k'>10:</span><span class='ee-v'>6</span></li></ul></details></li><li><details><summary>10: [1, 0, 1, 0, 3, 18, 0, 1, 7, 0, 84]</summary><ul><li><span class='ee-k'>0:</span><span class='ee-v'>1</span></li><li><span class='ee-k'>1:</span><span class='ee-v'>0</span></li><li><span class='ee-k'>2:</span><span class='ee-v'>1</span></li><li><span class='ee-k'>3:</span><span class='ee-v'>0</span></li><li><span class='ee-k'>4:</span><span class='ee-v'>3</span></li><li><span class='ee-k'>5:</span><span class='ee-v'>18</span></li><li><span class='ee-k'>6:</span><span class='ee-v'>0</span></li><li><span class='ee-k'>7:</span><span class='ee-v'>1</span></li><li><span class='ee-k'>8:</span><span class='ee-v'>7</span></li><li><span class='ee-k'>9:</span><span class='ee-v'>0</span></li><li><span class='ee-k'>10:</span><span class='ee-v'>84</span></li></ul></details></li></ul></details></li><li><details><summary>pa: List (11 elements)</summary><ul><li><details><summary>0: [0.7837837837837838]</summary><ul><li><span class='ee-k'>0:</span><span class='ee-v'>0.7837837837837838</span></li></ul></details></li><li><details><summary>1: [0.046511627906976744]</summary><ul><li><span class='ee-k'>0:</span><span class='ee-v'>0.046511627906976744</span></li></ul></details></li><li><details><summary>2: [0.948051948051948]</summary><ul><li><span class='ee-k'>0:</span><span class='ee-v'>0.948051948051948</span></li></ul></details></li><li><details><summary>3: [0.8134328358208955]</summary><ul><li><span class='ee-k'>0:</span><span class='ee-v'>0.8134328358208955</span></li></ul></details></li><li><details><summary>4: [0.6880733944954128]</summary><ul><li><span class='ee-k'>0:</span><span class='ee-v'>0.6880733944954128</span></li></ul></details></li><li><details><summary>5: [0.7142857142857143]</summary><ul><li><span class='ee-k'>0:</span><span class='ee-v'>0.7142857142857143</span></li></ul></details></li><li><details><summary>6: [0.6796116504854369]</summary><ul><li><span class='ee-k'>0:</span><span class='ee-v'>0.6796116504854369</span></li></ul></details></li><li><details><summary>7: [0.680672268907563]</summary><ul><li><span class='ee-k'>0:</span><span class='ee-v'>0.680672268907563</span></li></ul></details></li><li><details><summary>8: [0.6637168141592921]</summary><ul><li><span class='ee-k'>0:</span><span class='ee-v'>0.6637168141592921</span></li></ul></details></li><li><details><summary>9: [0.5685279187817259]</summary><ul><li><span class='ee-k'>0:</span><span class='ee-v'>0.5685279187817259</span></li></ul></details></li><li><details><summary>10: [0.7304347826086957]</summary><ul><li><span class='ee-k'>0:</span><span class='ee-v'>0.7304347826086957</span></li></ul></details></li></ul></details></li></ul></details></li></ul></details></li></ul></div></div>"
            ],
            "text/plain": [
              "<ee.image.Image at 0x210a5719ca0>"
            ]
          },
          "execution_count": 16,
          "metadata": {},
          "output_type": "execute_result"
        }
      ],
      "source": [
        "modeClassImage = prepareMetrics(classImage = result, nClasses = NCLASS, nFolds = FOLDS).confusionMatrix()\n",
        "modeClassImage"
      ]
    },
    {
      "cell_type": "markdown",
      "id": "5c8341d6-6c1d-452c-9e4e-be3d9c6c6a1b",
      "metadata": {
        "cellUniqueIdByVincent": "7b994",
        "id": "5c8341d6-6c1d-452c-9e4e-be3d9c6c6a1b"
      },
      "source": [
        "## Step 7: Visualise clasiified Image"
      ]
    },
    {
      "cell_type": "code",
      "execution_count": 10,
      "id": "13c399be-eef9-42cd-a87e-c363288608ac",
      "metadata": {
        "cellUniqueIdByVincent": "96b45",
        "colab": {
          "base_uri": "https://localhost:8080/",
          "height": 621,
          "referenced_widgets": [
            "00982d48d31843c49e54206536d073cb",
            "2ff4832e33d64edbbe712c68420200dc",
            "d8391c2eb2654493a6d29d07a271d166",
            "2edfaf80b1ab4fd1a104bc0670b79819",
            "edf029ddf50c42a599e2c8157928ce72",
            "7ddf3cf1535745328c0f3623a39ee0f4",
            "f4082bf7ecaa43c69f84d8b4d1d93cac",
            "d2bd53f444bc444c86a2cb68254875f4",
            "bdbe889d664645b2b09098ccdb0a0ce7",
            "3d3fe7a1d600443b97856a54c3e339ae",
            "f69b321e2efd469ebcc26542ee1f2e77",
            "2153e7e2576e482aa08f45087655d23a",
            "bd4008a3f7124a399b80b65f3b0c32d3",
            "975cfcb600a04d13bc4918e36c407676",
            "c430b39e52f743e1b955373be6eeda75",
            "5907c34f7ea84cd4a5ee246ddeca4ed0",
            "c23819aee15845aeb0948a7cbccaa4d8",
            "fdfd3153c9f245d8a102564a41b180cb",
            "613d5c83a68341b48851a94259fda990",
            "aa648d8eac1646f2a09686c874d27396",
            "90ce18296acf44d5a678f470cee1b304",
            "ee0e6f93402c415e815f919d6eb96ed7",
            "ec92b974ae1c47e39e824a627510cd6d",
            "d007b01c45834fcfaf9528466d2f0d86",
            "8dd75bf794594dbf9e32be4395ec875a",
            "a6b6a9061eeb41a89385167cf4b4bb71",
            "d804bd24316947b3ab53a157943f9cf4",
            "ad992289bb2849d7a4d0535d27ecc8ca",
            "735ee638523a496da4611f8fce797295",
            "74f8fd6f22af45bdbe464adeefba1cab",
            "01ab0e7e94a14d469b783e0089b0d3cc",
            "e397425e223046d7b7ca4e51db7ab933"
          ]
        },
        "id": "13c399be-eef9-42cd-a87e-c363288608ac",
        "outputId": "aea67fec-f8e3-47d1-e936-e07dce404a54"
      },
      "outputs": [
        {
          "data": {
            "text/html": [
              "\n",
              "            <style>\n",
              "                .geemap-dark {\n",
              "                    --jp-widgets-color: white;\n",
              "                    --jp-widgets-label-color: white;\n",
              "                    --jp-ui-font-color1: white;\n",
              "                    --jp-layout-color2: #454545;\n",
              "                    background-color: #383838;\n",
              "                }\n",
              "\n",
              "                .geemap-dark .jupyter-button {\n",
              "                    --jp-layout-color3: #383838;\n",
              "                }\n",
              "\n",
              "                .geemap-colab {\n",
              "                    background-color: var(--colab-primary-surface-color, white);\n",
              "                }\n",
              "\n",
              "                .geemap-colab .jupyter-button {\n",
              "                    --jp-layout-color3: var(--colab-primary-surface-color, white);\n",
              "                }\n",
              "            </style>\n",
              "            "
            ],
            "text/plain": [
              "<IPython.core.display.HTML object>"
            ]
          },
          "metadata": {},
          "output_type": "display_data"
        },
        {
          "data": {
            "application/vnd.jupyter.widget-view+json": {
              "model_id": "86a7cc62fc274bde82c729462b154796",
              "version_major": 2,
              "version_minor": 0
            },
            "text/plain": [
              "Map(center=[-24.76509915990505, 30.807101743053455], controls=(WidgetControl(options=['position', 'transparent…"
            ]
          },
          "execution_count": 10,
          "metadata": {},
          "output_type": "execute_result"
        }
      ],
      "source": [
        "legend_dict = {\n",
        "    \"Wattle\": \"00FF00\",\n",
        "    \"Bracken\": \"008000\",\n",
        "    \"Eucalyptus\": \"808080\",\n",
        "    \"Forest\": \"800080\",\n",
        "    \"Grassland\": \"FF00FF\",\n",
        "    \"Mixed Woody Grassland\": \"00FFFF\",\n",
        "    \"None Vegetated Features\": \"FFFF00\",\n",
        "    \"Pines\": \"000080\",\n",
        "    \"Recently Cleared Plantations/Young Pines\": \"800000\"\n",
        "}\n",
        "\n",
        "palette = ['00FF00',# Wattle-Lime\n",
        "          '008000', #Bracken-Green\n",
        "          '808080', #Eucalyptus-Grey\n",
        "          '800080', #Forest-Purple\n",
        "          'FF00FF', #Grassland-Pink\n",
        "          '00FFFF', #Mixed Woody Grassland-Aqua\n",
        "          'FFFF00', #None Vegetated Features-Yellow\n",
        "          '000080', #Pines-Navy\n",
        "          '800000'] #(Recently Cleared Plantations/Young Pines)-Maroon (DarkBrown)\n",
        "\n",
        "vis_params = {\n",
        "    'min': 0,\n",
        "    'max': 8,\n",
        "    'palette': palette,\n",
        "}\n",
        "\n",
        "Map = geemap.Map()\n",
        "Map.centerObject(study_area1, 8)\n",
        "Map.addLayer(modeClassImage, vis_params, 'Classified Image')\n",
        "Map.add_legend(legend_dict = legend_dict)\n",
        "Map"
      ]
    },
    {
      "cell_type": "markdown",
      "id": "eff18e57-0859-4795-90c1-e8f5c0b2e1c7",
      "metadata": {
        "cellUniqueIdByVincent": "80d75",
        "id": "eff18e57-0859-4795-90c1-e8f5c0b2e1c7"
      },
      "source": [
        "## Step 8: Export classified image (optional)"
      ]
    },
    {
      "cell_type": "code",
      "execution_count": null,
      "id": "5e7d8af4-ab7f-45fc-bd15-ebd0fd5fb749",
      "metadata": {
        "cellUniqueIdByVincent": "d5f0e",
        "id": "5e7d8af4-ab7f-45fc-bd15-ebd0fd5fb749"
      },
      "outputs": [],
      "source": [
        "# export results\n",
        "export_params3 = {\n",
        "    'image': modeClassImage,\n",
        "    'description': 'export_classImage',\n",
        "    'assetId': 'users/geethensingh/classImage',\n",
        "    'scale': 10,\n",
        "    'region': study_area1\n",
        "}\n",
        "\n",
        "# Export the data to the Earth Engine asset\n",
        "ee.batch.Export.image.toAsset(**export_params3).start()"
      ]
    }
  ],
  "metadata": {
    "kernelspec": {
      "display_name": "erthy",
      "language": "python",
      "name": "python3"
    },
    "language_info": {
      "codemirror_mode": {
        "name": "ipython",
        "version": 3
      },
      "file_extension": ".py",
      "mimetype": "text/x-python",
      "name": "python",
      "nbconvert_exporter": "python",
      "pygments_lexer": "ipython3",
      "version": "3.12.7"
    },
    "vincent": {
      "sessionId": "fee69d4bd52b4b8452c65649_2025-07-21T16-16-15-271Z"
    }
  },
  "nbformat": 4,
  "nbformat_minor": 5
}
