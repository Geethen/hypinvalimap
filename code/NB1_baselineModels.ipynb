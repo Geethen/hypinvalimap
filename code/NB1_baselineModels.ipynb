{
 "cells": [
  {
   "cell_type": "code",
   "execution_count": null,
   "metadata": {
    "cellUniqueIdByVincent": "865fd"
   },
   "outputs": [],
   "source": [
    "load extracted signatures\n",
    "# preprocess dataframes. remove problem spectral regions, fix notes column, add encoded labels"
   ]
  }
 ],
 "metadata": {
  "vincent": {
   "sessionId": "da6f022cb6397cba91ec4e90_2025-06-03T08-08-10-057Z"
  }
 },
 "nbformat": 4,
 "nbformat_minor": 5
}
